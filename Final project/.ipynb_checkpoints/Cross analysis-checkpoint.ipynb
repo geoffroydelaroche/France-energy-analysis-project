{
 "cells": [
  {
   "cell_type": "markdown",
   "metadata": {},
   "source": [
    "# Import librairies"
   ]
  },
  {
   "cell_type": "code",
   "execution_count": 1,
   "metadata": {},
   "outputs": [],
   "source": [
    "import pandas as pd\n",
    "import numpy as np"
   ]
  },
  {
   "cell_type": "markdown",
   "metadata": {},
   "source": [
    "# Get the data"
   ]
  },
  {
   "cell_type": "markdown",
   "metadata": {},
   "source": [
    "## Gaz"
   ]
  },
  {
   "cell_type": "code",
   "execution_count": 2,
   "metadata": {},
   "outputs": [],
   "source": [
    "df_gconso_com=pd.read_csv('/Users/Jeff/Ironhack/248_Repo/Projects/Final project/Gaz/df_gconso_com.csv', sep='/')"
   ]
  },
  {
   "cell_type": "code",
   "execution_count": 3,
   "metadata": {},
   "outputs": [],
   "source": [
    "df_gconso_dep=pd.read_csv('/Users/Jeff/Ironhack/248_Repo/Projects/Final project/Gaz/df_gconso_dep.csv', sep='/')"
   ]
  },
  {
   "cell_type": "code",
   "execution_count": 25,
   "metadata": {},
   "outputs": [],
   "source": [
    "df_gconso_reg=pd.read_csv('/Users/Jeff/Ironhack/248_Repo/Projects/Final project/Gaz/df_gconso_reg.csv', sep='/')"
   ]
  },
  {
   "cell_type": "code",
   "execution_count": 4,
   "metadata": {},
   "outputs": [],
   "source": [
    "df_g_tot=pd.read_csv('/Users/Jeff/Ironhack/248_Repo/Projects/Final project/Gaz/df_g_tot.csv', sep='/')"
   ]
  },
  {
   "cell_type": "markdown",
   "metadata": {},
   "source": [
    "## Electricity"
   ]
  },
  {
   "cell_type": "code",
   "execution_count": 5,
   "metadata": {},
   "outputs": [],
   "source": [
    "df_econso_com=pd.read_csv('/Users/Jeff/Ironhack/248_Repo/Projects/Final project/Electricty/df_econso_com.csv', sep='/')"
   ]
  },
  {
   "cell_type": "code",
   "execution_count": 6,
   "metadata": {},
   "outputs": [],
   "source": [
    "df_econso_dep=pd.read_csv('/Users/Jeff/Ironhack/248_Repo/Projects/Final project/Electricty/df_econso_dep.csv', sep='/')"
   ]
  },
  {
   "cell_type": "code",
   "execution_count": 26,
   "metadata": {},
   "outputs": [],
   "source": [
    "df_econso_reg=pd.read_csv('/Users/Jeff/Ironhack/248_Repo/Projects/Final project/Electricty/df_econso_reg.csv', sep='/')"
   ]
  },
  {
   "cell_type": "code",
   "execution_count": 7,
   "metadata": {},
   "outputs": [],
   "source": [
    "df_e_tot=pd.read_csv('/Users/Jeff/Ironhack/248_Repo/Projects/Final project/Electricty/df_e_tot.csv', sep='/')"
   ]
  },
  {
   "cell_type": "markdown",
   "metadata": {},
   "source": [
    "# Concat, merge"
   ]
  },
  {
   "cell_type": "markdown",
   "metadata": {},
   "source": [
    "## Commmune level"
   ]
  },
  {
   "cell_type": "code",
   "execution_count": 8,
   "metadata": {},
   "outputs": [
    {
     "data": {
      "text/plain": [
       "(1844, 17)"
      ]
     },
     "execution_count": 8,
     "metadata": {},
     "output_type": "execute_result"
    }
   ],
   "source": [
    "df_gconso_com.shape"
   ]
  },
  {
   "cell_type": "code",
   "execution_count": 9,
   "metadata": {},
   "outputs": [
    {
     "data": {
      "text/plain": [
       "(10912, 17)"
      ]
     },
     "execution_count": 9,
     "metadata": {},
     "output_type": "execute_result"
    }
   ],
   "source": [
    "df_econso_com.shape"
   ]
  },
  {
   "cell_type": "code",
   "execution_count": 10,
   "metadata": {},
   "outputs": [],
   "source": [
    "frames_commune=[df_gconso_com, df_econso_com]\n",
    "df_conso_com=pd.concat(frames_commune)"
   ]
  },
  {
   "cell_type": "code",
   "execution_count": 11,
   "metadata": {},
   "outputs": [
    {
     "data": {
      "text/plain": [
       "E    10912\n",
       "G     1844\n",
       "Name: energy, dtype: int64"
      ]
     },
     "execution_count": 11,
     "metadata": {},
     "output_type": "execute_result"
    }
   ],
   "source": [
    "df_conso_com.energy.value_counts()"
   ]
  },
  {
   "cell_type": "code",
   "execution_count": 12,
   "metadata": {},
   "outputs": [],
   "source": [
    "df_conso_com.to_csv('df_conso_com.csv', sep='/', index=False)"
   ]
  },
  {
   "cell_type": "markdown",
   "metadata": {},
   "source": [
    "## Departement level"
   ]
  },
  {
   "cell_type": "code",
   "execution_count": 13,
   "metadata": {},
   "outputs": [
    {
     "data": {
      "text/plain": [
       "(93, 15)"
      ]
     },
     "execution_count": 13,
     "metadata": {},
     "output_type": "execute_result"
    }
   ],
   "source": [
    "df_gconso_dep.shape"
   ]
  },
  {
   "cell_type": "code",
   "execution_count": 14,
   "metadata": {},
   "outputs": [
    {
     "data": {
      "text/plain": [
       "(272, 15)"
      ]
     },
     "execution_count": 14,
     "metadata": {},
     "output_type": "execute_result"
    }
   ],
   "source": [
    "df_econso_dep.shape"
   ]
  },
  {
   "cell_type": "code",
   "execution_count": 15,
   "metadata": {},
   "outputs": [],
   "source": [
    "frames_dep=[df_gconso_dep, df_econso_dep]\n",
    "df_conso_dep=pd.concat(frames_dep)"
   ]
  },
  {
   "cell_type": "code",
   "execution_count": 16,
   "metadata": {},
   "outputs": [
    {
     "data": {
      "text/plain": [
       "E    272\n",
       "G     93\n",
       "Name: energy, dtype: int64"
      ]
     },
     "execution_count": 16,
     "metadata": {},
     "output_type": "execute_result"
    }
   ],
   "source": [
    "df_conso_dep.energy.value_counts()"
   ]
  },
  {
   "cell_type": "code",
   "execution_count": 17,
   "metadata": {},
   "outputs": [],
   "source": [
    "df_conso_dep.to_csv('df_conso_dep.csv', sep='/', index=False)"
   ]
  },
  {
   "cell_type": "markdown",
   "metadata": {},
   "source": [
    "## Region level"
   ]
  },
  {
   "cell_type": "code",
   "execution_count": 27,
   "metadata": {},
   "outputs": [
    {
     "data": {
      "text/plain": [
       "(69, 14)"
      ]
     },
     "execution_count": 27,
     "metadata": {},
     "output_type": "execute_result"
    }
   ],
   "source": [
    "df_gconso_reg.shape"
   ]
  },
  {
   "cell_type": "code",
   "execution_count": 28,
   "metadata": {},
   "outputs": [
    {
     "data": {
      "text/plain": [
       "(178, 14)"
      ]
     },
     "execution_count": 28,
     "metadata": {},
     "output_type": "execute_result"
    }
   ],
   "source": [
    "df_econso_reg.shape"
   ]
  },
  {
   "cell_type": "code",
   "execution_count": 29,
   "metadata": {},
   "outputs": [],
   "source": [
    "frames_reg=[df_gconso_reg, df_econso_reg]\n",
    "df_conso_reg=pd.concat(frames_reg)"
   ]
  },
  {
   "cell_type": "code",
   "execution_count": 30,
   "metadata": {},
   "outputs": [
    {
     "data": {
      "text/plain": [
       "E    178\n",
       "G     69\n",
       "Name: energy, dtype: int64"
      ]
     },
     "execution_count": 30,
     "metadata": {},
     "output_type": "execute_result"
    }
   ],
   "source": [
    "df_conso_reg.energy.value_counts()"
   ]
  },
  {
   "cell_type": "code",
   "execution_count": 31,
   "metadata": {},
   "outputs": [],
   "source": [
    "df_conso_reg.to_csv('df_conso_reg.csv', sep='/', index=False)"
   ]
  },
  {
   "cell_type": "markdown",
   "metadata": {},
   "source": [
    "## France level"
   ]
  },
  {
   "cell_type": "code",
   "execution_count": 18,
   "metadata": {},
   "outputs": [
    {
     "data": {
      "text/plain": [
       "(8, 13)"
      ]
     },
     "execution_count": 18,
     "metadata": {},
     "output_type": "execute_result"
    }
   ],
   "source": [
    "df_g_tot.shape"
   ]
  },
  {
   "cell_type": "code",
   "execution_count": 19,
   "metadata": {},
   "outputs": [
    {
     "data": {
      "text/plain": [
       "(7, 13)"
      ]
     },
     "execution_count": 19,
     "metadata": {},
     "output_type": "execute_result"
    }
   ],
   "source": [
    "df_e_tot.shape"
   ]
  },
  {
   "cell_type": "code",
   "execution_count": 20,
   "metadata": {},
   "outputs": [],
   "source": [
    "frames_fr=[df_g_tot, df_e_tot]\n",
    "df_conso_fr=pd.concat(frames_fr)"
   ]
  },
  {
   "cell_type": "code",
   "execution_count": 21,
   "metadata": {},
   "outputs": [
    {
     "data": {
      "text/plain": [
       "G    8\n",
       "E    7\n",
       "Name: energy, dtype: int64"
      ]
     },
     "execution_count": 21,
     "metadata": {},
     "output_type": "execute_result"
    }
   ],
   "source": [
    "df_conso_fr.energy.value_counts()"
   ]
  },
  {
   "cell_type": "code",
   "execution_count": 22,
   "metadata": {},
   "outputs": [],
   "source": [
    "df_conso_fr.to_csv('df_conso_fr.csv', sep='/', index=False)"
   ]
  },
  {
   "cell_type": "markdown",
   "metadata": {},
   "source": [
    "## Total level"
   ]
  },
  {
   "cell_type": "code",
   "execution_count": 24,
   "metadata": {},
   "outputs": [
    {
     "data": {
      "text/html": [
       "<div>\n",
       "<style scoped>\n",
       "    .dataframe tbody tr th:only-of-type {\n",
       "        vertical-align: middle;\n",
       "    }\n",
       "\n",
       "    .dataframe tbody tr th {\n",
       "        vertical-align: top;\n",
       "    }\n",
       "\n",
       "    .dataframe thead th {\n",
       "        text-align: right;\n",
       "    }\n",
       "</style>\n",
       "<table border=\"1\" class=\"dataframe\">\n",
       "  <thead>\n",
       "    <tr style=\"text-align: right;\">\n",
       "      <th></th>\n",
       "      <th>energy</th>\n",
       "      <th>year</th>\n",
       "      <th>consoa</th>\n",
       "      <th>pdla</th>\n",
       "      <th>consoi</th>\n",
       "      <th>pdli</th>\n",
       "      <th>consot</th>\n",
       "      <th>pdlt</th>\n",
       "      <th>consor</th>\n",
       "      <th>pdlr</th>\n",
       "      <th>consona</th>\n",
       "      <th>pdlna</th>\n",
       "      <th>total</th>\n",
       "    </tr>\n",
       "  </thead>\n",
       "  <tbody>\n",
       "    <tr>\n",
       "      <th>0</th>\n",
       "      <td>G</td>\n",
       "      <td>2010</td>\n",
       "      <td>29410.52</td>\n",
       "      <td>217</td>\n",
       "      <td>640716.67</td>\n",
       "      <td>1335</td>\n",
       "      <td>964793.94</td>\n",
       "      <td>10288</td>\n",
       "      <td>0.00</td>\n",
       "      <td>0.0</td>\n",
       "      <td>81671.44</td>\n",
       "      <td>2369</td>\n",
       "      <td>1716592.57</td>\n",
       "    </tr>\n",
       "    <tr>\n",
       "      <th>1</th>\n",
       "      <td>G</td>\n",
       "      <td>2011</td>\n",
       "      <td>23590.25</td>\n",
       "      <td>220</td>\n",
       "      <td>764845.08</td>\n",
       "      <td>1264</td>\n",
       "      <td>828222.29</td>\n",
       "      <td>10145</td>\n",
       "      <td>0.00</td>\n",
       "      <td>0.0</td>\n",
       "      <td>70912.56</td>\n",
       "      <td>2397</td>\n",
       "      <td>1687570.18</td>\n",
       "    </tr>\n",
       "    <tr>\n",
       "      <th>2</th>\n",
       "      <td>G</td>\n",
       "      <td>2012</td>\n",
       "      <td>26845.37</td>\n",
       "      <td>224</td>\n",
       "      <td>704625.38</td>\n",
       "      <td>1249</td>\n",
       "      <td>962658.38</td>\n",
       "      <td>9823</td>\n",
       "      <td>0.00</td>\n",
       "      <td>0.0</td>\n",
       "      <td>140770.07</td>\n",
       "      <td>2457</td>\n",
       "      <td>1834899.20</td>\n",
       "    </tr>\n",
       "    <tr>\n",
       "      <th>3</th>\n",
       "      <td>G</td>\n",
       "      <td>2013</td>\n",
       "      <td>47801.66</td>\n",
       "      <td>252</td>\n",
       "      <td>1492991.07</td>\n",
       "      <td>1395</td>\n",
       "      <td>3356624.41</td>\n",
       "      <td>11372</td>\n",
       "      <td>2537.20</td>\n",
       "      <td>136.0</td>\n",
       "      <td>102457.33</td>\n",
       "      <td>2579</td>\n",
       "      <td>5002411.67</td>\n",
       "    </tr>\n",
       "    <tr>\n",
       "      <th>4</th>\n",
       "      <td>G</td>\n",
       "      <td>2014</td>\n",
       "      <td>37141.86</td>\n",
       "      <td>253</td>\n",
       "      <td>1432358.07</td>\n",
       "      <td>1574</td>\n",
       "      <td>2582918.86</td>\n",
       "      <td>10952</td>\n",
       "      <td>1766.93</td>\n",
       "      <td>119.0</td>\n",
       "      <td>339247.78</td>\n",
       "      <td>2795</td>\n",
       "      <td>4393433.50</td>\n",
       "    </tr>\n",
       "    <tr>\n",
       "      <th>5</th>\n",
       "      <td>G</td>\n",
       "      <td>2015</td>\n",
       "      <td>48096.23</td>\n",
       "      <td>260</td>\n",
       "      <td>2282636.27</td>\n",
       "      <td>2281</td>\n",
       "      <td>3794462.97</td>\n",
       "      <td>13437</td>\n",
       "      <td>69652.63</td>\n",
       "      <td>3987.0</td>\n",
       "      <td>671627.16</td>\n",
       "      <td>3909</td>\n",
       "      <td>6866475.26</td>\n",
       "    </tr>\n",
       "    <tr>\n",
       "      <th>6</th>\n",
       "      <td>G</td>\n",
       "      <td>2016</td>\n",
       "      <td>65006.76</td>\n",
       "      <td>245</td>\n",
       "      <td>2905200.32</td>\n",
       "      <td>2710</td>\n",
       "      <td>4064754.07</td>\n",
       "      <td>16055</td>\n",
       "      <td>69511.21</td>\n",
       "      <td>3858.0</td>\n",
       "      <td>321725.24</td>\n",
       "      <td>1544</td>\n",
       "      <td>7426197.60</td>\n",
       "    </tr>\n",
       "    <tr>\n",
       "      <th>7</th>\n",
       "      <td>G</td>\n",
       "      <td>2017</td>\n",
       "      <td>16240.14</td>\n",
       "      <td>44</td>\n",
       "      <td>992862.29</td>\n",
       "      <td>596</td>\n",
       "      <td>860800.88</td>\n",
       "      <td>6190</td>\n",
       "      <td>66396.28</td>\n",
       "      <td>3720.0</td>\n",
       "      <td>296891.32</td>\n",
       "      <td>1575</td>\n",
       "      <td>2233190.91</td>\n",
       "    </tr>\n",
       "    <tr>\n",
       "      <th>0</th>\n",
       "      <td>E</td>\n",
       "      <td>2011</td>\n",
       "      <td>100141.54</td>\n",
       "      <td>395</td>\n",
       "      <td>3557702.51</td>\n",
       "      <td>1091</td>\n",
       "      <td>10272006.22</td>\n",
       "      <td>12663</td>\n",
       "      <td>7077.38</td>\n",
       "      <td>820.0</td>\n",
       "      <td>337348.54</td>\n",
       "      <td>20538</td>\n",
       "      <td>14274276.19</td>\n",
       "    </tr>\n",
       "    <tr>\n",
       "      <th>1</th>\n",
       "      <td>E</td>\n",
       "      <td>2012</td>\n",
       "      <td>99825.13</td>\n",
       "      <td>361</td>\n",
       "      <td>3738244.77</td>\n",
       "      <td>1548</td>\n",
       "      <td>10946108.58</td>\n",
       "      <td>14330</td>\n",
       "      <td>8243.65</td>\n",
       "      <td>988.0</td>\n",
       "      <td>8390827.78</td>\n",
       "      <td>22699</td>\n",
       "      <td>23183249.91</td>\n",
       "    </tr>\n",
       "    <tr>\n",
       "      <th>2</th>\n",
       "      <td>E</td>\n",
       "      <td>2013</td>\n",
       "      <td>140757.61</td>\n",
       "      <td>715</td>\n",
       "      <td>6609600.29</td>\n",
       "      <td>2942</td>\n",
       "      <td>11609888.10</td>\n",
       "      <td>20077</td>\n",
       "      <td>9754.31</td>\n",
       "      <td>1199.0</td>\n",
       "      <td>8503057.94</td>\n",
       "      <td>22957</td>\n",
       "      <td>26873058.25</td>\n",
       "    </tr>\n",
       "    <tr>\n",
       "      <th>3</th>\n",
       "      <td>E</td>\n",
       "      <td>2014</td>\n",
       "      <td>136034.24</td>\n",
       "      <td>738</td>\n",
       "      <td>6758900.99</td>\n",
       "      <td>2726</td>\n",
       "      <td>11697147.57</td>\n",
       "      <td>18679</td>\n",
       "      <td>10746.97</td>\n",
       "      <td>1442.0</td>\n",
       "      <td>8603519.31</td>\n",
       "      <td>31018</td>\n",
       "      <td>27206349.08</td>\n",
       "    </tr>\n",
       "    <tr>\n",
       "      <th>4</th>\n",
       "      <td>E</td>\n",
       "      <td>2015</td>\n",
       "      <td>101815.06</td>\n",
       "      <td>2078</td>\n",
       "      <td>5983602.14</td>\n",
       "      <td>22594</td>\n",
       "      <td>2863811.92</td>\n",
       "      <td>52512</td>\n",
       "      <td>14759.46</td>\n",
       "      <td>2064.0</td>\n",
       "      <td>51172701.45</td>\n",
       "      <td>1372329</td>\n",
       "      <td>60136690.03</td>\n",
       "    </tr>\n",
       "    <tr>\n",
       "      <th>5</th>\n",
       "      <td>E</td>\n",
       "      <td>2016</td>\n",
       "      <td>159896.05</td>\n",
       "      <td>2259</td>\n",
       "      <td>6118307.21</td>\n",
       "      <td>18804</td>\n",
       "      <td>3264126.06</td>\n",
       "      <td>53745</td>\n",
       "      <td>35446.86</td>\n",
       "      <td>5472.0</td>\n",
       "      <td>10366123.33</td>\n",
       "      <td>1140805</td>\n",
       "      <td>19943899.51</td>\n",
       "    </tr>\n",
       "    <tr>\n",
       "      <th>6</th>\n",
       "      <td>E</td>\n",
       "      <td>2017</td>\n",
       "      <td>161022.92</td>\n",
       "      <td>4491</td>\n",
       "      <td>2660850.77</td>\n",
       "      <td>14667</td>\n",
       "      <td>3900111.70</td>\n",
       "      <td>126073</td>\n",
       "      <td>18158.00</td>\n",
       "      <td>3516.0</td>\n",
       "      <td>1759517.43</td>\n",
       "      <td>73703</td>\n",
       "      <td>8499660.82</td>\n",
       "    </tr>\n",
       "  </tbody>\n",
       "</table>\n",
       "</div>"
      ],
      "text/plain": [
       "  energy  year     consoa  pdla      consoi   pdli       consot    pdlt  \\\n",
       "0      G  2010   29410.52   217   640716.67   1335    964793.94   10288   \n",
       "1      G  2011   23590.25   220   764845.08   1264    828222.29   10145   \n",
       "2      G  2012   26845.37   224   704625.38   1249    962658.38    9823   \n",
       "3      G  2013   47801.66   252  1492991.07   1395   3356624.41   11372   \n",
       "4      G  2014   37141.86   253  1432358.07   1574   2582918.86   10952   \n",
       "5      G  2015   48096.23   260  2282636.27   2281   3794462.97   13437   \n",
       "6      G  2016   65006.76   245  2905200.32   2710   4064754.07   16055   \n",
       "7      G  2017   16240.14    44   992862.29    596    860800.88    6190   \n",
       "0      E  2011  100141.54   395  3557702.51   1091  10272006.22   12663   \n",
       "1      E  2012   99825.13   361  3738244.77   1548  10946108.58   14330   \n",
       "2      E  2013  140757.61   715  6609600.29   2942  11609888.10   20077   \n",
       "3      E  2014  136034.24   738  6758900.99   2726  11697147.57   18679   \n",
       "4      E  2015  101815.06  2078  5983602.14  22594   2863811.92   52512   \n",
       "5      E  2016  159896.05  2259  6118307.21  18804   3264126.06   53745   \n",
       "6      E  2017  161022.92  4491  2660850.77  14667   3900111.70  126073   \n",
       "\n",
       "     consor    pdlr      consona    pdlna        total  \n",
       "0      0.00     0.0     81671.44     2369   1716592.57  \n",
       "1      0.00     0.0     70912.56     2397   1687570.18  \n",
       "2      0.00     0.0    140770.07     2457   1834899.20  \n",
       "3   2537.20   136.0    102457.33     2579   5002411.67  \n",
       "4   1766.93   119.0    339247.78     2795   4393433.50  \n",
       "5  69652.63  3987.0    671627.16     3909   6866475.26  \n",
       "6  69511.21  3858.0    321725.24     1544   7426197.60  \n",
       "7  66396.28  3720.0    296891.32     1575   2233190.91  \n",
       "0   7077.38   820.0    337348.54    20538  14274276.19  \n",
       "1   8243.65   988.0   8390827.78    22699  23183249.91  \n",
       "2   9754.31  1199.0   8503057.94    22957  26873058.25  \n",
       "3  10746.97  1442.0   8603519.31    31018  27206349.08  \n",
       "4  14759.46  2064.0  51172701.45  1372329  60136690.03  \n",
       "5  35446.86  5472.0  10366123.33  1140805  19943899.51  \n",
       "6  18158.00  3516.0   1759517.43    73703   8499660.82  "
      ]
     },
     "execution_count": 24,
     "metadata": {},
     "output_type": "execute_result"
    }
   ],
   "source": [
    "df_conso_fr"
   ]
  },
  {
   "cell_type": "code",
   "execution_count": null,
   "metadata": {},
   "outputs": [],
   "source": [
    "agriculture"
   ]
  }
 ],
 "metadata": {
  "kernelspec": {
   "display_name": "Python 3",
   "language": "python",
   "name": "python3"
  },
  "language_info": {
   "codemirror_mode": {
    "name": "ipython",
    "version": 3
   },
   "file_extension": ".py",
   "mimetype": "text/x-python",
   "name": "python",
   "nbconvert_exporter": "python",
   "pygments_lexer": "ipython3",
   "version": "3.8.5"
  },
  "toc": {
   "base_numbering": 1,
   "nav_menu": {},
   "number_sections": true,
   "sideBar": true,
   "skip_h1_title": false,
   "title_cell": "Table of Contents",
   "title_sidebar": "Contents",
   "toc_cell": false,
   "toc_position": {},
   "toc_section_display": true,
   "toc_window_display": false
  }
 },
 "nbformat": 4,
 "nbformat_minor": 4
}
