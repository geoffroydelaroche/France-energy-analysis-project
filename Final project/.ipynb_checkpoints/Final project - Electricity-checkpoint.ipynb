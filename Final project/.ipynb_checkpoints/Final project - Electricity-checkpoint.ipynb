{
 "cells": [
  {
   "cell_type": "markdown",
   "metadata": {},
   "source": [
    "# Import libraries"
   ]
  },
  {
   "cell_type": "code",
   "execution_count": 1,
   "metadata": {},
   "outputs": [],
   "source": [
    "import pandas as pd\n",
    "import numpy as np"
   ]
  },
  {
   "cell_type": "markdown",
   "metadata": {},
   "source": [
    "# Get the data"
   ]
  },
  {
   "cell_type": "markdown",
   "metadata": {},
   "source": [
    "We will first create dataframes for each year and then concatenate all years dataframes"
   ]
  },
  {
   "cell_type": "markdown",
   "metadata": {},
   "source": [
    "We know from the presentation data file, that the data are very low before 2011, so we will extract only dataframes from year 2011"
   ]
  },
  {
   "cell_type": "code",
   "execution_count": 2,
   "metadata": {},
   "outputs": [],
   "source": [
    "df_2011=pd.read_csv('/Users/Jeff/Downloads/donnees-electricite-2017 (1)/donnees_elec_2011.csv', encoding = \"ISO-8859-1\", sep=';')"
   ]
  },
  {
   "cell_type": "code",
   "execution_count": 3,
   "metadata": {},
   "outputs": [
    {
     "data": {
      "text/plain": [
       "(48774, 20)"
      ]
     },
     "execution_count": 3,
     "metadata": {},
     "output_type": "execute_result"
    }
   ],
   "source": [
    "df_2011.shape"
   ]
  },
  {
   "cell_type": "code",
   "execution_count": 4,
   "metadata": {},
   "outputs": [
    {
     "name": "stderr",
     "output_type": "stream",
     "text": [
      "/usr/local/Cellar/jupyterlab/2.2.0/libexec/lib/python3.8/site-packages/IPython/core/interactiveshell.py:3071: DtypeWarning: Columns (4) have mixed types.Specify dtype option on import or set low_memory=False.\n",
      "  has_raised = await self.run_ast_nodes(code_ast.body, cell_name,\n"
     ]
    }
   ],
   "source": [
    "df_2012=pd.read_csv('/Users/Jeff/Downloads/donnees-electricite-2017 (1)/donnees_elec_2012.csv', encoding = \"ISO-8859-1\", sep=';')"
   ]
  },
  {
   "cell_type": "code",
   "execution_count": 5,
   "metadata": {},
   "outputs": [
    {
     "data": {
      "text/plain": [
       "(50394, 20)"
      ]
     },
     "execution_count": 5,
     "metadata": {},
     "output_type": "execute_result"
    }
   ],
   "source": [
    "df_2012.shape"
   ]
  },
  {
   "cell_type": "code",
   "execution_count": 6,
   "metadata": {},
   "outputs": [],
   "source": [
    "df_2013=pd.read_csv('/Users/Jeff/Downloads/donnees-electricite-2017 (1)/donnees_elec_2013.csv', encoding = \"ISO-8859-1\", sep=';')"
   ]
  },
  {
   "cell_type": "code",
   "execution_count": 7,
   "metadata": {},
   "outputs": [
    {
     "data": {
      "text/plain": [
       "(50877, 20)"
      ]
     },
     "execution_count": 7,
     "metadata": {},
     "output_type": "execute_result"
    }
   ],
   "source": [
    "df_2013.shape"
   ]
  },
  {
   "cell_type": "code",
   "execution_count": 8,
   "metadata": {},
   "outputs": [],
   "source": [
    "df_2014=pd.read_csv('/Users/Jeff/Downloads/donnees-electricite-2017 (1)/donnees_elec_2014.csv', encoding = \"ISO-8859-1\", sep=';')"
   ]
  },
  {
   "cell_type": "code",
   "execution_count": 9,
   "metadata": {},
   "outputs": [
    {
     "data": {
      "text/plain": [
       "(50904, 20)"
      ]
     },
     "execution_count": 9,
     "metadata": {},
     "output_type": "execute_result"
    }
   ],
   "source": [
    "df_2014.shape"
   ]
  },
  {
   "cell_type": "code",
   "execution_count": 10,
   "metadata": {},
   "outputs": [],
   "source": [
    "df_2015=pd.read_csv('/Users/Jeff/Downloads/donnees-electricite-2017 (1)/donnees_elec_2015.csv', encoding = \"ISO-8859-1\", sep=';')"
   ]
  },
  {
   "cell_type": "code",
   "execution_count": 11,
   "metadata": {},
   "outputs": [
    {
     "data": {
      "text/plain": [
       "(52516, 20)"
      ]
     },
     "execution_count": 11,
     "metadata": {},
     "output_type": "execute_result"
    }
   ],
   "source": [
    "df_2015.shape"
   ]
  },
  {
   "cell_type": "code",
   "execution_count": 12,
   "metadata": {},
   "outputs": [],
   "source": [
    "df_2016=pd.read_csv('/Users/Jeff/Downloads/donnees-electricite-2017 (1)/donnees_elec_2016.csv', encoding = \"ISO-8859-1\", sep=';')"
   ]
  },
  {
   "cell_type": "code",
   "execution_count": 13,
   "metadata": {},
   "outputs": [
    {
     "data": {
      "text/plain": [
       "(52585, 20)"
      ]
     },
     "execution_count": 13,
     "metadata": {},
     "output_type": "execute_result"
    }
   ],
   "source": [
    "df_2016.shape"
   ]
  },
  {
   "cell_type": "code",
   "execution_count": 14,
   "metadata": {},
   "outputs": [],
   "source": [
    "df_2017=pd.read_csv('/Users/Jeff/Downloads/donnees-electricite-2017 (1)/donnees_elec_2017.csv', encoding = \"ISO-8859-1\", sep=';')"
   ]
  },
  {
   "cell_type": "code",
   "execution_count": 15,
   "metadata": {},
   "outputs": [
    {
     "data": {
      "text/plain": [
       "(51905, 22)"
      ]
     },
     "execution_count": 15,
     "metadata": {},
     "output_type": "execute_result"
    }
   ],
   "source": [
    "df_2017.shape"
   ]
  },
  {
   "cell_type": "code",
   "execution_count": 16,
   "metadata": {},
   "outputs": [],
   "source": [
    "frames=[df_2011, df_2012, df_2013, df_2014, df_2015, df_2016, df_2017]"
   ]
  },
  {
   "cell_type": "code",
   "execution_count": 17,
   "metadata": {},
   "outputs": [],
   "source": [
    "# Create the concatenate dataframe\n",
    "df_electricity=pd.concat(frames)"
   ]
  },
  {
   "cell_type": "code",
   "execution_count": 18,
   "metadata": {},
   "outputs": [
    {
     "data": {
      "text/plain": [
       "(357955, 22)"
      ]
     },
     "execution_count": 18,
     "metadata": {},
     "output_type": "execute_result"
    }
   ],
   "source": [
    "df_electricity.shape"
   ]
  },
  {
   "cell_type": "code",
   "execution_count": 19,
   "metadata": {},
   "outputs": [],
   "source": [
    "# Save the dataframe as a csv\n",
    "df_electricity.to_csv('df_electricity.csv', sep='/', index=False)"
   ]
  },
  {
   "cell_type": "markdown",
   "metadata": {},
   "source": [
    "# Data cleaning"
   ]
  },
  {
   "cell_type": "markdown",
   "metadata": {},
   "source": [
    "## Missing values"
   ]
  },
  {
   "cell_type": "code",
   "execution_count": 20,
   "metadata": {},
   "outputs": [
    {
     "data": {
      "text/html": [
       "<div>\n",
       "<style scoped>\n",
       "    .dataframe tbody tr th:only-of-type {\n",
       "        vertical-align: middle;\n",
       "    }\n",
       "\n",
       "    .dataframe tbody tr th {\n",
       "        vertical-align: top;\n",
       "    }\n",
       "\n",
       "    .dataframe thead th {\n",
       "        text-align: right;\n",
       "    }\n",
       "</style>\n",
       "<table border=\"1\" class=\"dataframe\">\n",
       "  <thead>\n",
       "    <tr style=\"text-align: right;\">\n",
       "      <th></th>\n",
       "      <th>OPERATEUR</th>\n",
       "      <th>ANNEE</th>\n",
       "      <th>FILIERE</th>\n",
       "      <th>TYPE</th>\n",
       "      <th>CODE</th>\n",
       "      <th>CONSOA</th>\n",
       "      <th>PDLA</th>\n",
       "      <th>INDQUALA</th>\n",
       "      <th>CONSOI</th>\n",
       "      <th>PDLI</th>\n",
       "      <th>...</th>\n",
       "      <th>PDLT</th>\n",
       "      <th>INDQUALT</th>\n",
       "      <th>CONSOR</th>\n",
       "      <th>PDLR</th>\n",
       "      <th>INDQUALR</th>\n",
       "      <th>CONSONA</th>\n",
       "      <th>PDLNA</th>\n",
       "      <th>INDQUALNA</th>\n",
       "      <th>THERMOR</th>\n",
       "      <th>PARTR</th>\n",
       "    </tr>\n",
       "  </thead>\n",
       "  <tbody>\n",
       "    <tr>\n",
       "      <th>0</th>\n",
       "      <td>Enedis</td>\n",
       "      <td>2011</td>\n",
       "      <td>E</td>\n",
       "      <td>InterCom</td>\n",
       "      <td>0</td>\n",
       "      <td>0,00</td>\n",
       "      <td>0</td>\n",
       "      <td>0,000000</td>\n",
       "      <td>0,00</td>\n",
       "      <td>0</td>\n",
       "      <td>...</td>\n",
       "      <td>0</td>\n",
       "      <td>0,000000</td>\n",
       "      <td>1682,00</td>\n",
       "      <td>176</td>\n",
       "      <td>0,372100</td>\n",
       "      <td>0,00</td>\n",
       "      <td>0</td>\n",
       "      <td>0,000000</td>\n",
       "      <td>NaN</td>\n",
       "      <td>NaN</td>\n",
       "    </tr>\n",
       "    <tr>\n",
       "      <th>1</th>\n",
       "      <td>Enedis</td>\n",
       "      <td>2011</td>\n",
       "      <td>E</td>\n",
       "      <td>Region</td>\n",
       "      <td>11</td>\n",
       "      <td>0,00</td>\n",
       "      <td>0</td>\n",
       "      <td>0,000000</td>\n",
       "      <td>0,00</td>\n",
       "      <td>0</td>\n",
       "      <td>...</td>\n",
       "      <td>0</td>\n",
       "      <td>0,000000</td>\n",
       "      <td>2964,78</td>\n",
       "      <td>285</td>\n",
       "      <td>0,356390</td>\n",
       "      <td>0,00</td>\n",
       "      <td>0</td>\n",
       "      <td>0,000000</td>\n",
       "      <td>NaN</td>\n",
       "      <td>NaN</td>\n",
       "    </tr>\n",
       "    <tr>\n",
       "      <th>2</th>\n",
       "      <td>Enedis</td>\n",
       "      <td>2011</td>\n",
       "      <td>E</td>\n",
       "      <td>InterCom</td>\n",
       "      <td>200023414</td>\n",
       "      <td>0,00</td>\n",
       "      <td>0</td>\n",
       "      <td>0,000000</td>\n",
       "      <td>0,00</td>\n",
       "      <td>0</td>\n",
       "      <td>...</td>\n",
       "      <td>0</td>\n",
       "      <td>0,000000</td>\n",
       "      <td>333,32</td>\n",
       "      <td>32</td>\n",
       "      <td>0,506710</td>\n",
       "      <td>0,00</td>\n",
       "      <td>0</td>\n",
       "      <td>0,000000</td>\n",
       "      <td>NaN</td>\n",
       "      <td>NaN</td>\n",
       "    </tr>\n",
       "    <tr>\n",
       "      <th>3</th>\n",
       "      <td>Enedis</td>\n",
       "      <td>2011</td>\n",
       "      <td>E</td>\n",
       "      <td>Region</td>\n",
       "      <td>21</td>\n",
       "      <td>0,00</td>\n",
       "      <td>0</td>\n",
       "      <td>0,000000</td>\n",
       "      <td>0,00</td>\n",
       "      <td>0</td>\n",
       "      <td>...</td>\n",
       "      <td>0</td>\n",
       "      <td>0,000000</td>\n",
       "      <td>278,42</td>\n",
       "      <td>51</td>\n",
       "      <td>0,331370</td>\n",
       "      <td>0,00</td>\n",
       "      <td>0</td>\n",
       "      <td>0,000000</td>\n",
       "      <td>NaN</td>\n",
       "      <td>NaN</td>\n",
       "    </tr>\n",
       "    <tr>\n",
       "      <th>4</th>\n",
       "      <td>Enedis</td>\n",
       "      <td>2011</td>\n",
       "      <td>E</td>\n",
       "      <td>Region</td>\n",
       "      <td>22</td>\n",
       "      <td>0,00</td>\n",
       "      <td>0</td>\n",
       "      <td>0,000000</td>\n",
       "      <td>0,00</td>\n",
       "      <td>0</td>\n",
       "      <td>...</td>\n",
       "      <td>0</td>\n",
       "      <td>0,000000</td>\n",
       "      <td>164,48</td>\n",
       "      <td>24</td>\n",
       "      <td>0,671570</td>\n",
       "      <td>0,00</td>\n",
       "      <td>0</td>\n",
       "      <td>0,000000</td>\n",
       "      <td>NaN</td>\n",
       "      <td>NaN</td>\n",
       "    </tr>\n",
       "  </tbody>\n",
       "</table>\n",
       "<p>5 rows × 22 columns</p>\n",
       "</div>"
      ],
      "text/plain": [
       "  OPERATEUR  ANNEE FILIERE      TYPE       CODE CONSOA  PDLA  INDQUALA CONSOI  \\\n",
       "0    Enedis   2011       E  InterCom          0   0,00     0  0,000000   0,00   \n",
       "1    Enedis   2011       E    Region         11   0,00     0  0,000000   0,00   \n",
       "2    Enedis   2011       E  InterCom  200023414   0,00     0  0,000000   0,00   \n",
       "3    Enedis   2011       E    Region         21   0,00     0  0,000000   0,00   \n",
       "4    Enedis   2011       E    Region         22   0,00     0  0,000000   0,00   \n",
       "\n",
       "   PDLI  ... PDLT  INDQUALT   CONSOR PDLR  INDQUALR  CONSONA PDLNA INDQUALNA  \\\n",
       "0     0  ...    0  0,000000  1682,00  176  0,372100     0,00     0  0,000000   \n",
       "1     0  ...    0  0,000000  2964,78  285  0,356390     0,00     0  0,000000   \n",
       "2     0  ...    0  0,000000   333,32   32  0,506710     0,00     0  0,000000   \n",
       "3     0  ...    0  0,000000   278,42   51  0,331370     0,00     0  0,000000   \n",
       "4     0  ...    0  0,000000   164,48   24  0,671570     0,00     0  0,000000   \n",
       "\n",
       "   THERMOR PARTR  \n",
       "0      NaN   NaN  \n",
       "1      NaN   NaN  \n",
       "2      NaN   NaN  \n",
       "3      NaN   NaN  \n",
       "4      NaN   NaN  \n",
       "\n",
       "[5 rows x 22 columns]"
      ]
     },
     "execution_count": 20,
     "metadata": {},
     "output_type": "execute_result"
    }
   ],
   "source": [
    "df_electricity.head()"
   ]
  },
  {
   "cell_type": "code",
   "execution_count": 21,
   "metadata": {},
   "outputs": [
    {
     "data": {
      "text/plain": [
       "(357955, 22)"
      ]
     },
     "execution_count": 21,
     "metadata": {},
     "output_type": "execute_result"
    }
   ],
   "source": [
    "df_electricity.shape"
   ]
  },
  {
   "cell_type": "code",
   "execution_count": 22,
   "metadata": {},
   "outputs": [
    {
     "data": {
      "text/plain": [
       "OPERATEUR         0\n",
       "ANNEE             0\n",
       "FILIERE           0\n",
       "TYPE              0\n",
       "CODE              0\n",
       "CONSOA            0\n",
       "PDLA              0\n",
       "INDQUALA          0\n",
       "CONSOI            0\n",
       "PDLI              0\n",
       "INDQUALI          0\n",
       "CONSOT            0\n",
       "PDLT              0\n",
       "INDQUALT          0\n",
       "CONSOR            0\n",
       "PDLR              0\n",
       "INDQUALR          0\n",
       "CONSONA           0\n",
       "PDLNA             0\n",
       "INDQUALNA         0\n",
       "THERMOR      306058\n",
       "PARTR        306058\n",
       "dtype: int64"
      ]
     },
     "execution_count": 22,
     "metadata": {},
     "output_type": "execute_result"
    }
   ],
   "source": [
    "df_electricity.isna().sum()"
   ]
  },
  {
   "cell_type": "markdown",
   "metadata": {},
   "source": [
    "As the major part of THERMOR and PARTR columns are missing values, we decide to drop them."
   ]
  },
  {
   "cell_type": "code",
   "execution_count": 23,
   "metadata": {},
   "outputs": [],
   "source": [
    "df_electricity.drop(['THERMOR','PARTR'], axis=1, inplace=True)"
   ]
  },
  {
   "cell_type": "code",
   "execution_count": 24,
   "metadata": {},
   "outputs": [
    {
     "data": {
      "text/plain": [
       "OPERATEUR    0\n",
       "ANNEE        0\n",
       "FILIERE      0\n",
       "TYPE         0\n",
       "CODE         0\n",
       "CONSOA       0\n",
       "PDLA         0\n",
       "INDQUALA     0\n",
       "CONSOI       0\n",
       "PDLI         0\n",
       "INDQUALI     0\n",
       "CONSOT       0\n",
       "PDLT         0\n",
       "INDQUALT     0\n",
       "CONSOR       0\n",
       "PDLR         0\n",
       "INDQUALR     0\n",
       "CONSONA      0\n",
       "PDLNA        0\n",
       "INDQUALNA    0\n",
       "dtype: int64"
      ]
     },
     "execution_count": 24,
     "metadata": {},
     "output_type": "execute_result"
    }
   ],
   "source": [
    "df_electricity.isna().sum()"
   ]
  },
  {
   "cell_type": "markdown",
   "metadata": {},
   "source": [
    "No more missing value"
   ]
  },
  {
   "cell_type": "code",
   "execution_count": 25,
   "metadata": {},
   "outputs": [],
   "source": [
    "# Reset the index because index wasn't unique\n",
    "df_electricity.reset_index(inplace=True, drop=True)"
   ]
  },
  {
   "cell_type": "markdown",
   "metadata": {},
   "source": [
    "## Data level"
   ]
  },
  {
   "cell_type": "code",
   "execution_count": 26,
   "metadata": {},
   "outputs": [
    {
     "data": {
      "text/plain": [
       "IRIS        346508\n",
       "Commune      10972\n",
       "InterCom       337\n",
       "Region         138\n",
       "Name: TYPE, dtype: int64"
      ]
     },
     "execution_count": 26,
     "metadata": {},
     "output_type": "execute_result"
    }
   ],
   "source": [
    "df_electricity['TYPE'].value_counts()"
   ]
  },
  {
   "cell_type": "markdown",
   "metadata": {},
   "source": [
    "As we can see, there are several type of area. In order to do our analysis we will only keep the value by commune"
   ]
  },
  {
   "cell_type": "code",
   "execution_count": 27,
   "metadata": {},
   "outputs": [],
   "source": [
    "df_electricity.drop(df_electricity[ df_electricity['TYPE'] != 'Commune' ].index , inplace=True)"
   ]
  },
  {
   "cell_type": "code",
   "execution_count": 28,
   "metadata": {},
   "outputs": [
    {
     "data": {
      "text/plain": [
       "Commune    10972\n",
       "Name: TYPE, dtype: int64"
      ]
     },
     "execution_count": 28,
     "metadata": {},
     "output_type": "execute_result"
    }
   ],
   "source": [
    "df_electricity['TYPE'].value_counts()"
   ]
  },
  {
   "cell_type": "markdown",
   "metadata": {},
   "source": [
    "## Data types"
   ]
  },
  {
   "cell_type": "code",
   "execution_count": 29,
   "metadata": {},
   "outputs": [
    {
     "name": "stdout",
     "output_type": "stream",
     "text": [
      "<class 'pandas.core.frame.DataFrame'>\n",
      "Int64Index: 10972 entries, 2476 to 357954\n",
      "Data columns (total 20 columns):\n",
      " #   Column     Non-Null Count  Dtype \n",
      "---  ------     --------------  ----- \n",
      " 0   OPERATEUR  10972 non-null  object\n",
      " 1   ANNEE      10972 non-null  int64 \n",
      " 2   FILIERE    10972 non-null  object\n",
      " 3   TYPE       10972 non-null  object\n",
      " 4   CODE       10972 non-null  object\n",
      " 5   CONSOA     10972 non-null  object\n",
      " 6   PDLA       10972 non-null  int64 \n",
      " 7   INDQUALA   10972 non-null  object\n",
      " 8   CONSOI     10972 non-null  object\n",
      " 9   PDLI       10972 non-null  int64 \n",
      " 10  INDQUALI   10972 non-null  object\n",
      " 11  CONSOT     10972 non-null  object\n",
      " 12  PDLT       10972 non-null  int64 \n",
      " 13  INDQUALT   10972 non-null  object\n",
      " 14  CONSOR     10972 non-null  object\n",
      " 15  PDLR       10972 non-null  int64 \n",
      " 16  INDQUALR   10972 non-null  object\n",
      " 17  CONSONA    10972 non-null  object\n",
      " 18  PDLNA      10972 non-null  int64 \n",
      " 19  INDQUALNA  10972 non-null  object\n",
      "dtypes: int64(6), object(14)\n",
      "memory usage: 1.8+ MB\n"
     ]
    }
   ],
   "source": [
    "df_electricity.info()"
   ]
  },
  {
   "cell_type": "markdown",
   "metadata": {},
   "source": [
    "As we can see, some of the columns have a wrong data type, we will transform the data type of those columns"
   ]
  },
  {
   "cell_type": "code",
   "execution_count": 30,
   "metadata": {},
   "outputs": [],
   "source": [
    "df_electricity[['CONSOA','INDQUALA','CONSOI','INDQUALI','CONSOT','INDQUALT','CONSOR','INDQUALR','CONSONA','INDQUALNA']]=df_electricity[['CONSOA','INDQUALA','CONSOI','INDQUALI','CONSOT','INDQUALT','CONSOR','INDQUALR','CONSONA','INDQUALNA']].apply(lambda x: x.str.replace(',','.'))"
   ]
  },
  {
   "cell_type": "code",
   "execution_count": 31,
   "metadata": {},
   "outputs": [],
   "source": [
    "df_electricity[['CONSOA','INDQUALA','CONSOI','INDQUALI','CONSOT','INDQUALT','CONSOR','INDQUALR','CONSONA','INDQUALNA']] = df_electricity[['CONSOA','INDQUALA','CONSOI','INDQUALI','CONSOT','INDQUALT','CONSOR','INDQUALR','CONSONA','INDQUALNA']].apply(pd.to_numeric)"
   ]
  },
  {
   "cell_type": "code",
   "execution_count": 32,
   "metadata": {},
   "outputs": [
    {
     "data": {
      "text/plain": [
       "array([6103, 9015, 9076, ..., '97615', '97616', '97617'], dtype=object)"
      ]
     },
     "execution_count": 32,
     "metadata": {},
     "output_type": "execute_result"
    }
   ],
   "source": [
    "df_electricity['CODE'].unique()"
   ]
  },
  {
   "cell_type": "markdown",
   "metadata": {},
   "source": [
    "As we can see, some of the values in the column are string and others are number, we will convert all the values as string"
   ]
  },
  {
   "cell_type": "code",
   "execution_count": 33,
   "metadata": {},
   "outputs": [],
   "source": [
    "df_electricity['CODE']=df_electricity['CODE'].apply(str)"
   ]
  },
  {
   "cell_type": "code",
   "execution_count": 34,
   "metadata": {},
   "outputs": [
    {
     "name": "stdout",
     "output_type": "stream",
     "text": [
      "<class 'pandas.core.frame.DataFrame'>\n",
      "Int64Index: 10972 entries, 2476 to 357954\n",
      "Data columns (total 20 columns):\n",
      " #   Column     Non-Null Count  Dtype  \n",
      "---  ------     --------------  -----  \n",
      " 0   OPERATEUR  10972 non-null  object \n",
      " 1   ANNEE      10972 non-null  int64  \n",
      " 2   FILIERE    10972 non-null  object \n",
      " 3   TYPE       10972 non-null  object \n",
      " 4   CODE       10972 non-null  object \n",
      " 5   CONSOA     10972 non-null  float64\n",
      " 6   PDLA       10972 non-null  int64  \n",
      " 7   INDQUALA   10972 non-null  float64\n",
      " 8   CONSOI     10972 non-null  float64\n",
      " 9   PDLI       10972 non-null  int64  \n",
      " 10  INDQUALI   10972 non-null  float64\n",
      " 11  CONSOT     10972 non-null  float64\n",
      " 12  PDLT       10972 non-null  int64  \n",
      " 13  INDQUALT   10972 non-null  float64\n",
      " 14  CONSOR     10972 non-null  float64\n",
      " 15  PDLR       10972 non-null  int64  \n",
      " 16  INDQUALR   10972 non-null  float64\n",
      " 17  CONSONA    10972 non-null  float64\n",
      " 18  PDLNA      10972 non-null  int64  \n",
      " 19  INDQUALNA  10972 non-null  float64\n",
      "dtypes: float64(10), int64(6), object(4)\n",
      "memory usage: 1.8+ MB\n"
     ]
    }
   ],
   "source": [
    "df_electricity.info()"
   ]
  },
  {
   "cell_type": "markdown",
   "metadata": {},
   "source": [
    "## Commune name, departement code and name"
   ]
  },
  {
   "cell_type": "markdown",
   "metadata": {},
   "source": [
    "### Add commune name"
   ]
  },
  {
   "cell_type": "markdown",
   "metadata": {},
   "source": [
    "Now that we only have information per commune, we will add the name of the commune"
   ]
  },
  {
   "cell_type": "code",
   "execution_count": 35,
   "metadata": {},
   "outputs": [],
   "source": [
    "# Import the dataframe with the name corresponding to the code for each commune\n",
    "df_com=pd.read_csv('/Users/Jeff/Ironhack/248_Repo/Projects/Final project/df_com.csv', sep='/')"
   ]
  },
  {
   "cell_type": "code",
   "execution_count": 36,
   "metadata": {},
   "outputs": [
    {
     "data": {
      "text/html": [
       "<div>\n",
       "<style scoped>\n",
       "    .dataframe tbody tr th:only-of-type {\n",
       "        vertical-align: middle;\n",
       "    }\n",
       "\n",
       "    .dataframe tbody tr th {\n",
       "        vertical-align: top;\n",
       "    }\n",
       "\n",
       "    .dataframe thead th {\n",
       "        text-align: right;\n",
       "    }\n",
       "</style>\n",
       "<table border=\"1\" class=\"dataframe\">\n",
       "  <thead>\n",
       "    <tr style=\"text-align: right;\">\n",
       "      <th></th>\n",
       "      <th>CODE</th>\n",
       "      <th>NOM</th>\n",
       "    </tr>\n",
       "  </thead>\n",
       "  <tbody>\n",
       "    <tr>\n",
       "      <th>0</th>\n",
       "      <td>01001</td>\n",
       "      <td>ABERGEMENT CLEMENCIAT</td>\n",
       "    </tr>\n",
       "    <tr>\n",
       "      <th>1</th>\n",
       "      <td>01002</td>\n",
       "      <td>ABERGEMENT DE VAREY</td>\n",
       "    </tr>\n",
       "    <tr>\n",
       "      <th>2</th>\n",
       "      <td>01004</td>\n",
       "      <td>AMBERIEU EN BUGEY</td>\n",
       "    </tr>\n",
       "    <tr>\n",
       "      <th>3</th>\n",
       "      <td>01005</td>\n",
       "      <td>AMBERIEUX EN DOMBES</td>\n",
       "    </tr>\n",
       "    <tr>\n",
       "      <th>4</th>\n",
       "      <td>01006</td>\n",
       "      <td>AMBLEON</td>\n",
       "    </tr>\n",
       "  </tbody>\n",
       "</table>\n",
       "</div>"
      ],
      "text/plain": [
       "    CODE                    NOM\n",
       "0  01001  ABERGEMENT CLEMENCIAT\n",
       "1  01002    ABERGEMENT DE VAREY\n",
       "2  01004      AMBERIEU EN BUGEY\n",
       "3  01005    AMBERIEUX EN DOMBES\n",
       "4  01006                AMBLEON"
      ]
     },
     "execution_count": 36,
     "metadata": {},
     "output_type": "execute_result"
    }
   ],
   "source": [
    "df_com.head()"
   ]
  },
  {
   "cell_type": "code",
   "execution_count": 37,
   "metadata": {},
   "outputs": [],
   "source": [
    "df_elec_merge = pd.merge(df_electricity, df_com, how='left', on=['CODE'])"
   ]
  },
  {
   "cell_type": "code",
   "execution_count": 38,
   "metadata": {},
   "outputs": [
    {
     "data": {
      "text/html": [
       "<div>\n",
       "<style scoped>\n",
       "    .dataframe tbody tr th:only-of-type {\n",
       "        vertical-align: middle;\n",
       "    }\n",
       "\n",
       "    .dataframe tbody tr th {\n",
       "        vertical-align: top;\n",
       "    }\n",
       "\n",
       "    .dataframe thead th {\n",
       "        text-align: right;\n",
       "    }\n",
       "</style>\n",
       "<table border=\"1\" class=\"dataframe\">\n",
       "  <thead>\n",
       "    <tr style=\"text-align: right;\">\n",
       "      <th></th>\n",
       "      <th>OPERATEUR</th>\n",
       "      <th>ANNEE</th>\n",
       "      <th>FILIERE</th>\n",
       "      <th>TYPE</th>\n",
       "      <th>CODE</th>\n",
       "      <th>CONSOA</th>\n",
       "      <th>PDLA</th>\n",
       "      <th>INDQUALA</th>\n",
       "      <th>CONSOI</th>\n",
       "      <th>PDLI</th>\n",
       "      <th>...</th>\n",
       "      <th>CONSOT</th>\n",
       "      <th>PDLT</th>\n",
       "      <th>INDQUALT</th>\n",
       "      <th>CONSOR</th>\n",
       "      <th>PDLR</th>\n",
       "      <th>INDQUALR</th>\n",
       "      <th>CONSONA</th>\n",
       "      <th>PDLNA</th>\n",
       "      <th>INDQUALNA</th>\n",
       "      <th>NOM</th>\n",
       "    </tr>\n",
       "  </thead>\n",
       "  <tbody>\n",
       "    <tr>\n",
       "      <th>0</th>\n",
       "      <td>Régie délectricité de Roquebillière</td>\n",
       "      <td>2011</td>\n",
       "      <td>E</td>\n",
       "      <td>Commune</td>\n",
       "      <td>6103</td>\n",
       "      <td>20.0</td>\n",
       "      <td>5</td>\n",
       "      <td>1.0</td>\n",
       "      <td>1170.0</td>\n",
       "      <td>8</td>\n",
       "      <td>...</td>\n",
       "      <td>1316.00</td>\n",
       "      <td>102</td>\n",
       "      <td>1.0</td>\n",
       "      <td>4629.00</td>\n",
       "      <td>1134</td>\n",
       "      <td>1.0</td>\n",
       "      <td>770.00</td>\n",
       "      <td>47</td>\n",
       "      <td>1.0</td>\n",
       "      <td>NaN</td>\n",
       "    </tr>\n",
       "    <tr>\n",
       "      <th>1</th>\n",
       "      <td>Régie municipale délectricité dArignac</td>\n",
       "      <td>2011</td>\n",
       "      <td>E</td>\n",
       "      <td>Commune</td>\n",
       "      <td>9015</td>\n",
       "      <td>0.0</td>\n",
       "      <td>0</td>\n",
       "      <td>0.0</td>\n",
       "      <td>156.0</td>\n",
       "      <td>1</td>\n",
       "      <td>...</td>\n",
       "      <td>304.00</td>\n",
       "      <td>27</td>\n",
       "      <td>0.5</td>\n",
       "      <td>1980.00</td>\n",
       "      <td>413</td>\n",
       "      <td>0.5</td>\n",
       "      <td>178.00</td>\n",
       "      <td>19</td>\n",
       "      <td>0.5</td>\n",
       "      <td>NaN</td>\n",
       "    </tr>\n",
       "    <tr>\n",
       "      <th>2</th>\n",
       "      <td>Régie municipale délectricité de Saint-Quirc</td>\n",
       "      <td>2011</td>\n",
       "      <td>E</td>\n",
       "      <td>Commune</td>\n",
       "      <td>9076</td>\n",
       "      <td>13.0</td>\n",
       "      <td>2</td>\n",
       "      <td>0.5</td>\n",
       "      <td>0.0</td>\n",
       "      <td>0</td>\n",
       "      <td>...</td>\n",
       "      <td>24.44</td>\n",
       "      <td>10</td>\n",
       "      <td>0.5</td>\n",
       "      <td>507.74</td>\n",
       "      <td>107</td>\n",
       "      <td>0.5</td>\n",
       "      <td>7.97</td>\n",
       "      <td>1</td>\n",
       "      <td>0.5</td>\n",
       "      <td>NaN</td>\n",
       "    </tr>\n",
       "    <tr>\n",
       "      <th>3</th>\n",
       "      <td>Régie municipale délectricité de Dalou</td>\n",
       "      <td>2011</td>\n",
       "      <td>E</td>\n",
       "      <td>Commune</td>\n",
       "      <td>9104</td>\n",
       "      <td>0.0</td>\n",
       "      <td>0</td>\n",
       "      <td>0.0</td>\n",
       "      <td>0.0</td>\n",
       "      <td>0</td>\n",
       "      <td>...</td>\n",
       "      <td>7.00</td>\n",
       "      <td>5</td>\n",
       "      <td>1.0</td>\n",
       "      <td>1744.00</td>\n",
       "      <td>356</td>\n",
       "      <td>1.0</td>\n",
       "      <td>141.00</td>\n",
       "      <td>13</td>\n",
       "      <td>1.0</td>\n",
       "      <td>NaN</td>\n",
       "    </tr>\n",
       "    <tr>\n",
       "      <th>4</th>\n",
       "      <td>Régie municipale délectricité de lHospitalet...</td>\n",
       "      <td>2011</td>\n",
       "      <td>E</td>\n",
       "      <td>Commune</td>\n",
       "      <td>9139</td>\n",
       "      <td>0.0</td>\n",
       "      <td>0</td>\n",
       "      <td>0.0</td>\n",
       "      <td>0.0</td>\n",
       "      <td>0</td>\n",
       "      <td>...</td>\n",
       "      <td>419.00</td>\n",
       "      <td>35</td>\n",
       "      <td>1.0</td>\n",
       "      <td>276.00</td>\n",
       "      <td>88</td>\n",
       "      <td>1.0</td>\n",
       "      <td>239.00</td>\n",
       "      <td>27</td>\n",
       "      <td>1.0</td>\n",
       "      <td>NaN</td>\n",
       "    </tr>\n",
       "  </tbody>\n",
       "</table>\n",
       "<p>5 rows × 21 columns</p>\n",
       "</div>"
      ],
      "text/plain": [
       "                                           OPERATEUR  ANNEE FILIERE     TYPE  \\\n",
       "0               Régie délectricité de Roquebillière   2011       E  Commune   \n",
       "1           Régie municipale délectricité dArignac   2011       E  Commune   \n",
       "2      Régie municipale délectricité de Saint-Quirc   2011       E  Commune   \n",
       "3            Régie municipale délectricité de Dalou   2011       E  Commune   \n",
       "4  Régie municipale délectricité de lHospitalet...   2011       E  Commune   \n",
       "\n",
       "   CODE  CONSOA  PDLA  INDQUALA  CONSOI  PDLI  ...   CONSOT  PDLT  INDQUALT  \\\n",
       "0  6103    20.0     5       1.0  1170.0     8  ...  1316.00   102       1.0   \n",
       "1  9015     0.0     0       0.0   156.0     1  ...   304.00    27       0.5   \n",
       "2  9076    13.0     2       0.5     0.0     0  ...    24.44    10       0.5   \n",
       "3  9104     0.0     0       0.0     0.0     0  ...     7.00     5       1.0   \n",
       "4  9139     0.0     0       0.0     0.0     0  ...   419.00    35       1.0   \n",
       "\n",
       "    CONSOR  PDLR  INDQUALR  CONSONA  PDLNA  INDQUALNA  NOM  \n",
       "0  4629.00  1134       1.0   770.00     47        1.0  NaN  \n",
       "1  1980.00   413       0.5   178.00     19        0.5  NaN  \n",
       "2   507.74   107       0.5     7.97      1        0.5  NaN  \n",
       "3  1744.00   356       1.0   141.00     13        1.0  NaN  \n",
       "4   276.00    88       1.0   239.00     27        1.0  NaN  \n",
       "\n",
       "[5 rows x 21 columns]"
      ]
     },
     "execution_count": 38,
     "metadata": {},
     "output_type": "execute_result"
    }
   ],
   "source": [
    "df_elec_merge.head()"
   ]
  },
  {
   "cell_type": "code",
   "execution_count": 39,
   "metadata": {},
   "outputs": [
    {
     "data": {
      "text/plain": [
       "OPERATEUR     0\n",
       "ANNEE         0\n",
       "FILIERE       0\n",
       "TYPE          0\n",
       "CODE          0\n",
       "CONSOA        0\n",
       "PDLA          0\n",
       "INDQUALA      0\n",
       "CONSOI        0\n",
       "PDLI          0\n",
       "INDQUALI      0\n",
       "CONSOT        0\n",
       "PDLT          0\n",
       "INDQUALT      0\n",
       "CONSOR        0\n",
       "PDLR          0\n",
       "INDQUALR      0\n",
       "CONSONA       0\n",
       "PDLNA         0\n",
       "INDQUALNA     0\n",
       "NOM          62\n",
       "dtype: int64"
      ]
     },
     "execution_count": 39,
     "metadata": {},
     "output_type": "execute_result"
    }
   ],
   "source": [
    "df_elec_merge.isna().sum()"
   ]
  },
  {
   "cell_type": "markdown",
   "metadata": {},
   "source": [
    "As we don't know the name for 62 communes, we will fill the value with 'NC'"
   ]
  },
  {
   "cell_type": "code",
   "execution_count": 40,
   "metadata": {},
   "outputs": [],
   "source": [
    "# Fill null value with 'NC'\n",
    "df_elec_merge.fillna('NC', inplace=True)"
   ]
  },
  {
   "cell_type": "markdown",
   "metadata": {},
   "source": [
    "### Add departement code"
   ]
  },
  {
   "cell_type": "code",
   "execution_count": 41,
   "metadata": {},
   "outputs": [],
   "source": [
    "df_elec_merge['dep_code']=df_elec_merge['CODE'].apply(lambda x: x[:2])"
   ]
  },
  {
   "cell_type": "markdown",
   "metadata": {},
   "source": [
    "As there are some dep_code with a 3 numbers format, we will replace those values with their specific format"
   ]
  },
  {
   "cell_type": "code",
   "execution_count": 42,
   "metadata": {},
   "outputs": [
    {
     "name": "stderr",
     "output_type": "stream",
     "text": [
      "<ipython-input-42-68ef6fa75e35>:1: SettingWithCopyWarning: \n",
      "A value is trying to be set on a copy of a slice from a DataFrame\n",
      "\n",
      "See the caveats in the documentation: https://pandas.pydata.org/pandas-docs/stable/user_guide/indexing.html#returning-a-view-versus-a-copy\n",
      "  df_elec_merge['dep_code'][df_elec_merge['CODE'].str.startswith('97')]=df_elec_merge['CODE'].apply(lambda x: x[:3])\n"
     ]
    }
   ],
   "source": [
    "df_elec_merge['dep_code'][df_elec_merge['CODE'].str.startswith('97')]=df_elec_merge['CODE'].apply(lambda x: x[:3])"
   ]
  },
  {
   "cell_type": "markdown",
   "metadata": {},
   "source": [
    "### Add departement name"
   ]
  },
  {
   "cell_type": "code",
   "execution_count": 43,
   "metadata": {},
   "outputs": [],
   "source": [
    "# Import the dataframe with the name corresponding to the code for each departement\n",
    "df_dep=pd.read_csv('/Users/Jeff/Ironhack/248_Repo/Projects/Final project/df_dep.csv', sep='/')"
   ]
  },
  {
   "cell_type": "code",
   "execution_count": 44,
   "metadata": {},
   "outputs": [],
   "source": [
    "df_elec_merge1 = pd.merge(df_elec_merge, df_dep, how='left', on=['dep_code'])"
   ]
  },
  {
   "cell_type": "code",
   "execution_count": 45,
   "metadata": {},
   "outputs": [
    {
     "data": {
      "text/plain": [
       "OPERATEUR    0\n",
       "ANNEE        0\n",
       "FILIERE      0\n",
       "TYPE         0\n",
       "CODE         0\n",
       "CONSOA       0\n",
       "PDLA         0\n",
       "INDQUALA     0\n",
       "CONSOI       0\n",
       "PDLI         0\n",
       "INDQUALI     0\n",
       "CONSOT       0\n",
       "PDLT         0\n",
       "INDQUALT     0\n",
       "CONSOR       0\n",
       "PDLR         0\n",
       "INDQUALR     0\n",
       "CONSONA      0\n",
       "PDLNA        0\n",
       "INDQUALNA    0\n",
       "NOM          0\n",
       "dep_code     0\n",
       "dep_name     0\n",
       "dtype: int64"
      ]
     },
     "execution_count": 45,
     "metadata": {},
     "output_type": "execute_result"
    }
   ],
   "source": [
    "df_elec_merge1.isna().sum()"
   ]
  },
  {
   "cell_type": "markdown",
   "metadata": {},
   "source": [
    "## Columns manipulation"
   ]
  },
  {
   "cell_type": "markdown",
   "metadata": {},
   "source": [
    "In order to manipulate our dataframe later, we will rename the columns"
   ]
  },
  {
   "cell_type": "code",
   "execution_count": 46,
   "metadata": {},
   "outputs": [
    {
     "data": {
      "text/plain": [
       "Index(['OPERATEUR', 'ANNEE', 'FILIERE', 'TYPE', 'CODE', 'CONSOA', 'PDLA',\n",
       "       'INDQUALA', 'CONSOI', 'PDLI', 'INDQUALI', 'CONSOT', 'PDLT', 'INDQUALT',\n",
       "       'CONSOR', 'PDLR', 'INDQUALR', 'CONSONA', 'PDLNA', 'INDQUALNA', 'NOM',\n",
       "       'dep_code', 'dep_name'],\n",
       "      dtype='object')"
      ]
     },
     "execution_count": 46,
     "metadata": {},
     "output_type": "execute_result"
    }
   ],
   "source": [
    "df_elec_merge1.columns"
   ]
  },
  {
   "cell_type": "code",
   "execution_count": 47,
   "metadata": {},
   "outputs": [],
   "source": [
    "df_elec_merge1.columns=['operator','year','energy','area','com_code','consoa','pdla','indquala','consoi','pdli','indquali','consot','pdlt','indqualt','consor','pdlr','indqualr','consona','pdlna','indqualna','com_name','dep_code','dep_name']"
   ]
  },
  {
   "cell_type": "code",
   "execution_count": 48,
   "metadata": {},
   "outputs": [
    {
     "data": {
      "text/html": [
       "<div>\n",
       "<style scoped>\n",
       "    .dataframe tbody tr th:only-of-type {\n",
       "        vertical-align: middle;\n",
       "    }\n",
       "\n",
       "    .dataframe tbody tr th {\n",
       "        vertical-align: top;\n",
       "    }\n",
       "\n",
       "    .dataframe thead th {\n",
       "        text-align: right;\n",
       "    }\n",
       "</style>\n",
       "<table border=\"1\" class=\"dataframe\">\n",
       "  <thead>\n",
       "    <tr style=\"text-align: right;\">\n",
       "      <th></th>\n",
       "      <th>operator</th>\n",
       "      <th>year</th>\n",
       "      <th>energy</th>\n",
       "      <th>area</th>\n",
       "      <th>com_code</th>\n",
       "      <th>consoa</th>\n",
       "      <th>pdla</th>\n",
       "      <th>indquala</th>\n",
       "      <th>consoi</th>\n",
       "      <th>pdli</th>\n",
       "      <th>...</th>\n",
       "      <th>indqualt</th>\n",
       "      <th>consor</th>\n",
       "      <th>pdlr</th>\n",
       "      <th>indqualr</th>\n",
       "      <th>consona</th>\n",
       "      <th>pdlna</th>\n",
       "      <th>indqualna</th>\n",
       "      <th>com_name</th>\n",
       "      <th>dep_code</th>\n",
       "      <th>dep_name</th>\n",
       "    </tr>\n",
       "  </thead>\n",
       "  <tbody>\n",
       "    <tr>\n",
       "      <th>0</th>\n",
       "      <td>Régie délectricité de Roquebillière</td>\n",
       "      <td>2011</td>\n",
       "      <td>E</td>\n",
       "      <td>Commune</td>\n",
       "      <td>6103</td>\n",
       "      <td>20.0</td>\n",
       "      <td>5</td>\n",
       "      <td>1.0</td>\n",
       "      <td>1170.0</td>\n",
       "      <td>8</td>\n",
       "      <td>...</td>\n",
       "      <td>1.0</td>\n",
       "      <td>4629.00</td>\n",
       "      <td>1134</td>\n",
       "      <td>1.0</td>\n",
       "      <td>770.00</td>\n",
       "      <td>47</td>\n",
       "      <td>1.0</td>\n",
       "      <td>NC</td>\n",
       "      <td>61</td>\n",
       "      <td>ORNE</td>\n",
       "    </tr>\n",
       "    <tr>\n",
       "      <th>1</th>\n",
       "      <td>Régie municipale délectricité dArignac</td>\n",
       "      <td>2011</td>\n",
       "      <td>E</td>\n",
       "      <td>Commune</td>\n",
       "      <td>9015</td>\n",
       "      <td>0.0</td>\n",
       "      <td>0</td>\n",
       "      <td>0.0</td>\n",
       "      <td>156.0</td>\n",
       "      <td>1</td>\n",
       "      <td>...</td>\n",
       "      <td>0.5</td>\n",
       "      <td>1980.00</td>\n",
       "      <td>413</td>\n",
       "      <td>0.5</td>\n",
       "      <td>178.00</td>\n",
       "      <td>19</td>\n",
       "      <td>0.5</td>\n",
       "      <td>NC</td>\n",
       "      <td>90</td>\n",
       "      <td>TERRITOIRE DE BELFORT</td>\n",
       "    </tr>\n",
       "    <tr>\n",
       "      <th>2</th>\n",
       "      <td>Régie municipale délectricité de Saint-Quirc</td>\n",
       "      <td>2011</td>\n",
       "      <td>E</td>\n",
       "      <td>Commune</td>\n",
       "      <td>9076</td>\n",
       "      <td>13.0</td>\n",
       "      <td>2</td>\n",
       "      <td>0.5</td>\n",
       "      <td>0.0</td>\n",
       "      <td>0</td>\n",
       "      <td>...</td>\n",
       "      <td>0.5</td>\n",
       "      <td>507.74</td>\n",
       "      <td>107</td>\n",
       "      <td>0.5</td>\n",
       "      <td>7.97</td>\n",
       "      <td>1</td>\n",
       "      <td>0.5</td>\n",
       "      <td>NC</td>\n",
       "      <td>90</td>\n",
       "      <td>TERRITOIRE DE BELFORT</td>\n",
       "    </tr>\n",
       "    <tr>\n",
       "      <th>3</th>\n",
       "      <td>Régie municipale délectricité de Dalou</td>\n",
       "      <td>2011</td>\n",
       "      <td>E</td>\n",
       "      <td>Commune</td>\n",
       "      <td>9104</td>\n",
       "      <td>0.0</td>\n",
       "      <td>0</td>\n",
       "      <td>0.0</td>\n",
       "      <td>0.0</td>\n",
       "      <td>0</td>\n",
       "      <td>...</td>\n",
       "      <td>1.0</td>\n",
       "      <td>1744.00</td>\n",
       "      <td>356</td>\n",
       "      <td>1.0</td>\n",
       "      <td>141.00</td>\n",
       "      <td>13</td>\n",
       "      <td>1.0</td>\n",
       "      <td>NC</td>\n",
       "      <td>91</td>\n",
       "      <td>ESSONNE</td>\n",
       "    </tr>\n",
       "    <tr>\n",
       "      <th>4</th>\n",
       "      <td>Régie municipale délectricité de lHospitalet...</td>\n",
       "      <td>2011</td>\n",
       "      <td>E</td>\n",
       "      <td>Commune</td>\n",
       "      <td>9139</td>\n",
       "      <td>0.0</td>\n",
       "      <td>0</td>\n",
       "      <td>0.0</td>\n",
       "      <td>0.0</td>\n",
       "      <td>0</td>\n",
       "      <td>...</td>\n",
       "      <td>1.0</td>\n",
       "      <td>276.00</td>\n",
       "      <td>88</td>\n",
       "      <td>1.0</td>\n",
       "      <td>239.00</td>\n",
       "      <td>27</td>\n",
       "      <td>1.0</td>\n",
       "      <td>NC</td>\n",
       "      <td>91</td>\n",
       "      <td>ESSONNE</td>\n",
       "    </tr>\n",
       "  </tbody>\n",
       "</table>\n",
       "<p>5 rows × 23 columns</p>\n",
       "</div>"
      ],
      "text/plain": [
       "                                            operator  year energy     area  \\\n",
       "0               Régie délectricité de Roquebillière  2011      E  Commune   \n",
       "1           Régie municipale délectricité dArignac  2011      E  Commune   \n",
       "2      Régie municipale délectricité de Saint-Quirc  2011      E  Commune   \n",
       "3            Régie municipale délectricité de Dalou  2011      E  Commune   \n",
       "4  Régie municipale délectricité de lHospitalet...  2011      E  Commune   \n",
       "\n",
       "  com_code  consoa  pdla  indquala  consoi  pdli  ...  indqualt   consor  \\\n",
       "0     6103    20.0     5       1.0  1170.0     8  ...       1.0  4629.00   \n",
       "1     9015     0.0     0       0.0   156.0     1  ...       0.5  1980.00   \n",
       "2     9076    13.0     2       0.5     0.0     0  ...       0.5   507.74   \n",
       "3     9104     0.0     0       0.0     0.0     0  ...       1.0  1744.00   \n",
       "4     9139     0.0     0       0.0     0.0     0  ...       1.0   276.00   \n",
       "\n",
       "   pdlr  indqualr  consona  pdlna  indqualna  com_name  dep_code  \\\n",
       "0  1134       1.0   770.00     47        1.0        NC        61   \n",
       "1   413       0.5   178.00     19        0.5        NC        90   \n",
       "2   107       0.5     7.97      1        0.5        NC        90   \n",
       "3   356       1.0   141.00     13        1.0        NC        91   \n",
       "4    88       1.0   239.00     27        1.0        NC        91   \n",
       "\n",
       "                dep_name  \n",
       "0                   ORNE  \n",
       "1  TERRITOIRE DE BELFORT  \n",
       "2  TERRITOIRE DE BELFORT  \n",
       "3                ESSONNE  \n",
       "4                ESSONNE  \n",
       "\n",
       "[5 rows x 23 columns]"
      ]
     },
     "execution_count": 48,
     "metadata": {},
     "output_type": "execute_result"
    }
   ],
   "source": [
    "df_elec_merge1.head()"
   ]
  },
  {
   "cell_type": "markdown",
   "metadata": {},
   "source": [
    "As the column area only correponds to commune value, we will drop the column"
   ]
  },
  {
   "cell_type": "code",
   "execution_count": 49,
   "metadata": {},
   "outputs": [],
   "source": [
    "# Drop area column\n",
    "df_elec_merge1.drop('area', axis=1, inplace=True)"
   ]
  },
  {
   "cell_type": "code",
   "execution_count": 50,
   "metadata": {},
   "outputs": [
    {
     "data": {
      "text/plain": [
       "Index(['operator', 'year', 'energy', 'com_code', 'consoa', 'pdla', 'indquala',\n",
       "       'consoi', 'pdli', 'indquali', 'consot', 'pdlt', 'indqualt', 'consor',\n",
       "       'pdlr', 'indqualr', 'consona', 'pdlna', 'indqualna', 'com_name',\n",
       "       'dep_code', 'dep_name'],\n",
       "      dtype='object')"
      ]
     },
     "execution_count": 50,
     "metadata": {},
     "output_type": "execute_result"
    }
   ],
   "source": [
    "df_elec_merge1.columns"
   ]
  },
  {
   "cell_type": "code",
   "execution_count": 51,
   "metadata": {},
   "outputs": [],
   "source": [
    "# Reorder the column\n",
    "df_elec_clean=df_elec_merge1[['energy','year', 'dep_code','dep_name','com_code','com_name','operator','consoa', 'pdla', 'indquala',\n",
    "       'consoi', 'pdli', 'indquali', 'consot', 'pdlt', 'indqualt', 'consor',\n",
    "       'pdlr', 'indqualr', 'consona', 'pdlna', 'indqualna']]"
   ]
  },
  {
   "cell_type": "code",
   "execution_count": 52,
   "metadata": {},
   "outputs": [
    {
     "data": {
      "text/html": [
       "<div>\n",
       "<style scoped>\n",
       "    .dataframe tbody tr th:only-of-type {\n",
       "        vertical-align: middle;\n",
       "    }\n",
       "\n",
       "    .dataframe tbody tr th {\n",
       "        vertical-align: top;\n",
       "    }\n",
       "\n",
       "    .dataframe thead th {\n",
       "        text-align: right;\n",
       "    }\n",
       "</style>\n",
       "<table border=\"1\" class=\"dataframe\">\n",
       "  <thead>\n",
       "    <tr style=\"text-align: right;\">\n",
       "      <th></th>\n",
       "      <th>energy</th>\n",
       "      <th>year</th>\n",
       "      <th>dep_code</th>\n",
       "      <th>dep_name</th>\n",
       "      <th>com_code</th>\n",
       "      <th>com_name</th>\n",
       "      <th>operator</th>\n",
       "      <th>consoa</th>\n",
       "      <th>pdla</th>\n",
       "      <th>indquala</th>\n",
       "      <th>...</th>\n",
       "      <th>indquali</th>\n",
       "      <th>consot</th>\n",
       "      <th>pdlt</th>\n",
       "      <th>indqualt</th>\n",
       "      <th>consor</th>\n",
       "      <th>pdlr</th>\n",
       "      <th>indqualr</th>\n",
       "      <th>consona</th>\n",
       "      <th>pdlna</th>\n",
       "      <th>indqualna</th>\n",
       "    </tr>\n",
       "  </thead>\n",
       "  <tbody>\n",
       "    <tr>\n",
       "      <th>0</th>\n",
       "      <td>E</td>\n",
       "      <td>2011</td>\n",
       "      <td>61</td>\n",
       "      <td>ORNE</td>\n",
       "      <td>6103</td>\n",
       "      <td>NC</td>\n",
       "      <td>Régie délectricité de Roquebillière</td>\n",
       "      <td>20.0</td>\n",
       "      <td>5</td>\n",
       "      <td>1.0</td>\n",
       "      <td>...</td>\n",
       "      <td>1.0</td>\n",
       "      <td>1316.00</td>\n",
       "      <td>102</td>\n",
       "      <td>1.0</td>\n",
       "      <td>4629.00</td>\n",
       "      <td>1134</td>\n",
       "      <td>1.0</td>\n",
       "      <td>770.00</td>\n",
       "      <td>47</td>\n",
       "      <td>1.0</td>\n",
       "    </tr>\n",
       "    <tr>\n",
       "      <th>1</th>\n",
       "      <td>E</td>\n",
       "      <td>2011</td>\n",
       "      <td>90</td>\n",
       "      <td>TERRITOIRE DE BELFORT</td>\n",
       "      <td>9015</td>\n",
       "      <td>NC</td>\n",
       "      <td>Régie municipale délectricité dArignac</td>\n",
       "      <td>0.0</td>\n",
       "      <td>0</td>\n",
       "      <td>0.0</td>\n",
       "      <td>...</td>\n",
       "      <td>1.0</td>\n",
       "      <td>304.00</td>\n",
       "      <td>27</td>\n",
       "      <td>0.5</td>\n",
       "      <td>1980.00</td>\n",
       "      <td>413</td>\n",
       "      <td>0.5</td>\n",
       "      <td>178.00</td>\n",
       "      <td>19</td>\n",
       "      <td>0.5</td>\n",
       "    </tr>\n",
       "    <tr>\n",
       "      <th>2</th>\n",
       "      <td>E</td>\n",
       "      <td>2011</td>\n",
       "      <td>90</td>\n",
       "      <td>TERRITOIRE DE BELFORT</td>\n",
       "      <td>9076</td>\n",
       "      <td>NC</td>\n",
       "      <td>Régie municipale délectricité de Saint-Quirc</td>\n",
       "      <td>13.0</td>\n",
       "      <td>2</td>\n",
       "      <td>0.5</td>\n",
       "      <td>...</td>\n",
       "      <td>0.0</td>\n",
       "      <td>24.44</td>\n",
       "      <td>10</td>\n",
       "      <td>0.5</td>\n",
       "      <td>507.74</td>\n",
       "      <td>107</td>\n",
       "      <td>0.5</td>\n",
       "      <td>7.97</td>\n",
       "      <td>1</td>\n",
       "      <td>0.5</td>\n",
       "    </tr>\n",
       "    <tr>\n",
       "      <th>3</th>\n",
       "      <td>E</td>\n",
       "      <td>2011</td>\n",
       "      <td>91</td>\n",
       "      <td>ESSONNE</td>\n",
       "      <td>9104</td>\n",
       "      <td>NC</td>\n",
       "      <td>Régie municipale délectricité de Dalou</td>\n",
       "      <td>0.0</td>\n",
       "      <td>0</td>\n",
       "      <td>0.0</td>\n",
       "      <td>...</td>\n",
       "      <td>0.0</td>\n",
       "      <td>7.00</td>\n",
       "      <td>5</td>\n",
       "      <td>1.0</td>\n",
       "      <td>1744.00</td>\n",
       "      <td>356</td>\n",
       "      <td>1.0</td>\n",
       "      <td>141.00</td>\n",
       "      <td>13</td>\n",
       "      <td>1.0</td>\n",
       "    </tr>\n",
       "    <tr>\n",
       "      <th>4</th>\n",
       "      <td>E</td>\n",
       "      <td>2011</td>\n",
       "      <td>91</td>\n",
       "      <td>ESSONNE</td>\n",
       "      <td>9139</td>\n",
       "      <td>NC</td>\n",
       "      <td>Régie municipale délectricité de lHospitalet...</td>\n",
       "      <td>0.0</td>\n",
       "      <td>0</td>\n",
       "      <td>0.0</td>\n",
       "      <td>...</td>\n",
       "      <td>0.0</td>\n",
       "      <td>419.00</td>\n",
       "      <td>35</td>\n",
       "      <td>1.0</td>\n",
       "      <td>276.00</td>\n",
       "      <td>88</td>\n",
       "      <td>1.0</td>\n",
       "      <td>239.00</td>\n",
       "      <td>27</td>\n",
       "      <td>1.0</td>\n",
       "    </tr>\n",
       "  </tbody>\n",
       "</table>\n",
       "<p>5 rows × 22 columns</p>\n",
       "</div>"
      ],
      "text/plain": [
       "  energy  year dep_code               dep_name com_code com_name  \\\n",
       "0      E  2011       61                   ORNE     6103       NC   \n",
       "1      E  2011       90  TERRITOIRE DE BELFORT     9015       NC   \n",
       "2      E  2011       90  TERRITOIRE DE BELFORT     9076       NC   \n",
       "3      E  2011       91                ESSONNE     9104       NC   \n",
       "4      E  2011       91                ESSONNE     9139       NC   \n",
       "\n",
       "                                            operator  consoa  pdla  indquala  \\\n",
       "0               Régie délectricité de Roquebillière    20.0     5       1.0   \n",
       "1           Régie municipale délectricité dArignac     0.0     0       0.0   \n",
       "2      Régie municipale délectricité de Saint-Quirc    13.0     2       0.5   \n",
       "3            Régie municipale délectricité de Dalou     0.0     0       0.0   \n",
       "4  Régie municipale délectricité de lHospitalet...     0.0     0       0.0   \n",
       "\n",
       "   ...  indquali   consot  pdlt  indqualt   consor  pdlr  indqualr  consona  \\\n",
       "0  ...       1.0  1316.00   102       1.0  4629.00  1134       1.0   770.00   \n",
       "1  ...       1.0   304.00    27       0.5  1980.00   413       0.5   178.00   \n",
       "2  ...       0.0    24.44    10       0.5   507.74   107       0.5     7.97   \n",
       "3  ...       0.0     7.00     5       1.0  1744.00   356       1.0   141.00   \n",
       "4  ...       0.0   419.00    35       1.0   276.00    88       1.0   239.00   \n",
       "\n",
       "   pdlna  indqualna  \n",
       "0     47        1.0  \n",
       "1     19        0.5  \n",
       "2      1        0.5  \n",
       "3     13        1.0  \n",
       "4     27        1.0  \n",
       "\n",
       "[5 rows x 22 columns]"
      ]
     },
     "execution_count": 52,
     "metadata": {},
     "output_type": "execute_result"
    }
   ],
   "source": [
    "df_elec_clean.head()"
   ]
  },
  {
   "cell_type": "markdown",
   "metadata": {},
   "source": [
    "## CONSOR and PDLR"
   ]
  },
  {
   "cell_type": "markdown",
   "metadata": {},
   "source": [
    "From the data presentation file, we know that some value of CONSOR and PDLR are -99 for very small area. We will replace the value -99 by 0"
   ]
  },
  {
   "cell_type": "code",
   "execution_count": 53,
   "metadata": {},
   "outputs": [
    {
     "data": {
      "text/html": [
       "<div>\n",
       "<style scoped>\n",
       "    .dataframe tbody tr th:only-of-type {\n",
       "        vertical-align: middle;\n",
       "    }\n",
       "\n",
       "    .dataframe tbody tr th {\n",
       "        vertical-align: top;\n",
       "    }\n",
       "\n",
       "    .dataframe thead th {\n",
       "        text-align: right;\n",
       "    }\n",
       "</style>\n",
       "<table border=\"1\" class=\"dataframe\">\n",
       "  <thead>\n",
       "    <tr style=\"text-align: right;\">\n",
       "      <th></th>\n",
       "      <th>energy</th>\n",
       "      <th>year</th>\n",
       "      <th>dep_code</th>\n",
       "      <th>dep_name</th>\n",
       "      <th>com_code</th>\n",
       "      <th>com_name</th>\n",
       "      <th>operator</th>\n",
       "      <th>consoa</th>\n",
       "      <th>pdla</th>\n",
       "      <th>indquala</th>\n",
       "      <th>...</th>\n",
       "      <th>indquali</th>\n",
       "      <th>consot</th>\n",
       "      <th>pdlt</th>\n",
       "      <th>indqualt</th>\n",
       "      <th>consor</th>\n",
       "      <th>pdlr</th>\n",
       "      <th>indqualr</th>\n",
       "      <th>consona</th>\n",
       "      <th>pdlna</th>\n",
       "      <th>indqualna</th>\n",
       "    </tr>\n",
       "  </thead>\n",
       "  <tbody>\n",
       "    <tr>\n",
       "      <th>660</th>\n",
       "      <td>E</td>\n",
       "      <td>2012</td>\n",
       "      <td>67</td>\n",
       "      <td>BAS-RHIN</td>\n",
       "      <td>67198</td>\n",
       "      <td>HINSBOURG</td>\n",
       "      <td>Electricité de Strasbourg</td>\n",
       "      <td>0.0</td>\n",
       "      <td>0</td>\n",
       "      <td>1.0</td>\n",
       "      <td>...</td>\n",
       "      <td>1.0</td>\n",
       "      <td>30.99</td>\n",
       "      <td>2</td>\n",
       "      <td>1.0</td>\n",
       "      <td>-99.0</td>\n",
       "      <td>-99</td>\n",
       "      <td>0.998</td>\n",
       "      <td>0.0</td>\n",
       "      <td>0</td>\n",
       "      <td>1.0</td>\n",
       "    </tr>\n",
       "    <tr>\n",
       "      <th>672</th>\n",
       "      <td>E</td>\n",
       "      <td>2012</td>\n",
       "      <td>67</td>\n",
       "      <td>BAS-RHIN</td>\n",
       "      <td>67273</td>\n",
       "      <td>LOHR</td>\n",
       "      <td>Electricité de Strasbourg</td>\n",
       "      <td>0.0</td>\n",
       "      <td>0</td>\n",
       "      <td>1.0</td>\n",
       "      <td>...</td>\n",
       "      <td>1.0</td>\n",
       "      <td>0.00</td>\n",
       "      <td>0</td>\n",
       "      <td>1.0</td>\n",
       "      <td>-99.0</td>\n",
       "      <td>-99</td>\n",
       "      <td>0.998</td>\n",
       "      <td>0.0</td>\n",
       "      <td>0</td>\n",
       "      <td>1.0</td>\n",
       "    </tr>\n",
       "    <tr>\n",
       "      <th>1326</th>\n",
       "      <td>E</td>\n",
       "      <td>2013</td>\n",
       "      <td>57</td>\n",
       "      <td>MOSELLE</td>\n",
       "      <td>57163</td>\n",
       "      <td>DABO</td>\n",
       "      <td>Electricité de Strasbourg</td>\n",
       "      <td>0.0</td>\n",
       "      <td>0</td>\n",
       "      <td>1.0</td>\n",
       "      <td>...</td>\n",
       "      <td>1.0</td>\n",
       "      <td>0.00</td>\n",
       "      <td>0</td>\n",
       "      <td>1.0</td>\n",
       "      <td>-99.0</td>\n",
       "      <td>-99</td>\n",
       "      <td>0.998</td>\n",
       "      <td>0.0</td>\n",
       "      <td>0</td>\n",
       "      <td>1.0</td>\n",
       "    </tr>\n",
       "    <tr>\n",
       "      <th>1492</th>\n",
       "      <td>E</td>\n",
       "      <td>2013</td>\n",
       "      <td>67</td>\n",
       "      <td>BAS-RHIN</td>\n",
       "      <td>67225</td>\n",
       "      <td>ISSENHAUSEN</td>\n",
       "      <td>Electricité de Strasbourg</td>\n",
       "      <td>0.0</td>\n",
       "      <td>0</td>\n",
       "      <td>1.0</td>\n",
       "      <td>...</td>\n",
       "      <td>1.0</td>\n",
       "      <td>0.00</td>\n",
       "      <td>0</td>\n",
       "      <td>1.0</td>\n",
       "      <td>-99.0</td>\n",
       "      <td>-99</td>\n",
       "      <td>0.998</td>\n",
       "      <td>0.0</td>\n",
       "      <td>0</td>\n",
       "      <td>1.0</td>\n",
       "    </tr>\n",
       "    <tr>\n",
       "      <th>1530</th>\n",
       "      <td>E</td>\n",
       "      <td>2013</td>\n",
       "      <td>67</td>\n",
       "      <td>BAS-RHIN</td>\n",
       "      <td>67273</td>\n",
       "      <td>LOHR</td>\n",
       "      <td>Electricité de Strasbourg</td>\n",
       "      <td>0.0</td>\n",
       "      <td>0</td>\n",
       "      <td>1.0</td>\n",
       "      <td>...</td>\n",
       "      <td>1.0</td>\n",
       "      <td>0.00</td>\n",
       "      <td>0</td>\n",
       "      <td>1.0</td>\n",
       "      <td>-99.0</td>\n",
       "      <td>-99</td>\n",
       "      <td>0.998</td>\n",
       "      <td>0.0</td>\n",
       "      <td>0</td>\n",
       "      <td>1.0</td>\n",
       "    </tr>\n",
       "    <tr>\n",
       "      <th>...</th>\n",
       "      <td>...</td>\n",
       "      <td>...</td>\n",
       "      <td>...</td>\n",
       "      <td>...</td>\n",
       "      <td>...</td>\n",
       "      <td>...</td>\n",
       "      <td>...</td>\n",
       "      <td>...</td>\n",
       "      <td>...</td>\n",
       "      <td>...</td>\n",
       "      <td>...</td>\n",
       "      <td>...</td>\n",
       "      <td>...</td>\n",
       "      <td>...</td>\n",
       "      <td>...</td>\n",
       "      <td>...</td>\n",
       "      <td>...</td>\n",
       "      <td>...</td>\n",
       "      <td>...</td>\n",
       "      <td>...</td>\n",
       "      <td>...</td>\n",
       "    </tr>\n",
       "    <tr>\n",
       "      <th>10571</th>\n",
       "      <td>E</td>\n",
       "      <td>2017</td>\n",
       "      <td>78</td>\n",
       "      <td>YVELINES</td>\n",
       "      <td>78048</td>\n",
       "      <td>BAZAINVILLE</td>\n",
       "      <td>SICAE dEure-et-Loir et des Yvelines</td>\n",
       "      <td>0.0</td>\n",
       "      <td>0</td>\n",
       "      <td>1.0</td>\n",
       "      <td>...</td>\n",
       "      <td>1.0</td>\n",
       "      <td>0.00</td>\n",
       "      <td>0</td>\n",
       "      <td>1.0</td>\n",
       "      <td>-99.0</td>\n",
       "      <td>-99</td>\n",
       "      <td>1.000</td>\n",
       "      <td>0.0</td>\n",
       "      <td>0</td>\n",
       "      <td>1.0</td>\n",
       "    </tr>\n",
       "    <tr>\n",
       "      <th>10579</th>\n",
       "      <td>E</td>\n",
       "      <td>2017</td>\n",
       "      <td>78</td>\n",
       "      <td>YVELINES</td>\n",
       "      <td>78285</td>\n",
       "      <td>GRESSEY</td>\n",
       "      <td>SICAE dEure-et-Loir et des Yvelines</td>\n",
       "      <td>0.0</td>\n",
       "      <td>0</td>\n",
       "      <td>1.0</td>\n",
       "      <td>...</td>\n",
       "      <td>1.0</td>\n",
       "      <td>0.00</td>\n",
       "      <td>0</td>\n",
       "      <td>1.0</td>\n",
       "      <td>-99.0</td>\n",
       "      <td>-99</td>\n",
       "      <td>1.000</td>\n",
       "      <td>0.0</td>\n",
       "      <td>0</td>\n",
       "      <td>1.0</td>\n",
       "    </tr>\n",
       "    <tr>\n",
       "      <th>10599</th>\n",
       "      <td>E</td>\n",
       "      <td>2017</td>\n",
       "      <td>80</td>\n",
       "      <td>SOMME</td>\n",
       "      <td>80027</td>\n",
       "      <td>ARMANCOURT</td>\n",
       "      <td>SICAE de la Somme et du Cambraisis</td>\n",
       "      <td>0.0</td>\n",
       "      <td>0</td>\n",
       "      <td>1.0</td>\n",
       "      <td>...</td>\n",
       "      <td>1.0</td>\n",
       "      <td>0.00</td>\n",
       "      <td>0</td>\n",
       "      <td>1.0</td>\n",
       "      <td>-99.0</td>\n",
       "      <td>-99</td>\n",
       "      <td>0.610</td>\n",
       "      <td>0.0</td>\n",
       "      <td>0</td>\n",
       "      <td>0.0</td>\n",
       "    </tr>\n",
       "    <tr>\n",
       "      <th>10658</th>\n",
       "      <td>E</td>\n",
       "      <td>2017</td>\n",
       "      <td>80</td>\n",
       "      <td>SOMME</td>\n",
       "      <td>80284</td>\n",
       "      <td>ESMERY HALLON</td>\n",
       "      <td>SER des cantons de Lassigny et Limitrophes</td>\n",
       "      <td>27.0</td>\n",
       "      <td>1</td>\n",
       "      <td>1.0</td>\n",
       "      <td>...</td>\n",
       "      <td>0.0</td>\n",
       "      <td>0.00</td>\n",
       "      <td>0</td>\n",
       "      <td>0.0</td>\n",
       "      <td>-99.0</td>\n",
       "      <td>-99</td>\n",
       "      <td>1.000</td>\n",
       "      <td>0.0</td>\n",
       "      <td>0</td>\n",
       "      <td>0.0</td>\n",
       "    </tr>\n",
       "    <tr>\n",
       "      <th>10698</th>\n",
       "      <td>E</td>\n",
       "      <td>2017</td>\n",
       "      <td>80</td>\n",
       "      <td>SOMME</td>\n",
       "      <td>80433</td>\n",
       "      <td>HERLY</td>\n",
       "      <td>SICAE de la Somme et du Cambraisis</td>\n",
       "      <td>0.0</td>\n",
       "      <td>0</td>\n",
       "      <td>1.0</td>\n",
       "      <td>...</td>\n",
       "      <td>1.0</td>\n",
       "      <td>0.00</td>\n",
       "      <td>0</td>\n",
       "      <td>1.0</td>\n",
       "      <td>-99.0</td>\n",
       "      <td>-99</td>\n",
       "      <td>0.680</td>\n",
       "      <td>0.0</td>\n",
       "      <td>0</td>\n",
       "      <td>0.0</td>\n",
       "    </tr>\n",
       "  </tbody>\n",
       "</table>\n",
       "<p>147 rows × 22 columns</p>\n",
       "</div>"
      ],
      "text/plain": [
       "      energy  year dep_code  dep_name com_code       com_name  \\\n",
       "660        E  2012       67  BAS-RHIN    67198      HINSBOURG   \n",
       "672        E  2012       67  BAS-RHIN    67273           LOHR   \n",
       "1326       E  2013       57   MOSELLE    57163           DABO   \n",
       "1492       E  2013       67  BAS-RHIN    67225    ISSENHAUSEN   \n",
       "1530       E  2013       67  BAS-RHIN    67273           LOHR   \n",
       "...      ...   ...      ...       ...      ...            ...   \n",
       "10571      E  2017       78  YVELINES    78048    BAZAINVILLE   \n",
       "10579      E  2017       78  YVELINES    78285        GRESSEY   \n",
       "10599      E  2017       80     SOMME    80027     ARMANCOURT   \n",
       "10658      E  2017       80     SOMME    80284  ESMERY HALLON   \n",
       "10698      E  2017       80     SOMME    80433          HERLY   \n",
       "\n",
       "                                         operator  consoa  pdla  indquala  \\\n",
       "660                     Electricité de Strasbourg     0.0     0       1.0   \n",
       "672                     Electricité de Strasbourg     0.0     0       1.0   \n",
       "1326                    Electricité de Strasbourg     0.0     0       1.0   \n",
       "1492                    Electricité de Strasbourg     0.0     0       1.0   \n",
       "1530                    Electricité de Strasbourg     0.0     0       1.0   \n",
       "...                                           ...     ...   ...       ...   \n",
       "10571        SICAE dEure-et-Loir et des Yvelines     0.0     0       1.0   \n",
       "10579        SICAE dEure-et-Loir et des Yvelines     0.0     0       1.0   \n",
       "10599          SICAE de la Somme et du Cambraisis     0.0     0       1.0   \n",
       "10658  SER des cantons de Lassigny et Limitrophes    27.0     1       1.0   \n",
       "10698          SICAE de la Somme et du Cambraisis     0.0     0       1.0   \n",
       "\n",
       "       ...  indquali  consot  pdlt  indqualt  consor  pdlr  indqualr  consona  \\\n",
       "660    ...       1.0   30.99     2       1.0   -99.0   -99     0.998      0.0   \n",
       "672    ...       1.0    0.00     0       1.0   -99.0   -99     0.998      0.0   \n",
       "1326   ...       1.0    0.00     0       1.0   -99.0   -99     0.998      0.0   \n",
       "1492   ...       1.0    0.00     0       1.0   -99.0   -99     0.998      0.0   \n",
       "1530   ...       1.0    0.00     0       1.0   -99.0   -99     0.998      0.0   \n",
       "...    ...       ...     ...   ...       ...     ...   ...       ...      ...   \n",
       "10571  ...       1.0    0.00     0       1.0   -99.0   -99     1.000      0.0   \n",
       "10579  ...       1.0    0.00     0       1.0   -99.0   -99     1.000      0.0   \n",
       "10599  ...       1.0    0.00     0       1.0   -99.0   -99     0.610      0.0   \n",
       "10658  ...       0.0    0.00     0       0.0   -99.0   -99     1.000      0.0   \n",
       "10698  ...       1.0    0.00     0       1.0   -99.0   -99     0.680      0.0   \n",
       "\n",
       "       pdlna  indqualna  \n",
       "660        0        1.0  \n",
       "672        0        1.0  \n",
       "1326       0        1.0  \n",
       "1492       0        1.0  \n",
       "1530       0        1.0  \n",
       "...      ...        ...  \n",
       "10571      0        1.0  \n",
       "10579      0        1.0  \n",
       "10599      0        0.0  \n",
       "10658      0        0.0  \n",
       "10698      0        0.0  \n",
       "\n",
       "[147 rows x 22 columns]"
      ]
     },
     "execution_count": 53,
     "metadata": {},
     "output_type": "execute_result"
    }
   ],
   "source": [
    "df_elec_clean.loc[df_elec_clean['consor']==-99]"
   ]
  },
  {
   "cell_type": "code",
   "execution_count": 54,
   "metadata": {},
   "outputs": [],
   "source": [
    "df_elec_clean['consor']=np.where(df_elec_clean['consor']==-99, 0, df_elec_clean['consor'])"
   ]
  },
  {
   "cell_type": "code",
   "execution_count": 55,
   "metadata": {},
   "outputs": [],
   "source": [
    "df_elec_clean['pdlr']=np.where(df_elec_clean['pdlr']==-99, 0, df_elec_clean['consor'])"
   ]
  },
  {
   "cell_type": "markdown",
   "metadata": {},
   "source": [
    "# Dataframe manipulation"
   ]
  },
  {
   "cell_type": "markdown",
   "metadata": {},
   "source": [
    "We will first create dataframes to identify the total year consumptions per sector, year (without operator information)"
   ]
  },
  {
   "cell_type": "markdown",
   "metadata": {},
   "source": [
    "## Energy consumption per year and sector dataframe "
   ]
  },
  {
   "cell_type": "code",
   "execution_count": 56,
   "metadata": {},
   "outputs": [],
   "source": [
    "# Create a copy of the original df\n",
    "df_econso=df_elec_clean.copy()"
   ]
  },
  {
   "cell_type": "code",
   "execution_count": 57,
   "metadata": {},
   "outputs": [
    {
     "data": {
      "text/plain": [
       "Index(['energy', 'year', 'dep_code', 'dep_name', 'com_code', 'com_name',\n",
       "       'operator', 'consoa', 'pdla', 'indquala', 'consoi', 'pdli', 'indquali',\n",
       "       'consot', 'pdlt', 'indqualt', 'consor', 'pdlr', 'indqualr', 'consona',\n",
       "       'pdlna', 'indqualna'],\n",
       "      dtype='object')"
      ]
     },
     "execution_count": 57,
     "metadata": {},
     "output_type": "execute_result"
    }
   ],
   "source": [
    "df_econso.columns"
   ]
  },
  {
   "cell_type": "markdown",
   "metadata": {},
   "source": [
    "As we don't care about the operator information in this dataframe, we will drop this column"
   ]
  },
  {
   "cell_type": "code",
   "execution_count": 58,
   "metadata": {},
   "outputs": [],
   "source": [
    "df_econso.drop('operator', axis=1, inplace=True)"
   ]
  },
  {
   "cell_type": "markdown",
   "metadata": {},
   "source": [
    "As the colums starting with INDQUAL corresponds to a percentage for each operator and we don't want to have information about the operator, we will drop those columns"
   ]
  },
  {
   "cell_type": "code",
   "execution_count": 59,
   "metadata": {},
   "outputs": [],
   "source": [
    "df_econso.drop(['indquala','indquali','indqualt','indqualr','indqualna'], axis=1, inplace=True)"
   ]
  },
  {
   "cell_type": "markdown",
   "metadata": {},
   "source": [
    "### Commune level"
   ]
  },
  {
   "cell_type": "markdown",
   "metadata": {},
   "source": [
    "We group by year, per commune and aggregate by the sum of consumption"
   ]
  },
  {
   "cell_type": "code",
   "execution_count": 60,
   "metadata": {},
   "outputs": [],
   "source": [
    "df_econso_com=df_econso.groupby(['year','dep_code','dep_name','com_code','com_name']).agg({'consoa':'sum',\n",
    "                                                                                    'pdla':'sum',\n",
    "                                                                                    'consoi':'sum',\n",
    "                                                                                    'pdli':'sum',\n",
    "                                                                                    'consot':'sum',\n",
    "                                                                                    'pdlt':'sum',\n",
    "                                                                                    'consor':'sum',\n",
    "                                                                                    'pdlr':'sum',\n",
    "                                                                                    'consona':'sum',\n",
    "                                                                                    'pdlna':'sum'}).reset_index()"
   ]
  },
  {
   "cell_type": "code",
   "execution_count": 61,
   "metadata": {},
   "outputs": [
    {
     "data": {
      "text/html": [
       "<div>\n",
       "<style scoped>\n",
       "    .dataframe tbody tr th:only-of-type {\n",
       "        vertical-align: middle;\n",
       "    }\n",
       "\n",
       "    .dataframe tbody tr th {\n",
       "        vertical-align: top;\n",
       "    }\n",
       "\n",
       "    .dataframe thead th {\n",
       "        text-align: right;\n",
       "    }\n",
       "</style>\n",
       "<table border=\"1\" class=\"dataframe\">\n",
       "  <thead>\n",
       "    <tr style=\"text-align: right;\">\n",
       "      <th></th>\n",
       "      <th>year</th>\n",
       "      <th>dep_code</th>\n",
       "      <th>dep_name</th>\n",
       "      <th>com_code</th>\n",
       "      <th>com_name</th>\n",
       "      <th>consoa</th>\n",
       "      <th>pdla</th>\n",
       "      <th>consoi</th>\n",
       "      <th>pdli</th>\n",
       "      <th>consot</th>\n",
       "      <th>pdlt</th>\n",
       "      <th>consor</th>\n",
       "      <th>pdlr</th>\n",
       "      <th>consona</th>\n",
       "      <th>pdlna</th>\n",
       "    </tr>\n",
       "  </thead>\n",
       "  <tbody>\n",
       "    <tr>\n",
       "      <th>0</th>\n",
       "      <td>2011</td>\n",
       "      <td>11</td>\n",
       "      <td>AUDE</td>\n",
       "      <td>11304</td>\n",
       "      <td>QUILLAN</td>\n",
       "      <td>0.0</td>\n",
       "      <td>0</td>\n",
       "      <td>3796.65</td>\n",
       "      <td>13</td>\n",
       "      <td>1895.12</td>\n",
       "      <td>25</td>\n",
       "      <td>12195.27</td>\n",
       "      <td>12195.27</td>\n",
       "      <td>0.00</td>\n",
       "      <td>0</td>\n",
       "    </tr>\n",
       "    <tr>\n",
       "      <th>1</th>\n",
       "      <td>2011</td>\n",
       "      <td>31</td>\n",
       "      <td>HAUTE-GARONNE</td>\n",
       "      <td>31135</td>\n",
       "      <td>CAZERES</td>\n",
       "      <td>0.0</td>\n",
       "      <td>0</td>\n",
       "      <td>0.00</td>\n",
       "      <td>0</td>\n",
       "      <td>0.00</td>\n",
       "      <td>0</td>\n",
       "      <td>13497.00</td>\n",
       "      <td>13497.00</td>\n",
       "      <td>7925.00</td>\n",
       "      <td>417</td>\n",
       "    </tr>\n",
       "    <tr>\n",
       "      <th>2</th>\n",
       "      <td>2011</td>\n",
       "      <td>31</td>\n",
       "      <td>HAUTE-GARONNE</td>\n",
       "      <td>31324</td>\n",
       "      <td>MARTRES TOLOSANE</td>\n",
       "      <td>0.0</td>\n",
       "      <td>0</td>\n",
       "      <td>0.00</td>\n",
       "      <td>0</td>\n",
       "      <td>0.00</td>\n",
       "      <td>0</td>\n",
       "      <td>6140.00</td>\n",
       "      <td>6140.00</td>\n",
       "      <td>3755.00</td>\n",
       "      <td>210</td>\n",
       "    </tr>\n",
       "    <tr>\n",
       "      <th>3</th>\n",
       "      <td>2011</td>\n",
       "      <td>31</td>\n",
       "      <td>HAUTE-GARONNE</td>\n",
       "      <td>31344</td>\n",
       "      <td>MIRAMONT DE COMMINGES</td>\n",
       "      <td>0.0</td>\n",
       "      <td>0</td>\n",
       "      <td>0.00</td>\n",
       "      <td>0</td>\n",
       "      <td>0.00</td>\n",
       "      <td>0</td>\n",
       "      <td>2490.00</td>\n",
       "      <td>2490.00</td>\n",
       "      <td>0.00</td>\n",
       "      <td>0</td>\n",
       "    </tr>\n",
       "    <tr>\n",
       "      <th>4</th>\n",
       "      <td>2011</td>\n",
       "      <td>33</td>\n",
       "      <td>GIRONDE</td>\n",
       "      <td>33352</td>\n",
       "      <td>REOLE</td>\n",
       "      <td>17.3</td>\n",
       "      <td>2</td>\n",
       "      <td>1652.17</td>\n",
       "      <td>27</td>\n",
       "      <td>2095.92</td>\n",
       "      <td>112</td>\n",
       "      <td>4735.83</td>\n",
       "      <td>4735.83</td>\n",
       "      <td>23.05</td>\n",
       "      <td>5</td>\n",
       "    </tr>\n",
       "  </tbody>\n",
       "</table>\n",
       "</div>"
      ],
      "text/plain": [
       "   year dep_code       dep_name com_code               com_name  consoa  pdla  \\\n",
       "0  2011       11           AUDE    11304                QUILLAN     0.0     0   \n",
       "1  2011       31  HAUTE-GARONNE    31135                CAZERES     0.0     0   \n",
       "2  2011       31  HAUTE-GARONNE    31324       MARTRES TOLOSANE     0.0     0   \n",
       "3  2011       31  HAUTE-GARONNE    31344  MIRAMONT DE COMMINGES     0.0     0   \n",
       "4  2011       33        GIRONDE    33352                  REOLE    17.3     2   \n",
       "\n",
       "    consoi  pdli   consot  pdlt    consor      pdlr  consona  pdlna  \n",
       "0  3796.65    13  1895.12    25  12195.27  12195.27     0.00      0  \n",
       "1     0.00     0     0.00     0  13497.00  13497.00  7925.00    417  \n",
       "2     0.00     0     0.00     0   6140.00   6140.00  3755.00    210  \n",
       "3     0.00     0     0.00     0   2490.00   2490.00     0.00      0  \n",
       "4  1652.17    27  2095.92   112   4735.83   4735.83    23.05      5  "
      ]
     },
     "execution_count": 61,
     "metadata": {},
     "output_type": "execute_result"
    }
   ],
   "source": [
    "df_econso_com.head()"
   ]
  },
  {
   "cell_type": "code",
   "execution_count": 62,
   "metadata": {},
   "outputs": [],
   "source": [
    "# Export the df in csv\n",
    "df_econso_com.to_csv('df_econso_com.to_csv', sep='/', index=False)"
   ]
  },
  {
   "cell_type": "markdown",
   "metadata": {},
   "source": [
    "### Department level"
   ]
  },
  {
   "cell_type": "markdown",
   "metadata": {},
   "source": [
    "We group by year, per department and aggregate by the sum of consumption"
   ]
  },
  {
   "cell_type": "code",
   "execution_count": 63,
   "metadata": {},
   "outputs": [],
   "source": [
    "df_econso_dep=df_econso.groupby(['year','dep_code','dep_name']).agg({'consoa':'sum',\n",
    "                                                                                    'pdla':'sum',\n",
    "                                                                                    'consoi':'sum',\n",
    "                                                                                    'pdli':'sum',\n",
    "                                                                                    'consot':'sum',\n",
    "                                                                                    'pdlt':'sum',\n",
    "                                                                                    'consor':'sum',\n",
    "                                                                                    'pdlr':'sum',\n",
    "                                                                                    'consona':'sum',\n",
    "                                                                                    'pdlna':'sum'}).reset_index()"
   ]
  },
  {
   "cell_type": "code",
   "execution_count": 64,
   "metadata": {},
   "outputs": [
    {
     "data": {
      "text/html": [
       "<div>\n",
       "<style scoped>\n",
       "    .dataframe tbody tr th:only-of-type {\n",
       "        vertical-align: middle;\n",
       "    }\n",
       "\n",
       "    .dataframe tbody tr th {\n",
       "        vertical-align: top;\n",
       "    }\n",
       "\n",
       "    .dataframe thead th {\n",
       "        text-align: right;\n",
       "    }\n",
       "</style>\n",
       "<table border=\"1\" class=\"dataframe\">\n",
       "  <thead>\n",
       "    <tr style=\"text-align: right;\">\n",
       "      <th></th>\n",
       "      <th>year</th>\n",
       "      <th>dep_code</th>\n",
       "      <th>dep_name</th>\n",
       "      <th>consoa</th>\n",
       "      <th>pdla</th>\n",
       "      <th>consoi</th>\n",
       "      <th>pdli</th>\n",
       "      <th>consot</th>\n",
       "      <th>pdlt</th>\n",
       "      <th>consor</th>\n",
       "      <th>pdlr</th>\n",
       "      <th>consona</th>\n",
       "      <th>pdlna</th>\n",
       "    </tr>\n",
       "  </thead>\n",
       "  <tbody>\n",
       "    <tr>\n",
       "      <th>0</th>\n",
       "      <td>2011</td>\n",
       "      <td>11</td>\n",
       "      <td>AUDE</td>\n",
       "      <td>0.00</td>\n",
       "      <td>0</td>\n",
       "      <td>3796.65</td>\n",
       "      <td>13</td>\n",
       "      <td>1895.12</td>\n",
       "      <td>25</td>\n",
       "      <td>12195.27</td>\n",
       "      <td>12195.27</td>\n",
       "      <td>0.00</td>\n",
       "      <td>0</td>\n",
       "    </tr>\n",
       "    <tr>\n",
       "      <th>1</th>\n",
       "      <td>2011</td>\n",
       "      <td>31</td>\n",
       "      <td>HAUTE-GARONNE</td>\n",
       "      <td>0.00</td>\n",
       "      <td>0</td>\n",
       "      <td>0.00</td>\n",
       "      <td>0</td>\n",
       "      <td>0.00</td>\n",
       "      <td>0</td>\n",
       "      <td>22127.00</td>\n",
       "      <td>22127.00</td>\n",
       "      <td>11680.00</td>\n",
       "      <td>627</td>\n",
       "    </tr>\n",
       "    <tr>\n",
       "      <th>2</th>\n",
       "      <td>2011</td>\n",
       "      <td>33</td>\n",
       "      <td>GIRONDE</td>\n",
       "      <td>17.30</td>\n",
       "      <td>2</td>\n",
       "      <td>1652.17</td>\n",
       "      <td>27</td>\n",
       "      <td>2095.92</td>\n",
       "      <td>112</td>\n",
       "      <td>4735.83</td>\n",
       "      <td>4735.83</td>\n",
       "      <td>23.05</td>\n",
       "      <td>5</td>\n",
       "    </tr>\n",
       "    <tr>\n",
       "      <th>3</th>\n",
       "      <td>2011</td>\n",
       "      <td>34</td>\n",
       "      <td>HÉRAULT</td>\n",
       "      <td>1414.68</td>\n",
       "      <td>22</td>\n",
       "      <td>18784.01</td>\n",
       "      <td>72</td>\n",
       "      <td>66505.25</td>\n",
       "      <td>420</td>\n",
       "      <td>271952.67</td>\n",
       "      <td>271952.67</td>\n",
       "      <td>1393.39</td>\n",
       "      <td>83</td>\n",
       "    </tr>\n",
       "    <tr>\n",
       "      <th>4</th>\n",
       "      <td>2011</td>\n",
       "      <td>38</td>\n",
       "      <td>ISÈRE</td>\n",
       "      <td>0.00</td>\n",
       "      <td>0</td>\n",
       "      <td>27698.00</td>\n",
       "      <td>20</td>\n",
       "      <td>47855.00</td>\n",
       "      <td>1950</td>\n",
       "      <td>85835.00</td>\n",
       "      <td>85835.00</td>\n",
       "      <td>0.00</td>\n",
       "      <td>0</td>\n",
       "    </tr>\n",
       "  </tbody>\n",
       "</table>\n",
       "</div>"
      ],
      "text/plain": [
       "   year dep_code       dep_name   consoa  pdla    consoi  pdli    consot  \\\n",
       "0  2011       11           AUDE     0.00     0   3796.65    13   1895.12   \n",
       "1  2011       31  HAUTE-GARONNE     0.00     0      0.00     0      0.00   \n",
       "2  2011       33        GIRONDE    17.30     2   1652.17    27   2095.92   \n",
       "3  2011       34        HÉRAULT  1414.68    22  18784.01    72  66505.25   \n",
       "4  2011       38          ISÈRE     0.00     0  27698.00    20  47855.00   \n",
       "\n",
       "   pdlt     consor       pdlr   consona  pdlna  \n",
       "0    25   12195.27   12195.27      0.00      0  \n",
       "1     0   22127.00   22127.00  11680.00    627  \n",
       "2   112    4735.83    4735.83     23.05      5  \n",
       "3   420  271952.67  271952.67   1393.39     83  \n",
       "4  1950   85835.00   85835.00      0.00      0  "
      ]
     },
     "execution_count": 64,
     "metadata": {},
     "output_type": "execute_result"
    }
   ],
   "source": [
    "df_econso_dep.head()"
   ]
  },
  {
   "cell_type": "code",
   "execution_count": 65,
   "metadata": {},
   "outputs": [],
   "source": [
    "# Export the df in csv\n",
    "df_econso_dep.to_csv('df_econso_dep.to_csv', sep='/', index=False)"
   ]
  },
  {
   "cell_type": "code",
   "execution_count": null,
   "metadata": {},
   "outputs": [],
   "source": []
  }
 ],
 "metadata": {
  "kernelspec": {
   "display_name": "Python 3",
   "language": "python",
   "name": "python3"
  },
  "language_info": {
   "codemirror_mode": {
    "name": "ipython",
    "version": 3
   },
   "file_extension": ".py",
   "mimetype": "text/x-python",
   "name": "python",
   "nbconvert_exporter": "python",
   "pygments_lexer": "ipython3",
   "version": "3.8.5"
  },
  "toc": {
   "base_numbering": 1,
   "nav_menu": {},
   "number_sections": true,
   "sideBar": true,
   "skip_h1_title": false,
   "title_cell": "Table of Contents",
   "title_sidebar": "Contents",
   "toc_cell": false,
   "toc_position": {},
   "toc_section_display": true,
   "toc_window_display": false
  }
 },
 "nbformat": 4,
 "nbformat_minor": 4
}
