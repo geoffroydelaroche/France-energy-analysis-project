{
 "cells": [
  {
   "cell_type": "markdown",
   "metadata": {},
   "source": [
    "# Import the libraries"
   ]
  },
  {
   "cell_type": "code",
   "execution_count": 2,
   "metadata": {},
   "outputs": [],
   "source": [
    "import pandas as pd\n",
    "import numpy as np"
   ]
  },
  {
   "cell_type": "markdown",
   "metadata": {},
   "source": [
    "# Communes"
   ]
  },
  {
   "cell_type": "code",
   "execution_count": 2,
   "metadata": {},
   "outputs": [],
   "source": [
    "# Get the data\n",
    "df_com_2020=pd.read_csv('/Users/Jeff/Downloads/communes2020 3.csv')"
   ]
  },
  {
   "cell_type": "code",
   "execution_count": 3,
   "metadata": {},
   "outputs": [
    {
     "data": {
      "text/plain": [
       "typecom          0\n",
       "com              0\n",
       "reg           2888\n",
       "dep           2888\n",
       "arr           2905\n",
       "tncc             0\n",
       "ncc              0\n",
       "nccenr           0\n",
       "libelle          0\n",
       "can           3033\n",
       "comparent    34968\n",
       "dtype: int64"
      ]
     },
     "execution_count": 3,
     "metadata": {},
     "output_type": "execute_result"
    }
   ],
   "source": [
    "df_com_2020.isna().sum()"
   ]
  },
  {
   "cell_type": "code",
   "execution_count": 4,
   "metadata": {},
   "outputs": [],
   "source": [
    "# Only keep the column we are interested in (Code and Name)\n",
    "com_20=df_com_2020[['com','reg','ncc']]"
   ]
  },
  {
   "cell_type": "code",
   "execution_count": 5,
   "metadata": {},
   "outputs": [],
   "source": [
    "# Rename the column to have the same format of the main dataframes\n",
    "com_20.columns=['CODE','REG','NOM']"
   ]
  },
  {
   "cell_type": "code",
   "execution_count": 6,
   "metadata": {},
   "outputs": [],
   "source": [
    "# Drop duplicates from the column CODE\n",
    "comm_20 = com_20.drop_duplicates(subset='CODE')"
   ]
  },
  {
   "cell_type": "markdown",
   "metadata": {},
   "source": [
    "As we don't have enough information using the 2020 database, we will also import 2019 commune database and concatenate the dataframes"
   ]
  },
  {
   "cell_type": "code",
   "execution_count": 7,
   "metadata": {},
   "outputs": [],
   "source": [
    "# Get the data\n",
    "df_com_2019=pd.read_csv('/Users/Jeff/Downloads/communes-01012019.csv')"
   ]
  },
  {
   "cell_type": "code",
   "execution_count": 8,
   "metadata": {},
   "outputs": [],
   "source": [
    "# Only keep the column we are interested in (Code and Name)\n",
    "com_19=df_com_2019[['com','reg','ncc']]"
   ]
  },
  {
   "cell_type": "code",
   "execution_count": 9,
   "metadata": {},
   "outputs": [],
   "source": [
    "# Rename the column to have the same format of the main dataframes\n",
    "com_19.columns=['CODE','REG','NOM']"
   ]
  },
  {
   "cell_type": "code",
   "execution_count": 10,
   "metadata": {},
   "outputs": [],
   "source": [
    "# Drop duplicates from the column CODE\n",
    "comm_19 = com_19.drop_duplicates(subset='CODE')"
   ]
  },
  {
   "cell_type": "markdown",
   "metadata": {},
   "source": [
    "Now we need to concatenate 2020 and 2019 dataframes"
   ]
  },
  {
   "cell_type": "code",
   "execution_count": 11,
   "metadata": {},
   "outputs": [],
   "source": [
    "# Create a variable that will contain the dataframes we need to concatenate\n",
    "frames=[comm_19, comm_20]"
   ]
  },
  {
   "cell_type": "code",
   "execution_count": 12,
   "metadata": {},
   "outputs": [],
   "source": [
    "# Concatenate the dataframes\n",
    "com=pd.concat(frames)"
   ]
  },
  {
   "cell_type": "code",
   "execution_count": 13,
   "metadata": {},
   "outputs": [],
   "source": [
    "# Drop duplicates from the column CODE\n",
    "comm = com.drop_duplicates(subset='CODE')"
   ]
  },
  {
   "cell_type": "code",
   "execution_count": 14,
   "metadata": {},
   "outputs": [
    {
     "name": "stderr",
     "output_type": "stream",
     "text": [
      "/usr/local/Cellar/jupyterlab/2.2.0/libexec/lib/python3.8/site-packages/pandas/core/series.py:4517: SettingWithCopyWarning: \n",
      "A value is trying to be set on a copy of a slice from a DataFrame\n",
      "\n",
      "See the caveats in the documentation: https://pandas.pydata.org/pandas-docs/stable/user_guide/indexing.html#returning-a-view-versus-a-copy\n",
      "  return super().fillna(\n"
     ]
    }
   ],
   "source": [
    "comm.REG.fillna(0, inplace=True)"
   ]
  },
  {
   "cell_type": "code",
   "execution_count": 15,
   "metadata": {},
   "outputs": [
    {
     "name": "stderr",
     "output_type": "stream",
     "text": [
      "/usr/local/Cellar/jupyterlab/2.2.0/libexec/lib/python3.8/site-packages/pandas/core/generic.py:5159: SettingWithCopyWarning: \n",
      "A value is trying to be set on a copy of a slice from a DataFrame.\n",
      "Try using .loc[row_indexer,col_indexer] = value instead\n",
      "\n",
      "See the caveats in the documentation: https://pandas.pydata.org/pandas-docs/stable/user_guide/indexing.html#returning-a-view-versus-a-copy\n",
      "  self[name] = value\n"
     ]
    }
   ],
   "source": [
    "comm.REG=comm.REG.astype(int)"
   ]
  },
  {
   "cell_type": "code",
   "execution_count": 16,
   "metadata": {},
   "outputs": [],
   "source": [
    "comm.REG=comm.REG.apply(lambda x: str(x))"
   ]
  },
  {
   "cell_type": "code",
   "execution_count": 17,
   "metadata": {},
   "outputs": [
    {
     "name": "stdout",
     "output_type": "stream",
     "text": [
      "<class 'pandas.core.frame.DataFrame'>\n",
      "Int64Index: 37255 entries, 0 to 20765\n",
      "Data columns (total 3 columns):\n",
      " #   Column  Non-Null Count  Dtype \n",
      "---  ------  --------------  ----- \n",
      " 0   CODE    37255 non-null  object\n",
      " 1   REG     37255 non-null  object\n",
      " 2   NOM     37255 non-null  object\n",
      "dtypes: object(3)\n",
      "memory usage: 1.1+ MB\n"
     ]
    }
   ],
   "source": [
    "comm.info()"
   ]
  },
  {
   "cell_type": "code",
   "execution_count": 18,
   "metadata": {},
   "outputs": [],
   "source": [
    "# Export the dataframe into csv\n",
    "comm.to_csv('df_com.csv', sep='/', index=False)"
   ]
  },
  {
   "cell_type": "markdown",
   "metadata": {},
   "source": [
    "# Departement"
   ]
  },
  {
   "cell_type": "code",
   "execution_count": 19,
   "metadata": {},
   "outputs": [],
   "source": [
    "# Get the data\n",
    "df_dep=pd.read_csv('/Users/Jeff/Downloads/departement.csv')"
   ]
  },
  {
   "cell_type": "code",
   "execution_count": 20,
   "metadata": {},
   "outputs": [
    {
     "data": {
      "text/html": [
       "<div>\n",
       "<style scoped>\n",
       "    .dataframe tbody tr th:only-of-type {\n",
       "        vertical-align: middle;\n",
       "    }\n",
       "\n",
       "    .dataframe tbody tr th {\n",
       "        vertical-align: top;\n",
       "    }\n",
       "\n",
       "    .dataframe thead th {\n",
       "        text-align: right;\n",
       "    }\n",
       "</style>\n",
       "<table border=\"1\" class=\"dataframe\">\n",
       "  <thead>\n",
       "    <tr style=\"text-align: right;\">\n",
       "      <th></th>\n",
       "      <th>1</th>\n",
       "      <th>01</th>\n",
       "      <th>Ain</th>\n",
       "      <th>AIN</th>\n",
       "      <th>ain</th>\n",
       "      <th>A500</th>\n",
       "    </tr>\n",
       "  </thead>\n",
       "  <tbody>\n",
       "    <tr>\n",
       "      <th>0</th>\n",
       "      <td>2</td>\n",
       "      <td>02</td>\n",
       "      <td>Aisne</td>\n",
       "      <td>AISNE</td>\n",
       "      <td>aisne</td>\n",
       "      <td>A250</td>\n",
       "    </tr>\n",
       "    <tr>\n",
       "      <th>1</th>\n",
       "      <td>3</td>\n",
       "      <td>03</td>\n",
       "      <td>Allier</td>\n",
       "      <td>ALLIER</td>\n",
       "      <td>allier</td>\n",
       "      <td>A460</td>\n",
       "    </tr>\n",
       "    <tr>\n",
       "      <th>2</th>\n",
       "      <td>5</td>\n",
       "      <td>05</td>\n",
       "      <td>Hautes-Alpes</td>\n",
       "      <td>HAUTES-ALPES</td>\n",
       "      <td>hautes-alpes</td>\n",
       "      <td>H32412</td>\n",
       "    </tr>\n",
       "    <tr>\n",
       "      <th>3</th>\n",
       "      <td>4</td>\n",
       "      <td>04</td>\n",
       "      <td>Alpes-de-Haute-Provence</td>\n",
       "      <td>ALPES-DE-HAUTE-PROVENCE</td>\n",
       "      <td>alpes-de-haute-provence</td>\n",
       "      <td>A412316152</td>\n",
       "    </tr>\n",
       "    <tr>\n",
       "      <th>4</th>\n",
       "      <td>6</td>\n",
       "      <td>06</td>\n",
       "      <td>Alpes-Maritimes</td>\n",
       "      <td>ALPES-MARITIMES</td>\n",
       "      <td>alpes-maritimes</td>\n",
       "      <td>A41256352</td>\n",
       "    </tr>\n",
       "  </tbody>\n",
       "</table>\n",
       "</div>"
      ],
      "text/plain": [
       "   1  01                      Ain                      AIN  \\\n",
       "0  2  02                    Aisne                    AISNE   \n",
       "1  3  03                   Allier                   ALLIER   \n",
       "2  5  05             Hautes-Alpes             HAUTES-ALPES   \n",
       "3  4  04  Alpes-de-Haute-Provence  ALPES-DE-HAUTE-PROVENCE   \n",
       "4  6  06          Alpes-Maritimes          ALPES-MARITIMES   \n",
       "\n",
       "                       ain        A500  \n",
       "0                    aisne        A250  \n",
       "1                   allier        A460  \n",
       "2             hautes-alpes      H32412  \n",
       "3  alpes-de-haute-provence  A412316152  \n",
       "4          alpes-maritimes   A41256352  "
      ]
     },
     "execution_count": 20,
     "metadata": {},
     "output_type": "execute_result"
    }
   ],
   "source": [
    "# See df head\n",
    "df_dep.head()"
   ]
  },
  {
   "cell_type": "code",
   "execution_count": 21,
   "metadata": {},
   "outputs": [],
   "source": [
    "# Only keep the column we are interested in (Code and Name)\n",
    "dep=df_dep[['01','AIN']]"
   ]
  },
  {
   "cell_type": "markdown",
   "metadata": {},
   "source": [
    "As we can see in the df head, the column corresponds to the first row of the dataframe. We will add the column in the row and rename the columns"
   ]
  },
  {
   "cell_type": "code",
   "execution_count": 22,
   "metadata": {},
   "outputs": [],
   "source": [
    "# Create a variable that contain the row to append\n",
    "to_append=pd.DataFrame([['01', 'AIN']], columns=['01','AIN'])"
   ]
  },
  {
   "cell_type": "code",
   "execution_count": 23,
   "metadata": {},
   "outputs": [],
   "source": [
    "# Append to row the original df\n",
    "dep=dep.append(to_append)"
   ]
  },
  {
   "cell_type": "code",
   "execution_count": 24,
   "metadata": {},
   "outputs": [],
   "source": [
    "# Rename the column\n",
    "dep.columns=['dep_code','dep_name']"
   ]
  },
  {
   "cell_type": "code",
   "execution_count": 25,
   "metadata": {},
   "outputs": [
    {
     "data": {
      "text/plain": [
       "array(['02', '03', '05', '04', '06', '07', '08', '09', '10', '11', '12',\n",
       "       '13', '14', '15', '16', '17', '18', '19', '2a', '2b', '21', '22',\n",
       "       '23', '24', '25', '26', '27', '28', '29', '30', '31', '32', '33',\n",
       "       '34', '35', '36', '37', '38', '39', '40', '41', '42', '43', '44',\n",
       "       '45', '46', '47', '48', '49', '50', '51', '52', '53', '54', '55',\n",
       "       '56', '57', '58', '59', '60', '61', '62', '63', '64', '65', '66',\n",
       "       '67', '68', '69', '70', '71', '72', '73', '74', '75', '76', '77',\n",
       "       '78', '79', '80', '81', '82', '83', '84', '85', '86', '87', '88',\n",
       "       '89', '90', '91', '92', '93', '94', '95', '976', '971', '973',\n",
       "       '972', '974', '01'], dtype=object)"
      ]
     },
     "execution_count": 25,
     "metadata": {},
     "output_type": "execute_result"
    }
   ],
   "source": [
    "# See the df head\n",
    "dep.dep_code.unique()"
   ]
  },
  {
   "cell_type": "markdown",
   "metadata": {},
   "source": [
    "As we can see, for CORSE the departement is in lower case, we will transform it in upper case"
   ]
  },
  {
   "cell_type": "code",
   "execution_count": 26,
   "metadata": {},
   "outputs": [],
   "source": [
    "# Transform 2a into 2A and 2b into 2B\n",
    "dep['dep_code']=np.where(dep['dep_code']=='2a', '2A', dep['dep_code'])\n",
    "dep['dep_code']=np.where(dep['dep_code']=='2b', '2B', dep['dep_code'])"
   ]
  },
  {
   "cell_type": "code",
   "execution_count": 27,
   "metadata": {},
   "outputs": [
    {
     "data": {
      "text/plain": [
       "array(['02', '03', '05', '04', '06', '07', '08', '09', '10', '11', '12',\n",
       "       '13', '14', '15', '16', '17', '18', '19', '2A', '2B', '21', '22',\n",
       "       '23', '24', '25', '26', '27', '28', '29', '30', '31', '32', '33',\n",
       "       '34', '35', '36', '37', '38', '39', '40', '41', '42', '43', '44',\n",
       "       '45', '46', '47', '48', '49', '50', '51', '52', '53', '54', '55',\n",
       "       '56', '57', '58', '59', '60', '61', '62', '63', '64', '65', '66',\n",
       "       '67', '68', '69', '70', '71', '72', '73', '74', '75', '76', '77',\n",
       "       '78', '79', '80', '81', '82', '83', '84', '85', '86', '87', '88',\n",
       "       '89', '90', '91', '92', '93', '94', '95', '976', '971', '973',\n",
       "       '972', '974', '01'], dtype=object)"
      ]
     },
     "execution_count": 27,
     "metadata": {},
     "output_type": "execute_result"
    }
   ],
   "source": [
    "# See dep_code unique value\n",
    "dep.dep_code.unique()"
   ]
  },
  {
   "cell_type": "code",
   "execution_count": 28,
   "metadata": {},
   "outputs": [],
   "source": [
    "# Export df into csv\n",
    "dep.to_csv('df_dep.csv', sep='/', index=False)"
   ]
  },
  {
   "cell_type": "code",
   "execution_count": null,
   "metadata": {},
   "outputs": [],
   "source": []
  },
  {
   "cell_type": "markdown",
   "metadata": {},
   "source": [
    "# Regions"
   ]
  },
  {
   "cell_type": "code",
   "execution_count": 39,
   "metadata": {},
   "outputs": [],
   "source": [
    "df_r=pd.read_csv('/Users/Jeff/Downloads/region2019.csv')"
   ]
  },
  {
   "cell_type": "code",
   "execution_count": 40,
   "metadata": {},
   "outputs": [
    {
     "data": {
      "text/html": [
       "<div>\n",
       "<style scoped>\n",
       "    .dataframe tbody tr th:only-of-type {\n",
       "        vertical-align: middle;\n",
       "    }\n",
       "\n",
       "    .dataframe tbody tr th {\n",
       "        vertical-align: top;\n",
       "    }\n",
       "\n",
       "    .dataframe thead th {\n",
       "        text-align: right;\n",
       "    }\n",
       "</style>\n",
       "<table border=\"1\" class=\"dataframe\">\n",
       "  <thead>\n",
       "    <tr style=\"text-align: right;\">\n",
       "      <th></th>\n",
       "      <th>reg</th>\n",
       "      <th>cheflieu</th>\n",
       "      <th>tncc</th>\n",
       "      <th>ncc</th>\n",
       "      <th>nccenr</th>\n",
       "      <th>libelle</th>\n",
       "    </tr>\n",
       "  </thead>\n",
       "  <tbody>\n",
       "    <tr>\n",
       "      <th>0</th>\n",
       "      <td>1</td>\n",
       "      <td>97105</td>\n",
       "      <td>3</td>\n",
       "      <td>GUADELOUPE</td>\n",
       "      <td>Guadeloupe</td>\n",
       "      <td>Guadeloupe</td>\n",
       "    </tr>\n",
       "    <tr>\n",
       "      <th>1</th>\n",
       "      <td>2</td>\n",
       "      <td>97209</td>\n",
       "      <td>3</td>\n",
       "      <td>MARTINIQUE</td>\n",
       "      <td>Martinique</td>\n",
       "      <td>Martinique</td>\n",
       "    </tr>\n",
       "    <tr>\n",
       "      <th>2</th>\n",
       "      <td>3</td>\n",
       "      <td>97302</td>\n",
       "      <td>3</td>\n",
       "      <td>GUYANE</td>\n",
       "      <td>Guyane</td>\n",
       "      <td>Guyane</td>\n",
       "    </tr>\n",
       "    <tr>\n",
       "      <th>3</th>\n",
       "      <td>4</td>\n",
       "      <td>97411</td>\n",
       "      <td>0</td>\n",
       "      <td>LA REUNION</td>\n",
       "      <td>La Réunion</td>\n",
       "      <td>La Réunion</td>\n",
       "    </tr>\n",
       "    <tr>\n",
       "      <th>4</th>\n",
       "      <td>6</td>\n",
       "      <td>97608</td>\n",
       "      <td>0</td>\n",
       "      <td>MAYOTTE</td>\n",
       "      <td>Mayotte</td>\n",
       "      <td>Mayotte</td>\n",
       "    </tr>\n",
       "  </tbody>\n",
       "</table>\n",
       "</div>"
      ],
      "text/plain": [
       "   reg cheflieu  tncc         ncc      nccenr     libelle\n",
       "0    1    97105     3  GUADELOUPE  Guadeloupe  Guadeloupe\n",
       "1    2    97209     3  MARTINIQUE  Martinique  Martinique\n",
       "2    3    97302     3      GUYANE      Guyane      Guyane\n",
       "3    4    97411     0  LA REUNION  La Réunion  La Réunion\n",
       "4    6    97608     0     MAYOTTE     Mayotte     Mayotte"
      ]
     },
     "execution_count": 40,
     "metadata": {},
     "output_type": "execute_result"
    }
   ],
   "source": [
    "df_r.head()"
   ]
  },
  {
   "cell_type": "code",
   "execution_count": 41,
   "metadata": {},
   "outputs": [],
   "source": [
    "df_region=df_r[['reg','ncc']]"
   ]
  },
  {
   "cell_type": "code",
   "execution_count": 42,
   "metadata": {},
   "outputs": [],
   "source": [
    "df_region.columns=['reg_code','reg_name']"
   ]
  },
  {
   "cell_type": "code",
   "execution_count": 43,
   "metadata": {},
   "outputs": [
    {
     "data": {
      "text/plain": [
       "reg_code  reg_name                  \n",
       "94        CORSE                         1\n",
       "93        PROVENCE ALPES COTE D AZUR    1\n",
       "2         MARTINIQUE                    1\n",
       "3         GUYANE                        1\n",
       "4         LA REUNION                    1\n",
       "6         MAYOTTE                       1\n",
       "11        ILE DE FRANCE                 1\n",
       "24        CENTRE VAL DE LOIRE           1\n",
       "27        BOURGOGNE FRANCHE COMTE       1\n",
       "28        NORMANDIE                     1\n",
       "32        HAUTS DE FRANCE               1\n",
       "44        GRAND EST                     1\n",
       "52        PAYS DE LA LOIRE              1\n",
       "53        BRETAGNE                      1\n",
       "75        NOUVELLE AQUITAINE            1\n",
       "76        OCCITANIE                     1\n",
       "84        AUVERGNE RHONE ALPES          1\n",
       "1         GUADELOUPE                    1\n",
       "dtype: int64"
      ]
     },
     "execution_count": 43,
     "metadata": {},
     "output_type": "execute_result"
    }
   ],
   "source": [
    "df_region.value_counts()"
   ]
  },
  {
   "cell_type": "code",
   "execution_count": 45,
   "metadata": {},
   "outputs": [
    {
     "name": "stderr",
     "output_type": "stream",
     "text": [
      "<ipython-input-45-eb2bcc1c64b9>:1: SettingWithCopyWarning: \n",
      "A value is trying to be set on a copy of a slice from a DataFrame.\n",
      "Try using .loc[row_indexer,col_indexer] = value instead\n",
      "\n",
      "See the caveats in the documentation: https://pandas.pydata.org/pandas-docs/stable/user_guide/indexing.html#returning-a-view-versus-a-copy\n",
      "  df_region['reg_code']=df_region['reg_code'].apply(str)\n"
     ]
    }
   ],
   "source": [
    "df_region['reg_code']=df_region['reg_code'].apply(str)"
   ]
  },
  {
   "cell_type": "code",
   "execution_count": 46,
   "metadata": {},
   "outputs": [
    {
     "name": "stderr",
     "output_type": "stream",
     "text": [
      "/usr/local/Cellar/jupyterlab/2.2.0/libexec/lib/python3.8/site-packages/pandas/core/series.py:1020: SettingWithCopyWarning: \n",
      "A value is trying to be set on a copy of a slice from a DataFrame\n",
      "\n",
      "See the caveats in the documentation: https://pandas.pydata.org/pandas-docs/stable/user_guide/indexing.html#returning-a-view-versus-a-copy\n",
      "  self._where(~key, value, inplace=True)\n"
     ]
    }
   ],
   "source": [
    "df_region['reg_code'][(df_region.reg_code.str.len() < 2)]=df_region['reg_code'].apply(lambda x: '0'+str(x))"
   ]
  },
  {
   "cell_type": "code",
   "execution_count": 47,
   "metadata": {},
   "outputs": [
    {
     "data": {
      "text/plain": [
       "reg_code  reg_name                  \n",
       "94        CORSE                         1\n",
       "93        PROVENCE ALPES COTE D AZUR    1\n",
       "02        MARTINIQUE                    1\n",
       "03        GUYANE                        1\n",
       "04        LA REUNION                    1\n",
       "06        MAYOTTE                       1\n",
       "11        ILE DE FRANCE                 1\n",
       "24        CENTRE VAL DE LOIRE           1\n",
       "27        BOURGOGNE FRANCHE COMTE       1\n",
       "28        NORMANDIE                     1\n",
       "32        HAUTS DE FRANCE               1\n",
       "44        GRAND EST                     1\n",
       "52        PAYS DE LA LOIRE              1\n",
       "53        BRETAGNE                      1\n",
       "75        NOUVELLE AQUITAINE            1\n",
       "76        OCCITANIE                     1\n",
       "84        AUVERGNE RHONE ALPES          1\n",
       "01        GUADELOUPE                    1\n",
       "dtype: int64"
      ]
     },
     "execution_count": 47,
     "metadata": {},
     "output_type": "execute_result"
    }
   ],
   "source": [
    "df_region.value_counts()"
   ]
  },
  {
   "cell_type": "code",
   "execution_count": 48,
   "metadata": {},
   "outputs": [],
   "source": [
    "# Export df into csv\n",
    "df_region.to_csv('df_reg.csv', sep='/', index=False)"
   ]
  },
  {
   "cell_type": "code",
   "execution_count": null,
   "metadata": {},
   "outputs": [],
   "source": []
  },
  {
   "cell_type": "code",
   "execution_count": null,
   "metadata": {},
   "outputs": [],
   "source": []
  },
  {
   "cell_type": "code",
   "execution_count": 34,
   "metadata": {},
   "outputs": [
    {
     "data": {
      "text/html": [
       "<div>\n",
       "<style scoped>\n",
       "    .dataframe tbody tr th:only-of-type {\n",
       "        vertical-align: middle;\n",
       "    }\n",
       "\n",
       "    .dataframe tbody tr th {\n",
       "        vertical-align: top;\n",
       "    }\n",
       "\n",
       "    .dataframe thead th {\n",
       "        text-align: right;\n",
       "    }\n",
       "</style>\n",
       "<table border=\"1\" class=\"dataframe\">\n",
       "  <thead>\n",
       "    <tr style=\"text-align: right;\">\n",
       "      <th></th>\n",
       "      <th>typecom</th>\n",
       "      <th>com</th>\n",
       "      <th>reg</th>\n",
       "      <th>dep</th>\n",
       "      <th>arr</th>\n",
       "      <th>tncc</th>\n",
       "      <th>ncc</th>\n",
       "      <th>nccenr</th>\n",
       "      <th>libelle</th>\n",
       "      <th>can</th>\n",
       "      <th>comparent</th>\n",
       "    </tr>\n",
       "  </thead>\n",
       "  <tbody>\n",
       "    <tr>\n",
       "      <th>0</th>\n",
       "      <td>COM</td>\n",
       "      <td>01001</td>\n",
       "      <td>84.0</td>\n",
       "      <td>01</td>\n",
       "      <td>012</td>\n",
       "      <td>5</td>\n",
       "      <td>ABERGEMENT CLEMENCIAT</td>\n",
       "      <td>Abergement-Clémenciat</td>\n",
       "      <td>L'Abergement-Clémenciat</td>\n",
       "      <td>0108</td>\n",
       "      <td>NaN</td>\n",
       "    </tr>\n",
       "    <tr>\n",
       "      <th>1</th>\n",
       "      <td>COM</td>\n",
       "      <td>01002</td>\n",
       "      <td>84.0</td>\n",
       "      <td>01</td>\n",
       "      <td>011</td>\n",
       "      <td>5</td>\n",
       "      <td>ABERGEMENT DE VAREY</td>\n",
       "      <td>Abergement-de-Varey</td>\n",
       "      <td>L'Abergement-de-Varey</td>\n",
       "      <td>0101</td>\n",
       "      <td>NaN</td>\n",
       "    </tr>\n",
       "    <tr>\n",
       "      <th>2</th>\n",
       "      <td>COM</td>\n",
       "      <td>01004</td>\n",
       "      <td>84.0</td>\n",
       "      <td>01</td>\n",
       "      <td>011</td>\n",
       "      <td>1</td>\n",
       "      <td>AMBERIEU EN BUGEY</td>\n",
       "      <td>Ambérieu-en-Bugey</td>\n",
       "      <td>Ambérieu-en-Bugey</td>\n",
       "      <td>0101</td>\n",
       "      <td>NaN</td>\n",
       "    </tr>\n",
       "    <tr>\n",
       "      <th>3</th>\n",
       "      <td>COM</td>\n",
       "      <td>01005</td>\n",
       "      <td>84.0</td>\n",
       "      <td>01</td>\n",
       "      <td>012</td>\n",
       "      <td>1</td>\n",
       "      <td>AMBERIEUX EN DOMBES</td>\n",
       "      <td>Ambérieux-en-Dombes</td>\n",
       "      <td>Ambérieux-en-Dombes</td>\n",
       "      <td>0122</td>\n",
       "      <td>NaN</td>\n",
       "    </tr>\n",
       "    <tr>\n",
       "      <th>4</th>\n",
       "      <td>COM</td>\n",
       "      <td>01006</td>\n",
       "      <td>84.0</td>\n",
       "      <td>01</td>\n",
       "      <td>011</td>\n",
       "      <td>1</td>\n",
       "      <td>AMBLEON</td>\n",
       "      <td>Ambléon</td>\n",
       "      <td>Ambléon</td>\n",
       "      <td>0104</td>\n",
       "      <td>NaN</td>\n",
       "    </tr>\n",
       "  </tbody>\n",
       "</table>\n",
       "</div>"
      ],
      "text/plain": [
       "  typecom    com   reg dep  arr  tncc                    ncc  \\\n",
       "0     COM  01001  84.0  01  012     5  ABERGEMENT CLEMENCIAT   \n",
       "1     COM  01002  84.0  01  011     5    ABERGEMENT DE VAREY   \n",
       "2     COM  01004  84.0  01  011     1      AMBERIEU EN BUGEY   \n",
       "3     COM  01005  84.0  01  012     1    AMBERIEUX EN DOMBES   \n",
       "4     COM  01006  84.0  01  011     1                AMBLEON   \n",
       "\n",
       "                  nccenr                  libelle   can  comparent  \n",
       "0  Abergement-Clémenciat  L'Abergement-Clémenciat  0108        NaN  \n",
       "1    Abergement-de-Varey    L'Abergement-de-Varey  0101        NaN  \n",
       "2      Ambérieu-en-Bugey        Ambérieu-en-Bugey  0101        NaN  \n",
       "3    Ambérieux-en-Dombes      Ambérieux-en-Dombes  0122        NaN  \n",
       "4                Ambléon                  Ambléon  0104        NaN  "
      ]
     },
     "execution_count": 34,
     "metadata": {},
     "output_type": "execute_result"
    }
   ],
   "source": [
    "df_com_2020.head()"
   ]
  },
  {
   "cell_type": "code",
   "execution_count": 35,
   "metadata": {},
   "outputs": [
    {
     "data": {
      "text/plain": [
       "44.0    5121\n",
       "76.0    4454\n",
       "75.0    4314\n",
       "84.0    4039\n",
       "32.0    3789\n",
       "27.0    3702\n",
       "28.0    2652\n",
       "24.0    1757\n",
       "11.0    1288\n",
       "52.0    1238\n",
       "53.0    1208\n",
       "93.0     962\n",
       "94.0     360\n",
       "2.0       34\n",
       "1.0       32\n",
       "4.0       24\n",
       "3.0       22\n",
       "6.0       17\n",
       "Name: reg, dtype: int64"
      ]
     },
     "execution_count": 35,
     "metadata": {},
     "output_type": "execute_result"
    }
   ],
   "source": [
    "df_com_2020.reg.value_counts()"
   ]
  },
  {
   "cell_type": "code",
   "execution_count": 36,
   "metadata": {},
   "outputs": [],
   "source": [
    "df1=pd.read_csv('/Users/Jeff/Downloads/departement2019.csv')"
   ]
  },
  {
   "cell_type": "code",
   "execution_count": 37,
   "metadata": {},
   "outputs": [
    {
     "data": {
      "text/html": [
       "<div>\n",
       "<style scoped>\n",
       "    .dataframe tbody tr th:only-of-type {\n",
       "        vertical-align: middle;\n",
       "    }\n",
       "\n",
       "    .dataframe tbody tr th {\n",
       "        vertical-align: top;\n",
       "    }\n",
       "\n",
       "    .dataframe thead th {\n",
       "        text-align: right;\n",
       "    }\n",
       "</style>\n",
       "<table border=\"1\" class=\"dataframe\">\n",
       "  <thead>\n",
       "    <tr style=\"text-align: right;\">\n",
       "      <th></th>\n",
       "      <th>dep</th>\n",
       "      <th>reg</th>\n",
       "      <th>cheflieu</th>\n",
       "      <th>tncc</th>\n",
       "      <th>ncc</th>\n",
       "      <th>nccenr</th>\n",
       "      <th>libelle</th>\n",
       "    </tr>\n",
       "  </thead>\n",
       "  <tbody>\n",
       "    <tr>\n",
       "      <th>0</th>\n",
       "      <td>01</td>\n",
       "      <td>84</td>\n",
       "      <td>01053</td>\n",
       "      <td>5</td>\n",
       "      <td>AIN</td>\n",
       "      <td>Ain</td>\n",
       "      <td>Ain</td>\n",
       "    </tr>\n",
       "    <tr>\n",
       "      <th>1</th>\n",
       "      <td>02</td>\n",
       "      <td>32</td>\n",
       "      <td>02408</td>\n",
       "      <td>5</td>\n",
       "      <td>AISNE</td>\n",
       "      <td>Aisne</td>\n",
       "      <td>Aisne</td>\n",
       "    </tr>\n",
       "    <tr>\n",
       "      <th>2</th>\n",
       "      <td>03</td>\n",
       "      <td>84</td>\n",
       "      <td>03190</td>\n",
       "      <td>5</td>\n",
       "      <td>ALLIER</td>\n",
       "      <td>Allier</td>\n",
       "      <td>Allier</td>\n",
       "    </tr>\n",
       "    <tr>\n",
       "      <th>3</th>\n",
       "      <td>04</td>\n",
       "      <td>93</td>\n",
       "      <td>04070</td>\n",
       "      <td>4</td>\n",
       "      <td>ALPES DE HAUTE PROVENCE</td>\n",
       "      <td>Alpes-de-Haute-Provence</td>\n",
       "      <td>Alpes-de-Haute-Provence</td>\n",
       "    </tr>\n",
       "    <tr>\n",
       "      <th>4</th>\n",
       "      <td>05</td>\n",
       "      <td>93</td>\n",
       "      <td>05061</td>\n",
       "      <td>4</td>\n",
       "      <td>HAUTES ALPES</td>\n",
       "      <td>Hautes-Alpes</td>\n",
       "      <td>Hautes-Alpes</td>\n",
       "    </tr>\n",
       "  </tbody>\n",
       "</table>\n",
       "</div>"
      ],
      "text/plain": [
       "  dep  reg cheflieu  tncc                      ncc                   nccenr  \\\n",
       "0  01   84    01053     5                      AIN                      Ain   \n",
       "1  02   32    02408     5                    AISNE                    Aisne   \n",
       "2  03   84    03190     5                   ALLIER                   Allier   \n",
       "3  04   93    04070     4  ALPES DE HAUTE PROVENCE  Alpes-de-Haute-Provence   \n",
       "4  05   93    05061     4             HAUTES ALPES             Hautes-Alpes   \n",
       "\n",
       "                   libelle  \n",
       "0                      Ain  \n",
       "1                    Aisne  \n",
       "2                   Allier  \n",
       "3  Alpes-de-Haute-Provence  \n",
       "4             Hautes-Alpes  "
      ]
     },
     "execution_count": 37,
     "metadata": {},
     "output_type": "execute_result"
    }
   ],
   "source": [
    "df1.head()"
   ]
  },
  {
   "cell_type": "code",
   "execution_count": 38,
   "metadata": {},
   "outputs": [
    {
     "data": {
      "text/plain": [
       "44    5121\n",
       "76    4454\n",
       "75    4314\n",
       "84    4039\n",
       "32    3789\n",
       "27    3704\n",
       "28    2651\n",
       "0     2240\n",
       "24    1758\n",
       "11    1288\n",
       "52    1238\n",
       "53    1208\n",
       "93     962\n",
       "94     360\n",
       "2       34\n",
       "1       32\n",
       "4       24\n",
       "3       22\n",
       "6       17\n",
       "Name: REG, dtype: int64"
      ]
     },
     "execution_count": 38,
     "metadata": {},
     "output_type": "execute_result"
    }
   ],
   "source": [
    "comm.REG.value_counts()"
   ]
  },
  {
   "cell_type": "markdown",
   "metadata": {},
   "source": [
    "# Population"
   ]
  },
  {
   "cell_type": "code",
   "execution_count": 56,
   "metadata": {},
   "outputs": [],
   "source": [
    "df_pop=pd.read_excel('/Users/Jeff/Ironhack/248_Repo/Projects/Final project/Area/France_pop_reg.xlsx')"
   ]
  },
  {
   "cell_type": "code",
   "execution_count": 57,
   "metadata": {},
   "outputs": [
    {
     "data": {
      "text/html": [
       "<div>\n",
       "<style scoped>\n",
       "    .dataframe tbody tr th:only-of-type {\n",
       "        vertical-align: middle;\n",
       "    }\n",
       "\n",
       "    .dataframe tbody tr th {\n",
       "        vertical-align: top;\n",
       "    }\n",
       "\n",
       "    .dataframe thead th {\n",
       "        text-align: right;\n",
       "    }\n",
       "</style>\n",
       "<table border=\"1\" class=\"dataframe\">\n",
       "  <thead>\n",
       "    <tr style=\"text-align: right;\">\n",
       "      <th></th>\n",
       "      <th>year</th>\n",
       "      <th>reg_name</th>\n",
       "      <th>reg_pop</th>\n",
       "    </tr>\n",
       "  </thead>\n",
       "  <tbody>\n",
       "    <tr>\n",
       "      <th>0</th>\n",
       "      <td>2019</td>\n",
       "      <td>Auvergne-Rhône-Alpes</td>\n",
       "      <td>8032377</td>\n",
       "    </tr>\n",
       "    <tr>\n",
       "      <th>1</th>\n",
       "      <td>2019</td>\n",
       "      <td>Bourgogne-Franche-Comté</td>\n",
       "      <td>2783039</td>\n",
       "    </tr>\n",
       "    <tr>\n",
       "      <th>2</th>\n",
       "      <td>2019</td>\n",
       "      <td>Bretagne</td>\n",
       "      <td>3340379</td>\n",
       "    </tr>\n",
       "    <tr>\n",
       "      <th>3</th>\n",
       "      <td>2019</td>\n",
       "      <td>Centre-Val-de-Loire</td>\n",
       "      <td>2559073</td>\n",
       "    </tr>\n",
       "    <tr>\n",
       "      <th>4</th>\n",
       "      <td>2019</td>\n",
       "      <td>Corse</td>\n",
       "      <td>344679</td>\n",
       "    </tr>\n",
       "  </tbody>\n",
       "</table>\n",
       "</div>"
      ],
      "text/plain": [
       "   year                 reg_name  reg_pop\n",
       "0  2019     Auvergne-Rhône-Alpes  8032377\n",
       "1  2019  Bourgogne-Franche-Comté  2783039\n",
       "2  2019                 Bretagne  3340379\n",
       "3  2019      Centre-Val-de-Loire  2559073\n",
       "4  2019                    Corse   344679"
      ]
     },
     "execution_count": 57,
     "metadata": {},
     "output_type": "execute_result"
    }
   ],
   "source": [
    "df_pop.head()"
   ]
  },
  {
   "cell_type": "code",
   "execution_count": 58,
   "metadata": {},
   "outputs": [],
   "source": [
    "df_pop['reg_name']=df_pop['reg_name'].str.replace('é','e')\n",
    "df_pop['reg_name']=df_pop['reg_name'].str.replace('-',' ')\n",
    "df_pop['reg_name']=df_pop['reg_name'].str.replace('ô','o')\n",
    "df_pop['reg_name']=df_pop['reg_name'].str.replace(\"'\",\" \")"
   ]
  },
  {
   "cell_type": "code",
   "execution_count": 59,
   "metadata": {},
   "outputs": [],
   "source": [
    "df_pop['reg_name']=df_pop['reg_name'].str.upper()"
   ]
  },
  {
   "cell_type": "code",
   "execution_count": 60,
   "metadata": {},
   "outputs": [
    {
     "data": {
      "text/plain": [
       "array(['AUVERGNE RHONE ALPES', 'BOURGOGNE FRANCHE COMTE', 'BRETAGNE',\n",
       "       'CENTRE VAL DE LOIRE', 'CORSE', 'GRAND EST', 'HAUTS DE FRANCE',\n",
       "       'ÎLE DE FRANCE', 'NORMANDIE', 'NOUVELLE AQUITAINE', 'OCCITANIE',\n",
       "       'PAYS DE LA LOIRE', 'PROVENCE ALPES COTE D AZUR', 'GUADELOUPE ',\n",
       "       'MARTINIQUE ', 'GUYANE', 'LA REUNION', 'MAYOTTE'], dtype=object)"
      ]
     },
     "execution_count": 60,
     "metadata": {},
     "output_type": "execute_result"
    }
   ],
   "source": [
    "df_pop['reg_name'].unique()"
   ]
  },
  {
   "cell_type": "code",
   "execution_count": 61,
   "metadata": {},
   "outputs": [],
   "source": [
    "df_pop['reg_name']=df_pop['reg_name'].str.replace('Î','I')"
   ]
  },
  {
   "cell_type": "code",
   "execution_count": 62,
   "metadata": {},
   "outputs": [
    {
     "data": {
      "text/plain": [
       "array(['AUVERGNE RHONE ALPES', 'BOURGOGNE FRANCHE COMTE', 'BRETAGNE',\n",
       "       'CENTRE VAL DE LOIRE', 'CORSE', 'GRAND EST', 'HAUTS DE FRANCE',\n",
       "       'ILE DE FRANCE', 'NORMANDIE', 'NOUVELLE AQUITAINE', 'OCCITANIE',\n",
       "       'PAYS DE LA LOIRE', 'PROVENCE ALPES COTE D AZUR', 'GUADELOUPE ',\n",
       "       'MARTINIQUE ', 'GUYANE', 'LA REUNION', 'MAYOTTE'], dtype=object)"
      ]
     },
     "execution_count": 62,
     "metadata": {},
     "output_type": "execute_result"
    }
   ],
   "source": [
    "df_pop['reg_name'].unique()"
   ]
  },
  {
   "cell_type": "code",
   "execution_count": 63,
   "metadata": {},
   "outputs": [],
   "source": [
    "df_pop['reg_name']=np.where(df_pop['reg_name']=='GUADELOUPE ', 'GUADELOUPE', df_pop['reg_name'])\n",
    "df_pop['reg_name']=np.where(df_pop['reg_name']=='MARTINIQUE ', 'MARTINIQUE', df_pop['reg_name'])"
   ]
  },
  {
   "cell_type": "code",
   "execution_count": 64,
   "metadata": {},
   "outputs": [
    {
     "data": {
      "text/plain": [
       "array(['AUVERGNE RHONE ALPES', 'BOURGOGNE FRANCHE COMTE', 'BRETAGNE',\n",
       "       'CENTRE VAL DE LOIRE', 'CORSE', 'GRAND EST', 'HAUTS DE FRANCE',\n",
       "       'ILE DE FRANCE', 'NORMANDIE', 'NOUVELLE AQUITAINE', 'OCCITANIE',\n",
       "       'PAYS DE LA LOIRE', 'PROVENCE ALPES COTE D AZUR', 'GUADELOUPE',\n",
       "       'MARTINIQUE', 'GUYANE', 'LA REUNION', 'MAYOTTE'], dtype=object)"
      ]
     },
     "execution_count": 64,
     "metadata": {},
     "output_type": "execute_result"
    }
   ],
   "source": [
    "df_pop['reg_name'].unique()"
   ]
  },
  {
   "cell_type": "code",
   "execution_count": 65,
   "metadata": {},
   "outputs": [
    {
     "data": {
      "text/html": [
       "<div>\n",
       "<style scoped>\n",
       "    .dataframe tbody tr th:only-of-type {\n",
       "        vertical-align: middle;\n",
       "    }\n",
       "\n",
       "    .dataframe tbody tr th {\n",
       "        vertical-align: top;\n",
       "    }\n",
       "\n",
       "    .dataframe thead th {\n",
       "        text-align: right;\n",
       "    }\n",
       "</style>\n",
       "<table border=\"1\" class=\"dataframe\">\n",
       "  <thead>\n",
       "    <tr style=\"text-align: right;\">\n",
       "      <th></th>\n",
       "      <th>year</th>\n",
       "      <th>reg_name</th>\n",
       "      <th>reg_pop</th>\n",
       "    </tr>\n",
       "  </thead>\n",
       "  <tbody>\n",
       "    <tr>\n",
       "      <th>0</th>\n",
       "      <td>2019</td>\n",
       "      <td>AUVERGNE RHONE ALPES</td>\n",
       "      <td>8032377</td>\n",
       "    </tr>\n",
       "    <tr>\n",
       "      <th>1</th>\n",
       "      <td>2019</td>\n",
       "      <td>BOURGOGNE FRANCHE COMTE</td>\n",
       "      <td>2783039</td>\n",
       "    </tr>\n",
       "    <tr>\n",
       "      <th>2</th>\n",
       "      <td>2019</td>\n",
       "      <td>BRETAGNE</td>\n",
       "      <td>3340379</td>\n",
       "    </tr>\n",
       "    <tr>\n",
       "      <th>3</th>\n",
       "      <td>2019</td>\n",
       "      <td>CENTRE VAL DE LOIRE</td>\n",
       "      <td>2559073</td>\n",
       "    </tr>\n",
       "    <tr>\n",
       "      <th>4</th>\n",
       "      <td>2019</td>\n",
       "      <td>CORSE</td>\n",
       "      <td>344679</td>\n",
       "    </tr>\n",
       "  </tbody>\n",
       "</table>\n",
       "</div>"
      ],
      "text/plain": [
       "   year                 reg_name  reg_pop\n",
       "0  2019     AUVERGNE RHONE ALPES  8032377\n",
       "1  2019  BOURGOGNE FRANCHE COMTE  2783039\n",
       "2  2019                 BRETAGNE  3340379\n",
       "3  2019      CENTRE VAL DE LOIRE  2559073\n",
       "4  2019                    CORSE   344679"
      ]
     },
     "execution_count": 65,
     "metadata": {},
     "output_type": "execute_result"
    }
   ],
   "source": [
    "df_pop.head()"
   ]
  },
  {
   "cell_type": "code",
   "execution_count": 66,
   "metadata": {},
   "outputs": [],
   "source": [
    "df_pop.to_csv('df_reg_pop.csv', sep='/', index=False)"
   ]
  },
  {
   "cell_type": "code",
   "execution_count": null,
   "metadata": {},
   "outputs": [],
   "source": []
  }
 ],
 "metadata": {
  "kernelspec": {
   "display_name": "Python 3",
   "language": "python",
   "name": "python3"
  },
  "language_info": {
   "codemirror_mode": {
    "name": "ipython",
    "version": 3
   },
   "file_extension": ".py",
   "mimetype": "text/x-python",
   "name": "python",
   "nbconvert_exporter": "python",
   "pygments_lexer": "ipython3",
   "version": "3.8.5"
  },
  "toc": {
   "base_numbering": 1,
   "nav_menu": {},
   "number_sections": true,
   "sideBar": true,
   "skip_h1_title": false,
   "title_cell": "Table of Contents",
   "title_sidebar": "Contents",
   "toc_cell": false,
   "toc_position": {},
   "toc_section_display": true,
   "toc_window_display": false
  }
 },
 "nbformat": 4,
 "nbformat_minor": 4
}
