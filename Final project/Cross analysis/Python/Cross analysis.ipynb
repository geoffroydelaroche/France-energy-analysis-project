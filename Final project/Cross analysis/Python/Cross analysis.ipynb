{
 "cells": [
  {
   "cell_type": "markdown",
   "metadata": {},
   "source": [
    "# Import librairies"
   ]
  },
  {
   "cell_type": "code",
   "execution_count": 1,
   "metadata": {},
   "outputs": [],
   "source": [
    "import pandas as pd\n",
    "import numpy as np"
   ]
  },
  {
   "cell_type": "markdown",
   "metadata": {},
   "source": [
    "# Get the data"
   ]
  },
  {
   "cell_type": "markdown",
   "metadata": {},
   "source": [
    "## Gaz"
   ]
  },
  {
   "cell_type": "code",
   "execution_count": 2,
   "metadata": {},
   "outputs": [],
   "source": [
    "df_gconso_com=pd.read_csv('/Users/Jeff/Ironhack/248_Repo/Projects/Final project/Gaz/df_gconso_com.csv', sep='/')"
   ]
  },
  {
   "cell_type": "code",
   "execution_count": 3,
   "metadata": {},
   "outputs": [],
   "source": [
    "df_gconso_dep=pd.read_csv('/Users/Jeff/Ironhack/248_Repo/Projects/Final project/Gaz/df_gconso_dep.csv', sep='/')"
   ]
  },
  {
   "cell_type": "code",
   "execution_count": 4,
   "metadata": {},
   "outputs": [],
   "source": [
    "df_gconso_reg=pd.read_csv('/Users/Jeff/Ironhack/248_Repo/Projects/Final project/Gaz/df_gconso_reg.csv', sep='/')"
   ]
  },
  {
   "cell_type": "code",
   "execution_count": 5,
   "metadata": {},
   "outputs": [],
   "source": [
    "df_g_tot=pd.read_csv('/Users/Jeff/Ironhack/248_Repo/Projects/Final project/Gaz/df_g_tot.csv', sep='/')"
   ]
  },
  {
   "cell_type": "markdown",
   "metadata": {},
   "source": [
    "## Electricity"
   ]
  },
  {
   "cell_type": "code",
   "execution_count": 6,
   "metadata": {},
   "outputs": [],
   "source": [
    "df_econso_com=pd.read_csv('/Users/Jeff/Ironhack/248_Repo/Projects/Final project/Electricty/df_econso_com.csv', sep='/')"
   ]
  },
  {
   "cell_type": "code",
   "execution_count": 7,
   "metadata": {},
   "outputs": [],
   "source": [
    "df_econso_dep=pd.read_csv('/Users/Jeff/Ironhack/248_Repo/Projects/Final project/Electricty/df_econso_dep.csv', sep='/')"
   ]
  },
  {
   "cell_type": "code",
   "execution_count": 8,
   "metadata": {},
   "outputs": [],
   "source": [
    "df_econso_reg=pd.read_csv('/Users/Jeff/Ironhack/248_Repo/Projects/Final project/Electricty/df_econso_reg.csv', sep='/')"
   ]
  },
  {
   "cell_type": "code",
   "execution_count": 9,
   "metadata": {},
   "outputs": [],
   "source": [
    "df_e_tot=pd.read_csv('/Users/Jeff/Ironhack/248_Repo/Projects/Final project/Electricty/df_e_tot.csv', sep='/')"
   ]
  },
  {
   "cell_type": "markdown",
   "metadata": {},
   "source": [
    "# Concat, merge"
   ]
  },
  {
   "cell_type": "markdown",
   "metadata": {},
   "source": [
    "## Commmune level"
   ]
  },
  {
   "cell_type": "code",
   "execution_count": 10,
   "metadata": {},
   "outputs": [
    {
     "data": {
      "text/plain": [
       "(1844, 17)"
      ]
     },
     "execution_count": 10,
     "metadata": {},
     "output_type": "execute_result"
    }
   ],
   "source": [
    "df_gconso_com.shape"
   ]
  },
  {
   "cell_type": "code",
   "execution_count": 11,
   "metadata": {},
   "outputs": [
    {
     "data": {
      "text/plain": [
       "(10912, 17)"
      ]
     },
     "execution_count": 11,
     "metadata": {},
     "output_type": "execute_result"
    }
   ],
   "source": [
    "df_econso_com.shape"
   ]
  },
  {
   "cell_type": "code",
   "execution_count": 12,
   "metadata": {},
   "outputs": [],
   "source": [
    "frames_commune=[df_gconso_com, df_econso_com]\n",
    "df_conso_com=pd.concat(frames_commune)"
   ]
  },
  {
   "cell_type": "code",
   "execution_count": 13,
   "metadata": {},
   "outputs": [
    {
     "data": {
      "text/plain": [
       "E    10912\n",
       "G     1844\n",
       "Name: energy, dtype: int64"
      ]
     },
     "execution_count": 13,
     "metadata": {},
     "output_type": "execute_result"
    }
   ],
   "source": [
    "df_conso_com.energy.value_counts()"
   ]
  },
  {
   "cell_type": "code",
   "execution_count": 14,
   "metadata": {},
   "outputs": [],
   "source": [
    "df_conso_com.to_csv('df_conso_com.csv', sep='/', index=False)"
   ]
  },
  {
   "cell_type": "markdown",
   "metadata": {},
   "source": [
    "## Departement level"
   ]
  },
  {
   "cell_type": "code",
   "execution_count": 15,
   "metadata": {},
   "outputs": [
    {
     "data": {
      "text/plain": [
       "(93, 15)"
      ]
     },
     "execution_count": 15,
     "metadata": {},
     "output_type": "execute_result"
    }
   ],
   "source": [
    "df_gconso_dep.shape"
   ]
  },
  {
   "cell_type": "code",
   "execution_count": 16,
   "metadata": {},
   "outputs": [
    {
     "data": {
      "text/plain": [
       "(272, 15)"
      ]
     },
     "execution_count": 16,
     "metadata": {},
     "output_type": "execute_result"
    }
   ],
   "source": [
    "df_econso_dep.shape"
   ]
  },
  {
   "cell_type": "code",
   "execution_count": 17,
   "metadata": {},
   "outputs": [],
   "source": [
    "frames_dep=[df_gconso_dep, df_econso_dep]\n",
    "df_conso_dep=pd.concat(frames_dep)"
   ]
  },
  {
   "cell_type": "code",
   "execution_count": 18,
   "metadata": {},
   "outputs": [
    {
     "data": {
      "text/plain": [
       "E    272\n",
       "G     93\n",
       "Name: energy, dtype: int64"
      ]
     },
     "execution_count": 18,
     "metadata": {},
     "output_type": "execute_result"
    }
   ],
   "source": [
    "df_conso_dep.energy.value_counts()"
   ]
  },
  {
   "cell_type": "code",
   "execution_count": 19,
   "metadata": {},
   "outputs": [],
   "source": [
    "df_conso_dep.to_csv('df_conso_dep.csv', sep='/', index=False)"
   ]
  },
  {
   "cell_type": "markdown",
   "metadata": {},
   "source": [
    "## Region level"
   ]
  },
  {
   "cell_type": "code",
   "execution_count": 20,
   "metadata": {},
   "outputs": [
    {
     "data": {
      "text/plain": [
       "(69, 15)"
      ]
     },
     "execution_count": 20,
     "metadata": {},
     "output_type": "execute_result"
    }
   ],
   "source": [
    "df_gconso_reg.shape"
   ]
  },
  {
   "cell_type": "code",
   "execution_count": 21,
   "metadata": {},
   "outputs": [
    {
     "data": {
      "text/plain": [
       "(178, 15)"
      ]
     },
     "execution_count": 21,
     "metadata": {},
     "output_type": "execute_result"
    }
   ],
   "source": [
    "df_econso_reg.shape"
   ]
  },
  {
   "cell_type": "code",
   "execution_count": 22,
   "metadata": {},
   "outputs": [],
   "source": [
    "frames_reg=[df_gconso_reg, df_econso_reg]\n",
    "df_conso_reg=pd.concat(frames_reg)"
   ]
  },
  {
   "cell_type": "code",
   "execution_count": 23,
   "metadata": {},
   "outputs": [
    {
     "data": {
      "text/plain": [
       "E    178\n",
       "G     69\n",
       "Name: energy, dtype: int64"
      ]
     },
     "execution_count": 23,
     "metadata": {},
     "output_type": "execute_result"
    }
   ],
   "source": [
    "df_conso_reg.energy.value_counts()"
   ]
  },
  {
   "cell_type": "code",
   "execution_count": 24,
   "metadata": {},
   "outputs": [],
   "source": [
    "df_conso_reg.to_csv('df_conso_reg.csv', sep='/', index=False)"
   ]
  },
  {
   "cell_type": "markdown",
   "metadata": {},
   "source": [
    "## France level"
   ]
  },
  {
   "cell_type": "code",
   "execution_count": 25,
   "metadata": {},
   "outputs": [
    {
     "data": {
      "text/plain": [
       "(8, 13)"
      ]
     },
     "execution_count": 25,
     "metadata": {},
     "output_type": "execute_result"
    }
   ],
   "source": [
    "df_g_tot.shape"
   ]
  },
  {
   "cell_type": "code",
   "execution_count": 26,
   "metadata": {},
   "outputs": [
    {
     "data": {
      "text/plain": [
       "(7, 13)"
      ]
     },
     "execution_count": 26,
     "metadata": {},
     "output_type": "execute_result"
    }
   ],
   "source": [
    "df_e_tot.shape"
   ]
  },
  {
   "cell_type": "code",
   "execution_count": 27,
   "metadata": {},
   "outputs": [],
   "source": [
    "frames_fr=[df_g_tot, df_e_tot]\n",
    "df_conso_fr=pd.concat(frames_fr)"
   ]
  },
  {
   "cell_type": "code",
   "execution_count": 28,
   "metadata": {},
   "outputs": [
    {
     "data": {
      "text/plain": [
       "G    8\n",
       "E    7\n",
       "Name: energy, dtype: int64"
      ]
     },
     "execution_count": 28,
     "metadata": {},
     "output_type": "execute_result"
    }
   ],
   "source": [
    "df_conso_fr.energy.value_counts()"
   ]
  },
  {
   "cell_type": "code",
   "execution_count": 29,
   "metadata": {},
   "outputs": [],
   "source": [
    "df_conso_fr.to_csv('df_conso_fr.csv', sep='/', index=False)"
   ]
  },
  {
   "cell_type": "markdown",
   "metadata": {},
   "source": [
    "## By population region"
   ]
  },
  {
   "cell_type": "code",
   "execution_count": 32,
   "metadata": {},
   "outputs": [
    {
     "data": {
      "text/html": [
       "<div>\n",
       "<style scoped>\n",
       "    .dataframe tbody tr th:only-of-type {\n",
       "        vertical-align: middle;\n",
       "    }\n",
       "\n",
       "    .dataframe tbody tr th {\n",
       "        vertical-align: top;\n",
       "    }\n",
       "\n",
       "    .dataframe thead th {\n",
       "        text-align: right;\n",
       "    }\n",
       "</style>\n",
       "<table border=\"1\" class=\"dataframe\">\n",
       "  <thead>\n",
       "    <tr style=\"text-align: right;\">\n",
       "      <th></th>\n",
       "      <th>energy</th>\n",
       "      <th>year</th>\n",
       "      <th>reg_code</th>\n",
       "      <th>consoa</th>\n",
       "      <th>pdla</th>\n",
       "      <th>consoi</th>\n",
       "      <th>pdli</th>\n",
       "      <th>consot</th>\n",
       "      <th>pdlt</th>\n",
       "      <th>consor</th>\n",
       "      <th>pdlr</th>\n",
       "      <th>consona</th>\n",
       "      <th>pdlna</th>\n",
       "      <th>reg_name</th>\n",
       "      <th>total</th>\n",
       "    </tr>\n",
       "  </thead>\n",
       "  <tbody>\n",
       "    <tr>\n",
       "      <th>0</th>\n",
       "      <td>G</td>\n",
       "      <td>2010</td>\n",
       "      <td>0</td>\n",
       "      <td>1553.86</td>\n",
       "      <td>10</td>\n",
       "      <td>0.00</td>\n",
       "      <td>0</td>\n",
       "      <td>351.18</td>\n",
       "      <td>3</td>\n",
       "      <td>0.0</td>\n",
       "      <td>0.0</td>\n",
       "      <td>0.00</td>\n",
       "      <td>0</td>\n",
       "      <td>OTHER</td>\n",
       "      <td>1905.04</td>\n",
       "    </tr>\n",
       "    <tr>\n",
       "      <th>1</th>\n",
       "      <td>G</td>\n",
       "      <td>2010</td>\n",
       "      <td>32</td>\n",
       "      <td>0.00</td>\n",
       "      <td>0</td>\n",
       "      <td>25559.00</td>\n",
       "      <td>26</td>\n",
       "      <td>20031.00</td>\n",
       "      <td>191</td>\n",
       "      <td>0.0</td>\n",
       "      <td>0.0</td>\n",
       "      <td>0.00</td>\n",
       "      <td>0</td>\n",
       "      <td>HAUTS DE FRANCE</td>\n",
       "      <td>45590.00</td>\n",
       "    </tr>\n",
       "    <tr>\n",
       "      <th>2</th>\n",
       "      <td>G</td>\n",
       "      <td>2010</td>\n",
       "      <td>44</td>\n",
       "      <td>2863.26</td>\n",
       "      <td>22</td>\n",
       "      <td>275106.45</td>\n",
       "      <td>225</td>\n",
       "      <td>233217.63</td>\n",
       "      <td>1897</td>\n",
       "      <td>0.0</td>\n",
       "      <td>0.0</td>\n",
       "      <td>39524.03</td>\n",
       "      <td>749</td>\n",
       "      <td>GRAND EST</td>\n",
       "      <td>550711.37</td>\n",
       "    </tr>\n",
       "    <tr>\n",
       "      <th>3</th>\n",
       "      <td>G</td>\n",
       "      <td>2010</td>\n",
       "      <td>75</td>\n",
       "      <td>24993.40</td>\n",
       "      <td>185</td>\n",
       "      <td>340051.22</td>\n",
       "      <td>1084</td>\n",
       "      <td>711194.13</td>\n",
       "      <td>8197</td>\n",
       "      <td>0.0</td>\n",
       "      <td>0.0</td>\n",
       "      <td>1630.41</td>\n",
       "      <td>8</td>\n",
       "      <td>NOUVELLE AQUITAINE</td>\n",
       "      <td>1077869.16</td>\n",
       "    </tr>\n",
       "    <tr>\n",
       "      <th>4</th>\n",
       "      <td>G</td>\n",
       "      <td>2010</td>\n",
       "      <td>76</td>\n",
       "      <td>0.00</td>\n",
       "      <td>0</td>\n",
       "      <td>0.00</td>\n",
       "      <td>0</td>\n",
       "      <td>0.00</td>\n",
       "      <td>0</td>\n",
       "      <td>0.0</td>\n",
       "      <td>0.0</td>\n",
       "      <td>8216.00</td>\n",
       "      <td>153</td>\n",
       "      <td>OCCITANIE</td>\n",
       "      <td>8216.00</td>\n",
       "    </tr>\n",
       "  </tbody>\n",
       "</table>\n",
       "</div>"
      ],
      "text/plain": [
       "  energy  year  reg_code    consoa  pdla     consoi  pdli     consot  pdlt  \\\n",
       "0      G  2010         0   1553.86    10       0.00     0     351.18     3   \n",
       "1      G  2010        32      0.00     0   25559.00    26   20031.00   191   \n",
       "2      G  2010        44   2863.26    22  275106.45   225  233217.63  1897   \n",
       "3      G  2010        75  24993.40   185  340051.22  1084  711194.13  8197   \n",
       "4      G  2010        76      0.00     0       0.00     0       0.00     0   \n",
       "\n",
       "   consor  pdlr   consona  pdlna            reg_name       total  \n",
       "0     0.0   0.0      0.00      0               OTHER     1905.04  \n",
       "1     0.0   0.0      0.00      0     HAUTS DE FRANCE    45590.00  \n",
       "2     0.0   0.0  39524.03    749           GRAND EST   550711.37  \n",
       "3     0.0   0.0   1630.41      8  NOUVELLE AQUITAINE  1077869.16  \n",
       "4     0.0   0.0   8216.00    153           OCCITANIE     8216.00  "
      ]
     },
     "execution_count": 32,
     "metadata": {},
     "output_type": "execute_result"
    }
   ],
   "source": [
    "df_conso_reg.head()"
   ]
  },
  {
   "cell_type": "code",
   "execution_count": 33,
   "metadata": {},
   "outputs": [],
   "source": [
    "df_reg_pop=pd.read_csv('/Users/Jeff/Ironhack/248_Repo/Projects/Final project/Area/df_reg_pop.csv', sep='/')"
   ]
  },
  {
   "cell_type": "code",
   "execution_count": 34,
   "metadata": {},
   "outputs": [
    {
     "data": {
      "text/html": [
       "<div>\n",
       "<style scoped>\n",
       "    .dataframe tbody tr th:only-of-type {\n",
       "        vertical-align: middle;\n",
       "    }\n",
       "\n",
       "    .dataframe tbody tr th {\n",
       "        vertical-align: top;\n",
       "    }\n",
       "\n",
       "    .dataframe thead th {\n",
       "        text-align: right;\n",
       "    }\n",
       "</style>\n",
       "<table border=\"1\" class=\"dataframe\">\n",
       "  <thead>\n",
       "    <tr style=\"text-align: right;\">\n",
       "      <th></th>\n",
       "      <th>year</th>\n",
       "      <th>reg_name</th>\n",
       "      <th>reg_pop</th>\n",
       "    </tr>\n",
       "  </thead>\n",
       "  <tbody>\n",
       "    <tr>\n",
       "      <th>0</th>\n",
       "      <td>2019</td>\n",
       "      <td>AUVERGNE RHONE ALPES</td>\n",
       "      <td>8032377</td>\n",
       "    </tr>\n",
       "    <tr>\n",
       "      <th>1</th>\n",
       "      <td>2019</td>\n",
       "      <td>BOURGOGNE FRANCHE COMTE</td>\n",
       "      <td>2783039</td>\n",
       "    </tr>\n",
       "    <tr>\n",
       "      <th>2</th>\n",
       "      <td>2019</td>\n",
       "      <td>BRETAGNE</td>\n",
       "      <td>3340379</td>\n",
       "    </tr>\n",
       "    <tr>\n",
       "      <th>3</th>\n",
       "      <td>2019</td>\n",
       "      <td>CENTRE VAL DE LOIRE</td>\n",
       "      <td>2559073</td>\n",
       "    </tr>\n",
       "    <tr>\n",
       "      <th>4</th>\n",
       "      <td>2019</td>\n",
       "      <td>CORSE</td>\n",
       "      <td>344679</td>\n",
       "    </tr>\n",
       "  </tbody>\n",
       "</table>\n",
       "</div>"
      ],
      "text/plain": [
       "   year                 reg_name  reg_pop\n",
       "0  2019     AUVERGNE RHONE ALPES  8032377\n",
       "1  2019  BOURGOGNE FRANCHE COMTE  2783039\n",
       "2  2019                 BRETAGNE  3340379\n",
       "3  2019      CENTRE VAL DE LOIRE  2559073\n",
       "4  2019                    CORSE   344679"
      ]
     },
     "execution_count": 34,
     "metadata": {},
     "output_type": "execute_result"
    }
   ],
   "source": [
    "df_reg_pop.head()"
   ]
  },
  {
   "cell_type": "code",
   "execution_count": null,
   "metadata": {},
   "outputs": [],
   "source": [
    "df_conso_reg_pop = pd.merge(df_gaz_merge, df_dep, how='left', on=['dep_code'])"
   ]
  },
  {
   "cell_type": "code",
   "execution_count": null,
   "metadata": {},
   "outputs": [],
   "source": []
  },
  {
   "cell_type": "markdown",
   "metadata": {},
   "source": [
    "## Total gaz, electricity, petrol"
   ]
  },
  {
   "cell_type": "code",
   "execution_count": 35,
   "metadata": {},
   "outputs": [
    {
     "data": {
      "text/html": [
       "<div>\n",
       "<style scoped>\n",
       "    .dataframe tbody tr th:only-of-type {\n",
       "        vertical-align: middle;\n",
       "    }\n",
       "\n",
       "    .dataframe tbody tr th {\n",
       "        vertical-align: top;\n",
       "    }\n",
       "\n",
       "    .dataframe thead th {\n",
       "        text-align: right;\n",
       "    }\n",
       "</style>\n",
       "<table border=\"1\" class=\"dataframe\">\n",
       "  <thead>\n",
       "    <tr style=\"text-align: right;\">\n",
       "      <th></th>\n",
       "      <th>energy</th>\n",
       "      <th>year</th>\n",
       "      <th>consoa</th>\n",
       "      <th>pdla</th>\n",
       "      <th>consoi</th>\n",
       "      <th>pdli</th>\n",
       "      <th>consot</th>\n",
       "      <th>pdlt</th>\n",
       "      <th>consor</th>\n",
       "      <th>pdlr</th>\n",
       "      <th>consona</th>\n",
       "      <th>pdlna</th>\n",
       "      <th>total</th>\n",
       "    </tr>\n",
       "  </thead>\n",
       "  <tbody>\n",
       "    <tr>\n",
       "      <th>0</th>\n",
       "      <td>G</td>\n",
       "      <td>2010</td>\n",
       "      <td>29410.52</td>\n",
       "      <td>217</td>\n",
       "      <td>640716.67</td>\n",
       "      <td>1335</td>\n",
       "      <td>964793.94</td>\n",
       "      <td>10288</td>\n",
       "      <td>0.00</td>\n",
       "      <td>0.0</td>\n",
       "      <td>81671.44</td>\n",
       "      <td>2369</td>\n",
       "      <td>1716592.57</td>\n",
       "    </tr>\n",
       "    <tr>\n",
       "      <th>1</th>\n",
       "      <td>G</td>\n",
       "      <td>2011</td>\n",
       "      <td>23590.25</td>\n",
       "      <td>220</td>\n",
       "      <td>764845.08</td>\n",
       "      <td>1264</td>\n",
       "      <td>828222.29</td>\n",
       "      <td>10145</td>\n",
       "      <td>0.00</td>\n",
       "      <td>0.0</td>\n",
       "      <td>70912.56</td>\n",
       "      <td>2397</td>\n",
       "      <td>1687570.18</td>\n",
       "    </tr>\n",
       "    <tr>\n",
       "      <th>2</th>\n",
       "      <td>G</td>\n",
       "      <td>2012</td>\n",
       "      <td>26845.37</td>\n",
       "      <td>224</td>\n",
       "      <td>704625.38</td>\n",
       "      <td>1249</td>\n",
       "      <td>962658.38</td>\n",
       "      <td>9823</td>\n",
       "      <td>0.00</td>\n",
       "      <td>0.0</td>\n",
       "      <td>140770.07</td>\n",
       "      <td>2457</td>\n",
       "      <td>1834899.20</td>\n",
       "    </tr>\n",
       "    <tr>\n",
       "      <th>3</th>\n",
       "      <td>G</td>\n",
       "      <td>2013</td>\n",
       "      <td>47801.66</td>\n",
       "      <td>252</td>\n",
       "      <td>1492991.07</td>\n",
       "      <td>1395</td>\n",
       "      <td>3356624.41</td>\n",
       "      <td>11372</td>\n",
       "      <td>2537.20</td>\n",
       "      <td>136.0</td>\n",
       "      <td>102457.33</td>\n",
       "      <td>2579</td>\n",
       "      <td>5002411.67</td>\n",
       "    </tr>\n",
       "    <tr>\n",
       "      <th>4</th>\n",
       "      <td>G</td>\n",
       "      <td>2014</td>\n",
       "      <td>37141.86</td>\n",
       "      <td>253</td>\n",
       "      <td>1432358.07</td>\n",
       "      <td>1574</td>\n",
       "      <td>2582918.86</td>\n",
       "      <td>10952</td>\n",
       "      <td>1766.93</td>\n",
       "      <td>119.0</td>\n",
       "      <td>339247.78</td>\n",
       "      <td>2795</td>\n",
       "      <td>4393433.50</td>\n",
       "    </tr>\n",
       "  </tbody>\n",
       "</table>\n",
       "</div>"
      ],
      "text/plain": [
       "  energy  year    consoa  pdla      consoi  pdli      consot   pdlt   consor  \\\n",
       "0      G  2010  29410.52   217   640716.67  1335   964793.94  10288     0.00   \n",
       "1      G  2011  23590.25   220   764845.08  1264   828222.29  10145     0.00   \n",
       "2      G  2012  26845.37   224   704625.38  1249   962658.38   9823     0.00   \n",
       "3      G  2013  47801.66   252  1492991.07  1395  3356624.41  11372  2537.20   \n",
       "4      G  2014  37141.86   253  1432358.07  1574  2582918.86  10952  1766.93   \n",
       "\n",
       "    pdlr    consona  pdlna       total  \n",
       "0    0.0   81671.44   2369  1716592.57  \n",
       "1    0.0   70912.56   2397  1687570.18  \n",
       "2    0.0  140770.07   2457  1834899.20  \n",
       "3  136.0  102457.33   2579  5002411.67  \n",
       "4  119.0  339247.78   2795  4393433.50  "
      ]
     },
     "execution_count": 35,
     "metadata": {},
     "output_type": "execute_result"
    }
   ],
   "source": [
    "df_conso_fr.head()"
   ]
  },
  {
   "cell_type": "code",
   "execution_count": 37,
   "metadata": {},
   "outputs": [],
   "source": [
    "df_conso_ge=df_conso_fr[['energy','year','total']]"
   ]
  },
  {
   "cell_type": "code",
   "execution_count": 40,
   "metadata": {},
   "outputs": [],
   "source": [
    "df_pconso=pd.read_csv('/Users/Jeff/Ironhack/248_Repo/Projects/Final project/Petrol/df_pconso.csv', sep='/')"
   ]
  },
  {
   "cell_type": "code",
   "execution_count": 41,
   "metadata": {},
   "outputs": [
    {
     "data": {
      "text/html": [
       "<div>\n",
       "<style scoped>\n",
       "    .dataframe tbody tr th:only-of-type {\n",
       "        vertical-align: middle;\n",
       "    }\n",
       "\n",
       "    .dataframe tbody tr th {\n",
       "        vertical-align: top;\n",
       "    }\n",
       "\n",
       "    .dataframe thead th {\n",
       "        text-align: right;\n",
       "    }\n",
       "</style>\n",
       "<table border=\"1\" class=\"dataframe\">\n",
       "  <thead>\n",
       "    <tr style=\"text-align: right;\">\n",
       "      <th></th>\n",
       "      <th>energy</th>\n",
       "      <th>year</th>\n",
       "      <th>dep_code</th>\n",
       "      <th>dep_name</th>\n",
       "      <th>super_plomb</th>\n",
       "      <th>super_sans_plomb</th>\n",
       "      <th>super_sans_plomb_95</th>\n",
       "      <th>super_sans_plomb_95_E10</th>\n",
       "      <th>super_sans_plomb_98</th>\n",
       "      <th>E85</th>\n",
       "      <th>...</th>\n",
       "      <th>fioul_dom_mhw</th>\n",
       "      <th>fioul_ndom_mhw</th>\n",
       "      <th>gpl_mhw</th>\n",
       "      <th>carbureacteur_mhw</th>\n",
       "      <th>car_mhw</th>\n",
       "      <th>car_p_mhw</th>\n",
       "      <th>engine_mhw</th>\n",
       "      <th>total_mhw</th>\n",
       "      <th>car_essence_mhw</th>\n",
       "      <th>car_gazole_mhw</th>\n",
       "    </tr>\n",
       "  </thead>\n",
       "  <tbody>\n",
       "    <tr>\n",
       "      <th>0</th>\n",
       "      <td>P</td>\n",
       "      <td>2010.0</td>\n",
       "      <td>75</td>\n",
       "      <td>PARIS</td>\n",
       "      <td>0.0</td>\n",
       "      <td>117211.6</td>\n",
       "      <td>25935.07617</td>\n",
       "      <td>56332.20348</td>\n",
       "      <td>34944.04249</td>\n",
       "      <td>0.0</td>\n",
       "      <td>...</td>\n",
       "      <td>232746.048</td>\n",
       "      <td>639819.072</td>\n",
       "      <td>0.0</td>\n",
       "      <td>0.0</td>\n",
       "      <td>5.717452e+06</td>\n",
       "      <td>5.717452e+06</td>\n",
       "      <td>639819.072</td>\n",
       "      <td>1.207472e+07</td>\n",
       "      <td>2.725870e+06</td>\n",
       "      <td>2991582.072</td>\n",
       "    </tr>\n",
       "    <tr>\n",
       "      <th>1</th>\n",
       "      <td>P</td>\n",
       "      <td>2010.0</td>\n",
       "      <td>77</td>\n",
       "      <td>SEINE-ET-MARNE</td>\n",
       "      <td>0.0</td>\n",
       "      <td>187748.4</td>\n",
       "      <td>100523.00780</td>\n",
       "      <td>46476.38612</td>\n",
       "      <td>40749.10293</td>\n",
       "      <td>0.0</td>\n",
       "      <td>...</td>\n",
       "      <td>1837282.140</td>\n",
       "      <td>306269.892</td>\n",
       "      <td>0.0</td>\n",
       "      <td>0.0</td>\n",
       "      <td>1.241048e+07</td>\n",
       "      <td>1.241048e+07</td>\n",
       "      <td>306269.892</td>\n",
       "      <td>2.512723e+07</td>\n",
       "      <td>4.366278e+06</td>\n",
       "      <td>8044203.888</td>\n",
       "    </tr>\n",
       "    <tr>\n",
       "      <th>2</th>\n",
       "      <td>P</td>\n",
       "      <td>2010.0</td>\n",
       "      <td>78</td>\n",
       "      <td>YVELINES</td>\n",
       "      <td>0.0</td>\n",
       "      <td>214284.0</td>\n",
       "      <td>84730.55979</td>\n",
       "      <td>75179.36611</td>\n",
       "      <td>54374.24572</td>\n",
       "      <td>0.0</td>\n",
       "      <td>...</td>\n",
       "      <td>1153567.368</td>\n",
       "      <td>14000.112</td>\n",
       "      <td>0.0</td>\n",
       "      <td>0.0</td>\n",
       "      <td>1.126837e+07</td>\n",
       "      <td>1.126837e+07</td>\n",
       "      <td>14000.112</td>\n",
       "      <td>2.255074e+07</td>\n",
       "      <td>4.983391e+06</td>\n",
       "      <td>6284980.512</td>\n",
       "    </tr>\n",
       "    <tr>\n",
       "      <th>3</th>\n",
       "      <td>P</td>\n",
       "      <td>2010.0</td>\n",
       "      <td>91</td>\n",
       "      <td>ESSONNE</td>\n",
       "      <td>0.0</td>\n",
       "      <td>182665.3</td>\n",
       "      <td>80948.69236</td>\n",
       "      <td>61748.45701</td>\n",
       "      <td>39968.02241</td>\n",
       "      <td>0.0</td>\n",
       "      <td>...</td>\n",
       "      <td>1075287.672</td>\n",
       "      <td>11290.788</td>\n",
       "      <td>0.0</td>\n",
       "      <td>0.0</td>\n",
       "      <td>1.066078e+07</td>\n",
       "      <td>1.066078e+07</td>\n",
       "      <td>11290.788</td>\n",
       "      <td>2.133284e+07</td>\n",
       "      <td>4.248063e+06</td>\n",
       "      <td>6412714.092</td>\n",
       "    </tr>\n",
       "    <tr>\n",
       "      <th>4</th>\n",
       "      <td>P</td>\n",
       "      <td>2010.0</td>\n",
       "      <td>92</td>\n",
       "      <td>HAUTS-DE-SEINE</td>\n",
       "      <td>0.0</td>\n",
       "      <td>141837.3</td>\n",
       "      <td>32156.60470</td>\n",
       "      <td>70295.26859</td>\n",
       "      <td>39385.48955</td>\n",
       "      <td>0.0</td>\n",
       "      <td>...</td>\n",
       "      <td>2265146.028</td>\n",
       "      <td>239943.780</td>\n",
       "      <td>0.0</td>\n",
       "      <td>0.0</td>\n",
       "      <td>6.445629e+06</td>\n",
       "      <td>6.445629e+06</td>\n",
       "      <td>239943.780</td>\n",
       "      <td>1.313120e+07</td>\n",
       "      <td>3.298569e+06</td>\n",
       "      <td>3147060.060</td>\n",
       "    </tr>\n",
       "  </tbody>\n",
       "</table>\n",
       "<p>5 rows × 40 columns</p>\n",
       "</div>"
      ],
      "text/plain": [
       "  energy    year dep_code        dep_name  super_plomb  super_sans_plomb  \\\n",
       "0      P  2010.0       75           PARIS          0.0          117211.6   \n",
       "1      P  2010.0       77  SEINE-ET-MARNE          0.0          187748.4   \n",
       "2      P  2010.0       78        YVELINES          0.0          214284.0   \n",
       "3      P  2010.0       91         ESSONNE          0.0          182665.3   \n",
       "4      P  2010.0       92  HAUTS-DE-SEINE          0.0          141837.3   \n",
       "\n",
       "   super_sans_plomb_95  super_sans_plomb_95_E10  super_sans_plomb_98  E85  \\\n",
       "0          25935.07617              56332.20348          34944.04249  0.0   \n",
       "1         100523.00780              46476.38612          40749.10293  0.0   \n",
       "2          84730.55979              75179.36611          54374.24572  0.0   \n",
       "3          80948.69236              61748.45701          39968.02241  0.0   \n",
       "4          32156.60470              70295.26859          39385.48955  0.0   \n",
       "\n",
       "   ...  fioul_dom_mhw  fioul_ndom_mhw  gpl_mhw  carbureacteur_mhw  \\\n",
       "0  ...     232746.048      639819.072      0.0                0.0   \n",
       "1  ...    1837282.140      306269.892      0.0                0.0   \n",
       "2  ...    1153567.368       14000.112      0.0                0.0   \n",
       "3  ...    1075287.672       11290.788      0.0                0.0   \n",
       "4  ...    2265146.028      239943.780      0.0                0.0   \n",
       "\n",
       "        car_mhw     car_p_mhw  engine_mhw     total_mhw  car_essence_mhw  \\\n",
       "0  5.717452e+06  5.717452e+06  639819.072  1.207472e+07     2.725870e+06   \n",
       "1  1.241048e+07  1.241048e+07  306269.892  2.512723e+07     4.366278e+06   \n",
       "2  1.126837e+07  1.126837e+07   14000.112  2.255074e+07     4.983391e+06   \n",
       "3  1.066078e+07  1.066078e+07   11290.788  2.133284e+07     4.248063e+06   \n",
       "4  6.445629e+06  6.445629e+06  239943.780  1.313120e+07     3.298569e+06   \n",
       "\n",
       "   car_gazole_mhw  \n",
       "0     2991582.072  \n",
       "1     8044203.888  \n",
       "2     6284980.512  \n",
       "3     6412714.092  \n",
       "4     3147060.060  \n",
       "\n",
       "[5 rows x 40 columns]"
      ]
     },
     "execution_count": 41,
     "metadata": {},
     "output_type": "execute_result"
    }
   ],
   "source": [
    "df_pconso.head()"
   ]
  },
  {
   "cell_type": "code",
   "execution_count": 53,
   "metadata": {},
   "outputs": [],
   "source": [
    "df_conso_p=df_pconso.groupby(['energy','year']).agg({'total_mhw':'sum'}).reset_index()"
   ]
  },
  {
   "cell_type": "code",
   "execution_count": 54,
   "metadata": {},
   "outputs": [],
   "source": [
    "df_conso_p.year=df_conso_p.year.astype(int)"
   ]
  },
  {
   "cell_type": "code",
   "execution_count": 55,
   "metadata": {},
   "outputs": [],
   "source": [
    "df_conso_p.columns=df_conso_ge.columns"
   ]
  },
  {
   "cell_type": "code",
   "execution_count": 56,
   "metadata": {},
   "outputs": [],
   "source": [
    "frames_tot=[df_conso_ge, df_conso_p]\n",
    "df_conso_gep=pd.concat(frames_tot)"
   ]
  },
  {
   "cell_type": "code",
   "execution_count": 57,
   "metadata": {},
   "outputs": [
    {
     "data": {
      "text/html": [
       "<div>\n",
       "<style scoped>\n",
       "    .dataframe tbody tr th:only-of-type {\n",
       "        vertical-align: middle;\n",
       "    }\n",
       "\n",
       "    .dataframe tbody tr th {\n",
       "        vertical-align: top;\n",
       "    }\n",
       "\n",
       "    .dataframe thead th {\n",
       "        text-align: right;\n",
       "    }\n",
       "</style>\n",
       "<table border=\"1\" class=\"dataframe\">\n",
       "  <thead>\n",
       "    <tr style=\"text-align: right;\">\n",
       "      <th></th>\n",
       "      <th>energy</th>\n",
       "      <th>year</th>\n",
       "      <th>total</th>\n",
       "    </tr>\n",
       "  </thead>\n",
       "  <tbody>\n",
       "    <tr>\n",
       "      <th>0</th>\n",
       "      <td>G</td>\n",
       "      <td>2010</td>\n",
       "      <td>1716592.57</td>\n",
       "    </tr>\n",
       "    <tr>\n",
       "      <th>1</th>\n",
       "      <td>G</td>\n",
       "      <td>2011</td>\n",
       "      <td>1687570.18</td>\n",
       "    </tr>\n",
       "    <tr>\n",
       "      <th>2</th>\n",
       "      <td>G</td>\n",
       "      <td>2012</td>\n",
       "      <td>1834899.20</td>\n",
       "    </tr>\n",
       "    <tr>\n",
       "      <th>3</th>\n",
       "      <td>G</td>\n",
       "      <td>2013</td>\n",
       "      <td>5002411.67</td>\n",
       "    </tr>\n",
       "    <tr>\n",
       "      <th>4</th>\n",
       "      <td>G</td>\n",
       "      <td>2014</td>\n",
       "      <td>4393433.50</td>\n",
       "    </tr>\n",
       "  </tbody>\n",
       "</table>\n",
       "</div>"
      ],
      "text/plain": [
       "  energy  year       total\n",
       "0      G  2010  1716592.57\n",
       "1      G  2011  1687570.18\n",
       "2      G  2012  1834899.20\n",
       "3      G  2013  5002411.67\n",
       "4      G  2014  4393433.50"
      ]
     },
     "execution_count": 57,
     "metadata": {},
     "output_type": "execute_result"
    }
   ],
   "source": [
    "df_conso_gep.head()"
   ]
  },
  {
   "cell_type": "code",
   "execution_count": 61,
   "metadata": {},
   "outputs": [
    {
     "data": {
      "text/html": [
       "<div>\n",
       "<style scoped>\n",
       "    .dataframe tbody tr th:only-of-type {\n",
       "        vertical-align: middle;\n",
       "    }\n",
       "\n",
       "    .dataframe tbody tr th {\n",
       "        vertical-align: top;\n",
       "    }\n",
       "\n",
       "    .dataframe thead th {\n",
       "        text-align: right;\n",
       "    }\n",
       "</style>\n",
       "<table border=\"1\" class=\"dataframe\">\n",
       "  <thead>\n",
       "    <tr style=\"text-align: right;\">\n",
       "      <th></th>\n",
       "      <th>energy</th>\n",
       "      <th>year</th>\n",
       "      <th>total</th>\n",
       "    </tr>\n",
       "  </thead>\n",
       "  <tbody>\n",
       "    <tr>\n",
       "      <th>2</th>\n",
       "      <td>G</td>\n",
       "      <td>2012</td>\n",
       "      <td>1.834899e+06</td>\n",
       "    </tr>\n",
       "    <tr>\n",
       "      <th>1</th>\n",
       "      <td>E</td>\n",
       "      <td>2012</td>\n",
       "      <td>1.063845e+07</td>\n",
       "    </tr>\n",
       "    <tr>\n",
       "      <th>2</th>\n",
       "      <td>P</td>\n",
       "      <td>2012</td>\n",
       "      <td>1.169589e+09</td>\n",
       "    </tr>\n",
       "  </tbody>\n",
       "</table>\n",
       "</div>"
      ],
      "text/plain": [
       "  energy  year         total\n",
       "2      G  2012  1.834899e+06\n",
       "1      E  2012  1.063845e+07\n",
       "2      P  2012  1.169589e+09"
      ]
     },
     "execution_count": 61,
     "metadata": {},
     "output_type": "execute_result"
    }
   ],
   "source": [
    "df_conso_gep.loc[df_conso_gep['year']==2012]"
   ]
  },
  {
   "cell_type": "code",
   "execution_count": 58,
   "metadata": {},
   "outputs": [
    {
     "data": {
      "text/plain": [
       "P    10\n",
       "G     8\n",
       "E     7\n",
       "Name: energy, dtype: int64"
      ]
     },
     "execution_count": 58,
     "metadata": {},
     "output_type": "execute_result"
    }
   ],
   "source": [
    "df_conso_gep.energy.value_counts()"
   ]
  },
  {
   "cell_type": "code",
   "execution_count": 59,
   "metadata": {},
   "outputs": [
    {
     "data": {
      "text/plain": [
       "2015    3\n",
       "2014    3\n",
       "2013    3\n",
       "2012    3\n",
       "2011    3\n",
       "2017    3\n",
       "2016    3\n",
       "2010    2\n",
       "2019    1\n",
       "2018    1\n",
       "Name: year, dtype: int64"
      ]
     },
     "execution_count": 59,
     "metadata": {},
     "output_type": "execute_result"
    }
   ],
   "source": [
    "df_conso_gep.year.value_counts()"
   ]
  },
  {
   "cell_type": "code",
   "execution_count": 60,
   "metadata": {},
   "outputs": [],
   "source": [
    "df_conso_gep.to_csv('df_conso_gep.csv', sep='/', index=False)"
   ]
  },
  {
   "cell_type": "code",
   "execution_count": null,
   "metadata": {},
   "outputs": [],
   "source": []
  },
  {
   "cell_type": "code",
   "execution_count": 62,
   "metadata": {},
   "outputs": [
    {
     "data": {
      "text/plain": [
       "Index(['energy', 'year', 'dep_code', 'dep_name', 'super_plomb',\n",
       "       'super_sans_plomb', 'super_sans_plomb_95', 'super_sans_plomb_95_E10',\n",
       "       'super_sans_plomb_98', 'E85', 'gazole', 'gazole_nr', 'fioul_dom',\n",
       "       'fioul_ndom', 'gpl', 'carbureacteur', 'car', 'car_p', 'engine', 'total',\n",
       "       'car_essence', 'car_gazole', 'super_plomb_mwh', 'super_sans_plomb_mhw',\n",
       "       'super_sans_plomb_95_mhw', 'super_sans_plomb_95_E10_mhw',\n",
       "       'super_sans_plomb_98_mhw', 'E85_mhw', 'gazole_mhw', 'gazole_nr_mhw',\n",
       "       'fioul_dom_mhw', 'fioul_ndom_mhw', 'gpl_mhw', 'carbureacteur_mhw',\n",
       "       'car_mhw', 'car_p_mhw', 'engine_mhw', 'total_mhw', 'car_essence_mhw',\n",
       "       'car_gazole_mhw'],\n",
       "      dtype='object')"
      ]
     },
     "execution_count": 62,
     "metadata": {},
     "output_type": "execute_result"
    }
   ],
   "source": [
    "df_pconso.columns"
   ]
  },
  {
   "cell_type": "code",
   "execution_count": 63,
   "metadata": {},
   "outputs": [],
   "source": [
    "df_test=df_pconso.groupby(['energy','year']).agg({'total_mhw':'sum',\n",
    "                                                 'super_plomb_mwh':'sum',\n",
    "                                                 'super_sans_plomb_mhw':'sum',\n",
    "                                                 'super_sans_plomb_95_mhw':'sum',\n",
    "                                                 'super_sans_plomb_95_E10_mhw':'sum',\n",
    "                                                 'super_sans_plomb_98_mhw':'sum',\n",
    "                                                 'E85_mhw':'sum',\n",
    "                                                 'gazole_mhw':'sum',\n",
    "                                                 'gazole_nr_mhw':'sum',\n",
    "                                                 'fioul_dom_mhw':'sum',\n",
    "                                                 'fioul_ndom_mhw':'sum',\n",
    "                                                 'gpl_mhw':'sum',\n",
    "                                                 'carbureacteur_mhw':'sum'\n",
    "                                                 }).reset_index()"
   ]
  },
  {
   "cell_type": "code",
   "execution_count": 64,
   "metadata": {},
   "outputs": [
    {
     "data": {
      "text/html": [
       "<div>\n",
       "<style scoped>\n",
       "    .dataframe tbody tr th:only-of-type {\n",
       "        vertical-align: middle;\n",
       "    }\n",
       "\n",
       "    .dataframe tbody tr th {\n",
       "        vertical-align: top;\n",
       "    }\n",
       "\n",
       "    .dataframe thead th {\n",
       "        text-align: right;\n",
       "    }\n",
       "</style>\n",
       "<table border=\"1\" class=\"dataframe\">\n",
       "  <thead>\n",
       "    <tr style=\"text-align: right;\">\n",
       "      <th></th>\n",
       "      <th>energy</th>\n",
       "      <th>year</th>\n",
       "      <th>total_mhw</th>\n",
       "      <th>super_plomb_mwh</th>\n",
       "      <th>super_sans_plomb_mhw</th>\n",
       "      <th>super_sans_plomb_95_mhw</th>\n",
       "      <th>super_sans_plomb_95_E10_mhw</th>\n",
       "      <th>super_sans_plomb_98_mhw</th>\n",
       "      <th>E85_mhw</th>\n",
       "      <th>gazole_mhw</th>\n",
       "      <th>gazole_nr_mhw</th>\n",
       "      <th>fioul_dom_mhw</th>\n",
       "      <th>fioul_ndom_mhw</th>\n",
       "      <th>gpl_mhw</th>\n",
       "      <th>carbureacteur_mhw</th>\n",
       "    </tr>\n",
       "  </thead>\n",
       "  <tbody>\n",
       "    <tr>\n",
       "      <th>0</th>\n",
       "      <td>P</td>\n",
       "      <td>2010.0</td>\n",
       "      <td>1.154387e+09</td>\n",
       "      <td>0.0</td>\n",
       "      <td>9.269973e+07</td>\n",
       "      <td>6.154810e+07</td>\n",
       "      <td>1.253046e+07</td>\n",
       "      <td>1.862119e+07</td>\n",
       "      <td>0.0</td>\n",
       "      <td>3.833143e+08</td>\n",
       "      <td>0.000000e+00</td>\n",
       "      <td>1.491662e+08</td>\n",
       "      <td>1.695954e+07</td>\n",
       "      <td>0.0</td>\n",
       "      <td>0.0</td>\n",
       "    </tr>\n",
       "    <tr>\n",
       "      <th>1</th>\n",
       "      <td>P</td>\n",
       "      <td>2011.0</td>\n",
       "      <td>1.136357e+09</td>\n",
       "      <td>0.0</td>\n",
       "      <td>8.738621e+07</td>\n",
       "      <td>5.508028e+07</td>\n",
       "      <td>1.571598e+07</td>\n",
       "      <td>1.658995e+07</td>\n",
       "      <td>0.0</td>\n",
       "      <td>3.863350e+08</td>\n",
       "      <td>0.000000e+00</td>\n",
       "      <td>1.335046e+08</td>\n",
       "      <td>1.414247e+07</td>\n",
       "      <td>0.0</td>\n",
       "      <td>0.0</td>\n",
       "    </tr>\n",
       "    <tr>\n",
       "      <th>2</th>\n",
       "      <td>P</td>\n",
       "      <td>2012.0</td>\n",
       "      <td>1.169589e+09</td>\n",
       "      <td>0.0</td>\n",
       "      <td>8.288083e+07</td>\n",
       "      <td>4.670272e+07</td>\n",
       "      <td>2.115455e+07</td>\n",
       "      <td>1.502357e+07</td>\n",
       "      <td>0.0</td>\n",
       "      <td>3.900389e+08</td>\n",
       "      <td>4.619047e+07</td>\n",
       "      <td>8.874759e+07</td>\n",
       "      <td>1.179751e+07</td>\n",
       "      <td>0.0</td>\n",
       "      <td>0.0</td>\n",
       "    </tr>\n",
       "    <tr>\n",
       "      <th>3</th>\n",
       "      <td>P</td>\n",
       "      <td>2013.0</td>\n",
       "      <td>1.159696e+09</td>\n",
       "      <td>0.0</td>\n",
       "      <td>8.036124e+07</td>\n",
       "      <td>4.097985e+07</td>\n",
       "      <td>2.437765e+07</td>\n",
       "      <td>1.500374e+07</td>\n",
       "      <td>0.0</td>\n",
       "      <td>3.899794e+08</td>\n",
       "      <td>4.978137e+07</td>\n",
       "      <td>9.010013e+07</td>\n",
       "      <td>8.510894e+06</td>\n",
       "      <td>0.0</td>\n",
       "      <td>0.0</td>\n",
       "    </tr>\n",
       "    <tr>\n",
       "      <th>4</th>\n",
       "      <td>P</td>\n",
       "      <td>2014.0</td>\n",
       "      <td>1.167387e+09</td>\n",
       "      <td>0.0</td>\n",
       "      <td>8.045844e+07</td>\n",
       "      <td>3.819082e+07</td>\n",
       "      <td>2.622719e+07</td>\n",
       "      <td>1.604044e+07</td>\n",
       "      <td>0.0</td>\n",
       "      <td>3.941101e+08</td>\n",
       "      <td>5.081570e+07</td>\n",
       "      <td>7.449128e+07</td>\n",
       "      <td>6.517820e+06</td>\n",
       "      <td>0.0</td>\n",
       "      <td>0.0</td>\n",
       "    </tr>\n",
       "  </tbody>\n",
       "</table>\n",
       "</div>"
      ],
      "text/plain": [
       "  energy    year     total_mhw  super_plomb_mwh  super_sans_plomb_mhw  \\\n",
       "0      P  2010.0  1.154387e+09              0.0          9.269973e+07   \n",
       "1      P  2011.0  1.136357e+09              0.0          8.738621e+07   \n",
       "2      P  2012.0  1.169589e+09              0.0          8.288083e+07   \n",
       "3      P  2013.0  1.159696e+09              0.0          8.036124e+07   \n",
       "4      P  2014.0  1.167387e+09              0.0          8.045844e+07   \n",
       "\n",
       "   super_sans_plomb_95_mhw  super_sans_plomb_95_E10_mhw  \\\n",
       "0             6.154810e+07                 1.253046e+07   \n",
       "1             5.508028e+07                 1.571598e+07   \n",
       "2             4.670272e+07                 2.115455e+07   \n",
       "3             4.097985e+07                 2.437765e+07   \n",
       "4             3.819082e+07                 2.622719e+07   \n",
       "\n",
       "   super_sans_plomb_98_mhw  E85_mhw    gazole_mhw  gazole_nr_mhw  \\\n",
       "0             1.862119e+07      0.0  3.833143e+08   0.000000e+00   \n",
       "1             1.658995e+07      0.0  3.863350e+08   0.000000e+00   \n",
       "2             1.502357e+07      0.0  3.900389e+08   4.619047e+07   \n",
       "3             1.500374e+07      0.0  3.899794e+08   4.978137e+07   \n",
       "4             1.604044e+07      0.0  3.941101e+08   5.081570e+07   \n",
       "\n",
       "   fioul_dom_mhw  fioul_ndom_mhw  gpl_mhw  carbureacteur_mhw  \n",
       "0   1.491662e+08    1.695954e+07      0.0                0.0  \n",
       "1   1.335046e+08    1.414247e+07      0.0                0.0  \n",
       "2   8.874759e+07    1.179751e+07      0.0                0.0  \n",
       "3   9.010013e+07    8.510894e+06      0.0                0.0  \n",
       "4   7.449128e+07    6.517820e+06      0.0                0.0  "
      ]
     },
     "execution_count": 64,
     "metadata": {},
     "output_type": "execute_result"
    }
   ],
   "source": [
    "df_test.head()"
   ]
  },
  {
   "cell_type": "code",
   "execution_count": null,
   "metadata": {},
   "outputs": [],
   "source": []
  }
 ],
 "metadata": {
  "kernelspec": {
   "display_name": "Python 3",
   "language": "python",
   "name": "python3"
  },
  "language_info": {
   "codemirror_mode": {
    "name": "ipython",
    "version": 3
   },
   "file_extension": ".py",
   "mimetype": "text/x-python",
   "name": "python",
   "nbconvert_exporter": "python",
   "pygments_lexer": "ipython3",
   "version": "3.8.5"
  },
  "toc": {
   "base_numbering": 1,
   "nav_menu": {},
   "number_sections": true,
   "sideBar": true,
   "skip_h1_title": false,
   "title_cell": "Table of Contents",
   "title_sidebar": "Contents",
   "toc_cell": false,
   "toc_position": {},
   "toc_section_display": true,
   "toc_window_display": false
  }
 },
 "nbformat": 4,
 "nbformat_minor": 4
}
