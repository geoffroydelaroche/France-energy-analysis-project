{
 "cells": [
  {
   "cell_type": "markdown",
   "metadata": {},
   "source": [
    "# Import libraries"
   ]
  },
  {
   "cell_type": "code",
   "execution_count": 1,
   "metadata": {},
   "outputs": [],
   "source": [
    "import pandas as pd\n",
    "import numpy as np"
   ]
  },
  {
   "cell_type": "markdown",
   "metadata": {},
   "source": [
    "# Get the data"
   ]
  },
  {
   "cell_type": "markdown",
   "metadata": {},
   "source": [
    "We will first create dataframes for each year and then concatenate all years dataframes"
   ]
  },
  {
   "cell_type": "markdown",
   "metadata": {},
   "source": [
    "We know from the presentation data file, that the data are very low before 2011, so we will extract only dataframes from year 2011"
   ]
  },
  {
   "cell_type": "code",
   "execution_count": 2,
   "metadata": {},
   "outputs": [],
   "source": [
    "df_2011=pd.read_csv('/Users/Jeff/Ironhack/248_Repo/Projects/Final project/Electricty/Data_new/donnees_elec_2011.csv', encoding = \"ISO-8859-1\", sep=';')"
   ]
  },
  {
   "cell_type": "code",
   "execution_count": 3,
   "metadata": {},
   "outputs": [
    {
     "data": {
      "text/plain": [
       "(48774, 20)"
      ]
     },
     "execution_count": 3,
     "metadata": {},
     "output_type": "execute_result"
    }
   ],
   "source": [
    "df_2011.shape"
   ]
  },
  {
   "cell_type": "code",
   "execution_count": 4,
   "metadata": {},
   "outputs": [
    {
     "name": "stderr",
     "output_type": "stream",
     "text": [
      "/usr/local/Cellar/jupyterlab/2.2.0/libexec/lib/python3.8/site-packages/IPython/core/interactiveshell.py:3071: DtypeWarning: Columns (4) have mixed types.Specify dtype option on import or set low_memory=False.\n",
      "  has_raised = await self.run_ast_nodes(code_ast.body, cell_name,\n"
     ]
    }
   ],
   "source": [
    "df_2012=pd.read_csv('/Users/Jeff/Ironhack/248_Repo/Projects/Final project/Electricty/Data_new/donnees_elec_2012.csv', encoding = \"ISO-8859-1\", sep=';')"
   ]
  },
  {
   "cell_type": "code",
   "execution_count": 5,
   "metadata": {},
   "outputs": [
    {
     "data": {
      "text/plain": [
       "(50394, 20)"
      ]
     },
     "execution_count": 5,
     "metadata": {},
     "output_type": "execute_result"
    }
   ],
   "source": [
    "df_2012.shape"
   ]
  },
  {
   "cell_type": "code",
   "execution_count": 6,
   "metadata": {},
   "outputs": [],
   "source": [
    "df_2013=pd.read_csv('/Users/Jeff/Ironhack/248_Repo/Projects/Final project/Electricty/Data_new/donnees_elec_2013.csv', encoding = \"ISO-8859-1\", sep=';')"
   ]
  },
  {
   "cell_type": "code",
   "execution_count": 7,
   "metadata": {},
   "outputs": [
    {
     "data": {
      "text/plain": [
       "(50877, 20)"
      ]
     },
     "execution_count": 7,
     "metadata": {},
     "output_type": "execute_result"
    }
   ],
   "source": [
    "df_2013.shape"
   ]
  },
  {
   "cell_type": "code",
   "execution_count": 8,
   "metadata": {},
   "outputs": [],
   "source": [
    "df_2014=pd.read_csv('/Users/Jeff/Ironhack/248_Repo/Projects/Final project/Electricty/Data_new/donnees_elec_2014.csv', encoding = \"ISO-8859-1\", sep=';')"
   ]
  },
  {
   "cell_type": "code",
   "execution_count": 9,
   "metadata": {},
   "outputs": [
    {
     "data": {
      "text/plain": [
       "(50904, 20)"
      ]
     },
     "execution_count": 9,
     "metadata": {},
     "output_type": "execute_result"
    }
   ],
   "source": [
    "df_2014.shape"
   ]
  },
  {
   "cell_type": "code",
   "execution_count": 10,
   "metadata": {},
   "outputs": [],
   "source": [
    "df_2015=pd.read_csv('/Users/Jeff/Ironhack/248_Repo/Projects/Final project/Electricty/Data_new/donnees_elec_2015.csv', encoding = \"ISO-8859-1\", sep=';')"
   ]
  },
  {
   "cell_type": "code",
   "execution_count": 11,
   "metadata": {},
   "outputs": [
    {
     "data": {
      "text/plain": [
       "(52516, 20)"
      ]
     },
     "execution_count": 11,
     "metadata": {},
     "output_type": "execute_result"
    }
   ],
   "source": [
    "df_2015.shape"
   ]
  },
  {
   "cell_type": "code",
   "execution_count": 12,
   "metadata": {},
   "outputs": [],
   "source": [
    "df_2016=pd.read_csv('/Users/Jeff/Ironhack/248_Repo/Projects/Final project/Electricty/Data_new/donnees_elec_2016.csv', encoding = \"ISO-8859-1\", sep=';')"
   ]
  },
  {
   "cell_type": "code",
   "execution_count": 13,
   "metadata": {},
   "outputs": [
    {
     "data": {
      "text/plain": [
       "(52585, 20)"
      ]
     },
     "execution_count": 13,
     "metadata": {},
     "output_type": "execute_result"
    }
   ],
   "source": [
    "df_2016.shape"
   ]
  },
  {
   "cell_type": "code",
   "execution_count": 14,
   "metadata": {},
   "outputs": [],
   "source": [
    "df_2017=pd.read_csv('/Users/Jeff/Ironhack/248_Repo/Projects/Final project/Electricty/Data_new/donnees_elec_2017.csv', encoding = \"ISO-8859-1\", sep=';')"
   ]
  },
  {
   "cell_type": "code",
   "execution_count": 15,
   "metadata": {},
   "outputs": [
    {
     "data": {
      "text/plain": [
       "(52273, 22)"
      ]
     },
     "execution_count": 15,
     "metadata": {},
     "output_type": "execute_result"
    }
   ],
   "source": [
    "df_2017.shape"
   ]
  },
  {
   "cell_type": "code",
   "execution_count": 16,
   "metadata": {},
   "outputs": [],
   "source": [
    "frames=[df_2011, df_2012, df_2013, df_2014, df_2015, df_2016, df_2017]"
   ]
  },
  {
   "cell_type": "code",
   "execution_count": 17,
   "metadata": {},
   "outputs": [],
   "source": [
    "# Create the concatenate dataframe\n",
    "df_electricity1=pd.concat(frames)"
   ]
  },
  {
   "cell_type": "code",
   "execution_count": 18,
   "metadata": {},
   "outputs": [
    {
     "data": {
      "text/plain": [
       "(358323, 22)"
      ]
     },
     "execution_count": 18,
     "metadata": {},
     "output_type": "execute_result"
    }
   ],
   "source": [
    "df_electricity1.shape"
   ]
  },
  {
   "cell_type": "code",
   "execution_count": 19,
   "metadata": {},
   "outputs": [],
   "source": [
    "# Save the dataframe as a csv\n",
    "df_electricity1.to_csv('df_electricity.csv', sep='/', index=False)"
   ]
  },
  {
   "cell_type": "markdown",
   "metadata": {},
   "source": [
    "# Data cleaning"
   ]
  },
  {
   "cell_type": "markdown",
   "metadata": {},
   "source": [
    "## Missing values"
   ]
  },
  {
   "cell_type": "code",
   "execution_count": 20,
   "metadata": {},
   "outputs": [
    {
     "data": {
      "text/html": [
       "<div>\n",
       "<style scoped>\n",
       "    .dataframe tbody tr th:only-of-type {\n",
       "        vertical-align: middle;\n",
       "    }\n",
       "\n",
       "    .dataframe tbody tr th {\n",
       "        vertical-align: top;\n",
       "    }\n",
       "\n",
       "    .dataframe thead th {\n",
       "        text-align: right;\n",
       "    }\n",
       "</style>\n",
       "<table border=\"1\" class=\"dataframe\">\n",
       "  <thead>\n",
       "    <tr style=\"text-align: right;\">\n",
       "      <th></th>\n",
       "      <th>OPERATEUR</th>\n",
       "      <th>ANNEE</th>\n",
       "      <th>FILIERE</th>\n",
       "      <th>TYPE</th>\n",
       "      <th>CODE</th>\n",
       "      <th>CONSOA</th>\n",
       "      <th>PDLA</th>\n",
       "      <th>INDQUALA</th>\n",
       "      <th>CONSOI</th>\n",
       "      <th>PDLI</th>\n",
       "      <th>...</th>\n",
       "      <th>PDLT</th>\n",
       "      <th>INDQUALT</th>\n",
       "      <th>CONSOR</th>\n",
       "      <th>PDLR</th>\n",
       "      <th>INDQUALR</th>\n",
       "      <th>CONSONA</th>\n",
       "      <th>PDLNA</th>\n",
       "      <th>INDQUALNA</th>\n",
       "      <th>THERMOR</th>\n",
       "      <th>PARTR</th>\n",
       "    </tr>\n",
       "  </thead>\n",
       "  <tbody>\n",
       "    <tr>\n",
       "      <th>0</th>\n",
       "      <td>Enedis</td>\n",
       "      <td>2011</td>\n",
       "      <td>E</td>\n",
       "      <td>InterCom</td>\n",
       "      <td>0</td>\n",
       "      <td>0,00</td>\n",
       "      <td>0</td>\n",
       "      <td>0,000000</td>\n",
       "      <td>0,00</td>\n",
       "      <td>0</td>\n",
       "      <td>...</td>\n",
       "      <td>0</td>\n",
       "      <td>0,000000</td>\n",
       "      <td>1682,00</td>\n",
       "      <td>176</td>\n",
       "      <td>0,372100</td>\n",
       "      <td>0,00</td>\n",
       "      <td>0</td>\n",
       "      <td>0,000000</td>\n",
       "      <td>NaN</td>\n",
       "      <td>NaN</td>\n",
       "    </tr>\n",
       "    <tr>\n",
       "      <th>1</th>\n",
       "      <td>Enedis</td>\n",
       "      <td>2011</td>\n",
       "      <td>E</td>\n",
       "      <td>Region</td>\n",
       "      <td>11</td>\n",
       "      <td>0,00</td>\n",
       "      <td>0</td>\n",
       "      <td>0,000000</td>\n",
       "      <td>0,00</td>\n",
       "      <td>0</td>\n",
       "      <td>...</td>\n",
       "      <td>0</td>\n",
       "      <td>0,000000</td>\n",
       "      <td>2964,78</td>\n",
       "      <td>285</td>\n",
       "      <td>0,356390</td>\n",
       "      <td>0,00</td>\n",
       "      <td>0</td>\n",
       "      <td>0,000000</td>\n",
       "      <td>NaN</td>\n",
       "      <td>NaN</td>\n",
       "    </tr>\n",
       "    <tr>\n",
       "      <th>2</th>\n",
       "      <td>Enedis</td>\n",
       "      <td>2011</td>\n",
       "      <td>E</td>\n",
       "      <td>InterCom</td>\n",
       "      <td>200023414</td>\n",
       "      <td>0,00</td>\n",
       "      <td>0</td>\n",
       "      <td>0,000000</td>\n",
       "      <td>0,00</td>\n",
       "      <td>0</td>\n",
       "      <td>...</td>\n",
       "      <td>0</td>\n",
       "      <td>0,000000</td>\n",
       "      <td>333,32</td>\n",
       "      <td>32</td>\n",
       "      <td>0,506710</td>\n",
       "      <td>0,00</td>\n",
       "      <td>0</td>\n",
       "      <td>0,000000</td>\n",
       "      <td>NaN</td>\n",
       "      <td>NaN</td>\n",
       "    </tr>\n",
       "    <tr>\n",
       "      <th>3</th>\n",
       "      <td>Enedis</td>\n",
       "      <td>2011</td>\n",
       "      <td>E</td>\n",
       "      <td>Region</td>\n",
       "      <td>21</td>\n",
       "      <td>0,00</td>\n",
       "      <td>0</td>\n",
       "      <td>0,000000</td>\n",
       "      <td>0,00</td>\n",
       "      <td>0</td>\n",
       "      <td>...</td>\n",
       "      <td>0</td>\n",
       "      <td>0,000000</td>\n",
       "      <td>278,42</td>\n",
       "      <td>51</td>\n",
       "      <td>0,331370</td>\n",
       "      <td>0,00</td>\n",
       "      <td>0</td>\n",
       "      <td>0,000000</td>\n",
       "      <td>NaN</td>\n",
       "      <td>NaN</td>\n",
       "    </tr>\n",
       "    <tr>\n",
       "      <th>4</th>\n",
       "      <td>Enedis</td>\n",
       "      <td>2011</td>\n",
       "      <td>E</td>\n",
       "      <td>Region</td>\n",
       "      <td>22</td>\n",
       "      <td>0,00</td>\n",
       "      <td>0</td>\n",
       "      <td>0,000000</td>\n",
       "      <td>0,00</td>\n",
       "      <td>0</td>\n",
       "      <td>...</td>\n",
       "      <td>0</td>\n",
       "      <td>0,000000</td>\n",
       "      <td>164,48</td>\n",
       "      <td>24</td>\n",
       "      <td>0,671570</td>\n",
       "      <td>0,00</td>\n",
       "      <td>0</td>\n",
       "      <td>0,000000</td>\n",
       "      <td>NaN</td>\n",
       "      <td>NaN</td>\n",
       "    </tr>\n",
       "  </tbody>\n",
       "</table>\n",
       "<p>5 rows × 22 columns</p>\n",
       "</div>"
      ],
      "text/plain": [
       "  OPERATEUR  ANNEE FILIERE      TYPE       CODE CONSOA  PDLA  INDQUALA CONSOI  \\\n",
       "0    Enedis   2011       E  InterCom          0   0,00     0  0,000000   0,00   \n",
       "1    Enedis   2011       E    Region         11   0,00     0  0,000000   0,00   \n",
       "2    Enedis   2011       E  InterCom  200023414   0,00     0  0,000000   0,00   \n",
       "3    Enedis   2011       E    Region         21   0,00     0  0,000000   0,00   \n",
       "4    Enedis   2011       E    Region         22   0,00     0  0,000000   0,00   \n",
       "\n",
       "   PDLI  ... PDLT  INDQUALT   CONSOR PDLR  INDQUALR  CONSONA PDLNA INDQUALNA  \\\n",
       "0     0  ...    0  0,000000  1682,00  176  0,372100     0,00     0  0,000000   \n",
       "1     0  ...    0  0,000000  2964,78  285  0,356390     0,00     0  0,000000   \n",
       "2     0  ...    0  0,000000   333,32   32  0,506710     0,00     0  0,000000   \n",
       "3     0  ...    0  0,000000   278,42   51  0,331370     0,00     0  0,000000   \n",
       "4     0  ...    0  0,000000   164,48   24  0,671570     0,00     0  0,000000   \n",
       "\n",
       "   THERMOR PARTR  \n",
       "0      NaN   NaN  \n",
       "1      NaN   NaN  \n",
       "2      NaN   NaN  \n",
       "3      NaN   NaN  \n",
       "4      NaN   NaN  \n",
       "\n",
       "[5 rows x 22 columns]"
      ]
     },
     "execution_count": 20,
     "metadata": {},
     "output_type": "execute_result"
    }
   ],
   "source": [
    "df_electricity1.head()"
   ]
  },
  {
   "cell_type": "code",
   "execution_count": 21,
   "metadata": {},
   "outputs": [
    {
     "data": {
      "text/plain": [
       "(358323, 22)"
      ]
     },
     "execution_count": 21,
     "metadata": {},
     "output_type": "execute_result"
    }
   ],
   "source": [
    "df_electricity1.shape"
   ]
  },
  {
   "cell_type": "code",
   "execution_count": 22,
   "metadata": {},
   "outputs": [
    {
     "data": {
      "text/plain": [
       "OPERATEUR         0\n",
       "ANNEE             0\n",
       "FILIERE           0\n",
       "TYPE              0\n",
       "CODE              0\n",
       "CONSOA            0\n",
       "PDLA              0\n",
       "INDQUALA          0\n",
       "CONSOI            0\n",
       "PDLI              0\n",
       "INDQUALI          0\n",
       "CONSOT            0\n",
       "PDLT              0\n",
       "INDQUALT          0\n",
       "CONSOR            0\n",
       "PDLR              0\n",
       "INDQUALR          0\n",
       "CONSONA           0\n",
       "PDLNA             0\n",
       "INDQUALNA         0\n",
       "THERMOR      306058\n",
       "PARTR        306058\n",
       "dtype: int64"
      ]
     },
     "execution_count": 22,
     "metadata": {},
     "output_type": "execute_result"
    }
   ],
   "source": [
    "df_electricity1.isna().sum()"
   ]
  },
  {
   "cell_type": "markdown",
   "metadata": {},
   "source": [
    "As the major part of THERMOR and PARTR columns are missing values, we decide to drop them."
   ]
  },
  {
   "cell_type": "code",
   "execution_count": 23,
   "metadata": {},
   "outputs": [],
   "source": [
    "df_electricity1.drop(['THERMOR','PARTR'], axis=1, inplace=True)"
   ]
  },
  {
   "cell_type": "code",
   "execution_count": 24,
   "metadata": {},
   "outputs": [
    {
     "data": {
      "text/plain": [
       "OPERATEUR    0\n",
       "ANNEE        0\n",
       "FILIERE      0\n",
       "TYPE         0\n",
       "CODE         0\n",
       "CONSOA       0\n",
       "PDLA         0\n",
       "INDQUALA     0\n",
       "CONSOI       0\n",
       "PDLI         0\n",
       "INDQUALI     0\n",
       "CONSOT       0\n",
       "PDLT         0\n",
       "INDQUALT     0\n",
       "CONSOR       0\n",
       "PDLR         0\n",
       "INDQUALR     0\n",
       "CONSONA      0\n",
       "PDLNA        0\n",
       "INDQUALNA    0\n",
       "dtype: int64"
      ]
     },
     "execution_count": 24,
     "metadata": {},
     "output_type": "execute_result"
    }
   ],
   "source": [
    "df_electricity1.isna().sum()"
   ]
  },
  {
   "cell_type": "markdown",
   "metadata": {},
   "source": [
    "No more missing value"
   ]
  },
  {
   "cell_type": "code",
   "execution_count": 25,
   "metadata": {},
   "outputs": [],
   "source": [
    "# Reset the index because index wasn't unique\n",
    "df_electricity1.reset_index(inplace=True, drop=True)"
   ]
  },
  {
   "cell_type": "markdown",
   "metadata": {},
   "source": [
    "## Data level"
   ]
  },
  {
   "cell_type": "code",
   "execution_count": 26,
   "metadata": {},
   "outputs": [
    {
     "data": {
      "text/plain": [
       "IRIS        346862\n",
       "Commune      10972\n",
       "InterCom       351\n",
       "Region         138\n",
       "Name: TYPE, dtype: int64"
      ]
     },
     "execution_count": 26,
     "metadata": {},
     "output_type": "execute_result"
    }
   ],
   "source": [
    "df_electricity1['TYPE'].value_counts()"
   ]
  },
  {
   "cell_type": "markdown",
   "metadata": {},
   "source": [
    "As we can see, there are several type of area. In order to do our analysis we will only keep the value by commune"
   ]
  },
  {
   "cell_type": "code",
   "execution_count": 27,
   "metadata": {},
   "outputs": [],
   "source": [
    "df_electricity=df_electricity1.drop(df_electricity1[ (df_electricity1['TYPE'] != 'Commune') ].index)"
   ]
  },
  {
   "cell_type": "code",
   "execution_count": 28,
   "metadata": {},
   "outputs": [
    {
     "data": {
      "text/plain": [
       "Commune    10972\n",
       "Name: TYPE, dtype: int64"
      ]
     },
     "execution_count": 28,
     "metadata": {},
     "output_type": "execute_result"
    }
   ],
   "source": [
    "df_electricity['TYPE'].value_counts()"
   ]
  },
  {
   "cell_type": "markdown",
   "metadata": {},
   "source": [
    "We will also create a new dataframe containing the value by region"
   ]
  },
  {
   "cell_type": "code",
   "execution_count": 29,
   "metadata": {},
   "outputs": [],
   "source": [
    "df_elec_region=df_electricity1.loc[df_electricity1['TYPE']=='Region']"
   ]
  },
  {
   "cell_type": "code",
   "execution_count": 30,
   "metadata": {},
   "outputs": [
    {
     "data": {
      "text/plain": [
       "Region    138\n",
       "Name: TYPE, dtype: int64"
      ]
     },
     "execution_count": 30,
     "metadata": {},
     "output_type": "execute_result"
    }
   ],
   "source": [
    "df_elec_region.TYPE.value_counts()"
   ]
  },
  {
   "cell_type": "markdown",
   "metadata": {},
   "source": [
    "## Data types"
   ]
  },
  {
   "cell_type": "code",
   "execution_count": 31,
   "metadata": {},
   "outputs": [
    {
     "name": "stdout",
     "output_type": "stream",
     "text": [
      "<class 'pandas.core.frame.DataFrame'>\n",
      "Int64Index: 10972 entries, 2476 to 358322\n",
      "Data columns (total 20 columns):\n",
      " #   Column     Non-Null Count  Dtype \n",
      "---  ------     --------------  ----- \n",
      " 0   OPERATEUR  10972 non-null  object\n",
      " 1   ANNEE      10972 non-null  int64 \n",
      " 2   FILIERE    10972 non-null  object\n",
      " 3   TYPE       10972 non-null  object\n",
      " 4   CODE       10972 non-null  object\n",
      " 5   CONSOA     10972 non-null  object\n",
      " 6   PDLA       10972 non-null  int64 \n",
      " 7   INDQUALA   10972 non-null  object\n",
      " 8   CONSOI     10972 non-null  object\n",
      " 9   PDLI       10972 non-null  int64 \n",
      " 10  INDQUALI   10972 non-null  object\n",
      " 11  CONSOT     10972 non-null  object\n",
      " 12  PDLT       10972 non-null  int64 \n",
      " 13  INDQUALT   10972 non-null  object\n",
      " 14  CONSOR     10972 non-null  object\n",
      " 15  PDLR       10972 non-null  int64 \n",
      " 16  INDQUALR   10972 non-null  object\n",
      " 17  CONSONA    10972 non-null  object\n",
      " 18  PDLNA      10972 non-null  int64 \n",
      " 19  INDQUALNA  10972 non-null  object\n",
      "dtypes: int64(6), object(14)\n",
      "memory usage: 1.8+ MB\n"
     ]
    }
   ],
   "source": [
    "df_electricity.info()"
   ]
  },
  {
   "cell_type": "markdown",
   "metadata": {},
   "source": [
    "As we can see, some of the columns have a wrong data type, we will transform the data type of those columns"
   ]
  },
  {
   "cell_type": "code",
   "execution_count": 32,
   "metadata": {},
   "outputs": [],
   "source": [
    "df_electricity[['CONSOA','INDQUALA','CONSOI','INDQUALI','CONSOT','INDQUALT','CONSOR','INDQUALR','CONSONA','INDQUALNA']]=df_electricity[['CONSOA','INDQUALA','CONSOI','INDQUALI','CONSOT','INDQUALT','CONSOR','INDQUALR','CONSONA','INDQUALNA']].apply(lambda x: x.str.replace(',','.'))"
   ]
  },
  {
   "cell_type": "code",
   "execution_count": 33,
   "metadata": {},
   "outputs": [],
   "source": [
    "df_electricity[['CONSOA','INDQUALA','CONSOI','INDQUALI','CONSOT','INDQUALT','CONSOR','INDQUALR','CONSONA','INDQUALNA']] = df_electricity[['CONSOA','INDQUALA','CONSOI','INDQUALI','CONSOT','INDQUALT','CONSOR','INDQUALR','CONSONA','INDQUALNA']].apply(pd.to_numeric)"
   ]
  },
  {
   "cell_type": "code",
   "execution_count": 34,
   "metadata": {},
   "outputs": [
    {
     "data": {
      "text/plain": [
       "array([6103, 9015, 9076, ..., '97615', '97616', '97617'], dtype=object)"
      ]
     },
     "execution_count": 34,
     "metadata": {},
     "output_type": "execute_result"
    }
   ],
   "source": [
    "df_electricity['CODE'].unique()"
   ]
  },
  {
   "cell_type": "markdown",
   "metadata": {},
   "source": [
    "As we can see, some of the values in the column are string and others are number, we will convert all the values as string"
   ]
  },
  {
   "cell_type": "code",
   "execution_count": 35,
   "metadata": {},
   "outputs": [],
   "source": [
    "df_electricity['CODE']=df_electricity['CODE'].apply(str)"
   ]
  },
  {
   "cell_type": "code",
   "execution_count": 36,
   "metadata": {},
   "outputs": [
    {
     "name": "stdout",
     "output_type": "stream",
     "text": [
      "<class 'pandas.core.frame.DataFrame'>\n",
      "Int64Index: 10972 entries, 2476 to 358322\n",
      "Data columns (total 20 columns):\n",
      " #   Column     Non-Null Count  Dtype  \n",
      "---  ------     --------------  -----  \n",
      " 0   OPERATEUR  10972 non-null  object \n",
      " 1   ANNEE      10972 non-null  int64  \n",
      " 2   FILIERE    10972 non-null  object \n",
      " 3   TYPE       10972 non-null  object \n",
      " 4   CODE       10972 non-null  object \n",
      " 5   CONSOA     10972 non-null  float64\n",
      " 6   PDLA       10972 non-null  int64  \n",
      " 7   INDQUALA   10972 non-null  float64\n",
      " 8   CONSOI     10972 non-null  float64\n",
      " 9   PDLI       10972 non-null  int64  \n",
      " 10  INDQUALI   10972 non-null  float64\n",
      " 11  CONSOT     10972 non-null  float64\n",
      " 12  PDLT       10972 non-null  int64  \n",
      " 13  INDQUALT   10972 non-null  float64\n",
      " 14  CONSOR     10972 non-null  float64\n",
      " 15  PDLR       10972 non-null  int64  \n",
      " 16  INDQUALR   10972 non-null  float64\n",
      " 17  CONSONA    10972 non-null  float64\n",
      " 18  PDLNA      10972 non-null  int64  \n",
      " 19  INDQUALNA  10972 non-null  float64\n",
      "dtypes: float64(10), int64(6), object(4)\n",
      "memory usage: 1.8+ MB\n"
     ]
    }
   ],
   "source": [
    "df_electricity.info()"
   ]
  },
  {
   "cell_type": "markdown",
   "metadata": {},
   "source": [
    "## Commune name, departement code and name"
   ]
  },
  {
   "cell_type": "markdown",
   "metadata": {},
   "source": [
    "### Add commune name"
   ]
  },
  {
   "cell_type": "markdown",
   "metadata": {},
   "source": [
    "Now that we only have information per commune, we will add the name of the commune"
   ]
  },
  {
   "cell_type": "code",
   "execution_count": 37,
   "metadata": {},
   "outputs": [],
   "source": [
    "# Import the dataframe with the name corresponding to the code for each commune\n",
    "df_com=pd.read_csv('/Users/Jeff/Ironhack/248_Repo/Projects/Final project/Area/df_com.csv', sep='/')"
   ]
  },
  {
   "cell_type": "code",
   "execution_count": 38,
   "metadata": {},
   "outputs": [
    {
     "data": {
      "text/html": [
       "<div>\n",
       "<style scoped>\n",
       "    .dataframe tbody tr th:only-of-type {\n",
       "        vertical-align: middle;\n",
       "    }\n",
       "\n",
       "    .dataframe tbody tr th {\n",
       "        vertical-align: top;\n",
       "    }\n",
       "\n",
       "    .dataframe thead th {\n",
       "        text-align: right;\n",
       "    }\n",
       "</style>\n",
       "<table border=\"1\" class=\"dataframe\">\n",
       "  <thead>\n",
       "    <tr style=\"text-align: right;\">\n",
       "      <th></th>\n",
       "      <th>CODE</th>\n",
       "      <th>REG</th>\n",
       "      <th>NOM</th>\n",
       "    </tr>\n",
       "  </thead>\n",
       "  <tbody>\n",
       "    <tr>\n",
       "      <th>0</th>\n",
       "      <td>01001</td>\n",
       "      <td>84</td>\n",
       "      <td>ABERGEMENT CLEMENCIAT</td>\n",
       "    </tr>\n",
       "    <tr>\n",
       "      <th>1</th>\n",
       "      <td>01002</td>\n",
       "      <td>84</td>\n",
       "      <td>ABERGEMENT DE VAREY</td>\n",
       "    </tr>\n",
       "    <tr>\n",
       "      <th>2</th>\n",
       "      <td>01004</td>\n",
       "      <td>84</td>\n",
       "      <td>AMBERIEU EN BUGEY</td>\n",
       "    </tr>\n",
       "    <tr>\n",
       "      <th>3</th>\n",
       "      <td>01005</td>\n",
       "      <td>84</td>\n",
       "      <td>AMBERIEUX EN DOMBES</td>\n",
       "    </tr>\n",
       "    <tr>\n",
       "      <th>4</th>\n",
       "      <td>01006</td>\n",
       "      <td>84</td>\n",
       "      <td>AMBLEON</td>\n",
       "    </tr>\n",
       "  </tbody>\n",
       "</table>\n",
       "</div>"
      ],
      "text/plain": [
       "    CODE  REG                    NOM\n",
       "0  01001   84  ABERGEMENT CLEMENCIAT\n",
       "1  01002   84    ABERGEMENT DE VAREY\n",
       "2  01004   84      AMBERIEU EN BUGEY\n",
       "3  01005   84    AMBERIEUX EN DOMBES\n",
       "4  01006   84                AMBLEON"
      ]
     },
     "execution_count": 38,
     "metadata": {},
     "output_type": "execute_result"
    }
   ],
   "source": [
    "df_com.head()"
   ]
  },
  {
   "cell_type": "code",
   "execution_count": 39,
   "metadata": {},
   "outputs": [],
   "source": [
    "df_elec_merge = pd.merge(df_electricity, df_com, how='left', on=['CODE'])"
   ]
  },
  {
   "cell_type": "code",
   "execution_count": 40,
   "metadata": {},
   "outputs": [
    {
     "data": {
      "text/html": [
       "<div>\n",
       "<style scoped>\n",
       "    .dataframe tbody tr th:only-of-type {\n",
       "        vertical-align: middle;\n",
       "    }\n",
       "\n",
       "    .dataframe tbody tr th {\n",
       "        vertical-align: top;\n",
       "    }\n",
       "\n",
       "    .dataframe thead th {\n",
       "        text-align: right;\n",
       "    }\n",
       "</style>\n",
       "<table border=\"1\" class=\"dataframe\">\n",
       "  <thead>\n",
       "    <tr style=\"text-align: right;\">\n",
       "      <th></th>\n",
       "      <th>OPERATEUR</th>\n",
       "      <th>ANNEE</th>\n",
       "      <th>FILIERE</th>\n",
       "      <th>TYPE</th>\n",
       "      <th>CODE</th>\n",
       "      <th>CONSOA</th>\n",
       "      <th>PDLA</th>\n",
       "      <th>INDQUALA</th>\n",
       "      <th>CONSOI</th>\n",
       "      <th>PDLI</th>\n",
       "      <th>...</th>\n",
       "      <th>PDLT</th>\n",
       "      <th>INDQUALT</th>\n",
       "      <th>CONSOR</th>\n",
       "      <th>PDLR</th>\n",
       "      <th>INDQUALR</th>\n",
       "      <th>CONSONA</th>\n",
       "      <th>PDLNA</th>\n",
       "      <th>INDQUALNA</th>\n",
       "      <th>REG</th>\n",
       "      <th>NOM</th>\n",
       "    </tr>\n",
       "  </thead>\n",
       "  <tbody>\n",
       "    <tr>\n",
       "      <th>0</th>\n",
       "      <td>Régie délectricité de Roquebillière</td>\n",
       "      <td>2011</td>\n",
       "      <td>E</td>\n",
       "      <td>Commune</td>\n",
       "      <td>6103</td>\n",
       "      <td>20.0</td>\n",
       "      <td>5</td>\n",
       "      <td>1.0</td>\n",
       "      <td>1170.0</td>\n",
       "      <td>8</td>\n",
       "      <td>...</td>\n",
       "      <td>102</td>\n",
       "      <td>1.0</td>\n",
       "      <td>4629.00</td>\n",
       "      <td>1134</td>\n",
       "      <td>1.0</td>\n",
       "      <td>770.00</td>\n",
       "      <td>47</td>\n",
       "      <td>1.0</td>\n",
       "      <td>NaN</td>\n",
       "      <td>NaN</td>\n",
       "    </tr>\n",
       "    <tr>\n",
       "      <th>1</th>\n",
       "      <td>Régie municipale délectricité dArignac</td>\n",
       "      <td>2011</td>\n",
       "      <td>E</td>\n",
       "      <td>Commune</td>\n",
       "      <td>9015</td>\n",
       "      <td>0.0</td>\n",
       "      <td>0</td>\n",
       "      <td>0.0</td>\n",
       "      <td>156.0</td>\n",
       "      <td>1</td>\n",
       "      <td>...</td>\n",
       "      <td>27</td>\n",
       "      <td>0.5</td>\n",
       "      <td>1980.00</td>\n",
       "      <td>413</td>\n",
       "      <td>0.5</td>\n",
       "      <td>178.00</td>\n",
       "      <td>19</td>\n",
       "      <td>0.5</td>\n",
       "      <td>NaN</td>\n",
       "      <td>NaN</td>\n",
       "    </tr>\n",
       "    <tr>\n",
       "      <th>2</th>\n",
       "      <td>Régie municipale délectricité de Saint-Quirc</td>\n",
       "      <td>2011</td>\n",
       "      <td>E</td>\n",
       "      <td>Commune</td>\n",
       "      <td>9076</td>\n",
       "      <td>13.0</td>\n",
       "      <td>2</td>\n",
       "      <td>0.5</td>\n",
       "      <td>0.0</td>\n",
       "      <td>0</td>\n",
       "      <td>...</td>\n",
       "      <td>10</td>\n",
       "      <td>0.5</td>\n",
       "      <td>507.74</td>\n",
       "      <td>107</td>\n",
       "      <td>0.5</td>\n",
       "      <td>7.97</td>\n",
       "      <td>1</td>\n",
       "      <td>0.5</td>\n",
       "      <td>NaN</td>\n",
       "      <td>NaN</td>\n",
       "    </tr>\n",
       "    <tr>\n",
       "      <th>3</th>\n",
       "      <td>Régie municipale délectricité de Dalou</td>\n",
       "      <td>2011</td>\n",
       "      <td>E</td>\n",
       "      <td>Commune</td>\n",
       "      <td>9104</td>\n",
       "      <td>0.0</td>\n",
       "      <td>0</td>\n",
       "      <td>0.0</td>\n",
       "      <td>0.0</td>\n",
       "      <td>0</td>\n",
       "      <td>...</td>\n",
       "      <td>5</td>\n",
       "      <td>1.0</td>\n",
       "      <td>1744.00</td>\n",
       "      <td>356</td>\n",
       "      <td>1.0</td>\n",
       "      <td>141.00</td>\n",
       "      <td>13</td>\n",
       "      <td>1.0</td>\n",
       "      <td>NaN</td>\n",
       "      <td>NaN</td>\n",
       "    </tr>\n",
       "    <tr>\n",
       "      <th>4</th>\n",
       "      <td>Régie municipale délectricité de lHospitalet...</td>\n",
       "      <td>2011</td>\n",
       "      <td>E</td>\n",
       "      <td>Commune</td>\n",
       "      <td>9139</td>\n",
       "      <td>0.0</td>\n",
       "      <td>0</td>\n",
       "      <td>0.0</td>\n",
       "      <td>0.0</td>\n",
       "      <td>0</td>\n",
       "      <td>...</td>\n",
       "      <td>35</td>\n",
       "      <td>1.0</td>\n",
       "      <td>276.00</td>\n",
       "      <td>88</td>\n",
       "      <td>1.0</td>\n",
       "      <td>239.00</td>\n",
       "      <td>27</td>\n",
       "      <td>1.0</td>\n",
       "      <td>NaN</td>\n",
       "      <td>NaN</td>\n",
       "    </tr>\n",
       "  </tbody>\n",
       "</table>\n",
       "<p>5 rows × 22 columns</p>\n",
       "</div>"
      ],
      "text/plain": [
       "                                           OPERATEUR  ANNEE FILIERE     TYPE  \\\n",
       "0               Régie délectricité de Roquebillière   2011       E  Commune   \n",
       "1           Régie municipale délectricité dArignac   2011       E  Commune   \n",
       "2      Régie municipale délectricité de Saint-Quirc   2011       E  Commune   \n",
       "3            Régie municipale délectricité de Dalou   2011       E  Commune   \n",
       "4  Régie municipale délectricité de lHospitalet...   2011       E  Commune   \n",
       "\n",
       "   CODE  CONSOA  PDLA  INDQUALA  CONSOI  PDLI  ...  PDLT  INDQUALT   CONSOR  \\\n",
       "0  6103    20.0     5       1.0  1170.0     8  ...   102       1.0  4629.00   \n",
       "1  9015     0.0     0       0.0   156.0     1  ...    27       0.5  1980.00   \n",
       "2  9076    13.0     2       0.5     0.0     0  ...    10       0.5   507.74   \n",
       "3  9104     0.0     0       0.0     0.0     0  ...     5       1.0  1744.00   \n",
       "4  9139     0.0     0       0.0     0.0     0  ...    35       1.0   276.00   \n",
       "\n",
       "   PDLR  INDQUALR  CONSONA  PDLNA  INDQUALNA  REG  NOM  \n",
       "0  1134       1.0   770.00     47        1.0  NaN  NaN  \n",
       "1   413       0.5   178.00     19        0.5  NaN  NaN  \n",
       "2   107       0.5     7.97      1        0.5  NaN  NaN  \n",
       "3   356       1.0   141.00     13        1.0  NaN  NaN  \n",
       "4    88       1.0   239.00     27        1.0  NaN  NaN  \n",
       "\n",
       "[5 rows x 22 columns]"
      ]
     },
     "execution_count": 40,
     "metadata": {},
     "output_type": "execute_result"
    }
   ],
   "source": [
    "df_elec_merge.head()"
   ]
  },
  {
   "cell_type": "code",
   "execution_count": 41,
   "metadata": {},
   "outputs": [
    {
     "data": {
      "text/plain": [
       "OPERATEUR     0\n",
       "ANNEE         0\n",
       "FILIERE       0\n",
       "TYPE          0\n",
       "CODE          0\n",
       "CONSOA        0\n",
       "PDLA          0\n",
       "INDQUALA      0\n",
       "CONSOI        0\n",
       "PDLI          0\n",
       "INDQUALI      0\n",
       "CONSOT        0\n",
       "PDLT          0\n",
       "INDQUALT      0\n",
       "CONSOR        0\n",
       "PDLR          0\n",
       "INDQUALR      0\n",
       "CONSONA       0\n",
       "PDLNA         0\n",
       "INDQUALNA     0\n",
       "REG          61\n",
       "NOM          61\n",
       "dtype: int64"
      ]
     },
     "execution_count": 41,
     "metadata": {},
     "output_type": "execute_result"
    }
   ],
   "source": [
    "df_elec_merge.isna().sum()"
   ]
  },
  {
   "cell_type": "markdown",
   "metadata": {},
   "source": [
    "As we don't know the name for 62 communes and region, we will fill the values with 'NC' and 0"
   ]
  },
  {
   "cell_type": "code",
   "execution_count": 42,
   "metadata": {},
   "outputs": [],
   "source": [
    "# Fill null value with 'NC' and 0\n",
    "df_elec_merge['NOM'].fillna('NC', inplace=True)\n",
    "df_elec_merge['REG'].fillna(0, inplace=True)"
   ]
  },
  {
   "cell_type": "markdown",
   "metadata": {},
   "source": [
    "### Add departement code"
   ]
  },
  {
   "cell_type": "code",
   "execution_count": 43,
   "metadata": {},
   "outputs": [],
   "source": [
    "df_elec_merge['dep_code']=df_elec_merge['CODE'].apply(lambda x: x[:2])"
   ]
  },
  {
   "cell_type": "markdown",
   "metadata": {},
   "source": [
    "As there are some dep_code with a 3 numbers format, we will replace those values with their specific format"
   ]
  },
  {
   "cell_type": "code",
   "execution_count": 44,
   "metadata": {},
   "outputs": [
    {
     "name": "stderr",
     "output_type": "stream",
     "text": [
      "<ipython-input-44-68ef6fa75e35>:1: SettingWithCopyWarning: \n",
      "A value is trying to be set on a copy of a slice from a DataFrame\n",
      "\n",
      "See the caveats in the documentation: https://pandas.pydata.org/pandas-docs/stable/user_guide/indexing.html#returning-a-view-versus-a-copy\n",
      "  df_elec_merge['dep_code'][df_elec_merge['CODE'].str.startswith('97')]=df_elec_merge['CODE'].apply(lambda x: x[:3])\n"
     ]
    }
   ],
   "source": [
    "df_elec_merge['dep_code'][df_elec_merge['CODE'].str.startswith('97')]=df_elec_merge['CODE'].apply(lambda x: x[:3])"
   ]
  },
  {
   "cell_type": "markdown",
   "metadata": {},
   "source": [
    "### Add departement name"
   ]
  },
  {
   "cell_type": "code",
   "execution_count": 45,
   "metadata": {},
   "outputs": [],
   "source": [
    "# Import the dataframe with the name corresponding to the code for each departement\n",
    "df_dep=pd.read_csv('/Users/Jeff/Ironhack/248_Repo/Projects/Final project/Area/df_dep.csv', sep='/')"
   ]
  },
  {
   "cell_type": "code",
   "execution_count": 46,
   "metadata": {},
   "outputs": [],
   "source": [
    "df_elec_merge1 = pd.merge(df_elec_merge, df_dep, how='left', on=['dep_code'])"
   ]
  },
  {
   "cell_type": "code",
   "execution_count": 47,
   "metadata": {},
   "outputs": [
    {
     "data": {
      "text/plain": [
       "OPERATEUR    0\n",
       "ANNEE        0\n",
       "FILIERE      0\n",
       "TYPE         0\n",
       "CODE         0\n",
       "CONSOA       0\n",
       "PDLA         0\n",
       "INDQUALA     0\n",
       "CONSOI       0\n",
       "PDLI         0\n",
       "INDQUALI     0\n",
       "CONSOT       0\n",
       "PDLT         0\n",
       "INDQUALT     0\n",
       "CONSOR       0\n",
       "PDLR         0\n",
       "INDQUALR     0\n",
       "CONSONA      0\n",
       "PDLNA        0\n",
       "INDQUALNA    0\n",
       "REG          0\n",
       "NOM          0\n",
       "dep_code     0\n",
       "dep_name     0\n",
       "dtype: int64"
      ]
     },
     "execution_count": 47,
     "metadata": {},
     "output_type": "execute_result"
    }
   ],
   "source": [
    "df_elec_merge1.isna().sum()"
   ]
  },
  {
   "cell_type": "markdown",
   "metadata": {},
   "source": [
    "## Columns manipulation"
   ]
  },
  {
   "cell_type": "markdown",
   "metadata": {},
   "source": [
    "In order to manipulate our dataframe later, we will rename the columns"
   ]
  },
  {
   "cell_type": "code",
   "execution_count": 48,
   "metadata": {},
   "outputs": [
    {
     "data": {
      "text/plain": [
       "Index(['OPERATEUR', 'ANNEE', 'FILIERE', 'TYPE', 'CODE', 'CONSOA', 'PDLA',\n",
       "       'INDQUALA', 'CONSOI', 'PDLI', 'INDQUALI', 'CONSOT', 'PDLT', 'INDQUALT',\n",
       "       'CONSOR', 'PDLR', 'INDQUALR', 'CONSONA', 'PDLNA', 'INDQUALNA', 'REG',\n",
       "       'NOM', 'dep_code', 'dep_name'],\n",
       "      dtype='object')"
      ]
     },
     "execution_count": 48,
     "metadata": {},
     "output_type": "execute_result"
    }
   ],
   "source": [
    "df_elec_merge1.columns"
   ]
  },
  {
   "cell_type": "code",
   "execution_count": 49,
   "metadata": {},
   "outputs": [],
   "source": [
    "df_elec_merge1.columns=['operator','year','energy','area','com_code','consoa','pdla','indquala','consoi','pdli','indquali','consot','pdlt','indqualt','consor','pdlr','indqualr','consona','pdlna','indqualna','reg_code','com_name','dep_code','dep_name']"
   ]
  },
  {
   "cell_type": "code",
   "execution_count": 50,
   "metadata": {},
   "outputs": [
    {
     "data": {
      "text/html": [
       "<div>\n",
       "<style scoped>\n",
       "    .dataframe tbody tr th:only-of-type {\n",
       "        vertical-align: middle;\n",
       "    }\n",
       "\n",
       "    .dataframe tbody tr th {\n",
       "        vertical-align: top;\n",
       "    }\n",
       "\n",
       "    .dataframe thead th {\n",
       "        text-align: right;\n",
       "    }\n",
       "</style>\n",
       "<table border=\"1\" class=\"dataframe\">\n",
       "  <thead>\n",
       "    <tr style=\"text-align: right;\">\n",
       "      <th></th>\n",
       "      <th>operator</th>\n",
       "      <th>year</th>\n",
       "      <th>energy</th>\n",
       "      <th>area</th>\n",
       "      <th>com_code</th>\n",
       "      <th>consoa</th>\n",
       "      <th>pdla</th>\n",
       "      <th>indquala</th>\n",
       "      <th>consoi</th>\n",
       "      <th>pdli</th>\n",
       "      <th>...</th>\n",
       "      <th>consor</th>\n",
       "      <th>pdlr</th>\n",
       "      <th>indqualr</th>\n",
       "      <th>consona</th>\n",
       "      <th>pdlna</th>\n",
       "      <th>indqualna</th>\n",
       "      <th>reg_code</th>\n",
       "      <th>com_name</th>\n",
       "      <th>dep_code</th>\n",
       "      <th>dep_name</th>\n",
       "    </tr>\n",
       "  </thead>\n",
       "  <tbody>\n",
       "    <tr>\n",
       "      <th>0</th>\n",
       "      <td>Régie délectricité de Roquebillière</td>\n",
       "      <td>2011</td>\n",
       "      <td>E</td>\n",
       "      <td>Commune</td>\n",
       "      <td>6103</td>\n",
       "      <td>20.0</td>\n",
       "      <td>5</td>\n",
       "      <td>1.0</td>\n",
       "      <td>1170.0</td>\n",
       "      <td>8</td>\n",
       "      <td>...</td>\n",
       "      <td>4629.00</td>\n",
       "      <td>1134</td>\n",
       "      <td>1.0</td>\n",
       "      <td>770.00</td>\n",
       "      <td>47</td>\n",
       "      <td>1.0</td>\n",
       "      <td>0.0</td>\n",
       "      <td>NC</td>\n",
       "      <td>61</td>\n",
       "      <td>ORNE</td>\n",
       "    </tr>\n",
       "    <tr>\n",
       "      <th>1</th>\n",
       "      <td>Régie municipale délectricité dArignac</td>\n",
       "      <td>2011</td>\n",
       "      <td>E</td>\n",
       "      <td>Commune</td>\n",
       "      <td>9015</td>\n",
       "      <td>0.0</td>\n",
       "      <td>0</td>\n",
       "      <td>0.0</td>\n",
       "      <td>156.0</td>\n",
       "      <td>1</td>\n",
       "      <td>...</td>\n",
       "      <td>1980.00</td>\n",
       "      <td>413</td>\n",
       "      <td>0.5</td>\n",
       "      <td>178.00</td>\n",
       "      <td>19</td>\n",
       "      <td>0.5</td>\n",
       "      <td>0.0</td>\n",
       "      <td>NC</td>\n",
       "      <td>90</td>\n",
       "      <td>TERRITOIRE DE BELFORT</td>\n",
       "    </tr>\n",
       "    <tr>\n",
       "      <th>2</th>\n",
       "      <td>Régie municipale délectricité de Saint-Quirc</td>\n",
       "      <td>2011</td>\n",
       "      <td>E</td>\n",
       "      <td>Commune</td>\n",
       "      <td>9076</td>\n",
       "      <td>13.0</td>\n",
       "      <td>2</td>\n",
       "      <td>0.5</td>\n",
       "      <td>0.0</td>\n",
       "      <td>0</td>\n",
       "      <td>...</td>\n",
       "      <td>507.74</td>\n",
       "      <td>107</td>\n",
       "      <td>0.5</td>\n",
       "      <td>7.97</td>\n",
       "      <td>1</td>\n",
       "      <td>0.5</td>\n",
       "      <td>0.0</td>\n",
       "      <td>NC</td>\n",
       "      <td>90</td>\n",
       "      <td>TERRITOIRE DE BELFORT</td>\n",
       "    </tr>\n",
       "    <tr>\n",
       "      <th>3</th>\n",
       "      <td>Régie municipale délectricité de Dalou</td>\n",
       "      <td>2011</td>\n",
       "      <td>E</td>\n",
       "      <td>Commune</td>\n",
       "      <td>9104</td>\n",
       "      <td>0.0</td>\n",
       "      <td>0</td>\n",
       "      <td>0.0</td>\n",
       "      <td>0.0</td>\n",
       "      <td>0</td>\n",
       "      <td>...</td>\n",
       "      <td>1744.00</td>\n",
       "      <td>356</td>\n",
       "      <td>1.0</td>\n",
       "      <td>141.00</td>\n",
       "      <td>13</td>\n",
       "      <td>1.0</td>\n",
       "      <td>0.0</td>\n",
       "      <td>NC</td>\n",
       "      <td>91</td>\n",
       "      <td>ESSONNE</td>\n",
       "    </tr>\n",
       "    <tr>\n",
       "      <th>4</th>\n",
       "      <td>Régie municipale délectricité de lHospitalet...</td>\n",
       "      <td>2011</td>\n",
       "      <td>E</td>\n",
       "      <td>Commune</td>\n",
       "      <td>9139</td>\n",
       "      <td>0.0</td>\n",
       "      <td>0</td>\n",
       "      <td>0.0</td>\n",
       "      <td>0.0</td>\n",
       "      <td>0</td>\n",
       "      <td>...</td>\n",
       "      <td>276.00</td>\n",
       "      <td>88</td>\n",
       "      <td>1.0</td>\n",
       "      <td>239.00</td>\n",
       "      <td>27</td>\n",
       "      <td>1.0</td>\n",
       "      <td>0.0</td>\n",
       "      <td>NC</td>\n",
       "      <td>91</td>\n",
       "      <td>ESSONNE</td>\n",
       "    </tr>\n",
       "  </tbody>\n",
       "</table>\n",
       "<p>5 rows × 24 columns</p>\n",
       "</div>"
      ],
      "text/plain": [
       "                                            operator  year energy     area  \\\n",
       "0               Régie délectricité de Roquebillière  2011      E  Commune   \n",
       "1           Régie municipale délectricité dArignac  2011      E  Commune   \n",
       "2      Régie municipale délectricité de Saint-Quirc  2011      E  Commune   \n",
       "3            Régie municipale délectricité de Dalou  2011      E  Commune   \n",
       "4  Régie municipale délectricité de lHospitalet...  2011      E  Commune   \n",
       "\n",
       "  com_code  consoa  pdla  indquala  consoi  pdli  ...   consor  pdlr  \\\n",
       "0     6103    20.0     5       1.0  1170.0     8  ...  4629.00  1134   \n",
       "1     9015     0.0     0       0.0   156.0     1  ...  1980.00   413   \n",
       "2     9076    13.0     2       0.5     0.0     0  ...   507.74   107   \n",
       "3     9104     0.0     0       0.0     0.0     0  ...  1744.00   356   \n",
       "4     9139     0.0     0       0.0     0.0     0  ...   276.00    88   \n",
       "\n",
       "   indqualr  consona  pdlna  indqualna  reg_code  com_name  dep_code  \\\n",
       "0       1.0   770.00     47        1.0       0.0        NC        61   \n",
       "1       0.5   178.00     19        0.5       0.0        NC        90   \n",
       "2       0.5     7.97      1        0.5       0.0        NC        90   \n",
       "3       1.0   141.00     13        1.0       0.0        NC        91   \n",
       "4       1.0   239.00     27        1.0       0.0        NC        91   \n",
       "\n",
       "                dep_name  \n",
       "0                   ORNE  \n",
       "1  TERRITOIRE DE BELFORT  \n",
       "2  TERRITOIRE DE BELFORT  \n",
       "3                ESSONNE  \n",
       "4                ESSONNE  \n",
       "\n",
       "[5 rows x 24 columns]"
      ]
     },
     "execution_count": 50,
     "metadata": {},
     "output_type": "execute_result"
    }
   ],
   "source": [
    "df_elec_merge1.head()"
   ]
  },
  {
   "cell_type": "markdown",
   "metadata": {},
   "source": [
    "As the column area only correponds to commune value, we will drop the column"
   ]
  },
  {
   "cell_type": "code",
   "execution_count": 51,
   "metadata": {},
   "outputs": [],
   "source": [
    "# Drop area column\n",
    "df_elec_merge1.drop('area', axis=1, inplace=True)"
   ]
  },
  {
   "cell_type": "code",
   "execution_count": 52,
   "metadata": {},
   "outputs": [
    {
     "data": {
      "text/plain": [
       "Index(['operator', 'year', 'energy', 'com_code', 'consoa', 'pdla', 'indquala',\n",
       "       'consoi', 'pdli', 'indquali', 'consot', 'pdlt', 'indqualt', 'consor',\n",
       "       'pdlr', 'indqualr', 'consona', 'pdlna', 'indqualna', 'reg_code',\n",
       "       'com_name', 'dep_code', 'dep_name'],\n",
       "      dtype='object')"
      ]
     },
     "execution_count": 52,
     "metadata": {},
     "output_type": "execute_result"
    }
   ],
   "source": [
    "df_elec_merge1.columns"
   ]
  },
  {
   "cell_type": "code",
   "execution_count": 53,
   "metadata": {},
   "outputs": [],
   "source": [
    "# Reorder the column\n",
    "df_elec_clean=df_elec_merge1[['energy','year','reg_code', 'dep_code','dep_name','com_code','com_name','operator','consoa', 'pdla', 'indquala',\n",
    "       'consoi', 'pdli', 'indquali', 'consot', 'pdlt', 'indqualt', 'consor',\n",
    "       'pdlr', 'indqualr', 'consona', 'pdlna', 'indqualna']]"
   ]
  },
  {
   "cell_type": "code",
   "execution_count": 54,
   "metadata": {},
   "outputs": [
    {
     "data": {
      "text/html": [
       "<div>\n",
       "<style scoped>\n",
       "    .dataframe tbody tr th:only-of-type {\n",
       "        vertical-align: middle;\n",
       "    }\n",
       "\n",
       "    .dataframe tbody tr th {\n",
       "        vertical-align: top;\n",
       "    }\n",
       "\n",
       "    .dataframe thead th {\n",
       "        text-align: right;\n",
       "    }\n",
       "</style>\n",
       "<table border=\"1\" class=\"dataframe\">\n",
       "  <thead>\n",
       "    <tr style=\"text-align: right;\">\n",
       "      <th></th>\n",
       "      <th>energy</th>\n",
       "      <th>year</th>\n",
       "      <th>reg_code</th>\n",
       "      <th>dep_code</th>\n",
       "      <th>dep_name</th>\n",
       "      <th>com_code</th>\n",
       "      <th>com_name</th>\n",
       "      <th>operator</th>\n",
       "      <th>consoa</th>\n",
       "      <th>pdla</th>\n",
       "      <th>...</th>\n",
       "      <th>indquali</th>\n",
       "      <th>consot</th>\n",
       "      <th>pdlt</th>\n",
       "      <th>indqualt</th>\n",
       "      <th>consor</th>\n",
       "      <th>pdlr</th>\n",
       "      <th>indqualr</th>\n",
       "      <th>consona</th>\n",
       "      <th>pdlna</th>\n",
       "      <th>indqualna</th>\n",
       "    </tr>\n",
       "  </thead>\n",
       "  <tbody>\n",
       "    <tr>\n",
       "      <th>0</th>\n",
       "      <td>E</td>\n",
       "      <td>2011</td>\n",
       "      <td>0.0</td>\n",
       "      <td>61</td>\n",
       "      <td>ORNE</td>\n",
       "      <td>6103</td>\n",
       "      <td>NC</td>\n",
       "      <td>Régie délectricité de Roquebillière</td>\n",
       "      <td>20.0</td>\n",
       "      <td>5</td>\n",
       "      <td>...</td>\n",
       "      <td>1.0</td>\n",
       "      <td>1316.00</td>\n",
       "      <td>102</td>\n",
       "      <td>1.0</td>\n",
       "      <td>4629.00</td>\n",
       "      <td>1134</td>\n",
       "      <td>1.0</td>\n",
       "      <td>770.00</td>\n",
       "      <td>47</td>\n",
       "      <td>1.0</td>\n",
       "    </tr>\n",
       "    <tr>\n",
       "      <th>1</th>\n",
       "      <td>E</td>\n",
       "      <td>2011</td>\n",
       "      <td>0.0</td>\n",
       "      <td>90</td>\n",
       "      <td>TERRITOIRE DE BELFORT</td>\n",
       "      <td>9015</td>\n",
       "      <td>NC</td>\n",
       "      <td>Régie municipale délectricité dArignac</td>\n",
       "      <td>0.0</td>\n",
       "      <td>0</td>\n",
       "      <td>...</td>\n",
       "      <td>1.0</td>\n",
       "      <td>304.00</td>\n",
       "      <td>27</td>\n",
       "      <td>0.5</td>\n",
       "      <td>1980.00</td>\n",
       "      <td>413</td>\n",
       "      <td>0.5</td>\n",
       "      <td>178.00</td>\n",
       "      <td>19</td>\n",
       "      <td>0.5</td>\n",
       "    </tr>\n",
       "    <tr>\n",
       "      <th>2</th>\n",
       "      <td>E</td>\n",
       "      <td>2011</td>\n",
       "      <td>0.0</td>\n",
       "      <td>90</td>\n",
       "      <td>TERRITOIRE DE BELFORT</td>\n",
       "      <td>9076</td>\n",
       "      <td>NC</td>\n",
       "      <td>Régie municipale délectricité de Saint-Quirc</td>\n",
       "      <td>13.0</td>\n",
       "      <td>2</td>\n",
       "      <td>...</td>\n",
       "      <td>0.0</td>\n",
       "      <td>24.44</td>\n",
       "      <td>10</td>\n",
       "      <td>0.5</td>\n",
       "      <td>507.74</td>\n",
       "      <td>107</td>\n",
       "      <td>0.5</td>\n",
       "      <td>7.97</td>\n",
       "      <td>1</td>\n",
       "      <td>0.5</td>\n",
       "    </tr>\n",
       "    <tr>\n",
       "      <th>3</th>\n",
       "      <td>E</td>\n",
       "      <td>2011</td>\n",
       "      <td>0.0</td>\n",
       "      <td>91</td>\n",
       "      <td>ESSONNE</td>\n",
       "      <td>9104</td>\n",
       "      <td>NC</td>\n",
       "      <td>Régie municipale délectricité de Dalou</td>\n",
       "      <td>0.0</td>\n",
       "      <td>0</td>\n",
       "      <td>...</td>\n",
       "      <td>0.0</td>\n",
       "      <td>7.00</td>\n",
       "      <td>5</td>\n",
       "      <td>1.0</td>\n",
       "      <td>1744.00</td>\n",
       "      <td>356</td>\n",
       "      <td>1.0</td>\n",
       "      <td>141.00</td>\n",
       "      <td>13</td>\n",
       "      <td>1.0</td>\n",
       "    </tr>\n",
       "    <tr>\n",
       "      <th>4</th>\n",
       "      <td>E</td>\n",
       "      <td>2011</td>\n",
       "      <td>0.0</td>\n",
       "      <td>91</td>\n",
       "      <td>ESSONNE</td>\n",
       "      <td>9139</td>\n",
       "      <td>NC</td>\n",
       "      <td>Régie municipale délectricité de lHospitalet...</td>\n",
       "      <td>0.0</td>\n",
       "      <td>0</td>\n",
       "      <td>...</td>\n",
       "      <td>0.0</td>\n",
       "      <td>419.00</td>\n",
       "      <td>35</td>\n",
       "      <td>1.0</td>\n",
       "      <td>276.00</td>\n",
       "      <td>88</td>\n",
       "      <td>1.0</td>\n",
       "      <td>239.00</td>\n",
       "      <td>27</td>\n",
       "      <td>1.0</td>\n",
       "    </tr>\n",
       "  </tbody>\n",
       "</table>\n",
       "<p>5 rows × 23 columns</p>\n",
       "</div>"
      ],
      "text/plain": [
       "  energy  year  reg_code dep_code               dep_name com_code com_name  \\\n",
       "0      E  2011       0.0       61                   ORNE     6103       NC   \n",
       "1      E  2011       0.0       90  TERRITOIRE DE BELFORT     9015       NC   \n",
       "2      E  2011       0.0       90  TERRITOIRE DE BELFORT     9076       NC   \n",
       "3      E  2011       0.0       91                ESSONNE     9104       NC   \n",
       "4      E  2011       0.0       91                ESSONNE     9139       NC   \n",
       "\n",
       "                                            operator  consoa  pdla  ...  \\\n",
       "0               Régie délectricité de Roquebillière    20.0     5  ...   \n",
       "1           Régie municipale délectricité dArignac     0.0     0  ...   \n",
       "2      Régie municipale délectricité de Saint-Quirc    13.0     2  ...   \n",
       "3            Régie municipale délectricité de Dalou     0.0     0  ...   \n",
       "4  Régie municipale délectricité de lHospitalet...     0.0     0  ...   \n",
       "\n",
       "   indquali   consot  pdlt  indqualt   consor  pdlr  indqualr  consona  pdlna  \\\n",
       "0       1.0  1316.00   102       1.0  4629.00  1134       1.0   770.00     47   \n",
       "1       1.0   304.00    27       0.5  1980.00   413       0.5   178.00     19   \n",
       "2       0.0    24.44    10       0.5   507.74   107       0.5     7.97      1   \n",
       "3       0.0     7.00     5       1.0  1744.00   356       1.0   141.00     13   \n",
       "4       0.0   419.00    35       1.0   276.00    88       1.0   239.00     27   \n",
       "\n",
       "   indqualna  \n",
       "0        1.0  \n",
       "1        0.5  \n",
       "2        0.5  \n",
       "3        1.0  \n",
       "4        1.0  \n",
       "\n",
       "[5 rows x 23 columns]"
      ]
     },
     "execution_count": 54,
     "metadata": {},
     "output_type": "execute_result"
    }
   ],
   "source": [
    "df_elec_clean.head()"
   ]
  },
  {
   "cell_type": "markdown",
   "metadata": {},
   "source": [
    "## CONSOR and PDLR"
   ]
  },
  {
   "cell_type": "markdown",
   "metadata": {},
   "source": [
    "From the data presentation file, we know that some value of CONSOR and PDLR are -99 for very small area. We will replace the value -99 by 0"
   ]
  },
  {
   "cell_type": "code",
   "execution_count": 55,
   "metadata": {},
   "outputs": [
    {
     "data": {
      "text/html": [
       "<div>\n",
       "<style scoped>\n",
       "    .dataframe tbody tr th:only-of-type {\n",
       "        vertical-align: middle;\n",
       "    }\n",
       "\n",
       "    .dataframe tbody tr th {\n",
       "        vertical-align: top;\n",
       "    }\n",
       "\n",
       "    .dataframe thead th {\n",
       "        text-align: right;\n",
       "    }\n",
       "</style>\n",
       "<table border=\"1\" class=\"dataframe\">\n",
       "  <thead>\n",
       "    <tr style=\"text-align: right;\">\n",
       "      <th></th>\n",
       "      <th>energy</th>\n",
       "      <th>year</th>\n",
       "      <th>reg_code</th>\n",
       "      <th>dep_code</th>\n",
       "      <th>dep_name</th>\n",
       "      <th>com_code</th>\n",
       "      <th>com_name</th>\n",
       "      <th>operator</th>\n",
       "      <th>consoa</th>\n",
       "      <th>pdla</th>\n",
       "      <th>...</th>\n",
       "      <th>indquali</th>\n",
       "      <th>consot</th>\n",
       "      <th>pdlt</th>\n",
       "      <th>indqualt</th>\n",
       "      <th>consor</th>\n",
       "      <th>pdlr</th>\n",
       "      <th>indqualr</th>\n",
       "      <th>consona</th>\n",
       "      <th>pdlna</th>\n",
       "      <th>indqualna</th>\n",
       "    </tr>\n",
       "  </thead>\n",
       "  <tbody>\n",
       "    <tr>\n",
       "      <th>660</th>\n",
       "      <td>E</td>\n",
       "      <td>2012</td>\n",
       "      <td>44.0</td>\n",
       "      <td>67</td>\n",
       "      <td>BAS-RHIN</td>\n",
       "      <td>67198</td>\n",
       "      <td>HINSBOURG</td>\n",
       "      <td>Electricité de Strasbourg</td>\n",
       "      <td>0.0</td>\n",
       "      <td>0</td>\n",
       "      <td>...</td>\n",
       "      <td>1.0</td>\n",
       "      <td>30.99</td>\n",
       "      <td>2</td>\n",
       "      <td>1.0</td>\n",
       "      <td>-99.0</td>\n",
       "      <td>-99</td>\n",
       "      <td>0.998</td>\n",
       "      <td>0.0</td>\n",
       "      <td>0</td>\n",
       "      <td>1.0</td>\n",
       "    </tr>\n",
       "    <tr>\n",
       "      <th>672</th>\n",
       "      <td>E</td>\n",
       "      <td>2012</td>\n",
       "      <td>44.0</td>\n",
       "      <td>67</td>\n",
       "      <td>BAS-RHIN</td>\n",
       "      <td>67273</td>\n",
       "      <td>LOHR</td>\n",
       "      <td>Electricité de Strasbourg</td>\n",
       "      <td>0.0</td>\n",
       "      <td>0</td>\n",
       "      <td>...</td>\n",
       "      <td>1.0</td>\n",
       "      <td>0.00</td>\n",
       "      <td>0</td>\n",
       "      <td>1.0</td>\n",
       "      <td>-99.0</td>\n",
       "      <td>-99</td>\n",
       "      <td>0.998</td>\n",
       "      <td>0.0</td>\n",
       "      <td>0</td>\n",
       "      <td>1.0</td>\n",
       "    </tr>\n",
       "    <tr>\n",
       "      <th>1326</th>\n",
       "      <td>E</td>\n",
       "      <td>2013</td>\n",
       "      <td>44.0</td>\n",
       "      <td>57</td>\n",
       "      <td>MOSELLE</td>\n",
       "      <td>57163</td>\n",
       "      <td>DABO</td>\n",
       "      <td>Electricité de Strasbourg</td>\n",
       "      <td>0.0</td>\n",
       "      <td>0</td>\n",
       "      <td>...</td>\n",
       "      <td>1.0</td>\n",
       "      <td>0.00</td>\n",
       "      <td>0</td>\n",
       "      <td>1.0</td>\n",
       "      <td>-99.0</td>\n",
       "      <td>-99</td>\n",
       "      <td>0.998</td>\n",
       "      <td>0.0</td>\n",
       "      <td>0</td>\n",
       "      <td>1.0</td>\n",
       "    </tr>\n",
       "    <tr>\n",
       "      <th>1492</th>\n",
       "      <td>E</td>\n",
       "      <td>2013</td>\n",
       "      <td>44.0</td>\n",
       "      <td>67</td>\n",
       "      <td>BAS-RHIN</td>\n",
       "      <td>67225</td>\n",
       "      <td>ISSENHAUSEN</td>\n",
       "      <td>Electricité de Strasbourg</td>\n",
       "      <td>0.0</td>\n",
       "      <td>0</td>\n",
       "      <td>...</td>\n",
       "      <td>1.0</td>\n",
       "      <td>0.00</td>\n",
       "      <td>0</td>\n",
       "      <td>1.0</td>\n",
       "      <td>-99.0</td>\n",
       "      <td>-99</td>\n",
       "      <td>0.998</td>\n",
       "      <td>0.0</td>\n",
       "      <td>0</td>\n",
       "      <td>1.0</td>\n",
       "    </tr>\n",
       "    <tr>\n",
       "      <th>1530</th>\n",
       "      <td>E</td>\n",
       "      <td>2013</td>\n",
       "      <td>44.0</td>\n",
       "      <td>67</td>\n",
       "      <td>BAS-RHIN</td>\n",
       "      <td>67273</td>\n",
       "      <td>LOHR</td>\n",
       "      <td>Electricité de Strasbourg</td>\n",
       "      <td>0.0</td>\n",
       "      <td>0</td>\n",
       "      <td>...</td>\n",
       "      <td>1.0</td>\n",
       "      <td>0.00</td>\n",
       "      <td>0</td>\n",
       "      <td>1.0</td>\n",
       "      <td>-99.0</td>\n",
       "      <td>-99</td>\n",
       "      <td>0.998</td>\n",
       "      <td>0.0</td>\n",
       "      <td>0</td>\n",
       "      <td>1.0</td>\n",
       "    </tr>\n",
       "    <tr>\n",
       "      <th>...</th>\n",
       "      <td>...</td>\n",
       "      <td>...</td>\n",
       "      <td>...</td>\n",
       "      <td>...</td>\n",
       "      <td>...</td>\n",
       "      <td>...</td>\n",
       "      <td>...</td>\n",
       "      <td>...</td>\n",
       "      <td>...</td>\n",
       "      <td>...</td>\n",
       "      <td>...</td>\n",
       "      <td>...</td>\n",
       "      <td>...</td>\n",
       "      <td>...</td>\n",
       "      <td>...</td>\n",
       "      <td>...</td>\n",
       "      <td>...</td>\n",
       "      <td>...</td>\n",
       "      <td>...</td>\n",
       "      <td>...</td>\n",
       "      <td>...</td>\n",
       "    </tr>\n",
       "    <tr>\n",
       "      <th>10571</th>\n",
       "      <td>E</td>\n",
       "      <td>2017</td>\n",
       "      <td>11.0</td>\n",
       "      <td>78</td>\n",
       "      <td>YVELINES</td>\n",
       "      <td>78048</td>\n",
       "      <td>BAZAINVILLE</td>\n",
       "      <td>SICAE dEure-et-Loir et des Yvelines</td>\n",
       "      <td>0.0</td>\n",
       "      <td>0</td>\n",
       "      <td>...</td>\n",
       "      <td>1.0</td>\n",
       "      <td>0.00</td>\n",
       "      <td>0</td>\n",
       "      <td>1.0</td>\n",
       "      <td>-99.0</td>\n",
       "      <td>-99</td>\n",
       "      <td>1.000</td>\n",
       "      <td>0.0</td>\n",
       "      <td>0</td>\n",
       "      <td>1.0</td>\n",
       "    </tr>\n",
       "    <tr>\n",
       "      <th>10579</th>\n",
       "      <td>E</td>\n",
       "      <td>2017</td>\n",
       "      <td>11.0</td>\n",
       "      <td>78</td>\n",
       "      <td>YVELINES</td>\n",
       "      <td>78285</td>\n",
       "      <td>GRESSEY</td>\n",
       "      <td>SICAE dEure-et-Loir et des Yvelines</td>\n",
       "      <td>0.0</td>\n",
       "      <td>0</td>\n",
       "      <td>...</td>\n",
       "      <td>1.0</td>\n",
       "      <td>0.00</td>\n",
       "      <td>0</td>\n",
       "      <td>1.0</td>\n",
       "      <td>-99.0</td>\n",
       "      <td>-99</td>\n",
       "      <td>1.000</td>\n",
       "      <td>0.0</td>\n",
       "      <td>0</td>\n",
       "      <td>1.0</td>\n",
       "    </tr>\n",
       "    <tr>\n",
       "      <th>10599</th>\n",
       "      <td>E</td>\n",
       "      <td>2017</td>\n",
       "      <td>32.0</td>\n",
       "      <td>80</td>\n",
       "      <td>SOMME</td>\n",
       "      <td>80027</td>\n",
       "      <td>ARMANCOURT</td>\n",
       "      <td>SICAE de la Somme et du Cambraisis</td>\n",
       "      <td>0.0</td>\n",
       "      <td>0</td>\n",
       "      <td>...</td>\n",
       "      <td>1.0</td>\n",
       "      <td>0.00</td>\n",
       "      <td>0</td>\n",
       "      <td>1.0</td>\n",
       "      <td>-99.0</td>\n",
       "      <td>-99</td>\n",
       "      <td>0.610</td>\n",
       "      <td>0.0</td>\n",
       "      <td>0</td>\n",
       "      <td>0.0</td>\n",
       "    </tr>\n",
       "    <tr>\n",
       "      <th>10658</th>\n",
       "      <td>E</td>\n",
       "      <td>2017</td>\n",
       "      <td>32.0</td>\n",
       "      <td>80</td>\n",
       "      <td>SOMME</td>\n",
       "      <td>80284</td>\n",
       "      <td>ESMERY HALLON</td>\n",
       "      <td>SER des cantons de Lassigny et Limitrophes</td>\n",
       "      <td>27.0</td>\n",
       "      <td>1</td>\n",
       "      <td>...</td>\n",
       "      <td>0.0</td>\n",
       "      <td>0.00</td>\n",
       "      <td>0</td>\n",
       "      <td>0.0</td>\n",
       "      <td>-99.0</td>\n",
       "      <td>-99</td>\n",
       "      <td>1.000</td>\n",
       "      <td>0.0</td>\n",
       "      <td>0</td>\n",
       "      <td>0.0</td>\n",
       "    </tr>\n",
       "    <tr>\n",
       "      <th>10698</th>\n",
       "      <td>E</td>\n",
       "      <td>2017</td>\n",
       "      <td>32.0</td>\n",
       "      <td>80</td>\n",
       "      <td>SOMME</td>\n",
       "      <td>80433</td>\n",
       "      <td>HERLY</td>\n",
       "      <td>SICAE de la Somme et du Cambraisis</td>\n",
       "      <td>0.0</td>\n",
       "      <td>0</td>\n",
       "      <td>...</td>\n",
       "      <td>1.0</td>\n",
       "      <td>0.00</td>\n",
       "      <td>0</td>\n",
       "      <td>1.0</td>\n",
       "      <td>-99.0</td>\n",
       "      <td>-99</td>\n",
       "      <td>0.680</td>\n",
       "      <td>0.0</td>\n",
       "      <td>0</td>\n",
       "      <td>0.0</td>\n",
       "    </tr>\n",
       "  </tbody>\n",
       "</table>\n",
       "<p>147 rows × 23 columns</p>\n",
       "</div>"
      ],
      "text/plain": [
       "      energy  year  reg_code dep_code  dep_name com_code       com_name  \\\n",
       "660        E  2012      44.0       67  BAS-RHIN    67198      HINSBOURG   \n",
       "672        E  2012      44.0       67  BAS-RHIN    67273           LOHR   \n",
       "1326       E  2013      44.0       57   MOSELLE    57163           DABO   \n",
       "1492       E  2013      44.0       67  BAS-RHIN    67225    ISSENHAUSEN   \n",
       "1530       E  2013      44.0       67  BAS-RHIN    67273           LOHR   \n",
       "...      ...   ...       ...      ...       ...      ...            ...   \n",
       "10571      E  2017      11.0       78  YVELINES    78048    BAZAINVILLE   \n",
       "10579      E  2017      11.0       78  YVELINES    78285        GRESSEY   \n",
       "10599      E  2017      32.0       80     SOMME    80027     ARMANCOURT   \n",
       "10658      E  2017      32.0       80     SOMME    80284  ESMERY HALLON   \n",
       "10698      E  2017      32.0       80     SOMME    80433          HERLY   \n",
       "\n",
       "                                         operator  consoa  pdla  ...  \\\n",
       "660                     Electricité de Strasbourg     0.0     0  ...   \n",
       "672                     Electricité de Strasbourg     0.0     0  ...   \n",
       "1326                    Electricité de Strasbourg     0.0     0  ...   \n",
       "1492                    Electricité de Strasbourg     0.0     0  ...   \n",
       "1530                    Electricité de Strasbourg     0.0     0  ...   \n",
       "...                                           ...     ...   ...  ...   \n",
       "10571        SICAE dEure-et-Loir et des Yvelines     0.0     0  ...   \n",
       "10579        SICAE dEure-et-Loir et des Yvelines     0.0     0  ...   \n",
       "10599          SICAE de la Somme et du Cambraisis     0.0     0  ...   \n",
       "10658  SER des cantons de Lassigny et Limitrophes    27.0     1  ...   \n",
       "10698          SICAE de la Somme et du Cambraisis     0.0     0  ...   \n",
       "\n",
       "       indquali  consot  pdlt  indqualt  consor  pdlr  indqualr  consona  \\\n",
       "660         1.0   30.99     2       1.0   -99.0   -99     0.998      0.0   \n",
       "672         1.0    0.00     0       1.0   -99.0   -99     0.998      0.0   \n",
       "1326        1.0    0.00     0       1.0   -99.0   -99     0.998      0.0   \n",
       "1492        1.0    0.00     0       1.0   -99.0   -99     0.998      0.0   \n",
       "1530        1.0    0.00     0       1.0   -99.0   -99     0.998      0.0   \n",
       "...         ...     ...   ...       ...     ...   ...       ...      ...   \n",
       "10571       1.0    0.00     0       1.0   -99.0   -99     1.000      0.0   \n",
       "10579       1.0    0.00     0       1.0   -99.0   -99     1.000      0.0   \n",
       "10599       1.0    0.00     0       1.0   -99.0   -99     0.610      0.0   \n",
       "10658       0.0    0.00     0       0.0   -99.0   -99     1.000      0.0   \n",
       "10698       1.0    0.00     0       1.0   -99.0   -99     0.680      0.0   \n",
       "\n",
       "       pdlna  indqualna  \n",
       "660        0        1.0  \n",
       "672        0        1.0  \n",
       "1326       0        1.0  \n",
       "1492       0        1.0  \n",
       "1530       0        1.0  \n",
       "...      ...        ...  \n",
       "10571      0        1.0  \n",
       "10579      0        1.0  \n",
       "10599      0        0.0  \n",
       "10658      0        0.0  \n",
       "10698      0        0.0  \n",
       "\n",
       "[147 rows x 23 columns]"
      ]
     },
     "execution_count": 55,
     "metadata": {},
     "output_type": "execute_result"
    }
   ],
   "source": [
    "df_elec_clean.loc[df_elec_clean['consor']==-99]"
   ]
  },
  {
   "cell_type": "code",
   "execution_count": 56,
   "metadata": {},
   "outputs": [],
   "source": [
    "df_elec_clean['consor']=np.where(df_elec_clean['consor']==-99, 0, df_elec_clean['consor'])"
   ]
  },
  {
   "cell_type": "code",
   "execution_count": 57,
   "metadata": {},
   "outputs": [],
   "source": [
    "df_elec_clean['pdlr']=np.where(df_elec_clean['pdlr']==-99, 0, df_elec_clean['consor'])"
   ]
  },
  {
   "cell_type": "markdown",
   "metadata": {},
   "source": [
    "## Export clean data"
   ]
  },
  {
   "cell_type": "code",
   "execution_count": 58,
   "metadata": {},
   "outputs": [],
   "source": [
    "df_elec_clean.to_csv('df_elec_clean.csv', sep='/', index=False)"
   ]
  },
  {
   "cell_type": "markdown",
   "metadata": {},
   "source": [
    "# Dataframe manipulation"
   ]
  },
  {
   "cell_type": "markdown",
   "metadata": {},
   "source": [
    "We will first create dataframes to identify the total year consumptions per sector, year (without operator information)"
   ]
  },
  {
   "cell_type": "markdown",
   "metadata": {},
   "source": [
    "## Energy consumption per year and sector dataframe "
   ]
  },
  {
   "cell_type": "code",
   "execution_count": 59,
   "metadata": {},
   "outputs": [],
   "source": [
    "# Create a copy of the original df\n",
    "df_econso=df_elec_clean.copy()"
   ]
  },
  {
   "cell_type": "code",
   "execution_count": 60,
   "metadata": {},
   "outputs": [
    {
     "data": {
      "text/plain": [
       "Index(['energy', 'year', 'reg_code', 'dep_code', 'dep_name', 'com_code',\n",
       "       'com_name', 'operator', 'consoa', 'pdla', 'indquala', 'consoi', 'pdli',\n",
       "       'indquali', 'consot', 'pdlt', 'indqualt', 'consor', 'pdlr', 'indqualr',\n",
       "       'consona', 'pdlna', 'indqualna'],\n",
       "      dtype='object')"
      ]
     },
     "execution_count": 60,
     "metadata": {},
     "output_type": "execute_result"
    }
   ],
   "source": [
    "df_econso.columns"
   ]
  },
  {
   "cell_type": "markdown",
   "metadata": {},
   "source": [
    "As we don't care about the operator information in this dataframe, we will drop this column"
   ]
  },
  {
   "cell_type": "code",
   "execution_count": 61,
   "metadata": {},
   "outputs": [],
   "source": [
    "df_econso.drop('operator', axis=1, inplace=True)"
   ]
  },
  {
   "cell_type": "markdown",
   "metadata": {},
   "source": [
    "As the colums starting with INDQUAL corresponds to a percentage for each operator and we don't want to have information about the operator, we will drop those columns"
   ]
  },
  {
   "cell_type": "code",
   "execution_count": 62,
   "metadata": {},
   "outputs": [],
   "source": [
    "df_econso.drop(['indquala','indquali','indqualt','indqualr','indqualna'], axis=1, inplace=True)"
   ]
  },
  {
   "cell_type": "markdown",
   "metadata": {},
   "source": [
    "### Commune level"
   ]
  },
  {
   "cell_type": "markdown",
   "metadata": {},
   "source": [
    "We group by year, per commune and aggregate by the sum of consumption"
   ]
  },
  {
   "cell_type": "code",
   "execution_count": 63,
   "metadata": {},
   "outputs": [],
   "source": [
    "df_econso_com=df_econso.groupby(['energy','year','dep_code','dep_name','com_code','com_name']).agg({'consoa':'sum',\n",
    "                                                                                    'pdla':'sum',\n",
    "                                                                                    'consoi':'sum',\n",
    "                                                                                    'pdli':'sum',\n",
    "                                                                                    'consot':'sum',\n",
    "                                                                                    'pdlt':'sum',\n",
    "                                                                                    'consor':'sum',\n",
    "                                                                                    'pdlr':'sum',\n",
    "                                                                                    'consona':'sum',\n",
    "                                                                                    'pdlna':'sum'}).reset_index()"
   ]
  },
  {
   "cell_type": "code",
   "execution_count": 64,
   "metadata": {},
   "outputs": [
    {
     "data": {
      "text/html": [
       "<div>\n",
       "<style scoped>\n",
       "    .dataframe tbody tr th:only-of-type {\n",
       "        vertical-align: middle;\n",
       "    }\n",
       "\n",
       "    .dataframe tbody tr th {\n",
       "        vertical-align: top;\n",
       "    }\n",
       "\n",
       "    .dataframe thead th {\n",
       "        text-align: right;\n",
       "    }\n",
       "</style>\n",
       "<table border=\"1\" class=\"dataframe\">\n",
       "  <thead>\n",
       "    <tr style=\"text-align: right;\">\n",
       "      <th></th>\n",
       "      <th>energy</th>\n",
       "      <th>year</th>\n",
       "      <th>dep_code</th>\n",
       "      <th>dep_name</th>\n",
       "      <th>com_code</th>\n",
       "      <th>com_name</th>\n",
       "      <th>consoa</th>\n",
       "      <th>pdla</th>\n",
       "      <th>consoi</th>\n",
       "      <th>pdli</th>\n",
       "      <th>consot</th>\n",
       "      <th>pdlt</th>\n",
       "      <th>consor</th>\n",
       "      <th>pdlr</th>\n",
       "      <th>consona</th>\n",
       "      <th>pdlna</th>\n",
       "    </tr>\n",
       "  </thead>\n",
       "  <tbody>\n",
       "    <tr>\n",
       "      <th>0</th>\n",
       "      <td>E</td>\n",
       "      <td>2011</td>\n",
       "      <td>11</td>\n",
       "      <td>AUDE</td>\n",
       "      <td>11304</td>\n",
       "      <td>QUILLAN</td>\n",
       "      <td>0.0</td>\n",
       "      <td>0</td>\n",
       "      <td>3796.65</td>\n",
       "      <td>13</td>\n",
       "      <td>1895.12</td>\n",
       "      <td>25</td>\n",
       "      <td>12195.27</td>\n",
       "      <td>12195.27</td>\n",
       "      <td>0.00</td>\n",
       "      <td>0</td>\n",
       "    </tr>\n",
       "    <tr>\n",
       "      <th>1</th>\n",
       "      <td>E</td>\n",
       "      <td>2011</td>\n",
       "      <td>31</td>\n",
       "      <td>HAUTE-GARONNE</td>\n",
       "      <td>31135</td>\n",
       "      <td>CAZERES</td>\n",
       "      <td>0.0</td>\n",
       "      <td>0</td>\n",
       "      <td>0.00</td>\n",
       "      <td>0</td>\n",
       "      <td>0.00</td>\n",
       "      <td>0</td>\n",
       "      <td>13497.00</td>\n",
       "      <td>13497.00</td>\n",
       "      <td>7925.00</td>\n",
       "      <td>417</td>\n",
       "    </tr>\n",
       "    <tr>\n",
       "      <th>2</th>\n",
       "      <td>E</td>\n",
       "      <td>2011</td>\n",
       "      <td>31</td>\n",
       "      <td>HAUTE-GARONNE</td>\n",
       "      <td>31324</td>\n",
       "      <td>MARTRES TOLOSANE</td>\n",
       "      <td>0.0</td>\n",
       "      <td>0</td>\n",
       "      <td>0.00</td>\n",
       "      <td>0</td>\n",
       "      <td>0.00</td>\n",
       "      <td>0</td>\n",
       "      <td>6140.00</td>\n",
       "      <td>6140.00</td>\n",
       "      <td>3755.00</td>\n",
       "      <td>210</td>\n",
       "    </tr>\n",
       "    <tr>\n",
       "      <th>3</th>\n",
       "      <td>E</td>\n",
       "      <td>2011</td>\n",
       "      <td>31</td>\n",
       "      <td>HAUTE-GARONNE</td>\n",
       "      <td>31344</td>\n",
       "      <td>MIRAMONT DE COMMINGES</td>\n",
       "      <td>0.0</td>\n",
       "      <td>0</td>\n",
       "      <td>0.00</td>\n",
       "      <td>0</td>\n",
       "      <td>0.00</td>\n",
       "      <td>0</td>\n",
       "      <td>2490.00</td>\n",
       "      <td>2490.00</td>\n",
       "      <td>0.00</td>\n",
       "      <td>0</td>\n",
       "    </tr>\n",
       "    <tr>\n",
       "      <th>4</th>\n",
       "      <td>E</td>\n",
       "      <td>2011</td>\n",
       "      <td>33</td>\n",
       "      <td>GIRONDE</td>\n",
       "      <td>33352</td>\n",
       "      <td>REOLE</td>\n",
       "      <td>17.3</td>\n",
       "      <td>2</td>\n",
       "      <td>1652.17</td>\n",
       "      <td>27</td>\n",
       "      <td>2095.92</td>\n",
       "      <td>112</td>\n",
       "      <td>4735.83</td>\n",
       "      <td>4735.83</td>\n",
       "      <td>23.05</td>\n",
       "      <td>5</td>\n",
       "    </tr>\n",
       "  </tbody>\n",
       "</table>\n",
       "</div>"
      ],
      "text/plain": [
       "  energy  year dep_code       dep_name com_code               com_name  \\\n",
       "0      E  2011       11           AUDE    11304                QUILLAN   \n",
       "1      E  2011       31  HAUTE-GARONNE    31135                CAZERES   \n",
       "2      E  2011       31  HAUTE-GARONNE    31324       MARTRES TOLOSANE   \n",
       "3      E  2011       31  HAUTE-GARONNE    31344  MIRAMONT DE COMMINGES   \n",
       "4      E  2011       33        GIRONDE    33352                  REOLE   \n",
       "\n",
       "   consoa  pdla   consoi  pdli   consot  pdlt    consor      pdlr  consona  \\\n",
       "0     0.0     0  3796.65    13  1895.12    25  12195.27  12195.27     0.00   \n",
       "1     0.0     0     0.00     0     0.00     0  13497.00  13497.00  7925.00   \n",
       "2     0.0     0     0.00     0     0.00     0   6140.00   6140.00  3755.00   \n",
       "3     0.0     0     0.00     0     0.00     0   2490.00   2490.00     0.00   \n",
       "4    17.3     2  1652.17    27  2095.92   112   4735.83   4735.83    23.05   \n",
       "\n",
       "   pdlna  \n",
       "0      0  \n",
       "1    417  \n",
       "2    210  \n",
       "3      0  \n",
       "4      5  "
      ]
     },
     "execution_count": 64,
     "metadata": {},
     "output_type": "execute_result"
    }
   ],
   "source": [
    "df_econso_com.head()"
   ]
  },
  {
   "cell_type": "markdown",
   "metadata": {},
   "source": [
    "We add the total consumption for each row"
   ]
  },
  {
   "cell_type": "code",
   "execution_count": 65,
   "metadata": {},
   "outputs": [],
   "source": [
    "df_econso_com['total']=df_econso_com.consoa + df_econso_com.consoi + df_econso_com.consot + df_econso_com.consona + df_econso_com.consor"
   ]
  },
  {
   "cell_type": "code",
   "execution_count": 66,
   "metadata": {},
   "outputs": [],
   "source": [
    "# Export the df in csv\n",
    "df_econso_com.to_csv('df_econso_com.csv', sep='/', index=False)"
   ]
  },
  {
   "cell_type": "markdown",
   "metadata": {},
   "source": [
    "### Department level"
   ]
  },
  {
   "cell_type": "markdown",
   "metadata": {},
   "source": [
    "We group by year, per department and aggregate by the sum of consumption"
   ]
  },
  {
   "cell_type": "code",
   "execution_count": 67,
   "metadata": {},
   "outputs": [],
   "source": [
    "df_econso_dep=df_econso.groupby(['energy','year','dep_code','dep_name']).agg({'consoa':'sum',\n",
    "                                                                                    'pdla':'sum',\n",
    "                                                                                    'consoi':'sum',\n",
    "                                                                                    'pdli':'sum',\n",
    "                                                                                    'consot':'sum',\n",
    "                                                                                    'pdlt':'sum',\n",
    "                                                                                    'consor':'sum',\n",
    "                                                                                    'pdlr':'sum',\n",
    "                                                                                    'consona':'sum',\n",
    "                                                                                    'pdlna':'sum'}).reset_index()"
   ]
  },
  {
   "cell_type": "code",
   "execution_count": 68,
   "metadata": {},
   "outputs": [
    {
     "data": {
      "text/html": [
       "<div>\n",
       "<style scoped>\n",
       "    .dataframe tbody tr th:only-of-type {\n",
       "        vertical-align: middle;\n",
       "    }\n",
       "\n",
       "    .dataframe tbody tr th {\n",
       "        vertical-align: top;\n",
       "    }\n",
       "\n",
       "    .dataframe thead th {\n",
       "        text-align: right;\n",
       "    }\n",
       "</style>\n",
       "<table border=\"1\" class=\"dataframe\">\n",
       "  <thead>\n",
       "    <tr style=\"text-align: right;\">\n",
       "      <th></th>\n",
       "      <th>energy</th>\n",
       "      <th>year</th>\n",
       "      <th>dep_code</th>\n",
       "      <th>dep_name</th>\n",
       "      <th>consoa</th>\n",
       "      <th>pdla</th>\n",
       "      <th>consoi</th>\n",
       "      <th>pdli</th>\n",
       "      <th>consot</th>\n",
       "      <th>pdlt</th>\n",
       "      <th>consor</th>\n",
       "      <th>pdlr</th>\n",
       "      <th>consona</th>\n",
       "      <th>pdlna</th>\n",
       "    </tr>\n",
       "  </thead>\n",
       "  <tbody>\n",
       "    <tr>\n",
       "      <th>0</th>\n",
       "      <td>E</td>\n",
       "      <td>2011</td>\n",
       "      <td>11</td>\n",
       "      <td>AUDE</td>\n",
       "      <td>0.00</td>\n",
       "      <td>0</td>\n",
       "      <td>3796.65</td>\n",
       "      <td>13</td>\n",
       "      <td>1895.12</td>\n",
       "      <td>25</td>\n",
       "      <td>12195.27</td>\n",
       "      <td>12195.27</td>\n",
       "      <td>0.00</td>\n",
       "      <td>0</td>\n",
       "    </tr>\n",
       "    <tr>\n",
       "      <th>1</th>\n",
       "      <td>E</td>\n",
       "      <td>2011</td>\n",
       "      <td>31</td>\n",
       "      <td>HAUTE-GARONNE</td>\n",
       "      <td>0.00</td>\n",
       "      <td>0</td>\n",
       "      <td>0.00</td>\n",
       "      <td>0</td>\n",
       "      <td>0.00</td>\n",
       "      <td>0</td>\n",
       "      <td>22127.00</td>\n",
       "      <td>22127.00</td>\n",
       "      <td>11680.00</td>\n",
       "      <td>627</td>\n",
       "    </tr>\n",
       "    <tr>\n",
       "      <th>2</th>\n",
       "      <td>E</td>\n",
       "      <td>2011</td>\n",
       "      <td>33</td>\n",
       "      <td>GIRONDE</td>\n",
       "      <td>17.30</td>\n",
       "      <td>2</td>\n",
       "      <td>1652.17</td>\n",
       "      <td>27</td>\n",
       "      <td>2095.92</td>\n",
       "      <td>112</td>\n",
       "      <td>4735.83</td>\n",
       "      <td>4735.83</td>\n",
       "      <td>23.05</td>\n",
       "      <td>5</td>\n",
       "    </tr>\n",
       "    <tr>\n",
       "      <th>3</th>\n",
       "      <td>E</td>\n",
       "      <td>2011</td>\n",
       "      <td>34</td>\n",
       "      <td>HÉRAULT</td>\n",
       "      <td>1414.68</td>\n",
       "      <td>22</td>\n",
       "      <td>18784.01</td>\n",
       "      <td>72</td>\n",
       "      <td>66505.25</td>\n",
       "      <td>420</td>\n",
       "      <td>271952.67</td>\n",
       "      <td>271952.67</td>\n",
       "      <td>1393.39</td>\n",
       "      <td>83</td>\n",
       "    </tr>\n",
       "    <tr>\n",
       "      <th>4</th>\n",
       "      <td>E</td>\n",
       "      <td>2011</td>\n",
       "      <td>38</td>\n",
       "      <td>ISÈRE</td>\n",
       "      <td>0.00</td>\n",
       "      <td>0</td>\n",
       "      <td>27698.00</td>\n",
       "      <td>20</td>\n",
       "      <td>47855.00</td>\n",
       "      <td>1950</td>\n",
       "      <td>85835.00</td>\n",
       "      <td>85835.00</td>\n",
       "      <td>0.00</td>\n",
       "      <td>0</td>\n",
       "    </tr>\n",
       "  </tbody>\n",
       "</table>\n",
       "</div>"
      ],
      "text/plain": [
       "  energy  year dep_code       dep_name   consoa  pdla    consoi  pdli  \\\n",
       "0      E  2011       11           AUDE     0.00     0   3796.65    13   \n",
       "1      E  2011       31  HAUTE-GARONNE     0.00     0      0.00     0   \n",
       "2      E  2011       33        GIRONDE    17.30     2   1652.17    27   \n",
       "3      E  2011       34        HÉRAULT  1414.68    22  18784.01    72   \n",
       "4      E  2011       38          ISÈRE     0.00     0  27698.00    20   \n",
       "\n",
       "     consot  pdlt     consor       pdlr   consona  pdlna  \n",
       "0   1895.12    25   12195.27   12195.27      0.00      0  \n",
       "1      0.00     0   22127.00   22127.00  11680.00    627  \n",
       "2   2095.92   112    4735.83    4735.83     23.05      5  \n",
       "3  66505.25   420  271952.67  271952.67   1393.39     83  \n",
       "4  47855.00  1950   85835.00   85835.00      0.00      0  "
      ]
     },
     "execution_count": 68,
     "metadata": {},
     "output_type": "execute_result"
    }
   ],
   "source": [
    "df_econso_dep.head()"
   ]
  },
  {
   "cell_type": "markdown",
   "metadata": {},
   "source": [
    "We add the total consumption for each row"
   ]
  },
  {
   "cell_type": "code",
   "execution_count": 69,
   "metadata": {},
   "outputs": [],
   "source": [
    "df_econso_dep['total']=df_econso_dep.consoa + df_econso_dep.consoi + df_econso_dep.consot + df_econso_dep.consona + df_econso_dep.consor"
   ]
  },
  {
   "cell_type": "code",
   "execution_count": 70,
   "metadata": {},
   "outputs": [],
   "source": [
    "# Export the df in csv\n",
    "df_econso_dep.to_csv('df_econso_dep.csv', sep='/', index=False)"
   ]
  },
  {
   "cell_type": "markdown",
   "metadata": {},
   "source": [
    "## Consumption France level"
   ]
  },
  {
   "cell_type": "markdown",
   "metadata": {},
   "source": [
    "According to the information data file, the consor is not always the good one in order to respect confidentiality but we have the total per region. In order to do some further analysis we will create a dataframe containing the information per region"
   ]
  },
  {
   "cell_type": "code",
   "execution_count": 71,
   "metadata": {},
   "outputs": [],
   "source": [
    "df_econso_france=df_econso.copy()"
   ]
  },
  {
   "cell_type": "code",
   "execution_count": 72,
   "metadata": {},
   "outputs": [],
   "source": [
    "df_econso_fr=df_econso_france.groupby(['energy','year']).agg({'consoa':'sum',\n",
    "                                                                                    'pdla':'sum',\n",
    "                                                                                    'consoi':'sum',\n",
    "                                                                                    'pdli':'sum',\n",
    "                                                                                    'consot':'sum',\n",
    "                                                                                    'pdlt':'sum',\n",
    "                                                                                    'consor':'sum',\n",
    "                                                                                    'pdlr':'sum',\n",
    "                                                                                    'consona':'sum',\n",
    "                                                                                    'pdlna':'sum'}).reset_index()"
   ]
  },
  {
   "cell_type": "code",
   "execution_count": 73,
   "metadata": {},
   "outputs": [
    {
     "data": {
      "text/html": [
       "<div>\n",
       "<style scoped>\n",
       "    .dataframe tbody tr th:only-of-type {\n",
       "        vertical-align: middle;\n",
       "    }\n",
       "\n",
       "    .dataframe tbody tr th {\n",
       "        vertical-align: top;\n",
       "    }\n",
       "\n",
       "    .dataframe thead th {\n",
       "        text-align: right;\n",
       "    }\n",
       "</style>\n",
       "<table border=\"1\" class=\"dataframe\">\n",
       "  <thead>\n",
       "    <tr style=\"text-align: right;\">\n",
       "      <th></th>\n",
       "      <th>energy</th>\n",
       "      <th>year</th>\n",
       "      <th>consoa</th>\n",
       "      <th>pdla</th>\n",
       "      <th>consoi</th>\n",
       "      <th>pdli</th>\n",
       "      <th>consot</th>\n",
       "      <th>pdlt</th>\n",
       "      <th>consor</th>\n",
       "      <th>pdlr</th>\n",
       "      <th>consona</th>\n",
       "      <th>pdlna</th>\n",
       "    </tr>\n",
       "  </thead>\n",
       "  <tbody>\n",
       "    <tr>\n",
       "      <th>0</th>\n",
       "      <td>E</td>\n",
       "      <td>2011</td>\n",
       "      <td>100141.54</td>\n",
       "      <td>395</td>\n",
       "      <td>361673.738</td>\n",
       "      <td>1091</td>\n",
       "      <td>430536.541</td>\n",
       "      <td>12663</td>\n",
       "      <td>4.924784e+06</td>\n",
       "      <td>4.924784e+06</td>\n",
       "      <td>3.373485e+05</td>\n",
       "      <td>20538</td>\n",
       "    </tr>\n",
       "    <tr>\n",
       "      <th>1</th>\n",
       "      <td>E</td>\n",
       "      <td>2012</td>\n",
       "      <td>99825.13</td>\n",
       "      <td>361</td>\n",
       "      <td>1446701.607</td>\n",
       "      <td>1548</td>\n",
       "      <td>692852.100</td>\n",
       "      <td>14330</td>\n",
       "      <td>5.720067e+06</td>\n",
       "      <td>5.720067e+06</td>\n",
       "      <td>8.390828e+06</td>\n",
       "      <td>22699</td>\n",
       "    </tr>\n",
       "    <tr>\n",
       "      <th>2</th>\n",
       "      <td>E</td>\n",
       "      <td>2013</td>\n",
       "      <td>140757.61</td>\n",
       "      <td>715</td>\n",
       "      <td>3688979.834</td>\n",
       "      <td>2942</td>\n",
       "      <td>1426220.961</td>\n",
       "      <td>20077</td>\n",
       "      <td>8.025404e+06</td>\n",
       "      <td>8.025404e+06</td>\n",
       "      <td>8.503058e+06</td>\n",
       "      <td>22957</td>\n",
       "    </tr>\n",
       "    <tr>\n",
       "      <th>3</th>\n",
       "      <td>E</td>\n",
       "      <td>2014</td>\n",
       "      <td>136034.24</td>\n",
       "      <td>738</td>\n",
       "      <td>4303626.720</td>\n",
       "      <td>2726</td>\n",
       "      <td>1314027.090</td>\n",
       "      <td>18679</td>\n",
       "      <td>1.065145e+07</td>\n",
       "      <td>1.065145e+07</td>\n",
       "      <td>8.603519e+06</td>\n",
       "      <td>31018</td>\n",
       "    </tr>\n",
       "    <tr>\n",
       "      <th>4</th>\n",
       "      <td>E</td>\n",
       "      <td>2015</td>\n",
       "      <td>101815.06</td>\n",
       "      <td>2078</td>\n",
       "      <td>5847662.216</td>\n",
       "      <td>22594</td>\n",
       "      <td>2882416.540</td>\n",
       "      <td>52512</td>\n",
       "      <td>9.026394e+06</td>\n",
       "      <td>9.026394e+06</td>\n",
       "      <td>1.002193e+07</td>\n",
       "      <td>1372329</td>\n",
       "    </tr>\n",
       "  </tbody>\n",
       "</table>\n",
       "</div>"
      ],
      "text/plain": [
       "  energy  year     consoa  pdla       consoi   pdli       consot   pdlt  \\\n",
       "0      E  2011  100141.54   395   361673.738   1091   430536.541  12663   \n",
       "1      E  2012   99825.13   361  1446701.607   1548   692852.100  14330   \n",
       "2      E  2013  140757.61   715  3688979.834   2942  1426220.961  20077   \n",
       "3      E  2014  136034.24   738  4303626.720   2726  1314027.090  18679   \n",
       "4      E  2015  101815.06  2078  5847662.216  22594  2882416.540  52512   \n",
       "\n",
       "         consor          pdlr       consona    pdlna  \n",
       "0  4.924784e+06  4.924784e+06  3.373485e+05    20538  \n",
       "1  5.720067e+06  5.720067e+06  8.390828e+06    22699  \n",
       "2  8.025404e+06  8.025404e+06  8.503058e+06    22957  \n",
       "3  1.065145e+07  1.065145e+07  8.603519e+06    31018  \n",
       "4  9.026394e+06  9.026394e+06  1.002193e+07  1372329  "
      ]
     },
     "execution_count": 73,
     "metadata": {},
     "output_type": "execute_result"
    }
   ],
   "source": [
    "df_econso_fr.head()"
   ]
  },
  {
   "cell_type": "markdown",
   "metadata": {},
   "source": [
    "As the information are not complete in consor and pdlr columns, we will set the value as 0"
   ]
  },
  {
   "cell_type": "code",
   "execution_count": 74,
   "metadata": {},
   "outputs": [],
   "source": [
    "df_econso_fr.consor=0\n",
    "df_econso_fr.pdlr=0"
   ]
  },
  {
   "cell_type": "markdown",
   "metadata": {},
   "source": [
    "In order to obtain the total amount for consor and pdlr columns, we will concatenate the df with the total by region"
   ]
  },
  {
   "cell_type": "code",
   "execution_count": 75,
   "metadata": {},
   "outputs": [
    {
     "name": "stderr",
     "output_type": "stream",
     "text": [
      "/usr/local/Cellar/jupyterlab/2.2.0/libexec/lib/python3.8/site-packages/pandas/core/frame.py:3065: SettingWithCopyWarning: \n",
      "A value is trying to be set on a copy of a slice from a DataFrame.\n",
      "Try using .loc[row_indexer,col_indexer] = value instead\n",
      "\n",
      "See the caveats in the documentation: https://pandas.pydata.org/pandas-docs/stable/user_guide/indexing.html#returning-a-view-versus-a-copy\n",
      "  self[k1] = value[k2]\n"
     ]
    }
   ],
   "source": [
    "df_elec_region[['CONSOA','INDQUALA','CONSOI','INDQUALI','CONSOT','INDQUALT','CONSOR','INDQUALR','CONSONA','INDQUALNA']]=df_elec_region[['CONSOA','INDQUALA','CONSOI','INDQUALI','CONSOT','INDQUALT','CONSOR','INDQUALR','CONSONA','INDQUALNA']].apply(lambda x: x.str.replace(',','.'))"
   ]
  },
  {
   "cell_type": "code",
   "execution_count": 76,
   "metadata": {},
   "outputs": [],
   "source": [
    "df_elec_region[['CONSOA','INDQUALA','CONSOI','INDQUALI','CONSOT','INDQUALT','CONSOR','INDQUALR','CONSONA','INDQUALNA']]=df_elec_region[['CONSOA','INDQUALA','CONSOI','INDQUALI','CONSOT','INDQUALT','CONSOR','INDQUALR','CONSONA','INDQUALNA']].apply(pd.to_numeric)"
   ]
  },
  {
   "cell_type": "code",
   "execution_count": 77,
   "metadata": {},
   "outputs": [],
   "source": [
    "df_elec_fr_toconcat=df_elec_region[['FILIERE','ANNEE','CONSOA','PDLA','CONSOI','PDLI','CONSOT','PDLT','CONSOR','PDLR','CONSONA','PDLNA']]"
   ]
  },
  {
   "cell_type": "code",
   "execution_count": 78,
   "metadata": {},
   "outputs": [],
   "source": [
    "df_elec_fr_toconcat.columns=df_econso_fr.columns"
   ]
  },
  {
   "cell_type": "code",
   "execution_count": 79,
   "metadata": {},
   "outputs": [],
   "source": [
    "frames1=[df_elec_fr_toconcat, df_econso_fr]"
   ]
  },
  {
   "cell_type": "code",
   "execution_count": 80,
   "metadata": {},
   "outputs": [],
   "source": [
    "df_e_fr=pd.concat(frames1)"
   ]
  },
  {
   "cell_type": "code",
   "execution_count": 81,
   "metadata": {},
   "outputs": [
    {
     "data": {
      "text/plain": [
       "energy     0\n",
       "year       0\n",
       "consoa     0\n",
       "pdla       0\n",
       "consoi     0\n",
       "pdli       0\n",
       "consot     0\n",
       "pdlt       0\n",
       "consor     0\n",
       "pdlr       0\n",
       "consona    0\n",
       "pdlna      0\n",
       "dtype: int64"
      ]
     },
     "execution_count": 81,
     "metadata": {},
     "output_type": "execute_result"
    }
   ],
   "source": [
    "df_e_fr.isna().sum()"
   ]
  },
  {
   "cell_type": "code",
   "execution_count": 82,
   "metadata": {},
   "outputs": [],
   "source": [
    "df_e_fr=df_e_fr.groupby(['energy','year']).agg({'consoa':'sum',\n",
    "                                                                                    'pdla':'sum',\n",
    "                                                                                    'consoi':'sum',\n",
    "                                                                                    'pdli':'sum',\n",
    "                                                                                    'consot':'sum',\n",
    "                                                                                    'pdlt':'sum',\n",
    "                                                                                    'consor':'sum',\n",
    "                                                                                    'pdlr':'sum',\n",
    "                                                                                    'consona':'sum',\n",
    "                                                                                    'pdlna':'sum'}).reset_index()"
   ]
  },
  {
   "cell_type": "code",
   "execution_count": 83,
   "metadata": {},
   "outputs": [
    {
     "data": {
      "text/html": [
       "<div>\n",
       "<style scoped>\n",
       "    .dataframe tbody tr th:only-of-type {\n",
       "        vertical-align: middle;\n",
       "    }\n",
       "\n",
       "    .dataframe tbody tr th {\n",
       "        vertical-align: top;\n",
       "    }\n",
       "\n",
       "    .dataframe thead th {\n",
       "        text-align: right;\n",
       "    }\n",
       "</style>\n",
       "<table border=\"1\" class=\"dataframe\">\n",
       "  <thead>\n",
       "    <tr style=\"text-align: right;\">\n",
       "      <th></th>\n",
       "      <th>energy</th>\n",
       "      <th>year</th>\n",
       "      <th>consoa</th>\n",
       "      <th>pdla</th>\n",
       "      <th>consoi</th>\n",
       "      <th>pdli</th>\n",
       "      <th>consot</th>\n",
       "      <th>pdlt</th>\n",
       "      <th>consor</th>\n",
       "      <th>pdlr</th>\n",
       "      <th>consona</th>\n",
       "      <th>pdlna</th>\n",
       "    </tr>\n",
       "  </thead>\n",
       "  <tbody>\n",
       "    <tr>\n",
       "      <th>0</th>\n",
       "      <td>E</td>\n",
       "      <td>2011</td>\n",
       "      <td>100141.54</td>\n",
       "      <td>395</td>\n",
       "      <td>361673.738</td>\n",
       "      <td>1091</td>\n",
       "      <td>430536.541</td>\n",
       "      <td>12663</td>\n",
       "      <td>7077.38</td>\n",
       "      <td>820</td>\n",
       "      <td>3.373485e+05</td>\n",
       "      <td>20538</td>\n",
       "    </tr>\n",
       "    <tr>\n",
       "      <th>1</th>\n",
       "      <td>E</td>\n",
       "      <td>2012</td>\n",
       "      <td>99825.13</td>\n",
       "      <td>361</td>\n",
       "      <td>1446701.607</td>\n",
       "      <td>1548</td>\n",
       "      <td>692852.100</td>\n",
       "      <td>14330</td>\n",
       "      <td>8243.65</td>\n",
       "      <td>988</td>\n",
       "      <td>8.390828e+06</td>\n",
       "      <td>22699</td>\n",
       "    </tr>\n",
       "    <tr>\n",
       "      <th>2</th>\n",
       "      <td>E</td>\n",
       "      <td>2013</td>\n",
       "      <td>140757.61</td>\n",
       "      <td>715</td>\n",
       "      <td>3688979.834</td>\n",
       "      <td>2942</td>\n",
       "      <td>1426220.961</td>\n",
       "      <td>20077</td>\n",
       "      <td>9754.31</td>\n",
       "      <td>1199</td>\n",
       "      <td>8.503058e+06</td>\n",
       "      <td>22957</td>\n",
       "    </tr>\n",
       "    <tr>\n",
       "      <th>3</th>\n",
       "      <td>E</td>\n",
       "      <td>2014</td>\n",
       "      <td>136034.24</td>\n",
       "      <td>738</td>\n",
       "      <td>4303626.720</td>\n",
       "      <td>2726</td>\n",
       "      <td>1314027.090</td>\n",
       "      <td>18679</td>\n",
       "      <td>10746.97</td>\n",
       "      <td>1442</td>\n",
       "      <td>8.603519e+06</td>\n",
       "      <td>31018</td>\n",
       "    </tr>\n",
       "    <tr>\n",
       "      <th>4</th>\n",
       "      <td>E</td>\n",
       "      <td>2015</td>\n",
       "      <td>101815.06</td>\n",
       "      <td>2078</td>\n",
       "      <td>5847662.216</td>\n",
       "      <td>22594</td>\n",
       "      <td>2882416.540</td>\n",
       "      <td>52512</td>\n",
       "      <td>14759.46</td>\n",
       "      <td>2064</td>\n",
       "      <td>1.002193e+07</td>\n",
       "      <td>1372329</td>\n",
       "    </tr>\n",
       "    <tr>\n",
       "      <th>5</th>\n",
       "      <td>E</td>\n",
       "      <td>2016</td>\n",
       "      <td>159896.05</td>\n",
       "      <td>2259</td>\n",
       "      <td>6118307.210</td>\n",
       "      <td>18804</td>\n",
       "      <td>2629273.548</td>\n",
       "      <td>53745</td>\n",
       "      <td>35446.86</td>\n",
       "      <td>5472</td>\n",
       "      <td>1.036612e+07</td>\n",
       "      <td>1140805</td>\n",
       "    </tr>\n",
       "    <tr>\n",
       "      <th>6</th>\n",
       "      <td>E</td>\n",
       "      <td>2017</td>\n",
       "      <td>161022.92</td>\n",
       "      <td>4491</td>\n",
       "      <td>2660850.770</td>\n",
       "      <td>14667</td>\n",
       "      <td>3900111.700</td>\n",
       "      <td>126073</td>\n",
       "      <td>17344.15</td>\n",
       "      <td>3301</td>\n",
       "      <td>1.759517e+06</td>\n",
       "      <td>73703</td>\n",
       "    </tr>\n",
       "  </tbody>\n",
       "</table>\n",
       "</div>"
      ],
      "text/plain": [
       "  energy  year     consoa  pdla       consoi   pdli       consot    pdlt  \\\n",
       "0      E  2011  100141.54   395   361673.738   1091   430536.541   12663   \n",
       "1      E  2012   99825.13   361  1446701.607   1548   692852.100   14330   \n",
       "2      E  2013  140757.61   715  3688979.834   2942  1426220.961   20077   \n",
       "3      E  2014  136034.24   738  4303626.720   2726  1314027.090   18679   \n",
       "4      E  2015  101815.06  2078  5847662.216  22594  2882416.540   52512   \n",
       "5      E  2016  159896.05  2259  6118307.210  18804  2629273.548   53745   \n",
       "6      E  2017  161022.92  4491  2660850.770  14667  3900111.700  126073   \n",
       "\n",
       "     consor  pdlr       consona    pdlna  \n",
       "0   7077.38   820  3.373485e+05    20538  \n",
       "1   8243.65   988  8.390828e+06    22699  \n",
       "2   9754.31  1199  8.503058e+06    22957  \n",
       "3  10746.97  1442  8.603519e+06    31018  \n",
       "4  14759.46  2064  1.002193e+07  1372329  \n",
       "5  35446.86  5472  1.036612e+07  1140805  \n",
       "6  17344.15  3301  1.759517e+06    73703  "
      ]
     },
     "execution_count": 83,
     "metadata": {},
     "output_type": "execute_result"
    }
   ],
   "source": [
    "df_e_fr"
   ]
  },
  {
   "cell_type": "markdown",
   "metadata": {},
   "source": [
    "We add a total column"
   ]
  },
  {
   "cell_type": "code",
   "execution_count": 84,
   "metadata": {},
   "outputs": [],
   "source": [
    "df_e_fr['total']=df_e_fr['consoa'] + df_e_fr['consoi'] + df_e_fr['consot'] + df_e_fr['consor'] + df_e_fr['consona']"
   ]
  },
  {
   "cell_type": "code",
   "execution_count": 85,
   "metadata": {},
   "outputs": [],
   "source": [
    "df_e_fr.to_csv('df_e_tot.csv', sep='/', index=False)"
   ]
  },
  {
   "cell_type": "markdown",
   "metadata": {},
   "source": [
    "## Region level"
   ]
  },
  {
   "cell_type": "code",
   "execution_count": 86,
   "metadata": {},
   "outputs": [],
   "source": [
    "df_econso_region=df_econso.copy()"
   ]
  },
  {
   "cell_type": "code",
   "execution_count": 87,
   "metadata": {},
   "outputs": [],
   "source": [
    "df_econso_reg=df_econso_region.groupby(['energy','year','reg_code']).agg({'consoa':'sum',\n",
    "                                                                                    'pdla':'sum',\n",
    "                                                                                    'consoi':'sum',\n",
    "                                                                                    'pdli':'sum',\n",
    "                                                                                    'consot':'sum',\n",
    "                                                                                    'pdlt':'sum',\n",
    "                                                                                    'consor':'sum',\n",
    "                                                                                    'pdlr':'sum',\n",
    "                                                                                    'consona':'sum',\n",
    "                                                                                    'pdlna':'sum'}).reset_index()"
   ]
  },
  {
   "cell_type": "code",
   "execution_count": 88,
   "metadata": {},
   "outputs": [
    {
     "data": {
      "text/html": [
       "<div>\n",
       "<style scoped>\n",
       "    .dataframe tbody tr th:only-of-type {\n",
       "        vertical-align: middle;\n",
       "    }\n",
       "\n",
       "    .dataframe tbody tr th {\n",
       "        vertical-align: top;\n",
       "    }\n",
       "\n",
       "    .dataframe thead th {\n",
       "        text-align: right;\n",
       "    }\n",
       "</style>\n",
       "<table border=\"1\" class=\"dataframe\">\n",
       "  <thead>\n",
       "    <tr style=\"text-align: right;\">\n",
       "      <th></th>\n",
       "      <th>energy</th>\n",
       "      <th>year</th>\n",
       "      <th>reg_code</th>\n",
       "      <th>consoa</th>\n",
       "      <th>pdla</th>\n",
       "      <th>consoi</th>\n",
       "      <th>pdli</th>\n",
       "      <th>consot</th>\n",
       "      <th>pdlt</th>\n",
       "      <th>consor</th>\n",
       "      <th>pdlr</th>\n",
       "      <th>consona</th>\n",
       "      <th>pdlna</th>\n",
       "    </tr>\n",
       "  </thead>\n",
       "  <tbody>\n",
       "    <tr>\n",
       "      <th>0</th>\n",
       "      <td>E</td>\n",
       "      <td>2011</td>\n",
       "      <td>0.0</td>\n",
       "      <td>1174.57</td>\n",
       "      <td>167</td>\n",
       "      <td>25727.59</td>\n",
       "      <td>50</td>\n",
       "      <td>18004.43</td>\n",
       "      <td>1130</td>\n",
       "      <td>55254.56</td>\n",
       "      <td>55254.56</td>\n",
       "      <td>4974.71</td>\n",
       "      <td>542</td>\n",
       "    </tr>\n",
       "    <tr>\n",
       "      <th>1</th>\n",
       "      <td>E</td>\n",
       "      <td>2011</td>\n",
       "      <td>28.0</td>\n",
       "      <td>0.00</td>\n",
       "      <td>0</td>\n",
       "      <td>6753.00</td>\n",
       "      <td>13</td>\n",
       "      <td>0.00</td>\n",
       "      <td>0</td>\n",
       "      <td>48153.00</td>\n",
       "      <td>48153.00</td>\n",
       "      <td>6975.00</td>\n",
       "      <td>59</td>\n",
       "    </tr>\n",
       "    <tr>\n",
       "      <th>2</th>\n",
       "      <td>E</td>\n",
       "      <td>2011</td>\n",
       "      <td>32.0</td>\n",
       "      <td>212.00</td>\n",
       "      <td>10</td>\n",
       "      <td>44186.00</td>\n",
       "      <td>20</td>\n",
       "      <td>24462.00</td>\n",
       "      <td>101</td>\n",
       "      <td>48179.00</td>\n",
       "      <td>48179.00</td>\n",
       "      <td>0.00</td>\n",
       "      <td>5907</td>\n",
       "    </tr>\n",
       "    <tr>\n",
       "      <th>3</th>\n",
       "      <td>E</td>\n",
       "      <td>2011</td>\n",
       "      <td>44.0</td>\n",
       "      <td>634.99</td>\n",
       "      <td>43</td>\n",
       "      <td>123179.09</td>\n",
       "      <td>510</td>\n",
       "      <td>176667.69</td>\n",
       "      <td>6619</td>\n",
       "      <td>178730.91</td>\n",
       "      <td>178730.91</td>\n",
       "      <td>264575.50</td>\n",
       "      <td>12775</td>\n",
       "    </tr>\n",
       "    <tr>\n",
       "      <th>4</th>\n",
       "      <td>E</td>\n",
       "      <td>2011</td>\n",
       "      <td>75.0</td>\n",
       "      <td>189.30</td>\n",
       "      <td>25</td>\n",
       "      <td>7444.17</td>\n",
       "      <td>32</td>\n",
       "      <td>16745.46</td>\n",
       "      <td>865</td>\n",
       "      <td>23285.10</td>\n",
       "      <td>23285.10</td>\n",
       "      <td>1320.01</td>\n",
       "      <td>125</td>\n",
       "    </tr>\n",
       "  </tbody>\n",
       "</table>\n",
       "</div>"
      ],
      "text/plain": [
       "  energy  year  reg_code   consoa  pdla     consoi  pdli     consot  pdlt  \\\n",
       "0      E  2011       0.0  1174.57   167   25727.59    50   18004.43  1130   \n",
       "1      E  2011      28.0     0.00     0    6753.00    13       0.00     0   \n",
       "2      E  2011      32.0   212.00    10   44186.00    20   24462.00   101   \n",
       "3      E  2011      44.0   634.99    43  123179.09   510  176667.69  6619   \n",
       "4      E  2011      75.0   189.30    25    7444.17    32   16745.46   865   \n",
       "\n",
       "      consor       pdlr    consona  pdlna  \n",
       "0   55254.56   55254.56    4974.71    542  \n",
       "1   48153.00   48153.00    6975.00     59  \n",
       "2   48179.00   48179.00       0.00   5907  \n",
       "3  178730.91  178730.91  264575.50  12775  \n",
       "4   23285.10   23285.10    1320.01    125  "
      ]
     },
     "execution_count": 88,
     "metadata": {},
     "output_type": "execute_result"
    }
   ],
   "source": [
    "df_econso_reg.head()"
   ]
  },
  {
   "cell_type": "code",
   "execution_count": 89,
   "metadata": {},
   "outputs": [],
   "source": [
    "df_econso_reg.consor=0\n",
    "df_econso_reg.pdlr=0"
   ]
  },
  {
   "cell_type": "code",
   "execution_count": 90,
   "metadata": {},
   "outputs": [],
   "source": [
    "df_econso_reg=df_econso_reg.groupby(['energy','year','reg_code']).agg({'consoa':'sum',\n",
    "                                                                                    'pdla':'sum',\n",
    "                                                                                    'consoi':'sum',\n",
    "                                                                                    'pdli':'sum',\n",
    "                                                                                    'consot':'sum',\n",
    "                                                                                    'pdlt':'sum',\n",
    "                                                                                    'consor':'sum',\n",
    "                                                                                    'pdlr':'sum',\n",
    "                                                                                    'consona':'sum',\n",
    "                                                                                    'pdlna':'sum'}).reset_index()"
   ]
  },
  {
   "cell_type": "code",
   "execution_count": 91,
   "metadata": {},
   "outputs": [
    {
     "data": {
      "text/html": [
       "<div>\n",
       "<style scoped>\n",
       "    .dataframe tbody tr th:only-of-type {\n",
       "        vertical-align: middle;\n",
       "    }\n",
       "\n",
       "    .dataframe tbody tr th {\n",
       "        vertical-align: top;\n",
       "    }\n",
       "\n",
       "    .dataframe thead th {\n",
       "        text-align: right;\n",
       "    }\n",
       "</style>\n",
       "<table border=\"1\" class=\"dataframe\">\n",
       "  <thead>\n",
       "    <tr style=\"text-align: right;\">\n",
       "      <th></th>\n",
       "      <th>energy</th>\n",
       "      <th>year</th>\n",
       "      <th>reg_code</th>\n",
       "      <th>consoa</th>\n",
       "      <th>pdla</th>\n",
       "      <th>consoi</th>\n",
       "      <th>pdli</th>\n",
       "      <th>consot</th>\n",
       "      <th>pdlt</th>\n",
       "      <th>consor</th>\n",
       "      <th>pdlr</th>\n",
       "      <th>consona</th>\n",
       "      <th>pdlna</th>\n",
       "    </tr>\n",
       "  </thead>\n",
       "  <tbody>\n",
       "    <tr>\n",
       "      <th>0</th>\n",
       "      <td>E</td>\n",
       "      <td>2011</td>\n",
       "      <td>0.0</td>\n",
       "      <td>1174.57</td>\n",
       "      <td>167</td>\n",
       "      <td>25727.59</td>\n",
       "      <td>50</td>\n",
       "      <td>18004.43</td>\n",
       "      <td>1130</td>\n",
       "      <td>0</td>\n",
       "      <td>0</td>\n",
       "      <td>4974.71</td>\n",
       "      <td>542</td>\n",
       "    </tr>\n",
       "    <tr>\n",
       "      <th>1</th>\n",
       "      <td>E</td>\n",
       "      <td>2011</td>\n",
       "      <td>28.0</td>\n",
       "      <td>0.00</td>\n",
       "      <td>0</td>\n",
       "      <td>6753.00</td>\n",
       "      <td>13</td>\n",
       "      <td>0.00</td>\n",
       "      <td>0</td>\n",
       "      <td>0</td>\n",
       "      <td>0</td>\n",
       "      <td>6975.00</td>\n",
       "      <td>59</td>\n",
       "    </tr>\n",
       "    <tr>\n",
       "      <th>2</th>\n",
       "      <td>E</td>\n",
       "      <td>2011</td>\n",
       "      <td>32.0</td>\n",
       "      <td>212.00</td>\n",
       "      <td>10</td>\n",
       "      <td>44186.00</td>\n",
       "      <td>20</td>\n",
       "      <td>24462.00</td>\n",
       "      <td>101</td>\n",
       "      <td>0</td>\n",
       "      <td>0</td>\n",
       "      <td>0.00</td>\n",
       "      <td>5907</td>\n",
       "    </tr>\n",
       "    <tr>\n",
       "      <th>3</th>\n",
       "      <td>E</td>\n",
       "      <td>2011</td>\n",
       "      <td>44.0</td>\n",
       "      <td>634.99</td>\n",
       "      <td>43</td>\n",
       "      <td>123179.09</td>\n",
       "      <td>510</td>\n",
       "      <td>176667.69</td>\n",
       "      <td>6619</td>\n",
       "      <td>0</td>\n",
       "      <td>0</td>\n",
       "      <td>264575.50</td>\n",
       "      <td>12775</td>\n",
       "    </tr>\n",
       "    <tr>\n",
       "      <th>4</th>\n",
       "      <td>E</td>\n",
       "      <td>2011</td>\n",
       "      <td>75.0</td>\n",
       "      <td>189.30</td>\n",
       "      <td>25</td>\n",
       "      <td>7444.17</td>\n",
       "      <td>32</td>\n",
       "      <td>16745.46</td>\n",
       "      <td>865</td>\n",
       "      <td>0</td>\n",
       "      <td>0</td>\n",
       "      <td>1320.01</td>\n",
       "      <td>125</td>\n",
       "    </tr>\n",
       "  </tbody>\n",
       "</table>\n",
       "</div>"
      ],
      "text/plain": [
       "  energy  year  reg_code   consoa  pdla     consoi  pdli     consot  pdlt  \\\n",
       "0      E  2011       0.0  1174.57   167   25727.59    50   18004.43  1130   \n",
       "1      E  2011      28.0     0.00     0    6753.00    13       0.00     0   \n",
       "2      E  2011      32.0   212.00    10   44186.00    20   24462.00   101   \n",
       "3      E  2011      44.0   634.99    43  123179.09   510  176667.69  6619   \n",
       "4      E  2011      75.0   189.30    25    7444.17    32   16745.46   865   \n",
       "\n",
       "   consor  pdlr    consona  pdlna  \n",
       "0       0     0    4974.71    542  \n",
       "1       0     0    6975.00     59  \n",
       "2       0     0       0.00   5907  \n",
       "3       0     0  264575.50  12775  \n",
       "4       0     0    1320.01    125  "
      ]
     },
     "execution_count": 91,
     "metadata": {},
     "output_type": "execute_result"
    }
   ],
   "source": [
    "df_econso_reg.head()"
   ]
  },
  {
   "cell_type": "code",
   "execution_count": 92,
   "metadata": {},
   "outputs": [
    {
     "data": {
      "text/plain": [
       "0.0     7\n",
       "28.0    7\n",
       "32.0    7\n",
       "44.0    7\n",
       "75.0    7\n",
       "76.0    7\n",
       "84.0    7\n",
       "1.0     6\n",
       "2.0     6\n",
       "3.0     6\n",
       "4.0     6\n",
       "93.0    6\n",
       "94.0    6\n",
       "27.0    3\n",
       "6.0     3\n",
       "11.0    3\n",
       "24.0    3\n",
       "52.0    2\n",
       "Name: reg_code, dtype: int64"
      ]
     },
     "execution_count": 92,
     "metadata": {},
     "output_type": "execute_result"
    }
   ],
   "source": [
    "df_econso_reg.reg_code.value_counts()"
   ]
  },
  {
   "cell_type": "markdown",
   "metadata": {},
   "source": [
    "We will replace the 'NC' value by 0"
   ]
  },
  {
   "cell_type": "code",
   "execution_count": 93,
   "metadata": {},
   "outputs": [
    {
     "name": "stderr",
     "output_type": "stream",
     "text": [
      "/usr/local/Cellar/jupyterlab/2.2.0/libexec/lib/python3.8/site-packages/pandas/core/computation/expressions.py:68: FutureWarning: elementwise comparison failed; returning scalar instead, but in the future will perform elementwise comparison\n",
      "  return op(a, b)\n"
     ]
    }
   ],
   "source": [
    "df_econso_reg['reg_code']=np.where(df_econso_reg['reg_code']=='NC', 0, df_econso_reg['reg_code'])"
   ]
  },
  {
   "cell_type": "code",
   "execution_count": 94,
   "metadata": {},
   "outputs": [],
   "source": [
    "df_econso_reg['reg_code']=df_econso_reg['reg_code'].astype(int)"
   ]
  },
  {
   "cell_type": "code",
   "execution_count": 95,
   "metadata": {},
   "outputs": [
    {
     "data": {
      "text/plain": [
       "0     7\n",
       "84    7\n",
       "76    7\n",
       "75    7\n",
       "44    7\n",
       "32    7\n",
       "28    7\n",
       "4     6\n",
       "1     6\n",
       "2     6\n",
       "3     6\n",
       "94    6\n",
       "93    6\n",
       "6     3\n",
       "11    3\n",
       "24    3\n",
       "27    3\n",
       "52    2\n",
       "Name: reg_code, dtype: int64"
      ]
     },
     "execution_count": 95,
     "metadata": {},
     "output_type": "execute_result"
    }
   ],
   "source": [
    "df_econso_reg.reg_code.value_counts()"
   ]
  },
  {
   "cell_type": "code",
   "execution_count": 96,
   "metadata": {},
   "outputs": [
    {
     "data": {
      "text/html": [
       "<div>\n",
       "<style scoped>\n",
       "    .dataframe tbody tr th:only-of-type {\n",
       "        vertical-align: middle;\n",
       "    }\n",
       "\n",
       "    .dataframe tbody tr th {\n",
       "        vertical-align: top;\n",
       "    }\n",
       "\n",
       "    .dataframe thead th {\n",
       "        text-align: right;\n",
       "    }\n",
       "</style>\n",
       "<table border=\"1\" class=\"dataframe\">\n",
       "  <thead>\n",
       "    <tr style=\"text-align: right;\">\n",
       "      <th></th>\n",
       "      <th>OPERATEUR</th>\n",
       "      <th>ANNEE</th>\n",
       "      <th>FILIERE</th>\n",
       "      <th>TYPE</th>\n",
       "      <th>CODE</th>\n",
       "      <th>CONSOA</th>\n",
       "      <th>PDLA</th>\n",
       "      <th>INDQUALA</th>\n",
       "      <th>CONSOI</th>\n",
       "      <th>PDLI</th>\n",
       "      <th>INDQUALI</th>\n",
       "      <th>CONSOT</th>\n",
       "      <th>PDLT</th>\n",
       "      <th>INDQUALT</th>\n",
       "      <th>CONSOR</th>\n",
       "      <th>PDLR</th>\n",
       "      <th>INDQUALR</th>\n",
       "      <th>CONSONA</th>\n",
       "      <th>PDLNA</th>\n",
       "      <th>INDQUALNA</th>\n",
       "    </tr>\n",
       "  </thead>\n",
       "  <tbody>\n",
       "    <tr>\n",
       "      <th>1</th>\n",
       "      <td>Enedis</td>\n",
       "      <td>2011</td>\n",
       "      <td>E</td>\n",
       "      <td>Region</td>\n",
       "      <td>11</td>\n",
       "      <td>0.0</td>\n",
       "      <td>0</td>\n",
       "      <td>0.0</td>\n",
       "      <td>0.0</td>\n",
       "      <td>0</td>\n",
       "      <td>0.0</td>\n",
       "      <td>0.0</td>\n",
       "      <td>0</td>\n",
       "      <td>0.0</td>\n",
       "      <td>2964.78</td>\n",
       "      <td>285</td>\n",
       "      <td>0.35639</td>\n",
       "      <td>0.0</td>\n",
       "      <td>0</td>\n",
       "      <td>0.0</td>\n",
       "    </tr>\n",
       "    <tr>\n",
       "      <th>3</th>\n",
       "      <td>Enedis</td>\n",
       "      <td>2011</td>\n",
       "      <td>E</td>\n",
       "      <td>Region</td>\n",
       "      <td>21</td>\n",
       "      <td>0.0</td>\n",
       "      <td>0</td>\n",
       "      <td>0.0</td>\n",
       "      <td>0.0</td>\n",
       "      <td>0</td>\n",
       "      <td>0.0</td>\n",
       "      <td>0.0</td>\n",
       "      <td>0</td>\n",
       "      <td>0.0</td>\n",
       "      <td>278.42</td>\n",
       "      <td>51</td>\n",
       "      <td>0.33137</td>\n",
       "      <td>0.0</td>\n",
       "      <td>0</td>\n",
       "      <td>0.0</td>\n",
       "    </tr>\n",
       "    <tr>\n",
       "      <th>4</th>\n",
       "      <td>Enedis</td>\n",
       "      <td>2011</td>\n",
       "      <td>E</td>\n",
       "      <td>Region</td>\n",
       "      <td>22</td>\n",
       "      <td>0.0</td>\n",
       "      <td>0</td>\n",
       "      <td>0.0</td>\n",
       "      <td>0.0</td>\n",
       "      <td>0</td>\n",
       "      <td>0.0</td>\n",
       "      <td>0.0</td>\n",
       "      <td>0</td>\n",
       "      <td>0.0</td>\n",
       "      <td>164.48</td>\n",
       "      <td>24</td>\n",
       "      <td>0.67157</td>\n",
       "      <td>0.0</td>\n",
       "      <td>0</td>\n",
       "      <td>0.0</td>\n",
       "    </tr>\n",
       "    <tr>\n",
       "      <th>5</th>\n",
       "      <td>Enedis</td>\n",
       "      <td>2011</td>\n",
       "      <td>E</td>\n",
       "      <td>Region</td>\n",
       "      <td>23</td>\n",
       "      <td>0.0</td>\n",
       "      <td>0</td>\n",
       "      <td>0.0</td>\n",
       "      <td>0.0</td>\n",
       "      <td>0</td>\n",
       "      <td>0.0</td>\n",
       "      <td>0.0</td>\n",
       "      <td>0</td>\n",
       "      <td>0.0</td>\n",
       "      <td>445.70</td>\n",
       "      <td>36</td>\n",
       "      <td>0.43547</td>\n",
       "      <td>0.0</td>\n",
       "      <td>0</td>\n",
       "      <td>0.0</td>\n",
       "    </tr>\n",
       "    <tr>\n",
       "      <th>6</th>\n",
       "      <td>Enedis</td>\n",
       "      <td>2011</td>\n",
       "      <td>E</td>\n",
       "      <td>Region</td>\n",
       "      <td>24</td>\n",
       "      <td>0.0</td>\n",
       "      <td>0</td>\n",
       "      <td>0.0</td>\n",
       "      <td>0.0</td>\n",
       "      <td>0</td>\n",
       "      <td>0.0</td>\n",
       "      <td>0.0</td>\n",
       "      <td>0</td>\n",
       "      <td>0.0</td>\n",
       "      <td>463.94</td>\n",
       "      <td>31</td>\n",
       "      <td>0.40971</td>\n",
       "      <td>0.0</td>\n",
       "      <td>0</td>\n",
       "      <td>0.0</td>\n",
       "    </tr>\n",
       "  </tbody>\n",
       "</table>\n",
       "</div>"
      ],
      "text/plain": [
       "  OPERATEUR  ANNEE FILIERE    TYPE CODE  CONSOA  PDLA  INDQUALA  CONSOI  PDLI  \\\n",
       "1    Enedis   2011       E  Region   11     0.0     0       0.0     0.0     0   \n",
       "3    Enedis   2011       E  Region   21     0.0     0       0.0     0.0     0   \n",
       "4    Enedis   2011       E  Region   22     0.0     0       0.0     0.0     0   \n",
       "5    Enedis   2011       E  Region   23     0.0     0       0.0     0.0     0   \n",
       "6    Enedis   2011       E  Region   24     0.0     0       0.0     0.0     0   \n",
       "\n",
       "   INDQUALI  CONSOT  PDLT  INDQUALT   CONSOR  PDLR  INDQUALR  CONSONA  PDLNA  \\\n",
       "1       0.0     0.0     0       0.0  2964.78   285   0.35639      0.0      0   \n",
       "3       0.0     0.0     0       0.0   278.42    51   0.33137      0.0      0   \n",
       "4       0.0     0.0     0       0.0   164.48    24   0.67157      0.0      0   \n",
       "5       0.0     0.0     0       0.0   445.70    36   0.43547      0.0      0   \n",
       "6       0.0     0.0     0       0.0   463.94    31   0.40971      0.0      0   \n",
       "\n",
       "   INDQUALNA  \n",
       "1        0.0  \n",
       "3        0.0  \n",
       "4        0.0  \n",
       "5        0.0  \n",
       "6        0.0  "
      ]
     },
     "execution_count": 96,
     "metadata": {},
     "output_type": "execute_result"
    }
   ],
   "source": [
    "df_elec_region.head()"
   ]
  },
  {
   "cell_type": "code",
   "execution_count": 97,
   "metadata": {},
   "outputs": [],
   "source": [
    "df_elec_region_toconcat=df_elec_region[['FILIERE','ANNEE','CODE','CONSOA','PDLA','CONSOI','PDLI','CONSOT','PDLT','CONSOR','PDLR','CONSONA','PDLNA']]"
   ]
  },
  {
   "cell_type": "code",
   "execution_count": 98,
   "metadata": {},
   "outputs": [],
   "source": [
    "df_elec_region_toconcat.columns=df_econso_reg.columns"
   ]
  },
  {
   "cell_type": "code",
   "execution_count": 99,
   "metadata": {},
   "outputs": [
    {
     "name": "stderr",
     "output_type": "stream",
     "text": [
      "<ipython-input-99-0b9f9b32c12b>:2: SettingWithCopyWarning: \n",
      "A value is trying to be set on a copy of a slice from a DataFrame.\n",
      "Try using .loc[row_indexer,col_indexer] = value instead\n",
      "\n",
      "See the caveats in the documentation: https://pandas.pydata.org/pandas-docs/stable/user_guide/indexing.html#returning-a-view-versus-a-copy\n",
      "  df_elec_region_toconcat['reg_code']=df_elec_region_toconcat['reg_code'].apply(str)\n"
     ]
    }
   ],
   "source": [
    "df_econso_reg['reg_code']=df_econso_reg['reg_code'].apply(str)\n",
    "df_elec_region_toconcat['reg_code']=df_elec_region_toconcat['reg_code'].apply(str)"
   ]
  },
  {
   "cell_type": "code",
   "execution_count": 100,
   "metadata": {},
   "outputs": [],
   "source": [
    "frames2=[df_elec_region_toconcat, df_econso_reg]"
   ]
  },
  {
   "cell_type": "code",
   "execution_count": 101,
   "metadata": {},
   "outputs": [],
   "source": [
    "df_e_region=pd.concat(frames2)"
   ]
  },
  {
   "cell_type": "code",
   "execution_count": 102,
   "metadata": {},
   "outputs": [
    {
     "data": {
      "text/plain": [
       "energy      0\n",
       "year        0\n",
       "reg_code    0\n",
       "consoa      0\n",
       "pdla        0\n",
       "consoi      0\n",
       "pdli        0\n",
       "consot      0\n",
       "pdlt        0\n",
       "consor      0\n",
       "pdlr        0\n",
       "consona     0\n",
       "pdlna       0\n",
       "dtype: int64"
      ]
     },
     "execution_count": 102,
     "metadata": {},
     "output_type": "execute_result"
    }
   ],
   "source": [
    "df_e_region.isna().sum()"
   ]
  },
  {
   "cell_type": "code",
   "execution_count": 103,
   "metadata": {},
   "outputs": [],
   "source": [
    "df_e_reg=df_e_region.groupby(['energy','year','reg_code']).agg({'consoa':'sum',\n",
    "                                                                                    'pdla':'sum',\n",
    "                                                                                    'consoi':'sum',\n",
    "                                                                                    'pdli':'sum',\n",
    "                                                                                    'consot':'sum',\n",
    "                                                                                    'pdlt':'sum',\n",
    "                                                                                    'consor':'sum',\n",
    "                                                                                    'pdlr':'sum',\n",
    "                                                                                    'consona':'sum',\n",
    "                                                                                    'pdlna':'sum'}).reset_index()"
   ]
  },
  {
   "cell_type": "code",
   "execution_count": 104,
   "metadata": {},
   "outputs": [
    {
     "data": {
      "text/html": [
       "<div>\n",
       "<style scoped>\n",
       "    .dataframe tbody tr th:only-of-type {\n",
       "        vertical-align: middle;\n",
       "    }\n",
       "\n",
       "    .dataframe tbody tr th {\n",
       "        vertical-align: top;\n",
       "    }\n",
       "\n",
       "    .dataframe thead th {\n",
       "        text-align: right;\n",
       "    }\n",
       "</style>\n",
       "<table border=\"1\" class=\"dataframe\">\n",
       "  <thead>\n",
       "    <tr style=\"text-align: right;\">\n",
       "      <th></th>\n",
       "      <th>energy</th>\n",
       "      <th>year</th>\n",
       "      <th>reg_code</th>\n",
       "      <th>consoa</th>\n",
       "      <th>pdla</th>\n",
       "      <th>consoi</th>\n",
       "      <th>pdli</th>\n",
       "      <th>consot</th>\n",
       "      <th>pdlt</th>\n",
       "      <th>consor</th>\n",
       "      <th>pdlr</th>\n",
       "      <th>consona</th>\n",
       "      <th>pdlna</th>\n",
       "    </tr>\n",
       "  </thead>\n",
       "  <tbody>\n",
       "    <tr>\n",
       "      <th>0</th>\n",
       "      <td>E</td>\n",
       "      <td>2011</td>\n",
       "      <td>0</td>\n",
       "      <td>1174.57</td>\n",
       "      <td>167</td>\n",
       "      <td>25727.59</td>\n",
       "      <td>50</td>\n",
       "      <td>18004.43</td>\n",
       "      <td>1130</td>\n",
       "      <td>0.00</td>\n",
       "      <td>0</td>\n",
       "      <td>4974.71</td>\n",
       "      <td>542</td>\n",
       "    </tr>\n",
       "    <tr>\n",
       "      <th>1</th>\n",
       "      <td>E</td>\n",
       "      <td>2011</td>\n",
       "      <td>11</td>\n",
       "      <td>0.00</td>\n",
       "      <td>0</td>\n",
       "      <td>0.00</td>\n",
       "      <td>0</td>\n",
       "      <td>0.00</td>\n",
       "      <td>0</td>\n",
       "      <td>2964.78</td>\n",
       "      <td>285</td>\n",
       "      <td>0.00</td>\n",
       "      <td>0</td>\n",
       "    </tr>\n",
       "    <tr>\n",
       "      <th>2</th>\n",
       "      <td>E</td>\n",
       "      <td>2011</td>\n",
       "      <td>21</td>\n",
       "      <td>0.00</td>\n",
       "      <td>0</td>\n",
       "      <td>0.00</td>\n",
       "      <td>0</td>\n",
       "      <td>0.00</td>\n",
       "      <td>0</td>\n",
       "      <td>278.42</td>\n",
       "      <td>51</td>\n",
       "      <td>0.00</td>\n",
       "      <td>0</td>\n",
       "    </tr>\n",
       "    <tr>\n",
       "      <th>3</th>\n",
       "      <td>E</td>\n",
       "      <td>2011</td>\n",
       "      <td>22</td>\n",
       "      <td>0.00</td>\n",
       "      <td>0</td>\n",
       "      <td>0.00</td>\n",
       "      <td>0</td>\n",
       "      <td>0.00</td>\n",
       "      <td>0</td>\n",
       "      <td>164.48</td>\n",
       "      <td>24</td>\n",
       "      <td>0.00</td>\n",
       "      <td>0</td>\n",
       "    </tr>\n",
       "    <tr>\n",
       "      <th>4</th>\n",
       "      <td>E</td>\n",
       "      <td>2011</td>\n",
       "      <td>23</td>\n",
       "      <td>0.00</td>\n",
       "      <td>0</td>\n",
       "      <td>0.00</td>\n",
       "      <td>0</td>\n",
       "      <td>0.00</td>\n",
       "      <td>0</td>\n",
       "      <td>445.70</td>\n",
       "      <td>36</td>\n",
       "      <td>0.00</td>\n",
       "      <td>0</td>\n",
       "    </tr>\n",
       "  </tbody>\n",
       "</table>\n",
       "</div>"
      ],
      "text/plain": [
       "  energy  year reg_code   consoa  pdla    consoi  pdli    consot  pdlt  \\\n",
       "0      E  2011        0  1174.57   167  25727.59    50  18004.43  1130   \n",
       "1      E  2011       11     0.00     0      0.00     0      0.00     0   \n",
       "2      E  2011       21     0.00     0      0.00     0      0.00     0   \n",
       "3      E  2011       22     0.00     0      0.00     0      0.00     0   \n",
       "4      E  2011       23     0.00     0      0.00     0      0.00     0   \n",
       "\n",
       "    consor  pdlr  consona  pdlna  \n",
       "0     0.00     0  4974.71    542  \n",
       "1  2964.78   285     0.00      0  \n",
       "2   278.42    51     0.00      0  \n",
       "3   164.48    24     0.00      0  \n",
       "4   445.70    36     0.00      0  "
      ]
     },
     "execution_count": 104,
     "metadata": {},
     "output_type": "execute_result"
    }
   ],
   "source": [
    "df_e_reg.head()"
   ]
  },
  {
   "cell_type": "markdown",
   "metadata": {},
   "source": [
    "Now we will add the name of the region"
   ]
  },
  {
   "cell_type": "code",
   "execution_count": 105,
   "metadata": {},
   "outputs": [],
   "source": [
    "df_reg=pd.read_csv('/Users/Jeff/Ironhack/248_Repo/Projects/Final project/Area/df_reg.csv', sep='/')"
   ]
  },
  {
   "cell_type": "code",
   "execution_count": 106,
   "metadata": {},
   "outputs": [
    {
     "data": {
      "text/html": [
       "<div>\n",
       "<style scoped>\n",
       "    .dataframe tbody tr th:only-of-type {\n",
       "        vertical-align: middle;\n",
       "    }\n",
       "\n",
       "    .dataframe tbody tr th {\n",
       "        vertical-align: top;\n",
       "    }\n",
       "\n",
       "    .dataframe thead th {\n",
       "        text-align: right;\n",
       "    }\n",
       "</style>\n",
       "<table border=\"1\" class=\"dataframe\">\n",
       "  <thead>\n",
       "    <tr style=\"text-align: right;\">\n",
       "      <th></th>\n",
       "      <th>reg_code</th>\n",
       "      <th>reg_name</th>\n",
       "    </tr>\n",
       "  </thead>\n",
       "  <tbody>\n",
       "    <tr>\n",
       "      <th>0</th>\n",
       "      <td>1</td>\n",
       "      <td>GUADELOUPE</td>\n",
       "    </tr>\n",
       "    <tr>\n",
       "      <th>1</th>\n",
       "      <td>2</td>\n",
       "      <td>MARTINIQUE</td>\n",
       "    </tr>\n",
       "    <tr>\n",
       "      <th>2</th>\n",
       "      <td>3</td>\n",
       "      <td>GUYANE</td>\n",
       "    </tr>\n",
       "    <tr>\n",
       "      <th>3</th>\n",
       "      <td>4</td>\n",
       "      <td>LA REUNION</td>\n",
       "    </tr>\n",
       "    <tr>\n",
       "      <th>4</th>\n",
       "      <td>6</td>\n",
       "      <td>MAYOTTE</td>\n",
       "    </tr>\n",
       "  </tbody>\n",
       "</table>\n",
       "</div>"
      ],
      "text/plain": [
       "   reg_code    reg_name\n",
       "0         1  GUADELOUPE\n",
       "1         2  MARTINIQUE\n",
       "2         3      GUYANE\n",
       "3         4  LA REUNION\n",
       "4         6     MAYOTTE"
      ]
     },
     "execution_count": 106,
     "metadata": {},
     "output_type": "execute_result"
    }
   ],
   "source": [
    "df_reg.head()"
   ]
  },
  {
   "cell_type": "code",
   "execution_count": 107,
   "metadata": {},
   "outputs": [],
   "source": [
    "df_e_reg['reg_code']=df_e_reg['reg_code'].apply(str)\n",
    "df_reg['reg_code']=df_reg['reg_code'].apply(str)"
   ]
  },
  {
   "cell_type": "code",
   "execution_count": 108,
   "metadata": {},
   "outputs": [],
   "source": [
    "df_elecconso_reg = pd.merge(df_e_reg, df_reg, how='left', on=['reg_code'])"
   ]
  },
  {
   "cell_type": "code",
   "execution_count": 109,
   "metadata": {},
   "outputs": [
    {
     "data": {
      "text/plain": [
       "energy       0\n",
       "year         0\n",
       "reg_code     0\n",
       "consoa       0\n",
       "pdla         0\n",
       "consoi       0\n",
       "pdli         0\n",
       "consot       0\n",
       "pdlt         0\n",
       "consor       0\n",
       "pdlr         0\n",
       "consona      0\n",
       "pdlna        0\n",
       "reg_name    71\n",
       "dtype: int64"
      ]
     },
     "execution_count": 109,
     "metadata": {},
     "output_type": "execute_result"
    }
   ],
   "source": [
    "df_elecconso_reg.isna().sum()"
   ]
  },
  {
   "cell_type": "code",
   "execution_count": 110,
   "metadata": {},
   "outputs": [
    {
     "data": {
      "text/html": [
       "<div>\n",
       "<style scoped>\n",
       "    .dataframe tbody tr th:only-of-type {\n",
       "        vertical-align: middle;\n",
       "    }\n",
       "\n",
       "    .dataframe tbody tr th {\n",
       "        vertical-align: top;\n",
       "    }\n",
       "\n",
       "    .dataframe thead th {\n",
       "        text-align: right;\n",
       "    }\n",
       "</style>\n",
       "<table border=\"1\" class=\"dataframe\">\n",
       "  <thead>\n",
       "    <tr style=\"text-align: right;\">\n",
       "      <th></th>\n",
       "      <th>energy</th>\n",
       "      <th>year</th>\n",
       "      <th>reg_code</th>\n",
       "      <th>consoa</th>\n",
       "      <th>pdla</th>\n",
       "      <th>consoi</th>\n",
       "      <th>pdli</th>\n",
       "      <th>consot</th>\n",
       "      <th>pdlt</th>\n",
       "      <th>consor</th>\n",
       "      <th>pdlr</th>\n",
       "      <th>consona</th>\n",
       "      <th>pdlna</th>\n",
       "      <th>reg_name</th>\n",
       "    </tr>\n",
       "  </thead>\n",
       "  <tbody>\n",
       "    <tr>\n",
       "      <th>0</th>\n",
       "      <td>E</td>\n",
       "      <td>2011</td>\n",
       "      <td>0</td>\n",
       "      <td>1174.57</td>\n",
       "      <td>167</td>\n",
       "      <td>25727.59</td>\n",
       "      <td>50</td>\n",
       "      <td>18004.43</td>\n",
       "      <td>1130</td>\n",
       "      <td>0.00</td>\n",
       "      <td>0</td>\n",
       "      <td>4974.71</td>\n",
       "      <td>542</td>\n",
       "      <td>NaN</td>\n",
       "    </tr>\n",
       "    <tr>\n",
       "      <th>2</th>\n",
       "      <td>E</td>\n",
       "      <td>2011</td>\n",
       "      <td>21</td>\n",
       "      <td>0.00</td>\n",
       "      <td>0</td>\n",
       "      <td>0.00</td>\n",
       "      <td>0</td>\n",
       "      <td>0.00</td>\n",
       "      <td>0</td>\n",
       "      <td>278.42</td>\n",
       "      <td>51</td>\n",
       "      <td>0.00</td>\n",
       "      <td>0</td>\n",
       "      <td>NaN</td>\n",
       "    </tr>\n",
       "    <tr>\n",
       "      <th>3</th>\n",
       "      <td>E</td>\n",
       "      <td>2011</td>\n",
       "      <td>22</td>\n",
       "      <td>0.00</td>\n",
       "      <td>0</td>\n",
       "      <td>0.00</td>\n",
       "      <td>0</td>\n",
       "      <td>0.00</td>\n",
       "      <td>0</td>\n",
       "      <td>164.48</td>\n",
       "      <td>24</td>\n",
       "      <td>0.00</td>\n",
       "      <td>0</td>\n",
       "      <td>NaN</td>\n",
       "    </tr>\n",
       "    <tr>\n",
       "      <th>4</th>\n",
       "      <td>E</td>\n",
       "      <td>2011</td>\n",
       "      <td>23</td>\n",
       "      <td>0.00</td>\n",
       "      <td>0</td>\n",
       "      <td>0.00</td>\n",
       "      <td>0</td>\n",
       "      <td>0.00</td>\n",
       "      <td>0</td>\n",
       "      <td>445.70</td>\n",
       "      <td>36</td>\n",
       "      <td>0.00</td>\n",
       "      <td>0</td>\n",
       "      <td>NaN</td>\n",
       "    </tr>\n",
       "    <tr>\n",
       "      <th>6</th>\n",
       "      <td>E</td>\n",
       "      <td>2011</td>\n",
       "      <td>25</td>\n",
       "      <td>0.00</td>\n",
       "      <td>0</td>\n",
       "      <td>0.00</td>\n",
       "      <td>0</td>\n",
       "      <td>0.00</td>\n",
       "      <td>0</td>\n",
       "      <td>35.00</td>\n",
       "      <td>11</td>\n",
       "      <td>0.00</td>\n",
       "      <td>0</td>\n",
       "      <td>NaN</td>\n",
       "    </tr>\n",
       "    <tr>\n",
       "      <th>...</th>\n",
       "      <td>...</td>\n",
       "      <td>...</td>\n",
       "      <td>...</td>\n",
       "      <td>...</td>\n",
       "      <td>...</td>\n",
       "      <td>...</td>\n",
       "      <td>...</td>\n",
       "      <td>...</td>\n",
       "      <td>...</td>\n",
       "      <td>...</td>\n",
       "      <td>...</td>\n",
       "      <td>...</td>\n",
       "      <td>...</td>\n",
       "      <td>...</td>\n",
       "    </tr>\n",
       "    <tr>\n",
       "      <th>133</th>\n",
       "      <td>E</td>\n",
       "      <td>2015</td>\n",
       "      <td>73</td>\n",
       "      <td>0.00</td>\n",
       "      <td>0</td>\n",
       "      <td>0.00</td>\n",
       "      <td>0</td>\n",
       "      <td>0.00</td>\n",
       "      <td>0</td>\n",
       "      <td>99.48</td>\n",
       "      <td>31</td>\n",
       "      <td>0.00</td>\n",
       "      <td>0</td>\n",
       "      <td>NaN</td>\n",
       "    </tr>\n",
       "    <tr>\n",
       "      <th>136</th>\n",
       "      <td>E</td>\n",
       "      <td>2015</td>\n",
       "      <td>82</td>\n",
       "      <td>0.00</td>\n",
       "      <td>0</td>\n",
       "      <td>0.00</td>\n",
       "      <td>0</td>\n",
       "      <td>0.00</td>\n",
       "      <td>0</td>\n",
       "      <td>699.70</td>\n",
       "      <td>124</td>\n",
       "      <td>0.00</td>\n",
       "      <td>0</td>\n",
       "      <td>NaN</td>\n",
       "    </tr>\n",
       "    <tr>\n",
       "      <th>138</th>\n",
       "      <td>E</td>\n",
       "      <td>2015</td>\n",
       "      <td>91</td>\n",
       "      <td>0.00</td>\n",
       "      <td>0</td>\n",
       "      <td>0.00</td>\n",
       "      <td>0</td>\n",
       "      <td>0.00</td>\n",
       "      <td>0</td>\n",
       "      <td>437.77</td>\n",
       "      <td>90</td>\n",
       "      <td>0.00</td>\n",
       "      <td>0</td>\n",
       "      <td>NaN</td>\n",
       "    </tr>\n",
       "    <tr>\n",
       "      <th>141</th>\n",
       "      <td>E</td>\n",
       "      <td>2016</td>\n",
       "      <td>0</td>\n",
       "      <td>7513.52</td>\n",
       "      <td>85</td>\n",
       "      <td>92817.40</td>\n",
       "      <td>1039</td>\n",
       "      <td>48302.48</td>\n",
       "      <td>1557</td>\n",
       "      <td>0.00</td>\n",
       "      <td>0</td>\n",
       "      <td>21198.45</td>\n",
       "      <td>1005</td>\n",
       "      <td>NaN</td>\n",
       "    </tr>\n",
       "    <tr>\n",
       "      <th>160</th>\n",
       "      <td>E</td>\n",
       "      <td>2017</td>\n",
       "      <td>0</td>\n",
       "      <td>261.04</td>\n",
       "      <td>5</td>\n",
       "      <td>33599.31</td>\n",
       "      <td>38</td>\n",
       "      <td>3396.99</td>\n",
       "      <td>224</td>\n",
       "      <td>0.00</td>\n",
       "      <td>0</td>\n",
       "      <td>4439.51</td>\n",
       "      <td>304</td>\n",
       "      <td>NaN</td>\n",
       "    </tr>\n",
       "  </tbody>\n",
       "</table>\n",
       "<p>71 rows × 14 columns</p>\n",
       "</div>"
      ],
      "text/plain": [
       "    energy  year reg_code   consoa  pdla    consoi  pdli    consot  pdlt  \\\n",
       "0        E  2011        0  1174.57   167  25727.59    50  18004.43  1130   \n",
       "2        E  2011       21     0.00     0      0.00     0      0.00     0   \n",
       "3        E  2011       22     0.00     0      0.00     0      0.00     0   \n",
       "4        E  2011       23     0.00     0      0.00     0      0.00     0   \n",
       "6        E  2011       25     0.00     0      0.00     0      0.00     0   \n",
       "..     ...   ...      ...      ...   ...       ...   ...       ...   ...   \n",
       "133      E  2015       73     0.00     0      0.00     0      0.00     0   \n",
       "136      E  2015       82     0.00     0      0.00     0      0.00     0   \n",
       "138      E  2015       91     0.00     0      0.00     0      0.00     0   \n",
       "141      E  2016        0  7513.52    85  92817.40  1039  48302.48  1557   \n",
       "160      E  2017        0   261.04     5  33599.31    38   3396.99   224   \n",
       "\n",
       "     consor  pdlr   consona  pdlna reg_name  \n",
       "0      0.00     0   4974.71    542      NaN  \n",
       "2    278.42    51      0.00      0      NaN  \n",
       "3    164.48    24      0.00      0      NaN  \n",
       "4    445.70    36      0.00      0      NaN  \n",
       "6     35.00    11      0.00      0      NaN  \n",
       "..      ...   ...       ...    ...      ...  \n",
       "133   99.48    31      0.00      0      NaN  \n",
       "136  699.70   124      0.00      0      NaN  \n",
       "138  437.77    90      0.00      0      NaN  \n",
       "141    0.00     0  21198.45   1005      NaN  \n",
       "160    0.00     0   4439.51    304      NaN  \n",
       "\n",
       "[71 rows x 14 columns]"
      ]
     },
     "execution_count": 110,
     "metadata": {},
     "output_type": "execute_result"
    }
   ],
   "source": [
    "df_elecconso_reg[df_elecconso_reg.isnull().any(axis=1)]"
   ]
  },
  {
   "cell_type": "code",
   "execution_count": 111,
   "metadata": {},
   "outputs": [],
   "source": [
    "df_elecconso_reg.fillna('OTHER', inplace=True)"
   ]
  },
  {
   "cell_type": "code",
   "execution_count": 112,
   "metadata": {},
   "outputs": [
    {
     "data": {
      "text/plain": [
       "energy      0\n",
       "year        0\n",
       "reg_code    0\n",
       "consoa      0\n",
       "pdla        0\n",
       "consoi      0\n",
       "pdli        0\n",
       "consot      0\n",
       "pdlt        0\n",
       "consor      0\n",
       "pdlr        0\n",
       "consona     0\n",
       "pdlna       0\n",
       "reg_name    0\n",
       "dtype: int64"
      ]
     },
     "execution_count": 112,
     "metadata": {},
     "output_type": "execute_result"
    }
   ],
   "source": [
    "df_elecconso_reg.isna().sum()"
   ]
  },
  {
   "cell_type": "markdown",
   "metadata": {},
   "source": [
    "We add a total column"
   ]
  },
  {
   "cell_type": "code",
   "execution_count": 113,
   "metadata": {},
   "outputs": [],
   "source": [
    "df_elecconso_reg['total']= df_elecconso_reg['consoa'] + df_elecconso_reg['consoi'] + df_elecconso_reg['consot'] + df_elecconso_reg['consor'] + df_elecconso_reg['consona']"
   ]
  },
  {
   "cell_type": "code",
   "execution_count": 114,
   "metadata": {},
   "outputs": [],
   "source": [
    "df_elecconso_reg.to_csv('df_econso_reg.csv', sep='/', index=False)"
   ]
  },
  {
   "cell_type": "markdown",
   "metadata": {},
   "source": [
    "## Region level with population"
   ]
  },
  {
   "cell_type": "code",
   "execution_count": 150,
   "metadata": {},
   "outputs": [
    {
     "data": {
      "text/html": [
       "<div>\n",
       "<style scoped>\n",
       "    .dataframe tbody tr th:only-of-type {\n",
       "        vertical-align: middle;\n",
       "    }\n",
       "\n",
       "    .dataframe tbody tr th {\n",
       "        vertical-align: top;\n",
       "    }\n",
       "\n",
       "    .dataframe thead th {\n",
       "        text-align: right;\n",
       "    }\n",
       "</style>\n",
       "<table border=\"1\" class=\"dataframe\">\n",
       "  <thead>\n",
       "    <tr style=\"text-align: right;\">\n",
       "      <th></th>\n",
       "      <th>energy</th>\n",
       "      <th>year</th>\n",
       "      <th>reg_code</th>\n",
       "      <th>consoa</th>\n",
       "      <th>pdla</th>\n",
       "      <th>consoi</th>\n",
       "      <th>pdli</th>\n",
       "      <th>consot</th>\n",
       "      <th>pdlt</th>\n",
       "      <th>consor</th>\n",
       "      <th>pdlr</th>\n",
       "      <th>consona</th>\n",
       "      <th>pdlna</th>\n",
       "      <th>reg_name</th>\n",
       "      <th>total</th>\n",
       "    </tr>\n",
       "  </thead>\n",
       "  <tbody>\n",
       "    <tr>\n",
       "      <th>0</th>\n",
       "      <td>E</td>\n",
       "      <td>2011</td>\n",
       "      <td>0</td>\n",
       "      <td>1174.57</td>\n",
       "      <td>167</td>\n",
       "      <td>25727.59</td>\n",
       "      <td>50</td>\n",
       "      <td>18004.43</td>\n",
       "      <td>1130</td>\n",
       "      <td>0.00</td>\n",
       "      <td>0</td>\n",
       "      <td>4974.71</td>\n",
       "      <td>542</td>\n",
       "      <td>OTHER</td>\n",
       "      <td>49881.30</td>\n",
       "    </tr>\n",
       "    <tr>\n",
       "      <th>1</th>\n",
       "      <td>E</td>\n",
       "      <td>2011</td>\n",
       "      <td>11</td>\n",
       "      <td>0.00</td>\n",
       "      <td>0</td>\n",
       "      <td>0.00</td>\n",
       "      <td>0</td>\n",
       "      <td>0.00</td>\n",
       "      <td>0</td>\n",
       "      <td>2964.78</td>\n",
       "      <td>285</td>\n",
       "      <td>0.00</td>\n",
       "      <td>0</td>\n",
       "      <td>ILE DE FRANCE</td>\n",
       "      <td>2964.78</td>\n",
       "    </tr>\n",
       "    <tr>\n",
       "      <th>2</th>\n",
       "      <td>E</td>\n",
       "      <td>2011</td>\n",
       "      <td>21</td>\n",
       "      <td>0.00</td>\n",
       "      <td>0</td>\n",
       "      <td>0.00</td>\n",
       "      <td>0</td>\n",
       "      <td>0.00</td>\n",
       "      <td>0</td>\n",
       "      <td>278.42</td>\n",
       "      <td>51</td>\n",
       "      <td>0.00</td>\n",
       "      <td>0</td>\n",
       "      <td>OTHER</td>\n",
       "      <td>278.42</td>\n",
       "    </tr>\n",
       "    <tr>\n",
       "      <th>3</th>\n",
       "      <td>E</td>\n",
       "      <td>2011</td>\n",
       "      <td>22</td>\n",
       "      <td>0.00</td>\n",
       "      <td>0</td>\n",
       "      <td>0.00</td>\n",
       "      <td>0</td>\n",
       "      <td>0.00</td>\n",
       "      <td>0</td>\n",
       "      <td>164.48</td>\n",
       "      <td>24</td>\n",
       "      <td>0.00</td>\n",
       "      <td>0</td>\n",
       "      <td>OTHER</td>\n",
       "      <td>164.48</td>\n",
       "    </tr>\n",
       "    <tr>\n",
       "      <th>4</th>\n",
       "      <td>E</td>\n",
       "      <td>2011</td>\n",
       "      <td>23</td>\n",
       "      <td>0.00</td>\n",
       "      <td>0</td>\n",
       "      <td>0.00</td>\n",
       "      <td>0</td>\n",
       "      <td>0.00</td>\n",
       "      <td>0</td>\n",
       "      <td>445.70</td>\n",
       "      <td>36</td>\n",
       "      <td>0.00</td>\n",
       "      <td>0</td>\n",
       "      <td>OTHER</td>\n",
       "      <td>445.70</td>\n",
       "    </tr>\n",
       "  </tbody>\n",
       "</table>\n",
       "</div>"
      ],
      "text/plain": [
       "  energy  year reg_code   consoa  pdla    consoi  pdli    consot  pdlt  \\\n",
       "0      E  2011        0  1174.57   167  25727.59    50  18004.43  1130   \n",
       "1      E  2011       11     0.00     0      0.00     0      0.00     0   \n",
       "2      E  2011       21     0.00     0      0.00     0      0.00     0   \n",
       "3      E  2011       22     0.00     0      0.00     0      0.00     0   \n",
       "4      E  2011       23     0.00     0      0.00     0      0.00     0   \n",
       "\n",
       "    consor  pdlr  consona  pdlna       reg_name     total  \n",
       "0     0.00     0  4974.71    542          OTHER  49881.30  \n",
       "1  2964.78   285     0.00      0  ILE DE FRANCE   2964.78  \n",
       "2   278.42    51     0.00      0          OTHER    278.42  \n",
       "3   164.48    24     0.00      0          OTHER    164.48  \n",
       "4   445.70    36     0.00      0          OTHER    445.70  "
      ]
     },
     "execution_count": 150,
     "metadata": {},
     "output_type": "execute_result"
    }
   ],
   "source": [
    "df_elecconso_reg.head()"
   ]
  },
  {
   "cell_type": "code",
   "execution_count": 151,
   "metadata": {},
   "outputs": [],
   "source": [
    "df_reg_pop=pd.read_csv('/Users/Jeff/Ironhack/248_Repo/Projects/Final project/Area/df_reg_pop.csv', sep='/')"
   ]
  },
  {
   "cell_type": "code",
   "execution_count": 152,
   "metadata": {},
   "outputs": [
    {
     "data": {
      "text/html": [
       "<div>\n",
       "<style scoped>\n",
       "    .dataframe tbody tr th:only-of-type {\n",
       "        vertical-align: middle;\n",
       "    }\n",
       "\n",
       "    .dataframe tbody tr th {\n",
       "        vertical-align: top;\n",
       "    }\n",
       "\n",
       "    .dataframe thead th {\n",
       "        text-align: right;\n",
       "    }\n",
       "</style>\n",
       "<table border=\"1\" class=\"dataframe\">\n",
       "  <thead>\n",
       "    <tr style=\"text-align: right;\">\n",
       "      <th></th>\n",
       "      <th>year</th>\n",
       "      <th>reg_name</th>\n",
       "      <th>reg_pop</th>\n",
       "    </tr>\n",
       "  </thead>\n",
       "  <tbody>\n",
       "    <tr>\n",
       "      <th>0</th>\n",
       "      <td>2019</td>\n",
       "      <td>AUVERGNE RHONE ALPES</td>\n",
       "      <td>8032377</td>\n",
       "    </tr>\n",
       "    <tr>\n",
       "      <th>1</th>\n",
       "      <td>2019</td>\n",
       "      <td>BOURGOGNE FRANCHE COMTE</td>\n",
       "      <td>2783039</td>\n",
       "    </tr>\n",
       "    <tr>\n",
       "      <th>2</th>\n",
       "      <td>2019</td>\n",
       "      <td>BRETAGNE</td>\n",
       "      <td>3340379</td>\n",
       "    </tr>\n",
       "    <tr>\n",
       "      <th>3</th>\n",
       "      <td>2019</td>\n",
       "      <td>CENTRE VAL DE LOIRE</td>\n",
       "      <td>2559073</td>\n",
       "    </tr>\n",
       "    <tr>\n",
       "      <th>4</th>\n",
       "      <td>2019</td>\n",
       "      <td>CORSE</td>\n",
       "      <td>344679</td>\n",
       "    </tr>\n",
       "  </tbody>\n",
       "</table>\n",
       "</div>"
      ],
      "text/plain": [
       "   year                 reg_name  reg_pop\n",
       "0  2019     AUVERGNE RHONE ALPES  8032377\n",
       "1  2019  BOURGOGNE FRANCHE COMTE  2783039\n",
       "2  2019                 BRETAGNE  3340379\n",
       "3  2019      CENTRE VAL DE LOIRE  2559073\n",
       "4  2019                    CORSE   344679"
      ]
     },
     "execution_count": 152,
     "metadata": {},
     "output_type": "execute_result"
    }
   ],
   "source": [
    "df_reg_pop.head()"
   ]
  },
  {
   "cell_type": "code",
   "execution_count": 153,
   "metadata": {},
   "outputs": [],
   "source": [
    "df_econso_reg_pop = pd.merge(df_elecconso_reg, df_reg_pop, how='left', on=['year','reg_name'])"
   ]
  },
  {
   "cell_type": "code",
   "execution_count": 154,
   "metadata": {},
   "outputs": [
    {
     "data": {
      "text/html": [
       "<div>\n",
       "<style scoped>\n",
       "    .dataframe tbody tr th:only-of-type {\n",
       "        vertical-align: middle;\n",
       "    }\n",
       "\n",
       "    .dataframe tbody tr th {\n",
       "        vertical-align: top;\n",
       "    }\n",
       "\n",
       "    .dataframe thead th {\n",
       "        text-align: right;\n",
       "    }\n",
       "</style>\n",
       "<table border=\"1\" class=\"dataframe\">\n",
       "  <thead>\n",
       "    <tr style=\"text-align: right;\">\n",
       "      <th></th>\n",
       "      <th>energy</th>\n",
       "      <th>year</th>\n",
       "      <th>reg_code</th>\n",
       "      <th>consoa</th>\n",
       "      <th>pdla</th>\n",
       "      <th>consoi</th>\n",
       "      <th>pdli</th>\n",
       "      <th>consot</th>\n",
       "      <th>pdlt</th>\n",
       "      <th>consor</th>\n",
       "      <th>pdlr</th>\n",
       "      <th>consona</th>\n",
       "      <th>pdlna</th>\n",
       "      <th>reg_name</th>\n",
       "      <th>total</th>\n",
       "      <th>reg_pop</th>\n",
       "    </tr>\n",
       "  </thead>\n",
       "  <tbody>\n",
       "    <tr>\n",
       "      <th>0</th>\n",
       "      <td>E</td>\n",
       "      <td>2011</td>\n",
       "      <td>0</td>\n",
       "      <td>1174.57</td>\n",
       "      <td>167</td>\n",
       "      <td>25727.59</td>\n",
       "      <td>50</td>\n",
       "      <td>18004.43</td>\n",
       "      <td>1130</td>\n",
       "      <td>0.00</td>\n",
       "      <td>0</td>\n",
       "      <td>4974.71</td>\n",
       "      <td>542</td>\n",
       "      <td>OTHER</td>\n",
       "      <td>49881.30</td>\n",
       "      <td>NaN</td>\n",
       "    </tr>\n",
       "    <tr>\n",
       "      <th>1</th>\n",
       "      <td>E</td>\n",
       "      <td>2011</td>\n",
       "      <td>11</td>\n",
       "      <td>0.00</td>\n",
       "      <td>0</td>\n",
       "      <td>0.00</td>\n",
       "      <td>0</td>\n",
       "      <td>0.00</td>\n",
       "      <td>0</td>\n",
       "      <td>2964.78</td>\n",
       "      <td>285</td>\n",
       "      <td>0.00</td>\n",
       "      <td>0</td>\n",
       "      <td>ILE DE FRANCE</td>\n",
       "      <td>2964.78</td>\n",
       "      <td>11852851.0</td>\n",
       "    </tr>\n",
       "    <tr>\n",
       "      <th>2</th>\n",
       "      <td>E</td>\n",
       "      <td>2011</td>\n",
       "      <td>21</td>\n",
       "      <td>0.00</td>\n",
       "      <td>0</td>\n",
       "      <td>0.00</td>\n",
       "      <td>0</td>\n",
       "      <td>0.00</td>\n",
       "      <td>0</td>\n",
       "      <td>278.42</td>\n",
       "      <td>51</td>\n",
       "      <td>0.00</td>\n",
       "      <td>0</td>\n",
       "      <td>OTHER</td>\n",
       "      <td>278.42</td>\n",
       "      <td>NaN</td>\n",
       "    </tr>\n",
       "    <tr>\n",
       "      <th>3</th>\n",
       "      <td>E</td>\n",
       "      <td>2011</td>\n",
       "      <td>22</td>\n",
       "      <td>0.00</td>\n",
       "      <td>0</td>\n",
       "      <td>0.00</td>\n",
       "      <td>0</td>\n",
       "      <td>0.00</td>\n",
       "      <td>0</td>\n",
       "      <td>164.48</td>\n",
       "      <td>24</td>\n",
       "      <td>0.00</td>\n",
       "      <td>0</td>\n",
       "      <td>OTHER</td>\n",
       "      <td>164.48</td>\n",
       "      <td>NaN</td>\n",
       "    </tr>\n",
       "    <tr>\n",
       "      <th>4</th>\n",
       "      <td>E</td>\n",
       "      <td>2011</td>\n",
       "      <td>23</td>\n",
       "      <td>0.00</td>\n",
       "      <td>0</td>\n",
       "      <td>0.00</td>\n",
       "      <td>0</td>\n",
       "      <td>0.00</td>\n",
       "      <td>0</td>\n",
       "      <td>445.70</td>\n",
       "      <td>36</td>\n",
       "      <td>0.00</td>\n",
       "      <td>0</td>\n",
       "      <td>OTHER</td>\n",
       "      <td>445.70</td>\n",
       "      <td>NaN</td>\n",
       "    </tr>\n",
       "  </tbody>\n",
       "</table>\n",
       "</div>"
      ],
      "text/plain": [
       "  energy  year reg_code   consoa  pdla    consoi  pdli    consot  pdlt  \\\n",
       "0      E  2011        0  1174.57   167  25727.59    50  18004.43  1130   \n",
       "1      E  2011       11     0.00     0      0.00     0      0.00     0   \n",
       "2      E  2011       21     0.00     0      0.00     0      0.00     0   \n",
       "3      E  2011       22     0.00     0      0.00     0      0.00     0   \n",
       "4      E  2011       23     0.00     0      0.00     0      0.00     0   \n",
       "\n",
       "    consor  pdlr  consona  pdlna       reg_name     total     reg_pop  \n",
       "0     0.00     0  4974.71    542          OTHER  49881.30         NaN  \n",
       "1  2964.78   285     0.00      0  ILE DE FRANCE   2964.78  11852851.0  \n",
       "2   278.42    51     0.00      0          OTHER    278.42         NaN  \n",
       "3   164.48    24     0.00      0          OTHER    164.48         NaN  \n",
       "4   445.70    36     0.00      0          OTHER    445.70         NaN  "
      ]
     },
     "execution_count": 154,
     "metadata": {},
     "output_type": "execute_result"
    }
   ],
   "source": [
    "df_econso_reg_pop.head()"
   ]
  },
  {
   "cell_type": "code",
   "execution_count": 155,
   "metadata": {},
   "outputs": [
    {
     "data": {
      "text/plain": [
       "energy       0\n",
       "year         0\n",
       "reg_code     0\n",
       "consoa       0\n",
       "pdla         0\n",
       "consoi       0\n",
       "pdli         0\n",
       "consot       0\n",
       "pdlt         0\n",
       "consor       0\n",
       "pdlr         0\n",
       "consona      0\n",
       "pdlna        0\n",
       "reg_name     0\n",
       "total        0\n",
       "reg_pop     71\n",
       "dtype: int64"
      ]
     },
     "execution_count": 155,
     "metadata": {},
     "output_type": "execute_result"
    }
   ],
   "source": [
    "df_econso_reg_pop.isna().sum()"
   ]
  },
  {
   "cell_type": "code",
   "execution_count": 157,
   "metadata": {},
   "outputs": [
    {
     "data": {
      "text/plain": [
       "OTHER    71\n",
       "Name: reg_name, dtype: int64"
      ]
     },
     "execution_count": 157,
     "metadata": {},
     "output_type": "execute_result"
    }
   ],
   "source": [
    "df_econso_reg_pop['reg_name'][df_econso_reg_pop.isnull().any(axis=1)].value_counts()"
   ]
  },
  {
   "cell_type": "code",
   "execution_count": 158,
   "metadata": {},
   "outputs": [],
   "source": [
    "df_econso_reg_pop.fillna(0, inplace=True)"
   ]
  },
  {
   "cell_type": "code",
   "execution_count": 159,
   "metadata": {},
   "outputs": [
    {
     "data": {
      "text/plain": [
       "energy      0\n",
       "year        0\n",
       "reg_code    0\n",
       "consoa      0\n",
       "pdla        0\n",
       "consoi      0\n",
       "pdli        0\n",
       "consot      0\n",
       "pdlt        0\n",
       "consor      0\n",
       "pdlr        0\n",
       "consona     0\n",
       "pdlna       0\n",
       "reg_name    0\n",
       "total       0\n",
       "reg_pop     0\n",
       "dtype: int64"
      ]
     },
     "execution_count": 159,
     "metadata": {},
     "output_type": "execute_result"
    }
   ],
   "source": [
    "df_econso_reg_pop.isna().sum()"
   ]
  },
  {
   "cell_type": "markdown",
   "metadata": {},
   "source": [
    "We will add some consumption by population"
   ]
  },
  {
   "cell_type": "code",
   "execution_count": 161,
   "metadata": {},
   "outputs": [],
   "source": [
    "df_econso_reg_pop['consoa_p'] = df_econso_reg_pop['consoa'] / df_econso_reg_pop['reg_pop']\n",
    "df_econso_reg_pop['consoi_p'] = df_econso_reg_pop['consoi'] / df_econso_reg_pop['reg_pop']\n",
    "df_econso_reg_pop['consot_p'] = df_econso_reg_pop['consot'] / df_econso_reg_pop['reg_pop']\n",
    "df_econso_reg_pop['consor_p'] = df_econso_reg_pop['consor'] / df_econso_reg_pop['reg_pop']"
   ]
  },
  {
   "cell_type": "code",
   "execution_count": 162,
   "metadata": {},
   "outputs": [
    {
     "data": {
      "text/html": [
       "<div>\n",
       "<style scoped>\n",
       "    .dataframe tbody tr th:only-of-type {\n",
       "        vertical-align: middle;\n",
       "    }\n",
       "\n",
       "    .dataframe tbody tr th {\n",
       "        vertical-align: top;\n",
       "    }\n",
       "\n",
       "    .dataframe thead th {\n",
       "        text-align: right;\n",
       "    }\n",
       "</style>\n",
       "<table border=\"1\" class=\"dataframe\">\n",
       "  <thead>\n",
       "    <tr style=\"text-align: right;\">\n",
       "      <th></th>\n",
       "      <th>energy</th>\n",
       "      <th>year</th>\n",
       "      <th>reg_code</th>\n",
       "      <th>consoa</th>\n",
       "      <th>pdla</th>\n",
       "      <th>consoi</th>\n",
       "      <th>pdli</th>\n",
       "      <th>consot</th>\n",
       "      <th>pdlt</th>\n",
       "      <th>consor</th>\n",
       "      <th>pdlr</th>\n",
       "      <th>consona</th>\n",
       "      <th>pdlna</th>\n",
       "      <th>reg_name</th>\n",
       "      <th>total</th>\n",
       "      <th>reg_pop</th>\n",
       "      <th>consoa_p</th>\n",
       "      <th>consoi_p</th>\n",
       "      <th>consot_p</th>\n",
       "      <th>consor_p</th>\n",
       "    </tr>\n",
       "  </thead>\n",
       "  <tbody>\n",
       "    <tr>\n",
       "      <th>0</th>\n",
       "      <td>E</td>\n",
       "      <td>2011</td>\n",
       "      <td>0</td>\n",
       "      <td>1174.57</td>\n",
       "      <td>167</td>\n",
       "      <td>25727.59</td>\n",
       "      <td>50</td>\n",
       "      <td>18004.43</td>\n",
       "      <td>1130</td>\n",
       "      <td>0.00</td>\n",
       "      <td>0</td>\n",
       "      <td>4974.71</td>\n",
       "      <td>542</td>\n",
       "      <td>OTHER</td>\n",
       "      <td>49881.30</td>\n",
       "      <td>0.0</td>\n",
       "      <td>inf</td>\n",
       "      <td>inf</td>\n",
       "      <td>inf</td>\n",
       "      <td>NaN</td>\n",
       "    </tr>\n",
       "    <tr>\n",
       "      <th>1</th>\n",
       "      <td>E</td>\n",
       "      <td>2011</td>\n",
       "      <td>11</td>\n",
       "      <td>0.00</td>\n",
       "      <td>0</td>\n",
       "      <td>0.00</td>\n",
       "      <td>0</td>\n",
       "      <td>0.00</td>\n",
       "      <td>0</td>\n",
       "      <td>2964.78</td>\n",
       "      <td>285</td>\n",
       "      <td>0.00</td>\n",
       "      <td>0</td>\n",
       "      <td>ILE DE FRANCE</td>\n",
       "      <td>2964.78</td>\n",
       "      <td>11852851.0</td>\n",
       "      <td>0.0</td>\n",
       "      <td>0.0</td>\n",
       "      <td>0.0</td>\n",
       "      <td>0.00025</td>\n",
       "    </tr>\n",
       "    <tr>\n",
       "      <th>2</th>\n",
       "      <td>E</td>\n",
       "      <td>2011</td>\n",
       "      <td>21</td>\n",
       "      <td>0.00</td>\n",
       "      <td>0</td>\n",
       "      <td>0.00</td>\n",
       "      <td>0</td>\n",
       "      <td>0.00</td>\n",
       "      <td>0</td>\n",
       "      <td>278.42</td>\n",
       "      <td>51</td>\n",
       "      <td>0.00</td>\n",
       "      <td>0</td>\n",
       "      <td>OTHER</td>\n",
       "      <td>278.42</td>\n",
       "      <td>0.0</td>\n",
       "      <td>NaN</td>\n",
       "      <td>NaN</td>\n",
       "      <td>NaN</td>\n",
       "      <td>inf</td>\n",
       "    </tr>\n",
       "    <tr>\n",
       "      <th>3</th>\n",
       "      <td>E</td>\n",
       "      <td>2011</td>\n",
       "      <td>22</td>\n",
       "      <td>0.00</td>\n",
       "      <td>0</td>\n",
       "      <td>0.00</td>\n",
       "      <td>0</td>\n",
       "      <td>0.00</td>\n",
       "      <td>0</td>\n",
       "      <td>164.48</td>\n",
       "      <td>24</td>\n",
       "      <td>0.00</td>\n",
       "      <td>0</td>\n",
       "      <td>OTHER</td>\n",
       "      <td>164.48</td>\n",
       "      <td>0.0</td>\n",
       "      <td>NaN</td>\n",
       "      <td>NaN</td>\n",
       "      <td>NaN</td>\n",
       "      <td>inf</td>\n",
       "    </tr>\n",
       "    <tr>\n",
       "      <th>4</th>\n",
       "      <td>E</td>\n",
       "      <td>2011</td>\n",
       "      <td>23</td>\n",
       "      <td>0.00</td>\n",
       "      <td>0</td>\n",
       "      <td>0.00</td>\n",
       "      <td>0</td>\n",
       "      <td>0.00</td>\n",
       "      <td>0</td>\n",
       "      <td>445.70</td>\n",
       "      <td>36</td>\n",
       "      <td>0.00</td>\n",
       "      <td>0</td>\n",
       "      <td>OTHER</td>\n",
       "      <td>445.70</td>\n",
       "      <td>0.0</td>\n",
       "      <td>NaN</td>\n",
       "      <td>NaN</td>\n",
       "      <td>NaN</td>\n",
       "      <td>inf</td>\n",
       "    </tr>\n",
       "  </tbody>\n",
       "</table>\n",
       "</div>"
      ],
      "text/plain": [
       "  energy  year reg_code   consoa  pdla    consoi  pdli    consot  pdlt  \\\n",
       "0      E  2011        0  1174.57   167  25727.59    50  18004.43  1130   \n",
       "1      E  2011       11     0.00     0      0.00     0      0.00     0   \n",
       "2      E  2011       21     0.00     0      0.00     0      0.00     0   \n",
       "3      E  2011       22     0.00     0      0.00     0      0.00     0   \n",
       "4      E  2011       23     0.00     0      0.00     0      0.00     0   \n",
       "\n",
       "    consor  pdlr  consona  pdlna       reg_name     total     reg_pop  \\\n",
       "0     0.00     0  4974.71    542          OTHER  49881.30         0.0   \n",
       "1  2964.78   285     0.00      0  ILE DE FRANCE   2964.78  11852851.0   \n",
       "2   278.42    51     0.00      0          OTHER    278.42         0.0   \n",
       "3   164.48    24     0.00      0          OTHER    164.48         0.0   \n",
       "4   445.70    36     0.00      0          OTHER    445.70         0.0   \n",
       "\n",
       "   consoa_p  consoi_p  consot_p  consor_p  \n",
       "0       inf       inf       inf       NaN  \n",
       "1       0.0       0.0       0.0   0.00025  \n",
       "2       NaN       NaN       NaN       inf  \n",
       "3       NaN       NaN       NaN       inf  \n",
       "4       NaN       NaN       NaN       inf  "
      ]
     },
     "execution_count": 162,
     "metadata": {},
     "output_type": "execute_result"
    }
   ],
   "source": [
    "df_econso_reg_pop.head()"
   ]
  },
  {
   "cell_type": "code",
   "execution_count": 163,
   "metadata": {},
   "outputs": [],
   "source": [
    "df_econso_reg_pop.to_csv('df_econso_reg_pop.csv', sep='/', index=False)"
   ]
  },
  {
   "cell_type": "code",
   "execution_count": null,
   "metadata": {},
   "outputs": [],
   "source": []
  },
  {
   "cell_type": "code",
   "execution_count": 170,
   "metadata": {},
   "outputs": [
    {
     "data": {
      "text/html": [
       "<div>\n",
       "<style scoped>\n",
       "    .dataframe tbody tr th:only-of-type {\n",
       "        vertical-align: middle;\n",
       "    }\n",
       "\n",
       "    .dataframe tbody tr th {\n",
       "        vertical-align: top;\n",
       "    }\n",
       "\n",
       "    .dataframe thead th {\n",
       "        text-align: right;\n",
       "    }\n",
       "</style>\n",
       "<table border=\"1\" class=\"dataframe\">\n",
       "  <thead>\n",
       "    <tr style=\"text-align: right;\">\n",
       "      <th></th>\n",
       "      <th>energy</th>\n",
       "      <th>year</th>\n",
       "      <th>consoa</th>\n",
       "      <th>pdla</th>\n",
       "      <th>consoi</th>\n",
       "      <th>pdli</th>\n",
       "      <th>consot</th>\n",
       "      <th>pdlt</th>\n",
       "      <th>consor</th>\n",
       "      <th>pdlr</th>\n",
       "      <th>consona</th>\n",
       "      <th>pdlna</th>\n",
       "      <th>total</th>\n",
       "    </tr>\n",
       "  </thead>\n",
       "  <tbody>\n",
       "    <tr>\n",
       "      <th>0</th>\n",
       "      <td>E</td>\n",
       "      <td>2011</td>\n",
       "      <td>100141.54</td>\n",
       "      <td>395</td>\n",
       "      <td>361673.738</td>\n",
       "      <td>1091</td>\n",
       "      <td>430536.541</td>\n",
       "      <td>12663</td>\n",
       "      <td>7077.38</td>\n",
       "      <td>820</td>\n",
       "      <td>3.373485e+05</td>\n",
       "      <td>20538</td>\n",
       "      <td>1.236778e+06</td>\n",
       "    </tr>\n",
       "    <tr>\n",
       "      <th>1</th>\n",
       "      <td>E</td>\n",
       "      <td>2012</td>\n",
       "      <td>99825.13</td>\n",
       "      <td>361</td>\n",
       "      <td>1446701.607</td>\n",
       "      <td>1548</td>\n",
       "      <td>692852.100</td>\n",
       "      <td>14330</td>\n",
       "      <td>8243.65</td>\n",
       "      <td>988</td>\n",
       "      <td>8.390828e+06</td>\n",
       "      <td>22699</td>\n",
       "      <td>1.063845e+07</td>\n",
       "    </tr>\n",
       "    <tr>\n",
       "      <th>2</th>\n",
       "      <td>E</td>\n",
       "      <td>2013</td>\n",
       "      <td>140757.61</td>\n",
       "      <td>715</td>\n",
       "      <td>3688979.834</td>\n",
       "      <td>2942</td>\n",
       "      <td>1426220.961</td>\n",
       "      <td>20077</td>\n",
       "      <td>9754.31</td>\n",
       "      <td>1199</td>\n",
       "      <td>8.503058e+06</td>\n",
       "      <td>22957</td>\n",
       "      <td>1.376877e+07</td>\n",
       "    </tr>\n",
       "    <tr>\n",
       "      <th>3</th>\n",
       "      <td>E</td>\n",
       "      <td>2014</td>\n",
       "      <td>136034.24</td>\n",
       "      <td>738</td>\n",
       "      <td>4303626.720</td>\n",
       "      <td>2726</td>\n",
       "      <td>1314027.090</td>\n",
       "      <td>18679</td>\n",
       "      <td>10746.97</td>\n",
       "      <td>1442</td>\n",
       "      <td>8.603519e+06</td>\n",
       "      <td>31018</td>\n",
       "      <td>1.436795e+07</td>\n",
       "    </tr>\n",
       "    <tr>\n",
       "      <th>4</th>\n",
       "      <td>E</td>\n",
       "      <td>2015</td>\n",
       "      <td>101815.06</td>\n",
       "      <td>2078</td>\n",
       "      <td>5847662.216</td>\n",
       "      <td>22594</td>\n",
       "      <td>2882416.540</td>\n",
       "      <td>52512</td>\n",
       "      <td>14759.46</td>\n",
       "      <td>2064</td>\n",
       "      <td>1.002193e+07</td>\n",
       "      <td>1372329</td>\n",
       "      <td>1.886858e+07</td>\n",
       "    </tr>\n",
       "    <tr>\n",
       "      <th>5</th>\n",
       "      <td>E</td>\n",
       "      <td>2016</td>\n",
       "      <td>159896.05</td>\n",
       "      <td>2259</td>\n",
       "      <td>6118307.210</td>\n",
       "      <td>18804</td>\n",
       "      <td>2629273.548</td>\n",
       "      <td>53745</td>\n",
       "      <td>35446.86</td>\n",
       "      <td>5472</td>\n",
       "      <td>1.036612e+07</td>\n",
       "      <td>1140805</td>\n",
       "      <td>1.930905e+07</td>\n",
       "    </tr>\n",
       "    <tr>\n",
       "      <th>6</th>\n",
       "      <td>E</td>\n",
       "      <td>2017</td>\n",
       "      <td>161022.92</td>\n",
       "      <td>4491</td>\n",
       "      <td>2660850.770</td>\n",
       "      <td>14667</td>\n",
       "      <td>3900111.700</td>\n",
       "      <td>126073</td>\n",
       "      <td>17344.15</td>\n",
       "      <td>3301</td>\n",
       "      <td>1.759517e+06</td>\n",
       "      <td>73703</td>\n",
       "      <td>8.498847e+06</td>\n",
       "    </tr>\n",
       "  </tbody>\n",
       "</table>\n",
       "</div>"
      ],
      "text/plain": [
       "  energy  year     consoa  pdla       consoi   pdli       consot    pdlt  \\\n",
       "0      E  2011  100141.54   395   361673.738   1091   430536.541   12663   \n",
       "1      E  2012   99825.13   361  1446701.607   1548   692852.100   14330   \n",
       "2      E  2013  140757.61   715  3688979.834   2942  1426220.961   20077   \n",
       "3      E  2014  136034.24   738  4303626.720   2726  1314027.090   18679   \n",
       "4      E  2015  101815.06  2078  5847662.216  22594  2882416.540   52512   \n",
       "5      E  2016  159896.05  2259  6118307.210  18804  2629273.548   53745   \n",
       "6      E  2017  161022.92  4491  2660850.770  14667  3900111.700  126073   \n",
       "\n",
       "     consor  pdlr       consona    pdlna         total  \n",
       "0   7077.38   820  3.373485e+05    20538  1.236778e+06  \n",
       "1   8243.65   988  8.390828e+06    22699  1.063845e+07  \n",
       "2   9754.31  1199  8.503058e+06    22957  1.376877e+07  \n",
       "3  10746.97  1442  8.603519e+06    31018  1.436795e+07  \n",
       "4  14759.46  2064  1.002193e+07  1372329  1.886858e+07  \n",
       "5  35446.86  5472  1.036612e+07  1140805  1.930905e+07  \n",
       "6  17344.15  3301  1.759517e+06    73703  8.498847e+06  "
      ]
     },
     "execution_count": 170,
     "metadata": {},
     "output_type": "execute_result"
    }
   ],
   "source": [
    "df_e_fr"
   ]
  },
  {
   "cell_type": "code",
   "execution_count": 165,
   "metadata": {},
   "outputs": [
    {
     "data": {
      "text/plain": [
       "6118307.21"
      ]
     },
     "execution_count": 165,
     "metadata": {},
     "output_type": "execute_result"
    }
   ],
   "source": [
    "df_e_fr['consoi'][df_e_fr['year']==2016].sum()"
   ]
  },
  {
   "cell_type": "code",
   "execution_count": 166,
   "metadata": {},
   "outputs": [
    {
     "data": {
      "text/plain": [
       "19309046.99800001"
      ]
     },
     "execution_count": 166,
     "metadata": {},
     "output_type": "execute_result"
    }
   ],
   "source": [
    "df_e_fr['total'][df_e_fr['year']==2016].sum()"
   ]
  },
  {
   "cell_type": "code",
   "execution_count": 168,
   "metadata": {},
   "outputs": [
    {
     "data": {
      "text/plain": [
       "0.6841506689688988"
      ]
     },
     "execution_count": 168,
     "metadata": {},
     "output_type": "execute_result"
    }
   ],
   "source": [
    "df_e_fr['consoi'][df_e_fr['year']==2016].sum() / (df_e_fr['total'][df_e_fr['year']==2016].sum() - df_e_fr['consona'][df_e_fr['year']==2016].sum())"
   ]
  },
  {
   "cell_type": "code",
   "execution_count": 169,
   "metadata": {},
   "outputs": [
    {
     "data": {
      "text/plain": [
       "0.003963676904325779"
      ]
     },
     "execution_count": 169,
     "metadata": {},
     "output_type": "execute_result"
    }
   ],
   "source": [
    "df_e_fr['consor'][df_e_fr['year']==2016].sum() / (df_e_fr['total'][df_e_fr['year']==2016].sum() - df_e_fr['consona'][df_e_fr['year']==2016].sum())"
   ]
  },
  {
   "cell_type": "code",
   "execution_count": null,
   "metadata": {},
   "outputs": [],
   "source": []
  },
  {
   "cell_type": "code",
   "execution_count": 171,
   "metadata": {},
   "outputs": [
    {
     "data": {
      "text/html": [
       "<div>\n",
       "<style scoped>\n",
       "    .dataframe tbody tr th:only-of-type {\n",
       "        vertical-align: middle;\n",
       "    }\n",
       "\n",
       "    .dataframe tbody tr th {\n",
       "        vertical-align: top;\n",
       "    }\n",
       "\n",
       "    .dataframe thead th {\n",
       "        text-align: right;\n",
       "    }\n",
       "</style>\n",
       "<table border=\"1\" class=\"dataframe\">\n",
       "  <thead>\n",
       "    <tr style=\"text-align: right;\">\n",
       "      <th></th>\n",
       "      <th>energy</th>\n",
       "      <th>year</th>\n",
       "      <th>reg_code</th>\n",
       "      <th>consoa</th>\n",
       "      <th>pdla</th>\n",
       "      <th>consoi</th>\n",
       "      <th>pdli</th>\n",
       "      <th>consot</th>\n",
       "      <th>pdlt</th>\n",
       "      <th>consor</th>\n",
       "      <th>pdlr</th>\n",
       "      <th>consona</th>\n",
       "      <th>pdlna</th>\n",
       "      <th>reg_name</th>\n",
       "      <th>total</th>\n",
       "    </tr>\n",
       "  </thead>\n",
       "  <tbody>\n",
       "    <tr>\n",
       "      <th>0</th>\n",
       "      <td>E</td>\n",
       "      <td>2011</td>\n",
       "      <td>0</td>\n",
       "      <td>1174.57</td>\n",
       "      <td>167</td>\n",
       "      <td>25727.59</td>\n",
       "      <td>50</td>\n",
       "      <td>18004.43</td>\n",
       "      <td>1130</td>\n",
       "      <td>0.00</td>\n",
       "      <td>0</td>\n",
       "      <td>4974.71</td>\n",
       "      <td>542</td>\n",
       "      <td>OTHER</td>\n",
       "      <td>49881.30</td>\n",
       "    </tr>\n",
       "    <tr>\n",
       "      <th>1</th>\n",
       "      <td>E</td>\n",
       "      <td>2011</td>\n",
       "      <td>11</td>\n",
       "      <td>0.00</td>\n",
       "      <td>0</td>\n",
       "      <td>0.00</td>\n",
       "      <td>0</td>\n",
       "      <td>0.00</td>\n",
       "      <td>0</td>\n",
       "      <td>2964.78</td>\n",
       "      <td>285</td>\n",
       "      <td>0.00</td>\n",
       "      <td>0</td>\n",
       "      <td>ILE DE FRANCE</td>\n",
       "      <td>2964.78</td>\n",
       "    </tr>\n",
       "    <tr>\n",
       "      <th>2</th>\n",
       "      <td>E</td>\n",
       "      <td>2011</td>\n",
       "      <td>21</td>\n",
       "      <td>0.00</td>\n",
       "      <td>0</td>\n",
       "      <td>0.00</td>\n",
       "      <td>0</td>\n",
       "      <td>0.00</td>\n",
       "      <td>0</td>\n",
       "      <td>278.42</td>\n",
       "      <td>51</td>\n",
       "      <td>0.00</td>\n",
       "      <td>0</td>\n",
       "      <td>OTHER</td>\n",
       "      <td>278.42</td>\n",
       "    </tr>\n",
       "    <tr>\n",
       "      <th>3</th>\n",
       "      <td>E</td>\n",
       "      <td>2011</td>\n",
       "      <td>22</td>\n",
       "      <td>0.00</td>\n",
       "      <td>0</td>\n",
       "      <td>0.00</td>\n",
       "      <td>0</td>\n",
       "      <td>0.00</td>\n",
       "      <td>0</td>\n",
       "      <td>164.48</td>\n",
       "      <td>24</td>\n",
       "      <td>0.00</td>\n",
       "      <td>0</td>\n",
       "      <td>OTHER</td>\n",
       "      <td>164.48</td>\n",
       "    </tr>\n",
       "    <tr>\n",
       "      <th>4</th>\n",
       "      <td>E</td>\n",
       "      <td>2011</td>\n",
       "      <td>23</td>\n",
       "      <td>0.00</td>\n",
       "      <td>0</td>\n",
       "      <td>0.00</td>\n",
       "      <td>0</td>\n",
       "      <td>0.00</td>\n",
       "      <td>0</td>\n",
       "      <td>445.70</td>\n",
       "      <td>36</td>\n",
       "      <td>0.00</td>\n",
       "      <td>0</td>\n",
       "      <td>OTHER</td>\n",
       "      <td>445.70</td>\n",
       "    </tr>\n",
       "    <tr>\n",
       "      <th>...</th>\n",
       "      <td>...</td>\n",
       "      <td>...</td>\n",
       "      <td>...</td>\n",
       "      <td>...</td>\n",
       "      <td>...</td>\n",
       "      <td>...</td>\n",
       "      <td>...</td>\n",
       "      <td>...</td>\n",
       "      <td>...</td>\n",
       "      <td>...</td>\n",
       "      <td>...</td>\n",
       "      <td>...</td>\n",
       "      <td>...</td>\n",
       "      <td>...</td>\n",
       "      <td>...</td>\n",
       "    </tr>\n",
       "    <tr>\n",
       "      <th>173</th>\n",
       "      <td>E</td>\n",
       "      <td>2017</td>\n",
       "      <td>75</td>\n",
       "      <td>1495.22</td>\n",
       "      <td>307</td>\n",
       "      <td>38489.92</td>\n",
       "      <td>491</td>\n",
       "      <td>13427.07</td>\n",
       "      <td>962</td>\n",
       "      <td>2548.30</td>\n",
       "      <td>520</td>\n",
       "      <td>3524.89</td>\n",
       "      <td>168</td>\n",
       "      <td>NOUVELLE AQUITAINE</td>\n",
       "      <td>59485.40</td>\n",
       "    </tr>\n",
       "    <tr>\n",
       "      <th>174</th>\n",
       "      <td>E</td>\n",
       "      <td>2017</td>\n",
       "      <td>76</td>\n",
       "      <td>8837.02</td>\n",
       "      <td>724</td>\n",
       "      <td>126317.54</td>\n",
       "      <td>219</td>\n",
       "      <td>147893.60</td>\n",
       "      <td>2853</td>\n",
       "      <td>2410.64</td>\n",
       "      <td>448</td>\n",
       "      <td>38537.94</td>\n",
       "      <td>1900</td>\n",
       "      <td>OCCITANIE</td>\n",
       "      <td>323996.74</td>\n",
       "    </tr>\n",
       "    <tr>\n",
       "      <th>175</th>\n",
       "      <td>E</td>\n",
       "      <td>2017</td>\n",
       "      <td>84</td>\n",
       "      <td>8399.45</td>\n",
       "      <td>320</td>\n",
       "      <td>290913.50</td>\n",
       "      <td>711</td>\n",
       "      <td>326584.63</td>\n",
       "      <td>10619</td>\n",
       "      <td>3531.17</td>\n",
       "      <td>691</td>\n",
       "      <td>41550.96</td>\n",
       "      <td>1990</td>\n",
       "      <td>AUVERGNE RHONE ALPES</td>\n",
       "      <td>670979.71</td>\n",
       "    </tr>\n",
       "    <tr>\n",
       "      <th>176</th>\n",
       "      <td>E</td>\n",
       "      <td>2017</td>\n",
       "      <td>93</td>\n",
       "      <td>970.00</td>\n",
       "      <td>11</td>\n",
       "      <td>0.00</td>\n",
       "      <td>0</td>\n",
       "      <td>5435.00</td>\n",
       "      <td>157</td>\n",
       "      <td>0.00</td>\n",
       "      <td>0</td>\n",
       "      <td>50470.00</td>\n",
       "      <td>1893</td>\n",
       "      <td>PROVENCE ALPES COTE D AZUR</td>\n",
       "      <td>56875.00</td>\n",
       "    </tr>\n",
       "    <tr>\n",
       "      <th>177</th>\n",
       "      <td>E</td>\n",
       "      <td>2017</td>\n",
       "      <td>94</td>\n",
       "      <td>13540.00</td>\n",
       "      <td>574</td>\n",
       "      <td>125809.00</td>\n",
       "      <td>2400</td>\n",
       "      <td>574901.00</td>\n",
       "      <td>24049</td>\n",
       "      <td>0.00</td>\n",
       "      <td>0</td>\n",
       "      <td>212579.00</td>\n",
       "      <td>15743</td>\n",
       "      <td>CORSE</td>\n",
       "      <td>926829.00</td>\n",
       "    </tr>\n",
       "  </tbody>\n",
       "</table>\n",
       "<p>178 rows × 15 columns</p>\n",
       "</div>"
      ],
      "text/plain": [
       "    energy  year reg_code    consoa  pdla     consoi  pdli     consot   pdlt  \\\n",
       "0        E  2011        0   1174.57   167   25727.59    50   18004.43   1130   \n",
       "1        E  2011       11      0.00     0       0.00     0       0.00      0   \n",
       "2        E  2011       21      0.00     0       0.00     0       0.00      0   \n",
       "3        E  2011       22      0.00     0       0.00     0       0.00      0   \n",
       "4        E  2011       23      0.00     0       0.00     0       0.00      0   \n",
       "..     ...   ...      ...       ...   ...        ...   ...        ...    ...   \n",
       "173      E  2017       75   1495.22   307   38489.92   491   13427.07    962   \n",
       "174      E  2017       76   8837.02   724  126317.54   219  147893.60   2853   \n",
       "175      E  2017       84   8399.45   320  290913.50   711  326584.63  10619   \n",
       "176      E  2017       93    970.00    11       0.00     0    5435.00    157   \n",
       "177      E  2017       94  13540.00   574  125809.00  2400  574901.00  24049   \n",
       "\n",
       "      consor  pdlr    consona  pdlna                    reg_name      total  \n",
       "0       0.00     0    4974.71    542                       OTHER   49881.30  \n",
       "1    2964.78   285       0.00      0               ILE DE FRANCE    2964.78  \n",
       "2     278.42    51       0.00      0                       OTHER     278.42  \n",
       "3     164.48    24       0.00      0                       OTHER     164.48  \n",
       "4     445.70    36       0.00      0                       OTHER     445.70  \n",
       "..       ...   ...        ...    ...                         ...        ...  \n",
       "173  2548.30   520    3524.89    168          NOUVELLE AQUITAINE   59485.40  \n",
       "174  2410.64   448   38537.94   1900                   OCCITANIE  323996.74  \n",
       "175  3531.17   691   41550.96   1990        AUVERGNE RHONE ALPES  670979.71  \n",
       "176     0.00     0   50470.00   1893  PROVENCE ALPES COTE D AZUR   56875.00  \n",
       "177     0.00     0  212579.00  15743                       CORSE  926829.00  \n",
       "\n",
       "[178 rows x 15 columns]"
      ]
     },
     "execution_count": 171,
     "metadata": {},
     "output_type": "execute_result"
    }
   ],
   "source": [
    "df_elecconso_reg"
   ]
  },
  {
   "cell_type": "code",
   "execution_count": null,
   "metadata": {},
   "outputs": [],
   "source": []
  }
 ],
 "metadata": {
  "kernelspec": {
   "display_name": "Python 3",
   "language": "python",
   "name": "python3"
  },
  "language_info": {
   "codemirror_mode": {
    "name": "ipython",
    "version": 3
   },
   "file_extension": ".py",
   "mimetype": "text/x-python",
   "name": "python",
   "nbconvert_exporter": "python",
   "pygments_lexer": "ipython3",
   "version": "3.8.5"
  },
  "toc": {
   "base_numbering": 1,
   "nav_menu": {},
   "number_sections": true,
   "sideBar": true,
   "skip_h1_title": false,
   "title_cell": "Table of Contents",
   "title_sidebar": "Contents",
   "toc_cell": false,
   "toc_position": {},
   "toc_section_display": true,
   "toc_window_display": false
  }
 },
 "nbformat": 4,
 "nbformat_minor": 4
}
