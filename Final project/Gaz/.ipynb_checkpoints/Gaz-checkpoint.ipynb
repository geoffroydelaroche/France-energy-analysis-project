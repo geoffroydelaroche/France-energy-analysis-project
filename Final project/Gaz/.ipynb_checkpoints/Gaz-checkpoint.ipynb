{
 "cells": [
  {
   "cell_type": "markdown",
   "metadata": {},
   "source": [
    "# Import librairies"
   ]
  },
  {
   "cell_type": "code",
   "execution_count": 1,
   "metadata": {},
   "outputs": [],
   "source": [
    "import pandas as pd\n",
    "import numpy as np"
   ]
  },
  {
   "cell_type": "markdown",
   "metadata": {},
   "source": [
    "# Get the data"
   ]
  },
  {
   "cell_type": "markdown",
   "metadata": {},
   "source": [
    "We will first create dataframes for each year and then concatenate all years dataframes"
   ]
  },
  {
   "cell_type": "markdown",
   "metadata": {},
   "source": [
    "We know from the presentation data file, that the data are very low before 2010, so we will extract only dataframes from year 2010"
   ]
  },
  {
   "cell_type": "code",
   "execution_count": 2,
   "metadata": {},
   "outputs": [],
   "source": [
    "df_2010=pd.read_csv('/Users/Jeff/Ironhack/248_Repo/Projects/Final project/Gaz/Data new/donnees_gaz_2010.csv', encoding = \"ISO-8859-1\", sep=';')"
   ]
  },
  {
   "cell_type": "code",
   "execution_count": 3,
   "metadata": {},
   "outputs": [
    {
     "data": {
      "text/plain": [
       "(24712, 20)"
      ]
     },
     "execution_count": 3,
     "metadata": {},
     "output_type": "execute_result"
    }
   ],
   "source": [
    "df_2010.shape"
   ]
  },
  {
   "cell_type": "code",
   "execution_count": 4,
   "metadata": {},
   "outputs": [],
   "source": [
    "df_2011=pd.read_csv('/Users/Jeff/Ironhack/248_Repo/Projects/Final project/Gaz/Data new/donnees_gaz_2011.csv', encoding = \"ISO-8859-1\", sep=';')"
   ]
  },
  {
   "cell_type": "code",
   "execution_count": 5,
   "metadata": {},
   "outputs": [
    {
     "data": {
      "text/plain": [
       "(24741, 20)"
      ]
     },
     "execution_count": 5,
     "metadata": {},
     "output_type": "execute_result"
    }
   ],
   "source": [
    "df_2011.shape"
   ]
  },
  {
   "cell_type": "code",
   "execution_count": 6,
   "metadata": {},
   "outputs": [],
   "source": [
    "df_2012=pd.read_csv('/Users/Jeff/Ironhack/248_Repo/Projects/Final project/Gaz/Data new/donnees_gaz_2012.csv', encoding = \"ISO-8859-1\", sep=';')"
   ]
  },
  {
   "cell_type": "code",
   "execution_count": 7,
   "metadata": {},
   "outputs": [
    {
     "data": {
      "text/plain": [
       "(24763, 20)"
      ]
     },
     "execution_count": 7,
     "metadata": {},
     "output_type": "execute_result"
    }
   ],
   "source": [
    "df_2012.shape"
   ]
  },
  {
   "cell_type": "code",
   "execution_count": 8,
   "metadata": {},
   "outputs": [],
   "source": [
    "df_2013=pd.read_csv('/Users/Jeff/Ironhack/248_Repo/Projects/Final project/Gaz/Data new/donnees_gaz_2013.csv', encoding = \"ISO-8859-1\", sep=';')"
   ]
  },
  {
   "cell_type": "code",
   "execution_count": 9,
   "metadata": {},
   "outputs": [
    {
     "data": {
      "text/plain": [
       "(24895, 20)"
      ]
     },
     "execution_count": 9,
     "metadata": {},
     "output_type": "execute_result"
    }
   ],
   "source": [
    "df_2013.shape"
   ]
  },
  {
   "cell_type": "code",
   "execution_count": 10,
   "metadata": {},
   "outputs": [],
   "source": [
    "df_2014=pd.read_csv('/Users/Jeff/Ironhack/248_Repo/Projects/Final project/Gaz/Data new/donnees_gaz_2014.csv', encoding = \"ISO-8859-1\", sep=';')"
   ]
  },
  {
   "cell_type": "code",
   "execution_count": 11,
   "metadata": {},
   "outputs": [
    {
     "data": {
      "text/plain": [
       "(24906, 20)"
      ]
     },
     "execution_count": 11,
     "metadata": {},
     "output_type": "execute_result"
    }
   ],
   "source": [
    "df_2014.shape"
   ]
  },
  {
   "cell_type": "code",
   "execution_count": 12,
   "metadata": {},
   "outputs": [],
   "source": [
    "df_2015=pd.read_csv('/Users/Jeff/Ironhack/248_Repo/Projects/Final project/Gaz/Data new/donnees_gaz_2015.csv', encoding = \"ISO-8859-1\", sep=';')"
   ]
  },
  {
   "cell_type": "code",
   "execution_count": 13,
   "metadata": {},
   "outputs": [
    {
     "data": {
      "text/plain": [
       "(25853, 20)"
      ]
     },
     "execution_count": 13,
     "metadata": {},
     "output_type": "execute_result"
    }
   ],
   "source": [
    "df_2015.shape"
   ]
  },
  {
   "cell_type": "code",
   "execution_count": 14,
   "metadata": {},
   "outputs": [],
   "source": [
    "df_2016=pd.read_csv('/Users/Jeff/Ironhack/248_Repo/Projects/Final project/Gaz/Data new/donnees_gaz_2016.csv', encoding = \"ISO-8859-1\", sep=';')"
   ]
  },
  {
   "cell_type": "code",
   "execution_count": 15,
   "metadata": {},
   "outputs": [
    {
     "data": {
      "text/plain": [
       "(25907, 20)"
      ]
     },
     "execution_count": 15,
     "metadata": {},
     "output_type": "execute_result"
    }
   ],
   "source": [
    "df_2016.shape"
   ]
  },
  {
   "cell_type": "code",
   "execution_count": 16,
   "metadata": {},
   "outputs": [],
   "source": [
    "df_2017=pd.read_csv('/Users/Jeff/Ironhack/248_Repo/Projects/Final project/Gaz/Data new/donnees_gaz_2017.csv', encoding = \"ISO-8859-1\", sep=';')"
   ]
  },
  {
   "cell_type": "code",
   "execution_count": 17,
   "metadata": {},
   "outputs": [
    {
     "data": {
      "text/plain": [
       "(26386, 22)"
      ]
     },
     "execution_count": 17,
     "metadata": {},
     "output_type": "execute_result"
    }
   ],
   "source": [
    "df_2017.shape"
   ]
  },
  {
   "cell_type": "code",
   "execution_count": 18,
   "metadata": {},
   "outputs": [],
   "source": [
    "frames=[df_2010, df_2011, df_2012, df_2013, df_2014, df_2015, df_2016, df_2017]"
   ]
  },
  {
   "cell_type": "code",
   "execution_count": 19,
   "metadata": {},
   "outputs": [],
   "source": [
    "# Create the concatenate dataframe\n",
    "df_gaz1=pd.concat(frames)"
   ]
  },
  {
   "cell_type": "code",
   "execution_count": 20,
   "metadata": {},
   "outputs": [
    {
     "data": {
      "text/plain": [
       "(202163, 22)"
      ]
     },
     "execution_count": 20,
     "metadata": {},
     "output_type": "execute_result"
    }
   ],
   "source": [
    "df_gaz1.shape"
   ]
  },
  {
   "cell_type": "code",
   "execution_count": 21,
   "metadata": {},
   "outputs": [],
   "source": [
    "# Save the dataframe as a csv\n",
    "df_gaz1.to_csv('df_gaz.csv', sep='/', index=False)"
   ]
  },
  {
   "cell_type": "markdown",
   "metadata": {},
   "source": [
    "# Data cleaning"
   ]
  },
  {
   "cell_type": "markdown",
   "metadata": {},
   "source": [
    "## Missing values"
   ]
  },
  {
   "cell_type": "code",
   "execution_count": 22,
   "metadata": {},
   "outputs": [
    {
     "data": {
      "text/plain": [
       "OPERATEUR         0\n",
       "ANNEE             0\n",
       "FILIERE           0\n",
       "TYPE              0\n",
       "CODE              0\n",
       "CONSOA            0\n",
       "PDLA              0\n",
       "INDQUALA          0\n",
       "CONSOI            0\n",
       "PDLI              0\n",
       "INDQUALI          0\n",
       "CONSOT            0\n",
       "PDLT              0\n",
       "INDQUALT          0\n",
       "CONSOR           57\n",
       "PDLR             57\n",
       "INDQUALR        117\n",
       "CONSONA           0\n",
       "PDLNA             0\n",
       "INDQUALNA         0\n",
       "THERMOR      175783\n",
       "PARTR        175783\n",
       "dtype: int64"
      ]
     },
     "execution_count": 22,
     "metadata": {},
     "output_type": "execute_result"
    }
   ],
   "source": [
    "df_gaz1.isna().sum()"
   ]
  },
  {
   "cell_type": "markdown",
   "metadata": {},
   "source": [
    "**FILIERE**"
   ]
  },
  {
   "cell_type": "markdown",
   "metadata": {},
   "source": [
    "We know that the column filiere corresponds to gaz, so we will fill missing value with letter G"
   ]
  },
  {
   "cell_type": "code",
   "execution_count": 23,
   "metadata": {},
   "outputs": [
    {
     "data": {
      "text/plain": [
       "G    202163\n",
       "Name: FILIERE, dtype: int64"
      ]
     },
     "execution_count": 23,
     "metadata": {},
     "output_type": "execute_result"
    }
   ],
   "source": [
    "df_gaz1.FILIERE.value_counts()"
   ]
  },
  {
   "cell_type": "code",
   "execution_count": 24,
   "metadata": {},
   "outputs": [],
   "source": [
    "df_gaz1.FILIERE=df_gaz1.FILIERE.fillna('G')"
   ]
  },
  {
   "cell_type": "code",
   "execution_count": 25,
   "metadata": {},
   "outputs": [
    {
     "data": {
      "text/plain": [
       "0"
      ]
     },
     "execution_count": 25,
     "metadata": {},
     "output_type": "execute_result"
    }
   ],
   "source": [
    "df_gaz1.FILIERE.isna().sum()"
   ]
  },
  {
   "cell_type": "markdown",
   "metadata": {},
   "source": [
    "**FILIERE (2), THERMOR, PARTR**"
   ]
  },
  {
   "cell_type": "markdown",
   "metadata": {},
   "source": [
    "As the majority of those columns are missing values, we will drop them"
   ]
  },
  {
   "cell_type": "code",
   "execution_count": 26,
   "metadata": {},
   "outputs": [],
   "source": [
    "df_gaz1.drop(df_gaz1.columns[20], axis=1, inplace=True)\n",
    "df_gaz1.drop('PARTR', axis=1, inplace=True)"
   ]
  },
  {
   "cell_type": "markdown",
   "metadata": {},
   "source": [
    "**CONSOR, PDLR, INDQUALR**"
   ]
  },
  {
   "cell_type": "markdown",
   "metadata": {},
   "source": [
    "We will drop the rows with missing values"
   ]
  },
  {
   "cell_type": "code",
   "execution_count": 27,
   "metadata": {},
   "outputs": [],
   "source": [
    "df_gaz1.dropna(inplace=True)"
   ]
  },
  {
   "cell_type": "code",
   "execution_count": 28,
   "metadata": {},
   "outputs": [
    {
     "data": {
      "text/plain": [
       "OPERATEUR    0\n",
       "ANNEE        0\n",
       "FILIERE      0\n",
       "TYPE         0\n",
       "CODE         0\n",
       "CONSOA       0\n",
       "PDLA         0\n",
       "INDQUALA     0\n",
       "CONSOI       0\n",
       "PDLI         0\n",
       "INDQUALI     0\n",
       "CONSOT       0\n",
       "PDLT         0\n",
       "INDQUALT     0\n",
       "CONSOR       0\n",
       "PDLR         0\n",
       "INDQUALR     0\n",
       "CONSONA      0\n",
       "PDLNA        0\n",
       "INDQUALNA    0\n",
       "dtype: int64"
      ]
     },
     "execution_count": 28,
     "metadata": {},
     "output_type": "execute_result"
    }
   ],
   "source": [
    "df_gaz1.isna().sum()"
   ]
  },
  {
   "cell_type": "code",
   "execution_count": 29,
   "metadata": {},
   "outputs": [
    {
     "data": {
      "text/plain": [
       "(202046, 20)"
      ]
     },
     "execution_count": 29,
     "metadata": {},
     "output_type": "execute_result"
    }
   ],
   "source": [
    "df_gaz1.shape"
   ]
  },
  {
   "cell_type": "code",
   "execution_count": 30,
   "metadata": {},
   "outputs": [],
   "source": [
    "# Reset the index because index wasn't unique\n",
    "df_gaz1.reset_index(inplace=True, drop=True)"
   ]
  },
  {
   "cell_type": "markdown",
   "metadata": {},
   "source": [
    "No more missing values"
   ]
  },
  {
   "cell_type": "markdown",
   "metadata": {},
   "source": [
    "## Data level"
   ]
  },
  {
   "cell_type": "code",
   "execution_count": 31,
   "metadata": {},
   "outputs": [
    {
     "data": {
      "text/plain": [
       "IRIS        197771\n",
       "InterCom      2362\n",
       "Commune       1844\n",
       "Region          69\n",
       "Name: TYPE, dtype: int64"
      ]
     },
     "execution_count": 31,
     "metadata": {},
     "output_type": "execute_result"
    }
   ],
   "source": [
    "df_gaz1['TYPE'].value_counts()"
   ]
  },
  {
   "cell_type": "markdown",
   "metadata": {},
   "source": [
    "As we can see, there are several type of area. In order to do our analysis we will only keep the value by commune"
   ]
  },
  {
   "cell_type": "code",
   "execution_count": 32,
   "metadata": {},
   "outputs": [],
   "source": [
    "df_gaz=df_gaz1.drop(df_gaz1[df_gaz1['TYPE'] != 'Commune' ].index)"
   ]
  },
  {
   "cell_type": "code",
   "execution_count": 33,
   "metadata": {},
   "outputs": [
    {
     "data": {
      "text/plain": [
       "Commune    1844\n",
       "Name: TYPE, dtype: int64"
      ]
     },
     "execution_count": 33,
     "metadata": {},
     "output_type": "execute_result"
    }
   ],
   "source": [
    "df_gaz['TYPE'].value_counts()"
   ]
  },
  {
   "cell_type": "markdown",
   "metadata": {},
   "source": [
    "We will also create a new dataframe containing the value by region"
   ]
  },
  {
   "cell_type": "code",
   "execution_count": 34,
   "metadata": {},
   "outputs": [],
   "source": [
    "df_gaz_region=df_gaz1.loc[df_gaz1['TYPE']=='Region']"
   ]
  },
  {
   "cell_type": "code",
   "execution_count": 35,
   "metadata": {},
   "outputs": [
    {
     "data": {
      "text/plain": [
       "Region    69\n",
       "Name: TYPE, dtype: int64"
      ]
     },
     "execution_count": 35,
     "metadata": {},
     "output_type": "execute_result"
    }
   ],
   "source": [
    "df_gaz_region.TYPE.value_counts()"
   ]
  },
  {
   "cell_type": "code",
   "execution_count": 36,
   "metadata": {},
   "outputs": [
    {
     "data": {
      "text/plain": [
       "75    11\n",
       "24    11\n",
       "44    11\n",
       "52     6\n",
       "84     5\n",
       "11     3\n",
       "93     3\n",
       "53     3\n",
       "76     3\n",
       "27     3\n",
       "28     3\n",
       "32     3\n",
       "44     2\n",
       "75     2\n",
       "Name: CODE, dtype: int64"
      ]
     },
     "execution_count": 36,
     "metadata": {},
     "output_type": "execute_result"
    }
   ],
   "source": [
    "df_gaz_region.CODE.value_counts()"
   ]
  },
  {
   "cell_type": "markdown",
   "metadata": {},
   "source": [
    "## Data types"
   ]
  },
  {
   "cell_type": "code",
   "execution_count": 37,
   "metadata": {},
   "outputs": [
    {
     "name": "stdout",
     "output_type": "stream",
     "text": [
      "<class 'pandas.core.frame.DataFrame'>\n",
      "Int64Index: 1844 entries, 5155 to 198492\n",
      "Data columns (total 20 columns):\n",
      " #   Column     Non-Null Count  Dtype  \n",
      "---  ------     --------------  -----  \n",
      " 0   OPERATEUR  1844 non-null   object \n",
      " 1   ANNEE      1844 non-null   int64  \n",
      " 2   FILIERE    1844 non-null   object \n",
      " 3   TYPE       1844 non-null   object \n",
      " 4   CODE       1844 non-null   object \n",
      " 5   CONSOA     1844 non-null   object \n",
      " 6   PDLA       1844 non-null   int64  \n",
      " 7   INDQUALA   1844 non-null   object \n",
      " 8   CONSOI     1844 non-null   object \n",
      " 9   PDLI       1844 non-null   int64  \n",
      " 10  INDQUALI   1844 non-null   object \n",
      " 11  CONSOT     1844 non-null   object \n",
      " 12  PDLT       1844 non-null   int64  \n",
      " 13  INDQUALT   1844 non-null   object \n",
      " 14  CONSOR     1844 non-null   object \n",
      " 15  PDLR       1844 non-null   float64\n",
      " 16  INDQUALR   1844 non-null   object \n",
      " 17  CONSONA    1844 non-null   object \n",
      " 18  PDLNA      1844 non-null   int64  \n",
      " 19  INDQUALNA  1844 non-null   object \n",
      "dtypes: float64(1), int64(5), object(14)\n",
      "memory usage: 302.5+ KB\n"
     ]
    }
   ],
   "source": [
    "df_gaz.info()"
   ]
  },
  {
   "cell_type": "markdown",
   "metadata": {},
   "source": [
    "As we can see some numerical have object type, we will transform the data type of those columns"
   ]
  },
  {
   "cell_type": "code",
   "execution_count": 38,
   "metadata": {},
   "outputs": [],
   "source": [
    "df_gaz[['CONSOA','INDQUALA','CONSOI','INDQUALI','CONSOT','INDQUALT','CONSOR','INDQUALR','CONSONA','INDQUALNA']]=df_gaz[['CONSOA','INDQUALA','CONSOI','INDQUALI','CONSOT','INDQUALT','CONSOR','INDQUALR','CONSONA','INDQUALNA']].apply(lambda x: x.str.replace(',','.'))"
   ]
  },
  {
   "cell_type": "code",
   "execution_count": 39,
   "metadata": {},
   "outputs": [],
   "source": [
    "df_gaz[['CONSOA','INDQUALA','CONSOI','INDQUALI','CONSOT','INDQUALT','CONSOR','INDQUALR','CONSONA','INDQUALNA']] = df_gaz[['CONSOA','INDQUALA','CONSOI','INDQUALI','CONSOT','INDQUALT','CONSOR','INDQUALR','CONSONA','INDQUALNA']].apply(pd.to_numeric)"
   ]
  },
  {
   "cell_type": "code",
   "execution_count": 40,
   "metadata": {},
   "outputs": [
    {
     "data": {
      "text/plain": [
       "array([33012, 33022, 33032, 33039, 33056, 33010, 33063, 33069, 33075,\n",
       "       33090, 33091, 33096, 33104, 33119, 33146, 33162, 33167, 33187,\n",
       "       33192, 33200, 33211, 33214, 33220, 33248, 33249, 33256, 33262,\n",
       "       33268, 33273, 33281, 33294, 33297, 33312, 33314, 33318, 33322,\n",
       "       33352, 33376, 33397, 33417, 33422, 33423, 33424, 33449, 33494,\n",
       "       33517, 33519, 33522, 33550, 38478, 38547, 40001, 68038, 68066,\n",
       "       68095, 68143, 68145, 68146, 68155, 68227, 68237, 68338, 68365,\n",
       "       68366, 68374, 80620, 81033, 81060, 81068, 81170, 81230, 81244,\n",
       "       81291, 32072, 40101, 40186, 40233, 81116, 81140, 32027, 33036,\n",
       "       33046, 33087, 33391, 67008, 67010, 67016, 67020, 67021, 67028,\n",
       "       67043, 67045, 67049, 67052, 67060, 67065, 67066, 67067, 67080,\n",
       "       67097, 67098, 67101, 67106, 67108, 67112, 67118, 67119, 67120,\n",
       "       67124, 67128, 67130, 67131, 67137, 67150, 67151, 67152, 67155,\n",
       "       67156, 67164, 67168, 67169, 67173, 67181, 67182, 67189, 67194,\n",
       "       67197, 67200, 67204, 67205, 67212, 67214, 67216, 67217, 67218,\n",
       "       67226, 67233, 67237, 67240, 67247, 67248, 67252, 67256, 67267,\n",
       "       67268, 67276, 67282, 67285, 67286, 67295, 67296, 67300, 67301,\n",
       "       67306, 67309, 67313, 67326, 67329, 67336, 67343, 67348, 67350,\n",
       "       67354, 67356, 67364, 67365, 67368, 67375, 67378, 67382, 67389,\n",
       "       67407, 67411, 67414, 67420, 67429, 67433, 67438, 67447, 67448,\n",
       "       67471, 67473, 67480, 67481, 67001, 67482, 67485, 67495, 67500,\n",
       "       67504, 67506, 67519, 67520, 67523, 67529, 67543, 67548, 67551,\n",
       "       67577, 74006, 74245, 80031, 80430, 80507, 80652, 80814, 40132,\n",
       "       67100, 67517, 67526, '22197', '27423', '27543', '28014', '28041',\n",
       "       '28076', '28082', '28098', '28117', '28118', '28134', '28136',\n",
       "       '28154', '28155', '28170', '28171', '28178', '28223', '28251',\n",
       "       '28267', '28292', '28324', '28332', '28369', '28394', '28403',\n",
       "       '28404', '28405', '32027', '33010', '33012', '33022', '33032',\n",
       "       '33036', '33039', '33046', '33056', '33063', '33069', '33075',\n",
       "       '33087', '33090', '33091', '33096', '33104', '33119', '33146',\n",
       "       '33162', '33167', '33187', '33192', '33200', '33211', '33214',\n",
       "       '33220', '33248', '33249', '33256', '33262', '33268', '33273',\n",
       "       '33281', '33294', '33297', '33312', '33314', '33318', '33322',\n",
       "       '33352', '33376', '33391', '33397', '33417', '33422', '33423',\n",
       "       '33424', '33449', '33494', '33517', '33519', '33522', '33550',\n",
       "       '36045', '37002', '37014', '37052', '37081', '37089', '37110',\n",
       "       '37111', '37140', '37150', '37157', '37171', '37173', '37174',\n",
       "       '37177', '37182', '37188', '37193', '37194', '37196', '37201',\n",
       "       '37204', '37210', '37216', '37231', '37237', '37247', '37249',\n",
       "       '37257', '37277', '38029', '38030', '38082', '38162', '38165',\n",
       "       '38185', '38194', '38261', '38297', '38357', '38478', '38494',\n",
       "       '38515', '38547', '40001', '40101', '40132', '40186', '40233',\n",
       "       '49006', '49007', '49023', '49027', '49063', '49125', '49145',\n",
       "       '49162', '49165', '49212', '49239', '49244', '49276', '49285',\n",
       "       '49313', '49518', '57606', '65258', '67001', '67008', '67010',\n",
       "       '67016', '67020', '67021', '67028', '67038', '67043', '67045',\n",
       "       '67049', '67052', '67060', '67065', '67066', '67067', '67080',\n",
       "       '67085', '67097', '67098', '67100', '67101', '67106', '67108',\n",
       "       '67112', '67118', '67119', '67120', '67124', '67128', '67130',\n",
       "       '67131', '67137', '67150', '67151', '67152', '67155', '67156',\n",
       "       '67164', '67168', '67169', '67172', '67173', '67181', '67182',\n",
       "       '67189', '67194', '67197', '67200', '67204', '67205', '67209',\n",
       "       '67212', '67214', '67216', '67217', '67218', '67226', '67233',\n",
       "       '67237', '67240', '67247', '67248', '67252', '67256', '67267',\n",
       "       '67268', '67276', '67282', '67285', '67286', '67295', '67296',\n",
       "       '67300', '67301', '67306', '67309', '67313', '67326', '67329',\n",
       "       '67336', '67343', '67348', '67350', '67354', '67356', '67364',\n",
       "       '67365', '67368', '67375', '67378', '67382', '67389', '67407',\n",
       "       '67411', '67414', '67420', '67429', '67433', '67438', '67442',\n",
       "       '67447', '67448', '67471', '67473', '67480', '67481', '67482',\n",
       "       '67485', '67492', '67495', '67500', '67504', '67506', '67517',\n",
       "       '67519', '67520', '67523', '67526', '67529', '67539', '67543',\n",
       "       '67548', '67551', '67577', '68029', '68030', '68038', '68043',\n",
       "       '68058', '68066', '68088', '68095', '68112', '68122', '68126',\n",
       "       '68143', '68145', '68146', '68149', '68155', '68156', '68159',\n",
       "       '68177', '68178', '68203', '68227', '68237', '68250', '68251',\n",
       "       '68260', '68297', '68315', '68318', '68338', '68349', '68364',\n",
       "       '68365', '68366', '68374', '68381', '74006', '74245', '80031',\n",
       "       '80430', '80507', '80620', '80652', '80814', '81033', '81060',\n",
       "       '81068', '81116', '81140', '81170', '81230', '81244', '81291',\n",
       "       '85002', '85008', '85014', '85016', '85043', '85045', '85069',\n",
       "       '85118', '85120', '85152', '85153', '85154', '85160', '85161',\n",
       "       '85213', '85219', '85231', '85243', '85268', '85300', '86001',\n",
       "       '86006', '86007', '86010', '86014', '86015', '86016', '86019',\n",
       "       '86024', '86026', '86027', '86028', '86031', '86032', '86038',\n",
       "       '86039', '86041', '86047', '86050', '86053', '86055', '86056',\n",
       "       '86058', '86060', '86061', '86063', '86065', '86068', '86071',\n",
       "       '86072', '86074', '86075', '86076', '86077', '86078', '86082',\n",
       "       '86083', '86084', '86086', '86088', '86089', '86094', '86099',\n",
       "       '86100', '86103', '86112', '86113', '86114', '86116', '86120',\n",
       "       '86121', '86123', '86125', '86126', '86128', '86138', '86139',\n",
       "       '86140', '86141', '86142', '86145', '86147', '86149', '86153',\n",
       "       '86154', '86157', '86160', '86161', '86163', '86164', '86166',\n",
       "       '86167', '86171', '86178', '86180', '86181', '86186', '86187',\n",
       "       '86188', '86190', '86198', '86204', '86208', '86209', '86212',\n",
       "       '86213', '86219', '86223', '86224', '86225', '86226', '86233',\n",
       "       '86234', '86235', '86244', '86245', '86246', '86248', '86250',\n",
       "       '86252', '86253', '86254', '86255', '86256', '86259', '86261',\n",
       "       '86263', '86268', '86273', '86274', '86276', '86277', '86278',\n",
       "       '86279', '86281', '86285', '86290', '86292', '86293', '86294',\n",
       "       '86297', '86299', '86300', '37051', '37059', '37118', '37129',\n",
       "       '37143', '37178', '49218', '49301', '57506', '67018', '67030',\n",
       "       '67033', '67034', '67039', '67081', '67139', '67557', '74042',\n",
       "       '74256', '82130', '86170', '37251', '37279', '68205', '74282'],\n",
       "      dtype=object)"
      ]
     },
     "execution_count": 40,
     "metadata": {},
     "output_type": "execute_result"
    }
   ],
   "source": [
    "df_gaz['CODE'].unique()"
   ]
  },
  {
   "cell_type": "markdown",
   "metadata": {},
   "source": [
    "As we can see, some of the values in the column are string and others are number, we will convert all the values as string"
   ]
  },
  {
   "cell_type": "code",
   "execution_count": 41,
   "metadata": {},
   "outputs": [],
   "source": [
    "df_gaz['CODE']=df_gaz['CODE'].apply(str)"
   ]
  },
  {
   "cell_type": "code",
   "execution_count": 42,
   "metadata": {},
   "outputs": [
    {
     "name": "stdout",
     "output_type": "stream",
     "text": [
      "<class 'pandas.core.frame.DataFrame'>\n",
      "Int64Index: 1844 entries, 5155 to 198492\n",
      "Data columns (total 20 columns):\n",
      " #   Column     Non-Null Count  Dtype  \n",
      "---  ------     --------------  -----  \n",
      " 0   OPERATEUR  1844 non-null   object \n",
      " 1   ANNEE      1844 non-null   int64  \n",
      " 2   FILIERE    1844 non-null   object \n",
      " 3   TYPE       1844 non-null   object \n",
      " 4   CODE       1844 non-null   object \n",
      " 5   CONSOA     1844 non-null   float64\n",
      " 6   PDLA       1844 non-null   int64  \n",
      " 7   INDQUALA   1844 non-null   float64\n",
      " 8   CONSOI     1844 non-null   float64\n",
      " 9   PDLI       1844 non-null   int64  \n",
      " 10  INDQUALI   1844 non-null   float64\n",
      " 11  CONSOT     1844 non-null   float64\n",
      " 12  PDLT       1844 non-null   int64  \n",
      " 13  INDQUALT   1844 non-null   float64\n",
      " 14  CONSOR     1844 non-null   float64\n",
      " 15  PDLR       1844 non-null   float64\n",
      " 16  INDQUALR   1844 non-null   float64\n",
      " 17  CONSONA    1844 non-null   float64\n",
      " 18  PDLNA      1844 non-null   int64  \n",
      " 19  INDQUALNA  1844 non-null   float64\n",
      "dtypes: float64(11), int64(5), object(4)\n",
      "memory usage: 302.5+ KB\n"
     ]
    }
   ],
   "source": [
    "df_gaz.info()"
   ]
  },
  {
   "cell_type": "markdown",
   "metadata": {},
   "source": [
    "## Commune name, departement code and name"
   ]
  },
  {
   "cell_type": "markdown",
   "metadata": {},
   "source": [
    "### Add Commune name"
   ]
  },
  {
   "cell_type": "markdown",
   "metadata": {},
   "source": [
    "Now that we only have information per commune, we will add the name of the commune"
   ]
  },
  {
   "cell_type": "code",
   "execution_count": 43,
   "metadata": {},
   "outputs": [],
   "source": [
    "# Import the dataframe with the name corresponding to the code for each commune\n",
    "df_com=pd.read_csv('/Users/Jeff/Ironhack/248_Repo/Projects/Final project/Area/df_com.csv', sep='/')"
   ]
  },
  {
   "cell_type": "code",
   "execution_count": 44,
   "metadata": {},
   "outputs": [
    {
     "data": {
      "text/html": [
       "<div>\n",
       "<style scoped>\n",
       "    .dataframe tbody tr th:only-of-type {\n",
       "        vertical-align: middle;\n",
       "    }\n",
       "\n",
       "    .dataframe tbody tr th {\n",
       "        vertical-align: top;\n",
       "    }\n",
       "\n",
       "    .dataframe thead th {\n",
       "        text-align: right;\n",
       "    }\n",
       "</style>\n",
       "<table border=\"1\" class=\"dataframe\">\n",
       "  <thead>\n",
       "    <tr style=\"text-align: right;\">\n",
       "      <th></th>\n",
       "      <th>CODE</th>\n",
       "      <th>REG</th>\n",
       "      <th>NOM</th>\n",
       "    </tr>\n",
       "  </thead>\n",
       "  <tbody>\n",
       "    <tr>\n",
       "      <th>0</th>\n",
       "      <td>01001</td>\n",
       "      <td>84</td>\n",
       "      <td>ABERGEMENT CLEMENCIAT</td>\n",
       "    </tr>\n",
       "    <tr>\n",
       "      <th>1</th>\n",
       "      <td>01002</td>\n",
       "      <td>84</td>\n",
       "      <td>ABERGEMENT DE VAREY</td>\n",
       "    </tr>\n",
       "    <tr>\n",
       "      <th>2</th>\n",
       "      <td>01004</td>\n",
       "      <td>84</td>\n",
       "      <td>AMBERIEU EN BUGEY</td>\n",
       "    </tr>\n",
       "    <tr>\n",
       "      <th>3</th>\n",
       "      <td>01005</td>\n",
       "      <td>84</td>\n",
       "      <td>AMBERIEUX EN DOMBES</td>\n",
       "    </tr>\n",
       "    <tr>\n",
       "      <th>4</th>\n",
       "      <td>01006</td>\n",
       "      <td>84</td>\n",
       "      <td>AMBLEON</td>\n",
       "    </tr>\n",
       "  </tbody>\n",
       "</table>\n",
       "</div>"
      ],
      "text/plain": [
       "    CODE  REG                    NOM\n",
       "0  01001   84  ABERGEMENT CLEMENCIAT\n",
       "1  01002   84    ABERGEMENT DE VAREY\n",
       "2  01004   84      AMBERIEU EN BUGEY\n",
       "3  01005   84    AMBERIEUX EN DOMBES\n",
       "4  01006   84                AMBLEON"
      ]
     },
     "execution_count": 44,
     "metadata": {},
     "output_type": "execute_result"
    }
   ],
   "source": [
    "df_com.head()"
   ]
  },
  {
   "cell_type": "code",
   "execution_count": 45,
   "metadata": {},
   "outputs": [],
   "source": [
    "df_gaz_merge = pd.merge(df_gaz, df_com, how='left', on=['CODE'])"
   ]
  },
  {
   "cell_type": "code",
   "execution_count": 46,
   "metadata": {},
   "outputs": [
    {
     "data": {
      "text/html": [
       "<div>\n",
       "<style scoped>\n",
       "    .dataframe tbody tr th:only-of-type {\n",
       "        vertical-align: middle;\n",
       "    }\n",
       "\n",
       "    .dataframe tbody tr th {\n",
       "        vertical-align: top;\n",
       "    }\n",
       "\n",
       "    .dataframe thead th {\n",
       "        text-align: right;\n",
       "    }\n",
       "</style>\n",
       "<table border=\"1\" class=\"dataframe\">\n",
       "  <thead>\n",
       "    <tr style=\"text-align: right;\">\n",
       "      <th></th>\n",
       "      <th>OPERATEUR</th>\n",
       "      <th>ANNEE</th>\n",
       "      <th>FILIERE</th>\n",
       "      <th>TYPE</th>\n",
       "      <th>CODE</th>\n",
       "      <th>CONSOA</th>\n",
       "      <th>PDLA</th>\n",
       "      <th>INDQUALA</th>\n",
       "      <th>CONSOI</th>\n",
       "      <th>PDLI</th>\n",
       "      <th>...</th>\n",
       "      <th>PDLT</th>\n",
       "      <th>INDQUALT</th>\n",
       "      <th>CONSOR</th>\n",
       "      <th>PDLR</th>\n",
       "      <th>INDQUALR</th>\n",
       "      <th>CONSONA</th>\n",
       "      <th>PDLNA</th>\n",
       "      <th>INDQUALNA</th>\n",
       "      <th>REG</th>\n",
       "      <th>NOM</th>\n",
       "    </tr>\n",
       "  </thead>\n",
       "  <tbody>\n",
       "    <tr>\n",
       "      <th>0</th>\n",
       "      <td>REGAZ Bordeaux</td>\n",
       "      <td>2010</td>\n",
       "      <td>G</td>\n",
       "      <td>Commune</td>\n",
       "      <td>33012</td>\n",
       "      <td>1100.12</td>\n",
       "      <td>5</td>\n",
       "      <td>0.962</td>\n",
       "      <td>540.61</td>\n",
       "      <td>5</td>\n",
       "      <td>...</td>\n",
       "      <td>15</td>\n",
       "      <td>0.962</td>\n",
       "      <td>10825.67</td>\n",
       "      <td>586.0</td>\n",
       "      <td>0.960</td>\n",
       "      <td>0.0</td>\n",
       "      <td>0</td>\n",
       "      <td>0.00</td>\n",
       "      <td>75.0</td>\n",
       "      <td>ARSAC</td>\n",
       "    </tr>\n",
       "    <tr>\n",
       "      <th>1</th>\n",
       "      <td>REGAZ Bordeaux</td>\n",
       "      <td>2010</td>\n",
       "      <td>G</td>\n",
       "      <td>Commune</td>\n",
       "      <td>33022</td>\n",
       "      <td>0.00</td>\n",
       "      <td>0</td>\n",
       "      <td>0.000</td>\n",
       "      <td>9.90</td>\n",
       "      <td>1</td>\n",
       "      <td>...</td>\n",
       "      <td>9</td>\n",
       "      <td>0.961</td>\n",
       "      <td>6163.68</td>\n",
       "      <td>320.0</td>\n",
       "      <td>0.959</td>\n",
       "      <td>0.0</td>\n",
       "      <td>0</td>\n",
       "      <td>0.00</td>\n",
       "      <td>75.0</td>\n",
       "      <td>AVENSAN</td>\n",
       "    </tr>\n",
       "    <tr>\n",
       "      <th>2</th>\n",
       "      <td>REGAZ Bordeaux</td>\n",
       "      <td>2010</td>\n",
       "      <td>G</td>\n",
       "      <td>Commune</td>\n",
       "      <td>33032</td>\n",
       "      <td>0.00</td>\n",
       "      <td>0</td>\n",
       "      <td>0.000</td>\n",
       "      <td>26565.24</td>\n",
       "      <td>23</td>\n",
       "      <td>...</td>\n",
       "      <td>44</td>\n",
       "      <td>0.962</td>\n",
       "      <td>23888.00</td>\n",
       "      <td>1664.0</td>\n",
       "      <td>0.960</td>\n",
       "      <td>0.0</td>\n",
       "      <td>0</td>\n",
       "      <td>0.00</td>\n",
       "      <td>75.0</td>\n",
       "      <td>BASSENS</td>\n",
       "    </tr>\n",
       "    <tr>\n",
       "      <th>3</th>\n",
       "      <td>REGAZ Bordeaux</td>\n",
       "      <td>2010</td>\n",
       "      <td>G</td>\n",
       "      <td>Commune</td>\n",
       "      <td>33039</td>\n",
       "      <td>228.37</td>\n",
       "      <td>2</td>\n",
       "      <td>0.960</td>\n",
       "      <td>14683.27</td>\n",
       "      <td>39</td>\n",
       "      <td>...</td>\n",
       "      <td>289</td>\n",
       "      <td>0.960</td>\n",
       "      <td>10962.37</td>\n",
       "      <td>8393.0</td>\n",
       "      <td>0.959</td>\n",
       "      <td>0.0</td>\n",
       "      <td>0</td>\n",
       "      <td>0.00</td>\n",
       "      <td>75.0</td>\n",
       "      <td>BEGLES</td>\n",
       "    </tr>\n",
       "    <tr>\n",
       "      <th>4</th>\n",
       "      <td>REGAZ Bordeaux</td>\n",
       "      <td>2010</td>\n",
       "      <td>G</td>\n",
       "      <td>Commune</td>\n",
       "      <td>33056</td>\n",
       "      <td>60.67</td>\n",
       "      <td>1</td>\n",
       "      <td>0.960</td>\n",
       "      <td>27600.85</td>\n",
       "      <td>47</td>\n",
       "      <td>...</td>\n",
       "      <td>158</td>\n",
       "      <td>0.961</td>\n",
       "      <td>47135.78</td>\n",
       "      <td>3117.0</td>\n",
       "      <td>0.960</td>\n",
       "      <td>204.6</td>\n",
       "      <td>1</td>\n",
       "      <td>0.97</td>\n",
       "      <td>75.0</td>\n",
       "      <td>BLANQUEFORT</td>\n",
       "    </tr>\n",
       "  </tbody>\n",
       "</table>\n",
       "<p>5 rows × 22 columns</p>\n",
       "</div>"
      ],
      "text/plain": [
       "        OPERATEUR  ANNEE FILIERE     TYPE   CODE   CONSOA  PDLA  INDQUALA  \\\n",
       "0  REGAZ Bordeaux   2010       G  Commune  33012  1100.12     5     0.962   \n",
       "1  REGAZ Bordeaux   2010       G  Commune  33022     0.00     0     0.000   \n",
       "2  REGAZ Bordeaux   2010       G  Commune  33032     0.00     0     0.000   \n",
       "3  REGAZ Bordeaux   2010       G  Commune  33039   228.37     2     0.960   \n",
       "4  REGAZ Bordeaux   2010       G  Commune  33056    60.67     1     0.960   \n",
       "\n",
       "     CONSOI  PDLI  ...  PDLT  INDQUALT    CONSOR    PDLR  INDQUALR  CONSONA  \\\n",
       "0    540.61     5  ...    15     0.962  10825.67   586.0     0.960      0.0   \n",
       "1      9.90     1  ...     9     0.961   6163.68   320.0     0.959      0.0   \n",
       "2  26565.24    23  ...    44     0.962  23888.00  1664.0     0.960      0.0   \n",
       "3  14683.27    39  ...   289     0.960  10962.37  8393.0     0.959      0.0   \n",
       "4  27600.85    47  ...   158     0.961  47135.78  3117.0     0.960    204.6   \n",
       "\n",
       "   PDLNA  INDQUALNA   REG          NOM  \n",
       "0      0       0.00  75.0        ARSAC  \n",
       "1      0       0.00  75.0      AVENSAN  \n",
       "2      0       0.00  75.0      BASSENS  \n",
       "3      0       0.00  75.0       BEGLES  \n",
       "4      1       0.97  75.0  BLANQUEFORT  \n",
       "\n",
       "[5 rows x 22 columns]"
      ]
     },
     "execution_count": 46,
     "metadata": {},
     "output_type": "execute_result"
    }
   ],
   "source": [
    "df_gaz_merge.head()"
   ]
  },
  {
   "cell_type": "code",
   "execution_count": 47,
   "metadata": {},
   "outputs": [
    {
     "data": {
      "text/plain": [
       "OPERATEUR    0\n",
       "ANNEE        0\n",
       "FILIERE      0\n",
       "TYPE         0\n",
       "CODE         0\n",
       "CONSOA       0\n",
       "PDLA         0\n",
       "INDQUALA     0\n",
       "CONSOI       0\n",
       "PDLI         0\n",
       "INDQUALI     0\n",
       "CONSOT       0\n",
       "PDLT         0\n",
       "INDQUALT     0\n",
       "CONSOR       0\n",
       "PDLR         0\n",
       "INDQUALR     0\n",
       "CONSONA      0\n",
       "PDLNA        0\n",
       "INDQUALNA    0\n",
       "REG          4\n",
       "NOM          4\n",
       "dtype: int64"
      ]
     },
     "execution_count": 47,
     "metadata": {},
     "output_type": "execute_result"
    }
   ],
   "source": [
    "df_gaz_merge.isna().sum()"
   ]
  },
  {
   "cell_type": "markdown",
   "metadata": {},
   "source": [
    "As we don't know the name for 4 communes, we will fill the value with 'NC' and 0"
   ]
  },
  {
   "cell_type": "code",
   "execution_count": 48,
   "metadata": {},
   "outputs": [],
   "source": [
    "# Fill null value with 'NC' and 0\n",
    "df_gaz_merge['NOM'].fillna('NC', inplace=True)\n",
    "df_gaz_merge['REG'].fillna('NC', inplace=True)"
   ]
  },
  {
   "cell_type": "markdown",
   "metadata": {},
   "source": [
    "### Add departement code"
   ]
  },
  {
   "cell_type": "code",
   "execution_count": 49,
   "metadata": {},
   "outputs": [],
   "source": [
    "df_gaz_merge['dep_code']=df_gaz_merge['CODE'].apply(lambda x: x[:2])"
   ]
  },
  {
   "cell_type": "code",
   "execution_count": 50,
   "metadata": {},
   "outputs": [
    {
     "data": {
      "text/html": [
       "<div>\n",
       "<style scoped>\n",
       "    .dataframe tbody tr th:only-of-type {\n",
       "        vertical-align: middle;\n",
       "    }\n",
       "\n",
       "    .dataframe tbody tr th {\n",
       "        vertical-align: top;\n",
       "    }\n",
       "\n",
       "    .dataframe thead th {\n",
       "        text-align: right;\n",
       "    }\n",
       "</style>\n",
       "<table border=\"1\" class=\"dataframe\">\n",
       "  <thead>\n",
       "    <tr style=\"text-align: right;\">\n",
       "      <th></th>\n",
       "      <th>OPERATEUR</th>\n",
       "      <th>ANNEE</th>\n",
       "      <th>FILIERE</th>\n",
       "      <th>TYPE</th>\n",
       "      <th>CODE</th>\n",
       "      <th>CONSOA</th>\n",
       "      <th>PDLA</th>\n",
       "      <th>INDQUALA</th>\n",
       "      <th>CONSOI</th>\n",
       "      <th>PDLI</th>\n",
       "      <th>...</th>\n",
       "      <th>INDQUALT</th>\n",
       "      <th>CONSOR</th>\n",
       "      <th>PDLR</th>\n",
       "      <th>INDQUALR</th>\n",
       "      <th>CONSONA</th>\n",
       "      <th>PDLNA</th>\n",
       "      <th>INDQUALNA</th>\n",
       "      <th>REG</th>\n",
       "      <th>NOM</th>\n",
       "      <th>dep_code</th>\n",
       "    </tr>\n",
       "  </thead>\n",
       "  <tbody>\n",
       "    <tr>\n",
       "      <th>0</th>\n",
       "      <td>REGAZ Bordeaux</td>\n",
       "      <td>2010</td>\n",
       "      <td>G</td>\n",
       "      <td>Commune</td>\n",
       "      <td>33012</td>\n",
       "      <td>1100.12</td>\n",
       "      <td>5</td>\n",
       "      <td>0.962</td>\n",
       "      <td>540.61</td>\n",
       "      <td>5</td>\n",
       "      <td>...</td>\n",
       "      <td>0.962</td>\n",
       "      <td>10825.67</td>\n",
       "      <td>586.0</td>\n",
       "      <td>0.960</td>\n",
       "      <td>0.0</td>\n",
       "      <td>0</td>\n",
       "      <td>0.00</td>\n",
       "      <td>75</td>\n",
       "      <td>ARSAC</td>\n",
       "      <td>33</td>\n",
       "    </tr>\n",
       "    <tr>\n",
       "      <th>1</th>\n",
       "      <td>REGAZ Bordeaux</td>\n",
       "      <td>2010</td>\n",
       "      <td>G</td>\n",
       "      <td>Commune</td>\n",
       "      <td>33022</td>\n",
       "      <td>0.00</td>\n",
       "      <td>0</td>\n",
       "      <td>0.000</td>\n",
       "      <td>9.90</td>\n",
       "      <td>1</td>\n",
       "      <td>...</td>\n",
       "      <td>0.961</td>\n",
       "      <td>6163.68</td>\n",
       "      <td>320.0</td>\n",
       "      <td>0.959</td>\n",
       "      <td>0.0</td>\n",
       "      <td>0</td>\n",
       "      <td>0.00</td>\n",
       "      <td>75</td>\n",
       "      <td>AVENSAN</td>\n",
       "      <td>33</td>\n",
       "    </tr>\n",
       "    <tr>\n",
       "      <th>2</th>\n",
       "      <td>REGAZ Bordeaux</td>\n",
       "      <td>2010</td>\n",
       "      <td>G</td>\n",
       "      <td>Commune</td>\n",
       "      <td>33032</td>\n",
       "      <td>0.00</td>\n",
       "      <td>0</td>\n",
       "      <td>0.000</td>\n",
       "      <td>26565.24</td>\n",
       "      <td>23</td>\n",
       "      <td>...</td>\n",
       "      <td>0.962</td>\n",
       "      <td>23888.00</td>\n",
       "      <td>1664.0</td>\n",
       "      <td>0.960</td>\n",
       "      <td>0.0</td>\n",
       "      <td>0</td>\n",
       "      <td>0.00</td>\n",
       "      <td>75</td>\n",
       "      <td>BASSENS</td>\n",
       "      <td>33</td>\n",
       "    </tr>\n",
       "    <tr>\n",
       "      <th>3</th>\n",
       "      <td>REGAZ Bordeaux</td>\n",
       "      <td>2010</td>\n",
       "      <td>G</td>\n",
       "      <td>Commune</td>\n",
       "      <td>33039</td>\n",
       "      <td>228.37</td>\n",
       "      <td>2</td>\n",
       "      <td>0.960</td>\n",
       "      <td>14683.27</td>\n",
       "      <td>39</td>\n",
       "      <td>...</td>\n",
       "      <td>0.960</td>\n",
       "      <td>10962.37</td>\n",
       "      <td>8393.0</td>\n",
       "      <td>0.959</td>\n",
       "      <td>0.0</td>\n",
       "      <td>0</td>\n",
       "      <td>0.00</td>\n",
       "      <td>75</td>\n",
       "      <td>BEGLES</td>\n",
       "      <td>33</td>\n",
       "    </tr>\n",
       "    <tr>\n",
       "      <th>4</th>\n",
       "      <td>REGAZ Bordeaux</td>\n",
       "      <td>2010</td>\n",
       "      <td>G</td>\n",
       "      <td>Commune</td>\n",
       "      <td>33056</td>\n",
       "      <td>60.67</td>\n",
       "      <td>1</td>\n",
       "      <td>0.960</td>\n",
       "      <td>27600.85</td>\n",
       "      <td>47</td>\n",
       "      <td>...</td>\n",
       "      <td>0.961</td>\n",
       "      <td>47135.78</td>\n",
       "      <td>3117.0</td>\n",
       "      <td>0.960</td>\n",
       "      <td>204.6</td>\n",
       "      <td>1</td>\n",
       "      <td>0.97</td>\n",
       "      <td>75</td>\n",
       "      <td>BLANQUEFORT</td>\n",
       "      <td>33</td>\n",
       "    </tr>\n",
       "  </tbody>\n",
       "</table>\n",
       "<p>5 rows × 23 columns</p>\n",
       "</div>"
      ],
      "text/plain": [
       "        OPERATEUR  ANNEE FILIERE     TYPE   CODE   CONSOA  PDLA  INDQUALA  \\\n",
       "0  REGAZ Bordeaux   2010       G  Commune  33012  1100.12     5     0.962   \n",
       "1  REGAZ Bordeaux   2010       G  Commune  33022     0.00     0     0.000   \n",
       "2  REGAZ Bordeaux   2010       G  Commune  33032     0.00     0     0.000   \n",
       "3  REGAZ Bordeaux   2010       G  Commune  33039   228.37     2     0.960   \n",
       "4  REGAZ Bordeaux   2010       G  Commune  33056    60.67     1     0.960   \n",
       "\n",
       "     CONSOI  PDLI  ...  INDQUALT    CONSOR    PDLR  INDQUALR  CONSONA  PDLNA  \\\n",
       "0    540.61     5  ...     0.962  10825.67   586.0     0.960      0.0      0   \n",
       "1      9.90     1  ...     0.961   6163.68   320.0     0.959      0.0      0   \n",
       "2  26565.24    23  ...     0.962  23888.00  1664.0     0.960      0.0      0   \n",
       "3  14683.27    39  ...     0.960  10962.37  8393.0     0.959      0.0      0   \n",
       "4  27600.85    47  ...     0.961  47135.78  3117.0     0.960    204.6      1   \n",
       "\n",
       "   INDQUALNA  REG          NOM  dep_code  \n",
       "0       0.00   75        ARSAC        33  \n",
       "1       0.00   75      AVENSAN        33  \n",
       "2       0.00   75      BASSENS        33  \n",
       "3       0.00   75       BEGLES        33  \n",
       "4       0.97   75  BLANQUEFORT        33  \n",
       "\n",
       "[5 rows x 23 columns]"
      ]
     },
     "execution_count": 50,
     "metadata": {},
     "output_type": "execute_result"
    }
   ],
   "source": [
    "df_gaz_merge.head()"
   ]
  },
  {
   "cell_type": "markdown",
   "metadata": {},
   "source": [
    "### Add departement name"
   ]
  },
  {
   "cell_type": "code",
   "execution_count": 51,
   "metadata": {},
   "outputs": [],
   "source": [
    "# Import the dataframe with the name corresponding to the code for each departement\n",
    "df_dep=pd.read_csv('/Users/Jeff/Ironhack/248_Repo/Projects/Final project/Area/df_dep.csv', sep='/')"
   ]
  },
  {
   "cell_type": "code",
   "execution_count": 52,
   "metadata": {},
   "outputs": [
    {
     "data": {
      "text/html": [
       "<div>\n",
       "<style scoped>\n",
       "    .dataframe tbody tr th:only-of-type {\n",
       "        vertical-align: middle;\n",
       "    }\n",
       "\n",
       "    .dataframe tbody tr th {\n",
       "        vertical-align: top;\n",
       "    }\n",
       "\n",
       "    .dataframe thead th {\n",
       "        text-align: right;\n",
       "    }\n",
       "</style>\n",
       "<table border=\"1\" class=\"dataframe\">\n",
       "  <thead>\n",
       "    <tr style=\"text-align: right;\">\n",
       "      <th></th>\n",
       "      <th>dep_code</th>\n",
       "      <th>dep_name</th>\n",
       "    </tr>\n",
       "  </thead>\n",
       "  <tbody>\n",
       "    <tr>\n",
       "      <th>0</th>\n",
       "      <td>02</td>\n",
       "      <td>AISNE</td>\n",
       "    </tr>\n",
       "    <tr>\n",
       "      <th>1</th>\n",
       "      <td>03</td>\n",
       "      <td>ALLIER</td>\n",
       "    </tr>\n",
       "    <tr>\n",
       "      <th>2</th>\n",
       "      <td>05</td>\n",
       "      <td>HAUTES-ALPES</td>\n",
       "    </tr>\n",
       "    <tr>\n",
       "      <th>3</th>\n",
       "      <td>04</td>\n",
       "      <td>ALPES-DE-HAUTE-PROVENCE</td>\n",
       "    </tr>\n",
       "    <tr>\n",
       "      <th>4</th>\n",
       "      <td>06</td>\n",
       "      <td>ALPES-MARITIMES</td>\n",
       "    </tr>\n",
       "  </tbody>\n",
       "</table>\n",
       "</div>"
      ],
      "text/plain": [
       "  dep_code                 dep_name\n",
       "0       02                    AISNE\n",
       "1       03                   ALLIER\n",
       "2       05             HAUTES-ALPES\n",
       "3       04  ALPES-DE-HAUTE-PROVENCE\n",
       "4       06          ALPES-MARITIMES"
      ]
     },
     "execution_count": 52,
     "metadata": {},
     "output_type": "execute_result"
    }
   ],
   "source": [
    "df_dep.head()"
   ]
  },
  {
   "cell_type": "code",
   "execution_count": 53,
   "metadata": {},
   "outputs": [],
   "source": [
    "df_gaz_merge1 = pd.merge(df_gaz_merge, df_dep, how='left', on=['dep_code'])"
   ]
  },
  {
   "cell_type": "code",
   "execution_count": 54,
   "metadata": {},
   "outputs": [
    {
     "data": {
      "text/plain": [
       "OPERATEUR    0\n",
       "ANNEE        0\n",
       "FILIERE      0\n",
       "TYPE         0\n",
       "CODE         0\n",
       "CONSOA       0\n",
       "PDLA         0\n",
       "INDQUALA     0\n",
       "CONSOI       0\n",
       "PDLI         0\n",
       "INDQUALI     0\n",
       "CONSOT       0\n",
       "PDLT         0\n",
       "INDQUALT     0\n",
       "CONSOR       0\n",
       "PDLR         0\n",
       "INDQUALR     0\n",
       "CONSONA      0\n",
       "PDLNA        0\n",
       "INDQUALNA    0\n",
       "REG          0\n",
       "NOM          0\n",
       "dep_code     0\n",
       "dep_name     0\n",
       "dtype: int64"
      ]
     },
     "execution_count": 54,
     "metadata": {},
     "output_type": "execute_result"
    }
   ],
   "source": [
    "df_gaz_merge1.isna().sum()"
   ]
  },
  {
   "cell_type": "code",
   "execution_count": 55,
   "metadata": {},
   "outputs": [
    {
     "data": {
      "text/html": [
       "<div>\n",
       "<style scoped>\n",
       "    .dataframe tbody tr th:only-of-type {\n",
       "        vertical-align: middle;\n",
       "    }\n",
       "\n",
       "    .dataframe tbody tr th {\n",
       "        vertical-align: top;\n",
       "    }\n",
       "\n",
       "    .dataframe thead th {\n",
       "        text-align: right;\n",
       "    }\n",
       "</style>\n",
       "<table border=\"1\" class=\"dataframe\">\n",
       "  <thead>\n",
       "    <tr style=\"text-align: right;\">\n",
       "      <th></th>\n",
       "      <th>OPERATEUR</th>\n",
       "      <th>ANNEE</th>\n",
       "      <th>FILIERE</th>\n",
       "      <th>TYPE</th>\n",
       "      <th>CODE</th>\n",
       "      <th>CONSOA</th>\n",
       "      <th>PDLA</th>\n",
       "      <th>INDQUALA</th>\n",
       "      <th>CONSOI</th>\n",
       "      <th>PDLI</th>\n",
       "      <th>...</th>\n",
       "      <th>CONSOR</th>\n",
       "      <th>PDLR</th>\n",
       "      <th>INDQUALR</th>\n",
       "      <th>CONSONA</th>\n",
       "      <th>PDLNA</th>\n",
       "      <th>INDQUALNA</th>\n",
       "      <th>REG</th>\n",
       "      <th>NOM</th>\n",
       "      <th>dep_code</th>\n",
       "      <th>dep_name</th>\n",
       "    </tr>\n",
       "  </thead>\n",
       "  <tbody>\n",
       "    <tr>\n",
       "      <th>0</th>\n",
       "      <td>REGAZ Bordeaux</td>\n",
       "      <td>2010</td>\n",
       "      <td>G</td>\n",
       "      <td>Commune</td>\n",
       "      <td>33012</td>\n",
       "      <td>1100.12</td>\n",
       "      <td>5</td>\n",
       "      <td>0.962</td>\n",
       "      <td>540.61</td>\n",
       "      <td>5</td>\n",
       "      <td>...</td>\n",
       "      <td>10825.67</td>\n",
       "      <td>586.0</td>\n",
       "      <td>0.960</td>\n",
       "      <td>0.00</td>\n",
       "      <td>0</td>\n",
       "      <td>0.00</td>\n",
       "      <td>75</td>\n",
       "      <td>ARSAC</td>\n",
       "      <td>33</td>\n",
       "      <td>GIRONDE</td>\n",
       "    </tr>\n",
       "    <tr>\n",
       "      <th>1</th>\n",
       "      <td>REGAZ Bordeaux</td>\n",
       "      <td>2010</td>\n",
       "      <td>G</td>\n",
       "      <td>Commune</td>\n",
       "      <td>33022</td>\n",
       "      <td>0.00</td>\n",
       "      <td>0</td>\n",
       "      <td>0.000</td>\n",
       "      <td>9.90</td>\n",
       "      <td>1</td>\n",
       "      <td>...</td>\n",
       "      <td>6163.68</td>\n",
       "      <td>320.0</td>\n",
       "      <td>0.959</td>\n",
       "      <td>0.00</td>\n",
       "      <td>0</td>\n",
       "      <td>0.00</td>\n",
       "      <td>75</td>\n",
       "      <td>AVENSAN</td>\n",
       "      <td>33</td>\n",
       "      <td>GIRONDE</td>\n",
       "    </tr>\n",
       "    <tr>\n",
       "      <th>2</th>\n",
       "      <td>REGAZ Bordeaux</td>\n",
       "      <td>2010</td>\n",
       "      <td>G</td>\n",
       "      <td>Commune</td>\n",
       "      <td>33032</td>\n",
       "      <td>0.00</td>\n",
       "      <td>0</td>\n",
       "      <td>0.000</td>\n",
       "      <td>26565.24</td>\n",
       "      <td>23</td>\n",
       "      <td>...</td>\n",
       "      <td>23888.00</td>\n",
       "      <td>1664.0</td>\n",
       "      <td>0.960</td>\n",
       "      <td>0.00</td>\n",
       "      <td>0</td>\n",
       "      <td>0.00</td>\n",
       "      <td>75</td>\n",
       "      <td>BASSENS</td>\n",
       "      <td>33</td>\n",
       "      <td>GIRONDE</td>\n",
       "    </tr>\n",
       "    <tr>\n",
       "      <th>3</th>\n",
       "      <td>REGAZ Bordeaux</td>\n",
       "      <td>2010</td>\n",
       "      <td>G</td>\n",
       "      <td>Commune</td>\n",
       "      <td>33039</td>\n",
       "      <td>228.37</td>\n",
       "      <td>2</td>\n",
       "      <td>0.960</td>\n",
       "      <td>14683.27</td>\n",
       "      <td>39</td>\n",
       "      <td>...</td>\n",
       "      <td>10962.37</td>\n",
       "      <td>8393.0</td>\n",
       "      <td>0.959</td>\n",
       "      <td>0.00</td>\n",
       "      <td>0</td>\n",
       "      <td>0.00</td>\n",
       "      <td>75</td>\n",
       "      <td>BEGLES</td>\n",
       "      <td>33</td>\n",
       "      <td>GIRONDE</td>\n",
       "    </tr>\n",
       "    <tr>\n",
       "      <th>4</th>\n",
       "      <td>REGAZ Bordeaux</td>\n",
       "      <td>2010</td>\n",
       "      <td>G</td>\n",
       "      <td>Commune</td>\n",
       "      <td>33056</td>\n",
       "      <td>60.67</td>\n",
       "      <td>1</td>\n",
       "      <td>0.960</td>\n",
       "      <td>27600.85</td>\n",
       "      <td>47</td>\n",
       "      <td>...</td>\n",
       "      <td>47135.78</td>\n",
       "      <td>3117.0</td>\n",
       "      <td>0.960</td>\n",
       "      <td>204.60</td>\n",
       "      <td>1</td>\n",
       "      <td>0.97</td>\n",
       "      <td>75</td>\n",
       "      <td>BLANQUEFORT</td>\n",
       "      <td>33</td>\n",
       "      <td>GIRONDE</td>\n",
       "    </tr>\n",
       "    <tr>\n",
       "      <th>...</th>\n",
       "      <td>...</td>\n",
       "      <td>...</td>\n",
       "      <td>...</td>\n",
       "      <td>...</td>\n",
       "      <td>...</td>\n",
       "      <td>...</td>\n",
       "      <td>...</td>\n",
       "      <td>...</td>\n",
       "      <td>...</td>\n",
       "      <td>...</td>\n",
       "      <td>...</td>\n",
       "      <td>...</td>\n",
       "      <td>...</td>\n",
       "      <td>...</td>\n",
       "      <td>...</td>\n",
       "      <td>...</td>\n",
       "      <td>...</td>\n",
       "      <td>...</td>\n",
       "      <td>...</td>\n",
       "      <td>...</td>\n",
       "      <td>...</td>\n",
       "    </tr>\n",
       "    <tr>\n",
       "      <th>1839</th>\n",
       "      <td>SOREGIES</td>\n",
       "      <td>2017</td>\n",
       "      <td>G</td>\n",
       "      <td>Commune</td>\n",
       "      <td>86293</td>\n",
       "      <td>0.00</td>\n",
       "      <td>0</td>\n",
       "      <td>0.000</td>\n",
       "      <td>0.00</td>\n",
       "      <td>0</td>\n",
       "      <td>...</td>\n",
       "      <td>3693.26</td>\n",
       "      <td>229.0</td>\n",
       "      <td>1.000</td>\n",
       "      <td>7146.91</td>\n",
       "      <td>6</td>\n",
       "      <td>1.00</td>\n",
       "      <td>75</td>\n",
       "      <td>VIVONNE</td>\n",
       "      <td>86</td>\n",
       "      <td>VIENNE</td>\n",
       "    </tr>\n",
       "    <tr>\n",
       "      <th>1840</th>\n",
       "      <td>SOREGIES</td>\n",
       "      <td>2017</td>\n",
       "      <td>G</td>\n",
       "      <td>Commune</td>\n",
       "      <td>86294</td>\n",
       "      <td>0.00</td>\n",
       "      <td>0</td>\n",
       "      <td>0.000</td>\n",
       "      <td>0.00</td>\n",
       "      <td>0</td>\n",
       "      <td>...</td>\n",
       "      <td>6160.94</td>\n",
       "      <td>392.0</td>\n",
       "      <td>1.000</td>\n",
       "      <td>445.00</td>\n",
       "      <td>1</td>\n",
       "      <td>1.00</td>\n",
       "      <td>75</td>\n",
       "      <td>VOUILLE</td>\n",
       "      <td>86</td>\n",
       "      <td>VIENNE</td>\n",
       "    </tr>\n",
       "    <tr>\n",
       "      <th>1841</th>\n",
       "      <td>SOREGIES</td>\n",
       "      <td>2017</td>\n",
       "      <td>G</td>\n",
       "      <td>Commune</td>\n",
       "      <td>86297</td>\n",
       "      <td>0.00</td>\n",
       "      <td>0</td>\n",
       "      <td>0.000</td>\n",
       "      <td>0.00</td>\n",
       "      <td>0</td>\n",
       "      <td>...</td>\n",
       "      <td>11925.90</td>\n",
       "      <td>905.0</td>\n",
       "      <td>1.000</td>\n",
       "      <td>859.35</td>\n",
       "      <td>1</td>\n",
       "      <td>1.00</td>\n",
       "      <td>75</td>\n",
       "      <td>VOUNEUIL SOUS BIARD</td>\n",
       "      <td>86</td>\n",
       "      <td>VIENNE</td>\n",
       "    </tr>\n",
       "    <tr>\n",
       "      <th>1842</th>\n",
       "      <td>SOREGIES</td>\n",
       "      <td>2017</td>\n",
       "      <td>G</td>\n",
       "      <td>Commune</td>\n",
       "      <td>86299</td>\n",
       "      <td>0.00</td>\n",
       "      <td>0</td>\n",
       "      <td>0.000</td>\n",
       "      <td>0.00</td>\n",
       "      <td>0</td>\n",
       "      <td>...</td>\n",
       "      <td>151.31</td>\n",
       "      <td>14.0</td>\n",
       "      <td>1.000</td>\n",
       "      <td>0.00</td>\n",
       "      <td>0</td>\n",
       "      <td>1.00</td>\n",
       "      <td>75</td>\n",
       "      <td>VOUZAILLES</td>\n",
       "      <td>86</td>\n",
       "      <td>VIENNE</td>\n",
       "    </tr>\n",
       "    <tr>\n",
       "      <th>1843</th>\n",
       "      <td>SOREGIES</td>\n",
       "      <td>2017</td>\n",
       "      <td>G</td>\n",
       "      <td>Commune</td>\n",
       "      <td>86300</td>\n",
       "      <td>0.00</td>\n",
       "      <td>0</td>\n",
       "      <td>0.000</td>\n",
       "      <td>0.00</td>\n",
       "      <td>0</td>\n",
       "      <td>...</td>\n",
       "      <td>111.28</td>\n",
       "      <td>15.0</td>\n",
       "      <td>1.000</td>\n",
       "      <td>0.00</td>\n",
       "      <td>0</td>\n",
       "      <td>1.00</td>\n",
       "      <td>75</td>\n",
       "      <td>YVERSAY</td>\n",
       "      <td>86</td>\n",
       "      <td>VIENNE</td>\n",
       "    </tr>\n",
       "  </tbody>\n",
       "</table>\n",
       "<p>1844 rows × 24 columns</p>\n",
       "</div>"
      ],
      "text/plain": [
       "           OPERATEUR  ANNEE FILIERE     TYPE   CODE   CONSOA  PDLA  INDQUALA  \\\n",
       "0     REGAZ Bordeaux   2010       G  Commune  33012  1100.12     5     0.962   \n",
       "1     REGAZ Bordeaux   2010       G  Commune  33022     0.00     0     0.000   \n",
       "2     REGAZ Bordeaux   2010       G  Commune  33032     0.00     0     0.000   \n",
       "3     REGAZ Bordeaux   2010       G  Commune  33039   228.37     2     0.960   \n",
       "4     REGAZ Bordeaux   2010       G  Commune  33056    60.67     1     0.960   \n",
       "...              ...    ...     ...      ...    ...      ...   ...       ...   \n",
       "1839        SOREGIES   2017       G  Commune  86293     0.00     0     0.000   \n",
       "1840        SOREGIES   2017       G  Commune  86294     0.00     0     0.000   \n",
       "1841        SOREGIES   2017       G  Commune  86297     0.00     0     0.000   \n",
       "1842        SOREGIES   2017       G  Commune  86299     0.00     0     0.000   \n",
       "1843        SOREGIES   2017       G  Commune  86300     0.00     0     0.000   \n",
       "\n",
       "        CONSOI  PDLI  ...    CONSOR    PDLR  INDQUALR  CONSONA  PDLNA  \\\n",
       "0       540.61     5  ...  10825.67   586.0     0.960     0.00      0   \n",
       "1         9.90     1  ...   6163.68   320.0     0.959     0.00      0   \n",
       "2     26565.24    23  ...  23888.00  1664.0     0.960     0.00      0   \n",
       "3     14683.27    39  ...  10962.37  8393.0     0.959     0.00      0   \n",
       "4     27600.85    47  ...  47135.78  3117.0     0.960   204.60      1   \n",
       "...        ...   ...  ...       ...     ...       ...      ...    ...   \n",
       "1839      0.00     0  ...   3693.26   229.0     1.000  7146.91      6   \n",
       "1840      0.00     0  ...   6160.94   392.0     1.000   445.00      1   \n",
       "1841      0.00     0  ...  11925.90   905.0     1.000   859.35      1   \n",
       "1842      0.00     0  ...    151.31    14.0     1.000     0.00      0   \n",
       "1843      0.00     0  ...    111.28    15.0     1.000     0.00      0   \n",
       "\n",
       "      INDQUALNA  REG                  NOM  dep_code  dep_name  \n",
       "0          0.00   75                ARSAC        33   GIRONDE  \n",
       "1          0.00   75              AVENSAN        33   GIRONDE  \n",
       "2          0.00   75              BASSENS        33   GIRONDE  \n",
       "3          0.00   75               BEGLES        33   GIRONDE  \n",
       "4          0.97   75          BLANQUEFORT        33   GIRONDE  \n",
       "...         ...  ...                  ...       ...       ...  \n",
       "1839       1.00   75              VIVONNE        86    VIENNE  \n",
       "1840       1.00   75              VOUILLE        86    VIENNE  \n",
       "1841       1.00   75  VOUNEUIL SOUS BIARD        86    VIENNE  \n",
       "1842       1.00   75           VOUZAILLES        86    VIENNE  \n",
       "1843       1.00   75              YVERSAY        86    VIENNE  \n",
       "\n",
       "[1844 rows x 24 columns]"
      ]
     },
     "execution_count": 55,
     "metadata": {},
     "output_type": "execute_result"
    }
   ],
   "source": [
    "df_gaz_merge1"
   ]
  },
  {
   "cell_type": "markdown",
   "metadata": {},
   "source": [
    "## Column manipulation"
   ]
  },
  {
   "cell_type": "markdown",
   "metadata": {},
   "source": [
    "In order to manipulate our dataframe later, we will rename the columns"
   ]
  },
  {
   "cell_type": "code",
   "execution_count": 56,
   "metadata": {},
   "outputs": [
    {
     "data": {
      "text/plain": [
       "Index(['OPERATEUR', 'ANNEE', 'FILIERE', 'TYPE', 'CODE', 'CONSOA', 'PDLA',\n",
       "       'INDQUALA', 'CONSOI', 'PDLI', 'INDQUALI', 'CONSOT', 'PDLT', 'INDQUALT',\n",
       "       'CONSOR', 'PDLR', 'INDQUALR', 'CONSONA', 'PDLNA', 'INDQUALNA', 'REG',\n",
       "       'NOM', 'dep_code', 'dep_name'],\n",
       "      dtype='object')"
      ]
     },
     "execution_count": 56,
     "metadata": {},
     "output_type": "execute_result"
    }
   ],
   "source": [
    "df_gaz_merge1.columns"
   ]
  },
  {
   "cell_type": "code",
   "execution_count": 57,
   "metadata": {},
   "outputs": [],
   "source": [
    "df_gaz_merge1.columns=['operator','year','energy','area','com_code','consoa','pdla','indquala','consoi','pdli','indquali','consot','pdlt','indqualt','consor','pdlr','indqualr','consona','pdlna','indqualna','reg_code','com_name','dep_code','dep_name']"
   ]
  },
  {
   "cell_type": "code",
   "execution_count": 58,
   "metadata": {},
   "outputs": [
    {
     "data": {
      "text/html": [
       "<div>\n",
       "<style scoped>\n",
       "    .dataframe tbody tr th:only-of-type {\n",
       "        vertical-align: middle;\n",
       "    }\n",
       "\n",
       "    .dataframe tbody tr th {\n",
       "        vertical-align: top;\n",
       "    }\n",
       "\n",
       "    .dataframe thead th {\n",
       "        text-align: right;\n",
       "    }\n",
       "</style>\n",
       "<table border=\"1\" class=\"dataframe\">\n",
       "  <thead>\n",
       "    <tr style=\"text-align: right;\">\n",
       "      <th></th>\n",
       "      <th>operator</th>\n",
       "      <th>year</th>\n",
       "      <th>energy</th>\n",
       "      <th>area</th>\n",
       "      <th>com_code</th>\n",
       "      <th>consoa</th>\n",
       "      <th>pdla</th>\n",
       "      <th>indquala</th>\n",
       "      <th>consoi</th>\n",
       "      <th>pdli</th>\n",
       "      <th>...</th>\n",
       "      <th>consor</th>\n",
       "      <th>pdlr</th>\n",
       "      <th>indqualr</th>\n",
       "      <th>consona</th>\n",
       "      <th>pdlna</th>\n",
       "      <th>indqualna</th>\n",
       "      <th>reg_code</th>\n",
       "      <th>com_name</th>\n",
       "      <th>dep_code</th>\n",
       "      <th>dep_name</th>\n",
       "    </tr>\n",
       "  </thead>\n",
       "  <tbody>\n",
       "    <tr>\n",
       "      <th>0</th>\n",
       "      <td>REGAZ Bordeaux</td>\n",
       "      <td>2010</td>\n",
       "      <td>G</td>\n",
       "      <td>Commune</td>\n",
       "      <td>33012</td>\n",
       "      <td>1100.12</td>\n",
       "      <td>5</td>\n",
       "      <td>0.962</td>\n",
       "      <td>540.61</td>\n",
       "      <td>5</td>\n",
       "      <td>...</td>\n",
       "      <td>10825.67</td>\n",
       "      <td>586.0</td>\n",
       "      <td>0.960</td>\n",
       "      <td>0.0</td>\n",
       "      <td>0</td>\n",
       "      <td>0.00</td>\n",
       "      <td>75</td>\n",
       "      <td>ARSAC</td>\n",
       "      <td>33</td>\n",
       "      <td>GIRONDE</td>\n",
       "    </tr>\n",
       "    <tr>\n",
       "      <th>1</th>\n",
       "      <td>REGAZ Bordeaux</td>\n",
       "      <td>2010</td>\n",
       "      <td>G</td>\n",
       "      <td>Commune</td>\n",
       "      <td>33022</td>\n",
       "      <td>0.00</td>\n",
       "      <td>0</td>\n",
       "      <td>0.000</td>\n",
       "      <td>9.90</td>\n",
       "      <td>1</td>\n",
       "      <td>...</td>\n",
       "      <td>6163.68</td>\n",
       "      <td>320.0</td>\n",
       "      <td>0.959</td>\n",
       "      <td>0.0</td>\n",
       "      <td>0</td>\n",
       "      <td>0.00</td>\n",
       "      <td>75</td>\n",
       "      <td>AVENSAN</td>\n",
       "      <td>33</td>\n",
       "      <td>GIRONDE</td>\n",
       "    </tr>\n",
       "    <tr>\n",
       "      <th>2</th>\n",
       "      <td>REGAZ Bordeaux</td>\n",
       "      <td>2010</td>\n",
       "      <td>G</td>\n",
       "      <td>Commune</td>\n",
       "      <td>33032</td>\n",
       "      <td>0.00</td>\n",
       "      <td>0</td>\n",
       "      <td>0.000</td>\n",
       "      <td>26565.24</td>\n",
       "      <td>23</td>\n",
       "      <td>...</td>\n",
       "      <td>23888.00</td>\n",
       "      <td>1664.0</td>\n",
       "      <td>0.960</td>\n",
       "      <td>0.0</td>\n",
       "      <td>0</td>\n",
       "      <td>0.00</td>\n",
       "      <td>75</td>\n",
       "      <td>BASSENS</td>\n",
       "      <td>33</td>\n",
       "      <td>GIRONDE</td>\n",
       "    </tr>\n",
       "    <tr>\n",
       "      <th>3</th>\n",
       "      <td>REGAZ Bordeaux</td>\n",
       "      <td>2010</td>\n",
       "      <td>G</td>\n",
       "      <td>Commune</td>\n",
       "      <td>33039</td>\n",
       "      <td>228.37</td>\n",
       "      <td>2</td>\n",
       "      <td>0.960</td>\n",
       "      <td>14683.27</td>\n",
       "      <td>39</td>\n",
       "      <td>...</td>\n",
       "      <td>10962.37</td>\n",
       "      <td>8393.0</td>\n",
       "      <td>0.959</td>\n",
       "      <td>0.0</td>\n",
       "      <td>0</td>\n",
       "      <td>0.00</td>\n",
       "      <td>75</td>\n",
       "      <td>BEGLES</td>\n",
       "      <td>33</td>\n",
       "      <td>GIRONDE</td>\n",
       "    </tr>\n",
       "    <tr>\n",
       "      <th>4</th>\n",
       "      <td>REGAZ Bordeaux</td>\n",
       "      <td>2010</td>\n",
       "      <td>G</td>\n",
       "      <td>Commune</td>\n",
       "      <td>33056</td>\n",
       "      <td>60.67</td>\n",
       "      <td>1</td>\n",
       "      <td>0.960</td>\n",
       "      <td>27600.85</td>\n",
       "      <td>47</td>\n",
       "      <td>...</td>\n",
       "      <td>47135.78</td>\n",
       "      <td>3117.0</td>\n",
       "      <td>0.960</td>\n",
       "      <td>204.6</td>\n",
       "      <td>1</td>\n",
       "      <td>0.97</td>\n",
       "      <td>75</td>\n",
       "      <td>BLANQUEFORT</td>\n",
       "      <td>33</td>\n",
       "      <td>GIRONDE</td>\n",
       "    </tr>\n",
       "  </tbody>\n",
       "</table>\n",
       "<p>5 rows × 24 columns</p>\n",
       "</div>"
      ],
      "text/plain": [
       "         operator  year energy     area com_code   consoa  pdla  indquala  \\\n",
       "0  REGAZ Bordeaux  2010      G  Commune    33012  1100.12     5     0.962   \n",
       "1  REGAZ Bordeaux  2010      G  Commune    33022     0.00     0     0.000   \n",
       "2  REGAZ Bordeaux  2010      G  Commune    33032     0.00     0     0.000   \n",
       "3  REGAZ Bordeaux  2010      G  Commune    33039   228.37     2     0.960   \n",
       "4  REGAZ Bordeaux  2010      G  Commune    33056    60.67     1     0.960   \n",
       "\n",
       "     consoi  pdli  ...    consor    pdlr  indqualr  consona  pdlna  indqualna  \\\n",
       "0    540.61     5  ...  10825.67   586.0     0.960      0.0      0       0.00   \n",
       "1      9.90     1  ...   6163.68   320.0     0.959      0.0      0       0.00   \n",
       "2  26565.24    23  ...  23888.00  1664.0     0.960      0.0      0       0.00   \n",
       "3  14683.27    39  ...  10962.37  8393.0     0.959      0.0      0       0.00   \n",
       "4  27600.85    47  ...  47135.78  3117.0     0.960    204.6      1       0.97   \n",
       "\n",
       "   reg_code     com_name  dep_code  dep_name  \n",
       "0        75        ARSAC        33   GIRONDE  \n",
       "1        75      AVENSAN        33   GIRONDE  \n",
       "2        75      BASSENS        33   GIRONDE  \n",
       "3        75       BEGLES        33   GIRONDE  \n",
       "4        75  BLANQUEFORT        33   GIRONDE  \n",
       "\n",
       "[5 rows x 24 columns]"
      ]
     },
     "execution_count": 58,
     "metadata": {},
     "output_type": "execute_result"
    }
   ],
   "source": [
    "df_gaz_merge1.head()"
   ]
  },
  {
   "cell_type": "markdown",
   "metadata": {},
   "source": [
    "As the column area only correponds to commune value, we will drop the column"
   ]
  },
  {
   "cell_type": "code",
   "execution_count": 59,
   "metadata": {},
   "outputs": [],
   "source": [
    "# Drop area column\n",
    "df_gaz_merge1.drop('area', axis=1, inplace=True)"
   ]
  },
  {
   "cell_type": "code",
   "execution_count": 60,
   "metadata": {},
   "outputs": [
    {
     "data": {
      "text/plain": [
       "Index(['operator', 'year', 'energy', 'com_code', 'consoa', 'pdla', 'indquala',\n",
       "       'consoi', 'pdli', 'indquali', 'consot', 'pdlt', 'indqualt', 'consor',\n",
       "       'pdlr', 'indqualr', 'consona', 'pdlna', 'indqualna', 'reg_code',\n",
       "       'com_name', 'dep_code', 'dep_name'],\n",
       "      dtype='object')"
      ]
     },
     "execution_count": 60,
     "metadata": {},
     "output_type": "execute_result"
    }
   ],
   "source": [
    "df_gaz_merge1.columns"
   ]
  },
  {
   "cell_type": "code",
   "execution_count": 61,
   "metadata": {},
   "outputs": [],
   "source": [
    "# Reorder the column\n",
    "df_gaz_clean=df_gaz_merge1[['energy','year','reg_code', 'dep_code','dep_name','com_code','com_name','operator','consoa', 'pdla', 'indquala',\n",
    "       'consoi', 'pdli', 'indquali', 'consot', 'pdlt', 'indqualt', 'consor',\n",
    "       'pdlr', 'indqualr', 'consona', 'pdlna', 'indqualna']]"
   ]
  },
  {
   "cell_type": "code",
   "execution_count": 62,
   "metadata": {},
   "outputs": [
    {
     "data": {
      "text/html": [
       "<div>\n",
       "<style scoped>\n",
       "    .dataframe tbody tr th:only-of-type {\n",
       "        vertical-align: middle;\n",
       "    }\n",
       "\n",
       "    .dataframe tbody tr th {\n",
       "        vertical-align: top;\n",
       "    }\n",
       "\n",
       "    .dataframe thead th {\n",
       "        text-align: right;\n",
       "    }\n",
       "</style>\n",
       "<table border=\"1\" class=\"dataframe\">\n",
       "  <thead>\n",
       "    <tr style=\"text-align: right;\">\n",
       "      <th></th>\n",
       "      <th>energy</th>\n",
       "      <th>year</th>\n",
       "      <th>reg_code</th>\n",
       "      <th>dep_code</th>\n",
       "      <th>dep_name</th>\n",
       "      <th>com_code</th>\n",
       "      <th>com_name</th>\n",
       "      <th>operator</th>\n",
       "      <th>consoa</th>\n",
       "      <th>pdla</th>\n",
       "      <th>...</th>\n",
       "      <th>indquali</th>\n",
       "      <th>consot</th>\n",
       "      <th>pdlt</th>\n",
       "      <th>indqualt</th>\n",
       "      <th>consor</th>\n",
       "      <th>pdlr</th>\n",
       "      <th>indqualr</th>\n",
       "      <th>consona</th>\n",
       "      <th>pdlna</th>\n",
       "      <th>indqualna</th>\n",
       "    </tr>\n",
       "  </thead>\n",
       "  <tbody>\n",
       "    <tr>\n",
       "      <th>0</th>\n",
       "      <td>G</td>\n",
       "      <td>2010</td>\n",
       "      <td>75</td>\n",
       "      <td>33</td>\n",
       "      <td>GIRONDE</td>\n",
       "      <td>33012</td>\n",
       "      <td>ARSAC</td>\n",
       "      <td>REGAZ Bordeaux</td>\n",
       "      <td>1100.12</td>\n",
       "      <td>5</td>\n",
       "      <td>...</td>\n",
       "      <td>0.960</td>\n",
       "      <td>2150.82</td>\n",
       "      <td>15</td>\n",
       "      <td>0.962</td>\n",
       "      <td>10825.67</td>\n",
       "      <td>586.0</td>\n",
       "      <td>0.960</td>\n",
       "      <td>0.0</td>\n",
       "      <td>0</td>\n",
       "      <td>0.00</td>\n",
       "    </tr>\n",
       "    <tr>\n",
       "      <th>1</th>\n",
       "      <td>G</td>\n",
       "      <td>2010</td>\n",
       "      <td>75</td>\n",
       "      <td>33</td>\n",
       "      <td>GIRONDE</td>\n",
       "      <td>33022</td>\n",
       "      <td>AVENSAN</td>\n",
       "      <td>REGAZ Bordeaux</td>\n",
       "      <td>0.00</td>\n",
       "      <td>0</td>\n",
       "      <td>...</td>\n",
       "      <td>0.960</td>\n",
       "      <td>1144.67</td>\n",
       "      <td>9</td>\n",
       "      <td>0.961</td>\n",
       "      <td>6163.68</td>\n",
       "      <td>320.0</td>\n",
       "      <td>0.959</td>\n",
       "      <td>0.0</td>\n",
       "      <td>0</td>\n",
       "      <td>0.00</td>\n",
       "    </tr>\n",
       "    <tr>\n",
       "      <th>2</th>\n",
       "      <td>G</td>\n",
       "      <td>2010</td>\n",
       "      <td>75</td>\n",
       "      <td>33</td>\n",
       "      <td>GIRONDE</td>\n",
       "      <td>33032</td>\n",
       "      <td>BASSENS</td>\n",
       "      <td>REGAZ Bordeaux</td>\n",
       "      <td>0.00</td>\n",
       "      <td>0</td>\n",
       "      <td>...</td>\n",
       "      <td>0.962</td>\n",
       "      <td>72322.61</td>\n",
       "      <td>44</td>\n",
       "      <td>0.962</td>\n",
       "      <td>23888.00</td>\n",
       "      <td>1664.0</td>\n",
       "      <td>0.960</td>\n",
       "      <td>0.0</td>\n",
       "      <td>0</td>\n",
       "      <td>0.00</td>\n",
       "    </tr>\n",
       "    <tr>\n",
       "      <th>3</th>\n",
       "      <td>G</td>\n",
       "      <td>2010</td>\n",
       "      <td>75</td>\n",
       "      <td>33</td>\n",
       "      <td>GIRONDE</td>\n",
       "      <td>33039</td>\n",
       "      <td>BEGLES</td>\n",
       "      <td>REGAZ Bordeaux</td>\n",
       "      <td>228.37</td>\n",
       "      <td>2</td>\n",
       "      <td>...</td>\n",
       "      <td>0.963</td>\n",
       "      <td>37998.93</td>\n",
       "      <td>289</td>\n",
       "      <td>0.960</td>\n",
       "      <td>10962.37</td>\n",
       "      <td>8393.0</td>\n",
       "      <td>0.959</td>\n",
       "      <td>0.0</td>\n",
       "      <td>0</td>\n",
       "      <td>0.00</td>\n",
       "    </tr>\n",
       "    <tr>\n",
       "      <th>4</th>\n",
       "      <td>G</td>\n",
       "      <td>2010</td>\n",
       "      <td>75</td>\n",
       "      <td>33</td>\n",
       "      <td>GIRONDE</td>\n",
       "      <td>33056</td>\n",
       "      <td>BLANQUEFORT</td>\n",
       "      <td>REGAZ Bordeaux</td>\n",
       "      <td>60.67</td>\n",
       "      <td>1</td>\n",
       "      <td>...</td>\n",
       "      <td>0.961</td>\n",
       "      <td>29035.28</td>\n",
       "      <td>158</td>\n",
       "      <td>0.961</td>\n",
       "      <td>47135.78</td>\n",
       "      <td>3117.0</td>\n",
       "      <td>0.960</td>\n",
       "      <td>204.6</td>\n",
       "      <td>1</td>\n",
       "      <td>0.97</td>\n",
       "    </tr>\n",
       "  </tbody>\n",
       "</table>\n",
       "<p>5 rows × 23 columns</p>\n",
       "</div>"
      ],
      "text/plain": [
       "  energy  year reg_code dep_code dep_name com_code     com_name  \\\n",
       "0      G  2010       75       33  GIRONDE    33012        ARSAC   \n",
       "1      G  2010       75       33  GIRONDE    33022      AVENSAN   \n",
       "2      G  2010       75       33  GIRONDE    33032      BASSENS   \n",
       "3      G  2010       75       33  GIRONDE    33039       BEGLES   \n",
       "4      G  2010       75       33  GIRONDE    33056  BLANQUEFORT   \n",
       "\n",
       "         operator   consoa  pdla  ...  indquali    consot  pdlt  indqualt  \\\n",
       "0  REGAZ Bordeaux  1100.12     5  ...     0.960   2150.82    15     0.962   \n",
       "1  REGAZ Bordeaux     0.00     0  ...     0.960   1144.67     9     0.961   \n",
       "2  REGAZ Bordeaux     0.00     0  ...     0.962  72322.61    44     0.962   \n",
       "3  REGAZ Bordeaux   228.37     2  ...     0.963  37998.93   289     0.960   \n",
       "4  REGAZ Bordeaux    60.67     1  ...     0.961  29035.28   158     0.961   \n",
       "\n",
       "     consor    pdlr  indqualr  consona  pdlna  indqualna  \n",
       "0  10825.67   586.0     0.960      0.0      0       0.00  \n",
       "1   6163.68   320.0     0.959      0.0      0       0.00  \n",
       "2  23888.00  1664.0     0.960      0.0      0       0.00  \n",
       "3  10962.37  8393.0     0.959      0.0      0       0.00  \n",
       "4  47135.78  3117.0     0.960    204.6      1       0.97  \n",
       "\n",
       "[5 rows x 23 columns]"
      ]
     },
     "execution_count": 62,
     "metadata": {},
     "output_type": "execute_result"
    }
   ],
   "source": [
    "df_gaz_clean.head()"
   ]
  },
  {
   "cell_type": "markdown",
   "metadata": {},
   "source": [
    "## CONSOR and PDLR"
   ]
  },
  {
   "cell_type": "markdown",
   "metadata": {},
   "source": [
    "From the data presentation file, we know that some value of CONSOR and PDLR are -99 for very small area. We will replace the value -99 by 0"
   ]
  },
  {
   "cell_type": "code",
   "execution_count": 63,
   "metadata": {},
   "outputs": [
    {
     "data": {
      "text/html": [
       "<div>\n",
       "<style scoped>\n",
       "    .dataframe tbody tr th:only-of-type {\n",
       "        vertical-align: middle;\n",
       "    }\n",
       "\n",
       "    .dataframe tbody tr th {\n",
       "        vertical-align: top;\n",
       "    }\n",
       "\n",
       "    .dataframe thead th {\n",
       "        text-align: right;\n",
       "    }\n",
       "</style>\n",
       "<table border=\"1\" class=\"dataframe\">\n",
       "  <thead>\n",
       "    <tr style=\"text-align: right;\">\n",
       "      <th></th>\n",
       "      <th>energy</th>\n",
       "      <th>year</th>\n",
       "      <th>reg_code</th>\n",
       "      <th>dep_code</th>\n",
       "      <th>dep_name</th>\n",
       "      <th>com_code</th>\n",
       "      <th>com_name</th>\n",
       "      <th>operator</th>\n",
       "      <th>consoa</th>\n",
       "      <th>pdla</th>\n",
       "      <th>...</th>\n",
       "      <th>indquali</th>\n",
       "      <th>consot</th>\n",
       "      <th>pdlt</th>\n",
       "      <th>indqualt</th>\n",
       "      <th>consor</th>\n",
       "      <th>pdlr</th>\n",
       "      <th>indqualr</th>\n",
       "      <th>consona</th>\n",
       "      <th>pdlna</th>\n",
       "      <th>indqualna</th>\n",
       "    </tr>\n",
       "  </thead>\n",
       "  <tbody>\n",
       "    <tr>\n",
       "      <th>237</th>\n",
       "      <td>G</td>\n",
       "      <td>2013</td>\n",
       "      <td>75</td>\n",
       "      <td>33</td>\n",
       "      <td>GIRONDE</td>\n",
       "      <td>33087</td>\n",
       "      <td>CAMIRAN</td>\n",
       "      <td>Régie municipale multiservices de La Réole</td>\n",
       "      <td>0.00</td>\n",
       "      <td>0</td>\n",
       "      <td>...</td>\n",
       "      <td>0.0</td>\n",
       "      <td>0.00</td>\n",
       "      <td>0</td>\n",
       "      <td>0.0</td>\n",
       "      <td>-99.0</td>\n",
       "      <td>-99.0</td>\n",
       "      <td>0.80</td>\n",
       "      <td>0.0</td>\n",
       "      <td>0</td>\n",
       "      <td>0.0</td>\n",
       "    </tr>\n",
       "    <tr>\n",
       "      <th>259</th>\n",
       "      <td>G</td>\n",
       "      <td>2013</td>\n",
       "      <td>75</td>\n",
       "      <td>33</td>\n",
       "      <td>GIRONDE</td>\n",
       "      <td>33294</td>\n",
       "      <td>MORIZES</td>\n",
       "      <td>Régie municipale multiservices de La Réole</td>\n",
       "      <td>0.00</td>\n",
       "      <td>0</td>\n",
       "      <td>...</td>\n",
       "      <td>0.8</td>\n",
       "      <td>77.89</td>\n",
       "      <td>6</td>\n",
       "      <td>0.8</td>\n",
       "      <td>-99.0</td>\n",
       "      <td>-99.0</td>\n",
       "      <td>0.80</td>\n",
       "      <td>0.0</td>\n",
       "      <td>0</td>\n",
       "      <td>0.0</td>\n",
       "    </tr>\n",
       "    <tr>\n",
       "      <th>334</th>\n",
       "      <td>G</td>\n",
       "      <td>2013</td>\n",
       "      <td>44</td>\n",
       "      <td>67</td>\n",
       "      <td>BAS-RHIN</td>\n",
       "      <td>67217</td>\n",
       "      <td>ICHTRATZHEIM</td>\n",
       "      <td>Réseau GDS</td>\n",
       "      <td>0.00</td>\n",
       "      <td>0</td>\n",
       "      <td>...</td>\n",
       "      <td>0.0</td>\n",
       "      <td>0.00</td>\n",
       "      <td>0</td>\n",
       "      <td>0.0</td>\n",
       "      <td>-99.0</td>\n",
       "      <td>-99.0</td>\n",
       "      <td>0.50</td>\n",
       "      <td>0.0</td>\n",
       "      <td>0</td>\n",
       "      <td>0.0</td>\n",
       "    </tr>\n",
       "    <tr>\n",
       "      <th>337</th>\n",
       "      <td>G</td>\n",
       "      <td>2013</td>\n",
       "      <td>44</td>\n",
       "      <td>67</td>\n",
       "      <td>BAS-RHIN</td>\n",
       "      <td>67233</td>\n",
       "      <td>KERTZFELD</td>\n",
       "      <td>Réseau GDS</td>\n",
       "      <td>0.00</td>\n",
       "      <td>0</td>\n",
       "      <td>...</td>\n",
       "      <td>0.0</td>\n",
       "      <td>0.00</td>\n",
       "      <td>0</td>\n",
       "      <td>0.0</td>\n",
       "      <td>-99.0</td>\n",
       "      <td>-99.0</td>\n",
       "      <td>0.50</td>\n",
       "      <td>0.0</td>\n",
       "      <td>0</td>\n",
       "      <td>0.0</td>\n",
       "    </tr>\n",
       "    <tr>\n",
       "      <th>354</th>\n",
       "      <td>G</td>\n",
       "      <td>2013</td>\n",
       "      <td>44</td>\n",
       "      <td>67</td>\n",
       "      <td>BAS-RHIN</td>\n",
       "      <td>67306</td>\n",
       "      <td>MUHLBACH SUR BRUCHE</td>\n",
       "      <td>Réseau GDS</td>\n",
       "      <td>0.00</td>\n",
       "      <td>0</td>\n",
       "      <td>...</td>\n",
       "      <td>0.0</td>\n",
       "      <td>0.00</td>\n",
       "      <td>0</td>\n",
       "      <td>0.0</td>\n",
       "      <td>-99.0</td>\n",
       "      <td>-99.0</td>\n",
       "      <td>0.50</td>\n",
       "      <td>0.0</td>\n",
       "      <td>0</td>\n",
       "      <td>0.0</td>\n",
       "    </tr>\n",
       "    <tr>\n",
       "      <th>...</th>\n",
       "      <td>...</td>\n",
       "      <td>...</td>\n",
       "      <td>...</td>\n",
       "      <td>...</td>\n",
       "      <td>...</td>\n",
       "      <td>...</td>\n",
       "      <td>...</td>\n",
       "      <td>...</td>\n",
       "      <td>...</td>\n",
       "      <td>...</td>\n",
       "      <td>...</td>\n",
       "      <td>...</td>\n",
       "      <td>...</td>\n",
       "      <td>...</td>\n",
       "      <td>...</td>\n",
       "      <td>...</td>\n",
       "      <td>...</td>\n",
       "      <td>...</td>\n",
       "      <td>...</td>\n",
       "      <td>...</td>\n",
       "      <td>...</td>\n",
       "    </tr>\n",
       "    <tr>\n",
       "      <th>1602</th>\n",
       "      <td>G</td>\n",
       "      <td>2017</td>\n",
       "      <td>24</td>\n",
       "      <td>28</td>\n",
       "      <td>EURE-ET-LOIR</td>\n",
       "      <td>28324</td>\n",
       "      <td>SAINT ARNOULT DES BOIS</td>\n",
       "      <td>Régie du syndicat électrique intercommunal du ...</td>\n",
       "      <td>0.00</td>\n",
       "      <td>0</td>\n",
       "      <td>...</td>\n",
       "      <td>0.0</td>\n",
       "      <td>0.00</td>\n",
       "      <td>0</td>\n",
       "      <td>0.0</td>\n",
       "      <td>-99.0</td>\n",
       "      <td>-99.0</td>\n",
       "      <td>0.71</td>\n",
       "      <td>0.0</td>\n",
       "      <td>0</td>\n",
       "      <td>0.0</td>\n",
       "    </tr>\n",
       "    <tr>\n",
       "      <th>1611</th>\n",
       "      <td>G</td>\n",
       "      <td>2017</td>\n",
       "      <td>75</td>\n",
       "      <td>33</td>\n",
       "      <td>GIRONDE</td>\n",
       "      <td>33087</td>\n",
       "      <td>CAMIRAN</td>\n",
       "      <td>Régie municipale multiservices de La Réole</td>\n",
       "      <td>0.00</td>\n",
       "      <td>0</td>\n",
       "      <td>...</td>\n",
       "      <td>0.0</td>\n",
       "      <td>0.00</td>\n",
       "      <td>0</td>\n",
       "      <td>0.0</td>\n",
       "      <td>-99.0</td>\n",
       "      <td>-99.0</td>\n",
       "      <td>0.80</td>\n",
       "      <td>0.0</td>\n",
       "      <td>0</td>\n",
       "      <td>0.0</td>\n",
       "    </tr>\n",
       "    <tr>\n",
       "      <th>1613</th>\n",
       "      <td>G</td>\n",
       "      <td>2017</td>\n",
       "      <td>75</td>\n",
       "      <td>33</td>\n",
       "      <td>GIRONDE</td>\n",
       "      <td>33294</td>\n",
       "      <td>MORIZES</td>\n",
       "      <td>Régie municipale multiservices de La Réole</td>\n",
       "      <td>90.26</td>\n",
       "      <td>1</td>\n",
       "      <td>...</td>\n",
       "      <td>0.8</td>\n",
       "      <td>76.22</td>\n",
       "      <td>6</td>\n",
       "      <td>0.8</td>\n",
       "      <td>-99.0</td>\n",
       "      <td>-99.0</td>\n",
       "      <td>0.80</td>\n",
       "      <td>0.0</td>\n",
       "      <td>0</td>\n",
       "      <td>0.0</td>\n",
       "    </tr>\n",
       "    <tr>\n",
       "      <th>1677</th>\n",
       "      <td>G</td>\n",
       "      <td>2017</td>\n",
       "      <td>44</td>\n",
       "      <td>67</td>\n",
       "      <td>BAS-RHIN</td>\n",
       "      <td>67085</td>\n",
       "      <td>DANGOLSHEIM</td>\n",
       "      <td>Gaz de Barr</td>\n",
       "      <td>0.00</td>\n",
       "      <td>0</td>\n",
       "      <td>...</td>\n",
       "      <td>0.0</td>\n",
       "      <td>0.00</td>\n",
       "      <td>0</td>\n",
       "      <td>0.5</td>\n",
       "      <td>-99.0</td>\n",
       "      <td>-99.0</td>\n",
       "      <td>0.50</td>\n",
       "      <td>0.0</td>\n",
       "      <td>0</td>\n",
       "      <td>0.0</td>\n",
       "    </tr>\n",
       "    <tr>\n",
       "      <th>1692</th>\n",
       "      <td>G</td>\n",
       "      <td>2017</td>\n",
       "      <td>44</td>\n",
       "      <td>67</td>\n",
       "      <td>BAS-RHIN</td>\n",
       "      <td>67411</td>\n",
       "      <td>ROSHEIM</td>\n",
       "      <td>Gaz de Barr</td>\n",
       "      <td>0.00</td>\n",
       "      <td>0</td>\n",
       "      <td>...</td>\n",
       "      <td>0.0</td>\n",
       "      <td>0.00</td>\n",
       "      <td>0</td>\n",
       "      <td>0.5</td>\n",
       "      <td>-99.0</td>\n",
       "      <td>-99.0</td>\n",
       "      <td>0.50</td>\n",
       "      <td>0.0</td>\n",
       "      <td>0</td>\n",
       "      <td>0.0</td>\n",
       "    </tr>\n",
       "  </tbody>\n",
       "</table>\n",
       "<p>146 rows × 23 columns</p>\n",
       "</div>"
      ],
      "text/plain": [
       "     energy  year reg_code dep_code      dep_name com_code  \\\n",
       "237       G  2013       75       33       GIRONDE    33087   \n",
       "259       G  2013       75       33       GIRONDE    33294   \n",
       "334       G  2013       44       67      BAS-RHIN    67217   \n",
       "337       G  2013       44       67      BAS-RHIN    67233   \n",
       "354       G  2013       44       67      BAS-RHIN    67306   \n",
       "...     ...   ...      ...      ...           ...      ...   \n",
       "1602      G  2017       24       28  EURE-ET-LOIR    28324   \n",
       "1611      G  2017       75       33       GIRONDE    33087   \n",
       "1613      G  2017       75       33       GIRONDE    33294   \n",
       "1677      G  2017       44       67      BAS-RHIN    67085   \n",
       "1692      G  2017       44       67      BAS-RHIN    67411   \n",
       "\n",
       "                    com_name  \\\n",
       "237                  CAMIRAN   \n",
       "259                  MORIZES   \n",
       "334             ICHTRATZHEIM   \n",
       "337                KERTZFELD   \n",
       "354      MUHLBACH SUR BRUCHE   \n",
       "...                      ...   \n",
       "1602  SAINT ARNOULT DES BOIS   \n",
       "1611                 CAMIRAN   \n",
       "1613                 MORIZES   \n",
       "1677             DANGOLSHEIM   \n",
       "1692                 ROSHEIM   \n",
       "\n",
       "                                               operator  consoa  pdla  ...  \\\n",
       "237          Régie municipale multiservices de La Réole    0.00     0  ...   \n",
       "259          Régie municipale multiservices de La Réole    0.00     0  ...   \n",
       "334                                          Réseau GDS    0.00     0  ...   \n",
       "337                                          Réseau GDS    0.00     0  ...   \n",
       "354                                          Réseau GDS    0.00     0  ...   \n",
       "...                                                 ...     ...   ...  ...   \n",
       "1602  Régie du syndicat électrique intercommunal du ...    0.00     0  ...   \n",
       "1611         Régie municipale multiservices de La Réole    0.00     0  ...   \n",
       "1613         Régie municipale multiservices de La Réole   90.26     1  ...   \n",
       "1677                                        Gaz de Barr    0.00     0  ...   \n",
       "1692                                        Gaz de Barr    0.00     0  ...   \n",
       "\n",
       "      indquali  consot  pdlt  indqualt  consor  pdlr  indqualr  consona  \\\n",
       "237        0.0    0.00     0       0.0   -99.0 -99.0      0.80      0.0   \n",
       "259        0.8   77.89     6       0.8   -99.0 -99.0      0.80      0.0   \n",
       "334        0.0    0.00     0       0.0   -99.0 -99.0      0.50      0.0   \n",
       "337        0.0    0.00     0       0.0   -99.0 -99.0      0.50      0.0   \n",
       "354        0.0    0.00     0       0.0   -99.0 -99.0      0.50      0.0   \n",
       "...        ...     ...   ...       ...     ...   ...       ...      ...   \n",
       "1602       0.0    0.00     0       0.0   -99.0 -99.0      0.71      0.0   \n",
       "1611       0.0    0.00     0       0.0   -99.0 -99.0      0.80      0.0   \n",
       "1613       0.8   76.22     6       0.8   -99.0 -99.0      0.80      0.0   \n",
       "1677       0.0    0.00     0       0.5   -99.0 -99.0      0.50      0.0   \n",
       "1692       0.0    0.00     0       0.5   -99.0 -99.0      0.50      0.0   \n",
       "\n",
       "      pdlna  indqualna  \n",
       "237       0        0.0  \n",
       "259       0        0.0  \n",
       "334       0        0.0  \n",
       "337       0        0.0  \n",
       "354       0        0.0  \n",
       "...     ...        ...  \n",
       "1602      0        0.0  \n",
       "1611      0        0.0  \n",
       "1613      0        0.0  \n",
       "1677      0        0.0  \n",
       "1692      0        0.0  \n",
       "\n",
       "[146 rows x 23 columns]"
      ]
     },
     "execution_count": 63,
     "metadata": {},
     "output_type": "execute_result"
    }
   ],
   "source": [
    "df_gaz_clean.loc[df_gaz_clean['consor']==-99]"
   ]
  },
  {
   "cell_type": "code",
   "execution_count": 64,
   "metadata": {},
   "outputs": [],
   "source": [
    "df_gaz_clean['consor']=np.where(df_gaz_clean['consor']==-99, 0, df_gaz_clean['consor'])"
   ]
  },
  {
   "cell_type": "code",
   "execution_count": 65,
   "metadata": {},
   "outputs": [],
   "source": [
    "df_gaz_clean['pdlr']=np.where(df_gaz_clean['pdlr']==-99, 0, df_gaz_clean['consor'])"
   ]
  },
  {
   "cell_type": "markdown",
   "metadata": {},
   "source": [
    "## Export clean data"
   ]
  },
  {
   "cell_type": "code",
   "execution_count": 66,
   "metadata": {},
   "outputs": [],
   "source": [
    "df_gaz_clean.to_csv('df_gaz_clean.csv', sep='/', index=False)"
   ]
  },
  {
   "cell_type": "markdown",
   "metadata": {},
   "source": [
    "# Dataframe manipulation"
   ]
  },
  {
   "cell_type": "markdown",
   "metadata": {},
   "source": [
    "We will first create dataframes to identify the total year consumptions per sector, year (without operator information)"
   ]
  },
  {
   "cell_type": "markdown",
   "metadata": {},
   "source": [
    "## Energy consumption per year and per sector"
   ]
  },
  {
   "cell_type": "code",
   "execution_count": 67,
   "metadata": {},
   "outputs": [],
   "source": [
    "# Create a copy of the original df\n",
    "df_gconso=df_gaz_clean.copy()"
   ]
  },
  {
   "cell_type": "code",
   "execution_count": 68,
   "metadata": {},
   "outputs": [
    {
     "data": {
      "text/plain": [
       "Index(['energy', 'year', 'reg_code', 'dep_code', 'dep_name', 'com_code',\n",
       "       'com_name', 'operator', 'consoa', 'pdla', 'indquala', 'consoi', 'pdli',\n",
       "       'indquali', 'consot', 'pdlt', 'indqualt', 'consor', 'pdlr', 'indqualr',\n",
       "       'consona', 'pdlna', 'indqualna'],\n",
       "      dtype='object')"
      ]
     },
     "execution_count": 68,
     "metadata": {},
     "output_type": "execute_result"
    }
   ],
   "source": [
    "# See the gconso columns\n",
    "df_gconso.columns"
   ]
  },
  {
   "cell_type": "markdown",
   "metadata": {},
   "source": [
    "As we don't care about the operator information in this dataframe, we will drop this column"
   ]
  },
  {
   "cell_type": "code",
   "execution_count": 69,
   "metadata": {},
   "outputs": [],
   "source": [
    "# Drop OPERATEUR column\n",
    "df_gconso.drop('operator', axis=1, inplace=True)"
   ]
  },
  {
   "cell_type": "markdown",
   "metadata": {},
   "source": [
    "As the colums starting with INDQUAL corresponds to a percentage for each operator and we don't want to have information about the operator, we will drop those columns"
   ]
  },
  {
   "cell_type": "code",
   "execution_count": 70,
   "metadata": {},
   "outputs": [],
   "source": [
    "# Drop columns correponding to percentage\n",
    "df_gconso.drop(['indquala','indquali','indqualt','indqualr','indqualna'], axis=1, inplace=True)"
   ]
  },
  {
   "cell_type": "code",
   "execution_count": 71,
   "metadata": {},
   "outputs": [
    {
     "data": {
      "text/html": [
       "<div>\n",
       "<style scoped>\n",
       "    .dataframe tbody tr th:only-of-type {\n",
       "        vertical-align: middle;\n",
       "    }\n",
       "\n",
       "    .dataframe tbody tr th {\n",
       "        vertical-align: top;\n",
       "    }\n",
       "\n",
       "    .dataframe thead th {\n",
       "        text-align: right;\n",
       "    }\n",
       "</style>\n",
       "<table border=\"1\" class=\"dataframe\">\n",
       "  <thead>\n",
       "    <tr style=\"text-align: right;\">\n",
       "      <th></th>\n",
       "      <th>energy</th>\n",
       "      <th>year</th>\n",
       "      <th>reg_code</th>\n",
       "      <th>dep_code</th>\n",
       "      <th>dep_name</th>\n",
       "      <th>com_code</th>\n",
       "      <th>com_name</th>\n",
       "      <th>consoa</th>\n",
       "      <th>pdla</th>\n",
       "      <th>consoi</th>\n",
       "      <th>pdli</th>\n",
       "      <th>consot</th>\n",
       "      <th>pdlt</th>\n",
       "      <th>consor</th>\n",
       "      <th>pdlr</th>\n",
       "      <th>consona</th>\n",
       "      <th>pdlna</th>\n",
       "    </tr>\n",
       "  </thead>\n",
       "  <tbody>\n",
       "    <tr>\n",
       "      <th>0</th>\n",
       "      <td>G</td>\n",
       "      <td>2010</td>\n",
       "      <td>75</td>\n",
       "      <td>33</td>\n",
       "      <td>GIRONDE</td>\n",
       "      <td>33012</td>\n",
       "      <td>ARSAC</td>\n",
       "      <td>1100.12</td>\n",
       "      <td>5</td>\n",
       "      <td>540.61</td>\n",
       "      <td>5</td>\n",
       "      <td>2150.82</td>\n",
       "      <td>15</td>\n",
       "      <td>10825.67</td>\n",
       "      <td>10825.67</td>\n",
       "      <td>0.0</td>\n",
       "      <td>0</td>\n",
       "    </tr>\n",
       "    <tr>\n",
       "      <th>1</th>\n",
       "      <td>G</td>\n",
       "      <td>2010</td>\n",
       "      <td>75</td>\n",
       "      <td>33</td>\n",
       "      <td>GIRONDE</td>\n",
       "      <td>33022</td>\n",
       "      <td>AVENSAN</td>\n",
       "      <td>0.00</td>\n",
       "      <td>0</td>\n",
       "      <td>9.90</td>\n",
       "      <td>1</td>\n",
       "      <td>1144.67</td>\n",
       "      <td>9</td>\n",
       "      <td>6163.68</td>\n",
       "      <td>6163.68</td>\n",
       "      <td>0.0</td>\n",
       "      <td>0</td>\n",
       "    </tr>\n",
       "    <tr>\n",
       "      <th>2</th>\n",
       "      <td>G</td>\n",
       "      <td>2010</td>\n",
       "      <td>75</td>\n",
       "      <td>33</td>\n",
       "      <td>GIRONDE</td>\n",
       "      <td>33032</td>\n",
       "      <td>BASSENS</td>\n",
       "      <td>0.00</td>\n",
       "      <td>0</td>\n",
       "      <td>26565.24</td>\n",
       "      <td>23</td>\n",
       "      <td>72322.61</td>\n",
       "      <td>44</td>\n",
       "      <td>23888.00</td>\n",
       "      <td>23888.00</td>\n",
       "      <td>0.0</td>\n",
       "      <td>0</td>\n",
       "    </tr>\n",
       "    <tr>\n",
       "      <th>3</th>\n",
       "      <td>G</td>\n",
       "      <td>2010</td>\n",
       "      <td>75</td>\n",
       "      <td>33</td>\n",
       "      <td>GIRONDE</td>\n",
       "      <td>33039</td>\n",
       "      <td>BEGLES</td>\n",
       "      <td>228.37</td>\n",
       "      <td>2</td>\n",
       "      <td>14683.27</td>\n",
       "      <td>39</td>\n",
       "      <td>37998.93</td>\n",
       "      <td>289</td>\n",
       "      <td>10962.37</td>\n",
       "      <td>10962.37</td>\n",
       "      <td>0.0</td>\n",
       "      <td>0</td>\n",
       "    </tr>\n",
       "    <tr>\n",
       "      <th>4</th>\n",
       "      <td>G</td>\n",
       "      <td>2010</td>\n",
       "      <td>75</td>\n",
       "      <td>33</td>\n",
       "      <td>GIRONDE</td>\n",
       "      <td>33056</td>\n",
       "      <td>BLANQUEFORT</td>\n",
       "      <td>60.67</td>\n",
       "      <td>1</td>\n",
       "      <td>27600.85</td>\n",
       "      <td>47</td>\n",
       "      <td>29035.28</td>\n",
       "      <td>158</td>\n",
       "      <td>47135.78</td>\n",
       "      <td>47135.78</td>\n",
       "      <td>204.6</td>\n",
       "      <td>1</td>\n",
       "    </tr>\n",
       "  </tbody>\n",
       "</table>\n",
       "</div>"
      ],
      "text/plain": [
       "  energy  year reg_code dep_code dep_name com_code     com_name   consoa  \\\n",
       "0      G  2010       75       33  GIRONDE    33012        ARSAC  1100.12   \n",
       "1      G  2010       75       33  GIRONDE    33022      AVENSAN     0.00   \n",
       "2      G  2010       75       33  GIRONDE    33032      BASSENS     0.00   \n",
       "3      G  2010       75       33  GIRONDE    33039       BEGLES   228.37   \n",
       "4      G  2010       75       33  GIRONDE    33056  BLANQUEFORT    60.67   \n",
       "\n",
       "   pdla    consoi  pdli    consot  pdlt    consor      pdlr  consona  pdlna  \n",
       "0     5    540.61     5   2150.82    15  10825.67  10825.67      0.0      0  \n",
       "1     0      9.90     1   1144.67     9   6163.68   6163.68      0.0      0  \n",
       "2     0  26565.24    23  72322.61    44  23888.00  23888.00      0.0      0  \n",
       "3     2  14683.27    39  37998.93   289  10962.37  10962.37      0.0      0  \n",
       "4     1  27600.85    47  29035.28   158  47135.78  47135.78    204.6      1  "
      ]
     },
     "execution_count": 71,
     "metadata": {},
     "output_type": "execute_result"
    }
   ],
   "source": [
    "df_gconso.head()"
   ]
  },
  {
   "cell_type": "markdown",
   "metadata": {},
   "source": [
    "### Commune level"
   ]
  },
  {
   "cell_type": "markdown",
   "metadata": {},
   "source": [
    "We group by year, per commune and aggregate by the sum of consumption"
   ]
  },
  {
   "cell_type": "code",
   "execution_count": 72,
   "metadata": {},
   "outputs": [],
   "source": [
    "df_gconso_com=df_gconso.groupby(['energy','year','dep_code','dep_name','com_code','com_name']).agg({'consoa':'sum',\n",
    "                                                                                    'pdla':'sum',\n",
    "                                                                                    'consoi':'sum',\n",
    "                                                                                    'pdli':'sum',\n",
    "                                                                                    'consot':'sum',\n",
    "                                                                                    'pdlt':'sum',\n",
    "                                                                                    'consor':'sum',\n",
    "                                                                                    'pdlr':'sum',\n",
    "                                                                                    'consona':'sum',\n",
    "                                                                                    'pdlna':'sum'}).reset_index()"
   ]
  },
  {
   "cell_type": "code",
   "execution_count": 73,
   "metadata": {},
   "outputs": [
    {
     "data": {
      "text/html": [
       "<div>\n",
       "<style scoped>\n",
       "    .dataframe tbody tr th:only-of-type {\n",
       "        vertical-align: middle;\n",
       "    }\n",
       "\n",
       "    .dataframe tbody tr th {\n",
       "        vertical-align: top;\n",
       "    }\n",
       "\n",
       "    .dataframe thead th {\n",
       "        text-align: right;\n",
       "    }\n",
       "</style>\n",
       "<table border=\"1\" class=\"dataframe\">\n",
       "  <thead>\n",
       "    <tr style=\"text-align: right;\">\n",
       "      <th></th>\n",
       "      <th>energy</th>\n",
       "      <th>year</th>\n",
       "      <th>dep_code</th>\n",
       "      <th>dep_name</th>\n",
       "      <th>com_code</th>\n",
       "      <th>com_name</th>\n",
       "      <th>consoa</th>\n",
       "      <th>pdla</th>\n",
       "      <th>consoi</th>\n",
       "      <th>pdli</th>\n",
       "      <th>consot</th>\n",
       "      <th>pdlt</th>\n",
       "      <th>consor</th>\n",
       "      <th>pdlr</th>\n",
       "      <th>consona</th>\n",
       "      <th>pdlna</th>\n",
       "    </tr>\n",
       "  </thead>\n",
       "  <tbody>\n",
       "    <tr>\n",
       "      <th>0</th>\n",
       "      <td>G</td>\n",
       "      <td>2010</td>\n",
       "      <td>33</td>\n",
       "      <td>GIRONDE</td>\n",
       "      <td>33010</td>\n",
       "      <td>ARCINS</td>\n",
       "      <td>326.45</td>\n",
       "      <td>4</td>\n",
       "      <td>0.00</td>\n",
       "      <td>0</td>\n",
       "      <td>165.54</td>\n",
       "      <td>3</td>\n",
       "      <td>1352.30</td>\n",
       "      <td>1352.30</td>\n",
       "      <td>0.0</td>\n",
       "      <td>0</td>\n",
       "    </tr>\n",
       "    <tr>\n",
       "      <th>1</th>\n",
       "      <td>G</td>\n",
       "      <td>2010</td>\n",
       "      <td>33</td>\n",
       "      <td>GIRONDE</td>\n",
       "      <td>33012</td>\n",
       "      <td>ARSAC</td>\n",
       "      <td>1100.12</td>\n",
       "      <td>5</td>\n",
       "      <td>540.61</td>\n",
       "      <td>5</td>\n",
       "      <td>2150.82</td>\n",
       "      <td>15</td>\n",
       "      <td>10825.67</td>\n",
       "      <td>10825.67</td>\n",
       "      <td>0.0</td>\n",
       "      <td>0</td>\n",
       "    </tr>\n",
       "    <tr>\n",
       "      <th>2</th>\n",
       "      <td>G</td>\n",
       "      <td>2010</td>\n",
       "      <td>33</td>\n",
       "      <td>GIRONDE</td>\n",
       "      <td>33022</td>\n",
       "      <td>AVENSAN</td>\n",
       "      <td>0.00</td>\n",
       "      <td>0</td>\n",
       "      <td>9.90</td>\n",
       "      <td>1</td>\n",
       "      <td>1144.67</td>\n",
       "      <td>9</td>\n",
       "      <td>6163.68</td>\n",
       "      <td>6163.68</td>\n",
       "      <td>0.0</td>\n",
       "      <td>0</td>\n",
       "    </tr>\n",
       "    <tr>\n",
       "      <th>3</th>\n",
       "      <td>G</td>\n",
       "      <td>2010</td>\n",
       "      <td>33</td>\n",
       "      <td>GIRONDE</td>\n",
       "      <td>33032</td>\n",
       "      <td>BASSENS</td>\n",
       "      <td>0.00</td>\n",
       "      <td>0</td>\n",
       "      <td>26565.24</td>\n",
       "      <td>23</td>\n",
       "      <td>72322.61</td>\n",
       "      <td>44</td>\n",
       "      <td>23888.00</td>\n",
       "      <td>23888.00</td>\n",
       "      <td>0.0</td>\n",
       "      <td>0</td>\n",
       "    </tr>\n",
       "    <tr>\n",
       "      <th>4</th>\n",
       "      <td>G</td>\n",
       "      <td>2010</td>\n",
       "      <td>33</td>\n",
       "      <td>GIRONDE</td>\n",
       "      <td>33039</td>\n",
       "      <td>BEGLES</td>\n",
       "      <td>228.37</td>\n",
       "      <td>2</td>\n",
       "      <td>14683.27</td>\n",
       "      <td>39</td>\n",
       "      <td>37998.93</td>\n",
       "      <td>289</td>\n",
       "      <td>10962.37</td>\n",
       "      <td>10962.37</td>\n",
       "      <td>0.0</td>\n",
       "      <td>0</td>\n",
       "    </tr>\n",
       "  </tbody>\n",
       "</table>\n",
       "</div>"
      ],
      "text/plain": [
       "  energy  year dep_code dep_name com_code com_name   consoa  pdla    consoi  \\\n",
       "0      G  2010       33  GIRONDE    33010   ARCINS   326.45     4      0.00   \n",
       "1      G  2010       33  GIRONDE    33012    ARSAC  1100.12     5    540.61   \n",
       "2      G  2010       33  GIRONDE    33022  AVENSAN     0.00     0      9.90   \n",
       "3      G  2010       33  GIRONDE    33032  BASSENS     0.00     0  26565.24   \n",
       "4      G  2010       33  GIRONDE    33039   BEGLES   228.37     2  14683.27   \n",
       "\n",
       "   pdli    consot  pdlt    consor      pdlr  consona  pdlna  \n",
       "0     0    165.54     3   1352.30   1352.30      0.0      0  \n",
       "1     5   2150.82    15  10825.67  10825.67      0.0      0  \n",
       "2     1   1144.67     9   6163.68   6163.68      0.0      0  \n",
       "3    23  72322.61    44  23888.00  23888.00      0.0      0  \n",
       "4    39  37998.93   289  10962.37  10962.37      0.0      0  "
      ]
     },
     "execution_count": 73,
     "metadata": {},
     "output_type": "execute_result"
    }
   ],
   "source": [
    "df_gconso_com.head()"
   ]
  },
  {
   "cell_type": "markdown",
   "metadata": {},
   "source": [
    "We add the total consumption for each row"
   ]
  },
  {
   "cell_type": "code",
   "execution_count": 74,
   "metadata": {},
   "outputs": [],
   "source": [
    "df_gconso_com['total']=df_gconso_com.consoa + df_gconso_com.consoi + df_gconso_com.consot + df_gconso_com.consona + df_gconso_com.consor"
   ]
  },
  {
   "cell_type": "code",
   "execution_count": 75,
   "metadata": {},
   "outputs": [],
   "source": [
    "# Export the df in csv\n",
    "df_gconso_com.to_csv('df_gconso_com.csv', sep='/', index=False)"
   ]
  },
  {
   "cell_type": "markdown",
   "metadata": {},
   "source": [
    "### Departement level"
   ]
  },
  {
   "cell_type": "markdown",
   "metadata": {},
   "source": [
    "We group by year, per departement and aggregate by the sum of consumption"
   ]
  },
  {
   "cell_type": "code",
   "execution_count": 76,
   "metadata": {},
   "outputs": [],
   "source": [
    "df_gconso_dep=df_gconso.groupby(['energy','year','dep_code','dep_name']).agg({'consoa':'sum',\n",
    "                                                                                    'pdla':'sum',\n",
    "                                                                                    'consoi':'sum',\n",
    "                                                                                    'pdli':'sum',\n",
    "                                                                                    'consot':'sum',\n",
    "                                                                                    'pdlt':'sum',\n",
    "                                                                                    'consor':'sum',\n",
    "                                                                                    'pdlr':'sum',\n",
    "                                                                                    'consona':'sum',\n",
    "                                                                                    'pdlna':'sum'}).reset_index()"
   ]
  },
  {
   "cell_type": "code",
   "execution_count": 77,
   "metadata": {},
   "outputs": [
    {
     "data": {
      "text/html": [
       "<div>\n",
       "<style scoped>\n",
       "    .dataframe tbody tr th:only-of-type {\n",
       "        vertical-align: middle;\n",
       "    }\n",
       "\n",
       "    .dataframe tbody tr th {\n",
       "        vertical-align: top;\n",
       "    }\n",
       "\n",
       "    .dataframe thead th {\n",
       "        text-align: right;\n",
       "    }\n",
       "</style>\n",
       "<table border=\"1\" class=\"dataframe\">\n",
       "  <thead>\n",
       "    <tr style=\"text-align: right;\">\n",
       "      <th></th>\n",
       "      <th>energy</th>\n",
       "      <th>year</th>\n",
       "      <th>dep_code</th>\n",
       "      <th>dep_name</th>\n",
       "      <th>consoa</th>\n",
       "      <th>pdla</th>\n",
       "      <th>consoi</th>\n",
       "      <th>pdli</th>\n",
       "      <th>consot</th>\n",
       "      <th>pdlt</th>\n",
       "      <th>consor</th>\n",
       "      <th>pdlr</th>\n",
       "      <th>consona</th>\n",
       "      <th>pdlna</th>\n",
       "    </tr>\n",
       "  </thead>\n",
       "  <tbody>\n",
       "    <tr>\n",
       "      <th>0</th>\n",
       "      <td>G</td>\n",
       "      <td>2010</td>\n",
       "      <td>33</td>\n",
       "      <td>GIRONDE</td>\n",
       "      <td>24797.26</td>\n",
       "      <td>169</td>\n",
       "      <td>309766.22</td>\n",
       "      <td>1058</td>\n",
       "      <td>694655.31</td>\n",
       "      <td>8050</td>\n",
       "      <td>1019263.61</td>\n",
       "      <td>1019263.61</td>\n",
       "      <td>1630.41</td>\n",
       "      <td>8</td>\n",
       "    </tr>\n",
       "    <tr>\n",
       "      <th>1</th>\n",
       "      <td>G</td>\n",
       "      <td>2010</td>\n",
       "      <td>38</td>\n",
       "      <td>ISÈRE</td>\n",
       "      <td>0.00</td>\n",
       "      <td>0</td>\n",
       "      <td>0.00</td>\n",
       "      <td>0</td>\n",
       "      <td>0.00</td>\n",
       "      <td>0</td>\n",
       "      <td>0.00</td>\n",
       "      <td>0.00</td>\n",
       "      <td>32301.00</td>\n",
       "      <td>1459</td>\n",
       "    </tr>\n",
       "    <tr>\n",
       "      <th>2</th>\n",
       "      <td>G</td>\n",
       "      <td>2010</td>\n",
       "      <td>40</td>\n",
       "      <td>LANDES</td>\n",
       "      <td>1750.00</td>\n",
       "      <td>26</td>\n",
       "      <td>30285.00</td>\n",
       "      <td>26</td>\n",
       "      <td>16890.00</td>\n",
       "      <td>150</td>\n",
       "      <td>33750.00</td>\n",
       "      <td>33750.00</td>\n",
       "      <td>0.00</td>\n",
       "      <td>0</td>\n",
       "    </tr>\n",
       "    <tr>\n",
       "      <th>3</th>\n",
       "      <td>G</td>\n",
       "      <td>2010</td>\n",
       "      <td>68</td>\n",
       "      <td>HAUT-RHIN</td>\n",
       "      <td>2863.26</td>\n",
       "      <td>22</td>\n",
       "      <td>275106.45</td>\n",
       "      <td>225</td>\n",
       "      <td>233217.63</td>\n",
       "      <td>1897</td>\n",
       "      <td>396422.03</td>\n",
       "      <td>396422.03</td>\n",
       "      <td>39524.03</td>\n",
       "      <td>749</td>\n",
       "    </tr>\n",
       "    <tr>\n",
       "      <th>4</th>\n",
       "      <td>G</td>\n",
       "      <td>2010</td>\n",
       "      <td>80</td>\n",
       "      <td>SOMME</td>\n",
       "      <td>0.00</td>\n",
       "      <td>0</td>\n",
       "      <td>25559.00</td>\n",
       "      <td>26</td>\n",
       "      <td>20031.00</td>\n",
       "      <td>191</td>\n",
       "      <td>31460.00</td>\n",
       "      <td>31460.00</td>\n",
       "      <td>0.00</td>\n",
       "      <td>0</td>\n",
       "    </tr>\n",
       "  </tbody>\n",
       "</table>\n",
       "</div>"
      ],
      "text/plain": [
       "  energy  year dep_code   dep_name    consoa  pdla     consoi  pdli  \\\n",
       "0      G  2010       33    GIRONDE  24797.26   169  309766.22  1058   \n",
       "1      G  2010       38      ISÈRE      0.00     0       0.00     0   \n",
       "2      G  2010       40     LANDES   1750.00    26   30285.00    26   \n",
       "3      G  2010       68  HAUT-RHIN   2863.26    22  275106.45   225   \n",
       "4      G  2010       80      SOMME      0.00     0   25559.00    26   \n",
       "\n",
       "      consot  pdlt      consor        pdlr   consona  pdlna  \n",
       "0  694655.31  8050  1019263.61  1019263.61   1630.41      8  \n",
       "1       0.00     0        0.00        0.00  32301.00   1459  \n",
       "2   16890.00   150    33750.00    33750.00      0.00      0  \n",
       "3  233217.63  1897   396422.03   396422.03  39524.03    749  \n",
       "4   20031.00   191    31460.00    31460.00      0.00      0  "
      ]
     },
     "execution_count": 77,
     "metadata": {},
     "output_type": "execute_result"
    }
   ],
   "source": [
    "# See the df head\n",
    "df_gconso_dep.head()"
   ]
  },
  {
   "cell_type": "markdown",
   "metadata": {},
   "source": [
    "We add the total consumption for each row"
   ]
  },
  {
   "cell_type": "code",
   "execution_count": 78,
   "metadata": {},
   "outputs": [],
   "source": [
    "df_gconso_dep['total']=df_gconso_dep.consoa + df_gconso_dep.consoi + df_gconso_dep.consot + df_gconso_dep.consona + df_gconso_dep.consor"
   ]
  },
  {
   "cell_type": "code",
   "execution_count": 79,
   "metadata": {},
   "outputs": [],
   "source": [
    "# Export the df in csv\n",
    "df_gconso_dep.to_csv('df_gconso_dep.csv', sep='/', index=False)"
   ]
  },
  {
   "cell_type": "markdown",
   "metadata": {},
   "source": [
    "## Consumption France level"
   ]
  },
  {
   "cell_type": "markdown",
   "metadata": {},
   "source": [
    "According to the information data file, the consor is not always the good one in order to respect confidentiality but we have the total per region. In order to do some further analysis we will create a dataframe containing the information per region"
   ]
  },
  {
   "cell_type": "code",
   "execution_count": 80,
   "metadata": {},
   "outputs": [],
   "source": [
    "df_gconso_fr=df_gconso.copy()"
   ]
  },
  {
   "cell_type": "code",
   "execution_count": 81,
   "metadata": {},
   "outputs": [],
   "source": [
    "df_gconso_fr=df_gconso_fr.groupby(['energy','year']).agg({'consoa':'sum',\n",
    "                                                                                    'pdla':'sum',\n",
    "                                                                                    'consoi':'sum',\n",
    "                                                                                    'pdli':'sum',\n",
    "                                                                                    'consot':'sum',\n",
    "                                                                                    'pdlt':'sum',\n",
    "                                                                                    'consor':'sum',\n",
    "                                                                                    'pdlr':'sum',\n",
    "                                                                                    'consona':'sum',\n",
    "                                                                                    'pdlna':'sum'}).reset_index()"
   ]
  },
  {
   "cell_type": "code",
   "execution_count": 82,
   "metadata": {},
   "outputs": [
    {
     "data": {
      "text/html": [
       "<div>\n",
       "<style scoped>\n",
       "    .dataframe tbody tr th:only-of-type {\n",
       "        vertical-align: middle;\n",
       "    }\n",
       "\n",
       "    .dataframe tbody tr th {\n",
       "        vertical-align: top;\n",
       "    }\n",
       "\n",
       "    .dataframe thead th {\n",
       "        text-align: right;\n",
       "    }\n",
       "</style>\n",
       "<table border=\"1\" class=\"dataframe\">\n",
       "  <thead>\n",
       "    <tr style=\"text-align: right;\">\n",
       "      <th></th>\n",
       "      <th>energy</th>\n",
       "      <th>year</th>\n",
       "      <th>consoa</th>\n",
       "      <th>pdla</th>\n",
       "      <th>consoi</th>\n",
       "      <th>pdli</th>\n",
       "      <th>consot</th>\n",
       "      <th>pdlt</th>\n",
       "      <th>consor</th>\n",
       "      <th>pdlr</th>\n",
       "      <th>consona</th>\n",
       "      <th>pdlna</th>\n",
       "    </tr>\n",
       "  </thead>\n",
       "  <tbody>\n",
       "    <tr>\n",
       "      <th>0</th>\n",
       "      <td>G</td>\n",
       "      <td>2010</td>\n",
       "      <td>29410.52</td>\n",
       "      <td>217</td>\n",
       "      <td>640716.67</td>\n",
       "      <td>1335</td>\n",
       "      <td>964793.94</td>\n",
       "      <td>10288</td>\n",
       "      <td>1594031.64</td>\n",
       "      <td>1594031.64</td>\n",
       "      <td>81671.44</td>\n",
       "      <td>2369</td>\n",
       "    </tr>\n",
       "    <tr>\n",
       "      <th>1</th>\n",
       "      <td>G</td>\n",
       "      <td>2011</td>\n",
       "      <td>23590.25</td>\n",
       "      <td>220</td>\n",
       "      <td>764845.08</td>\n",
       "      <td>1264</td>\n",
       "      <td>828222.29</td>\n",
       "      <td>10145</td>\n",
       "      <td>1579959.93</td>\n",
       "      <td>1579959.93</td>\n",
       "      <td>70912.56</td>\n",
       "      <td>2397</td>\n",
       "    </tr>\n",
       "    <tr>\n",
       "      <th>2</th>\n",
       "      <td>G</td>\n",
       "      <td>2012</td>\n",
       "      <td>26845.37</td>\n",
       "      <td>224</td>\n",
       "      <td>704625.38</td>\n",
       "      <td>1249</td>\n",
       "      <td>962658.38</td>\n",
       "      <td>9823</td>\n",
       "      <td>1509897.49</td>\n",
       "      <td>1509897.49</td>\n",
       "      <td>140770.07</td>\n",
       "      <td>2457</td>\n",
       "    </tr>\n",
       "    <tr>\n",
       "      <th>3</th>\n",
       "      <td>G</td>\n",
       "      <td>2013</td>\n",
       "      <td>47801.66</td>\n",
       "      <td>252</td>\n",
       "      <td>1492991.07</td>\n",
       "      <td>1395</td>\n",
       "      <td>3356624.41</td>\n",
       "      <td>11372</td>\n",
       "      <td>3783239.47</td>\n",
       "      <td>3783239.47</td>\n",
       "      <td>102457.33</td>\n",
       "      <td>2579</td>\n",
       "    </tr>\n",
       "    <tr>\n",
       "      <th>4</th>\n",
       "      <td>G</td>\n",
       "      <td>2014</td>\n",
       "      <td>37141.86</td>\n",
       "      <td>253</td>\n",
       "      <td>1432358.07</td>\n",
       "      <td>1574</td>\n",
       "      <td>2582918.86</td>\n",
       "      <td>10952</td>\n",
       "      <td>3232244.20</td>\n",
       "      <td>3232244.20</td>\n",
       "      <td>339247.78</td>\n",
       "      <td>2795</td>\n",
       "    </tr>\n",
       "  </tbody>\n",
       "</table>\n",
       "</div>"
      ],
      "text/plain": [
       "  energy  year    consoa  pdla      consoi  pdli      consot   pdlt  \\\n",
       "0      G  2010  29410.52   217   640716.67  1335   964793.94  10288   \n",
       "1      G  2011  23590.25   220   764845.08  1264   828222.29  10145   \n",
       "2      G  2012  26845.37   224   704625.38  1249   962658.38   9823   \n",
       "3      G  2013  47801.66   252  1492991.07  1395  3356624.41  11372   \n",
       "4      G  2014  37141.86   253  1432358.07  1574  2582918.86  10952   \n",
       "\n",
       "       consor        pdlr    consona  pdlna  \n",
       "0  1594031.64  1594031.64   81671.44   2369  \n",
       "1  1579959.93  1579959.93   70912.56   2397  \n",
       "2  1509897.49  1509897.49  140770.07   2457  \n",
       "3  3783239.47  3783239.47  102457.33   2579  \n",
       "4  3232244.20  3232244.20  339247.78   2795  "
      ]
     },
     "execution_count": 82,
     "metadata": {},
     "output_type": "execute_result"
    }
   ],
   "source": [
    "df_gconso_fr.head()"
   ]
  },
  {
   "cell_type": "markdown",
   "metadata": {},
   "source": [
    "As the information are not complete in consor and pdlr columns, we will set the value as 0"
   ]
  },
  {
   "cell_type": "code",
   "execution_count": 83,
   "metadata": {},
   "outputs": [],
   "source": [
    "df_gconso_fr.consor=0\n",
    "df_gconso_fr.pdlr=0"
   ]
  },
  {
   "cell_type": "markdown",
   "metadata": {},
   "source": [
    "In order to obtain the total amount for consor and pdlr columns, we will concatenate the df with the total by region"
   ]
  },
  {
   "cell_type": "code",
   "execution_count": 84,
   "metadata": {},
   "outputs": [
    {
     "name": "stderr",
     "output_type": "stream",
     "text": [
      "/usr/local/Cellar/jupyterlab/2.2.0/libexec/lib/python3.8/site-packages/pandas/core/frame.py:3065: SettingWithCopyWarning: \n",
      "A value is trying to be set on a copy of a slice from a DataFrame.\n",
      "Try using .loc[row_indexer,col_indexer] = value instead\n",
      "\n",
      "See the caveats in the documentation: https://pandas.pydata.org/pandas-docs/stable/user_guide/indexing.html#returning-a-view-versus-a-copy\n",
      "  self[k1] = value[k2]\n"
     ]
    }
   ],
   "source": [
    "df_gaz_region[['CONSOA','INDQUALA','CONSOI','INDQUALI','CONSOT','INDQUALT','CONSOR','INDQUALR','CONSONA','INDQUALNA']]=df_gaz_region[['CONSOA','INDQUALA','CONSOI','INDQUALI','CONSOT','INDQUALT','CONSOR','INDQUALR','CONSONA','INDQUALNA']].apply(lambda x: x.str.replace(',','.'))"
   ]
  },
  {
   "cell_type": "code",
   "execution_count": 85,
   "metadata": {},
   "outputs": [],
   "source": [
    "df_gaz_region[['CONSOA','INDQUALA','CONSOI','INDQUALI','CONSOT','INDQUALT','CONSOR','INDQUALR','CONSONA','INDQUALNA']]=df_gaz_region[['CONSOA','INDQUALA','CONSOI','INDQUALI','CONSOT','INDQUALT','CONSOR','INDQUALR','CONSONA','INDQUALNA']].apply(pd.to_numeric)"
   ]
  },
  {
   "cell_type": "code",
   "execution_count": 86,
   "metadata": {},
   "outputs": [],
   "source": [
    "df_gaz_fr_toconcat=df_gaz_region[['FILIERE','ANNEE','CONSOA','PDLA','CONSOI','PDLI','CONSOT','PDLT','CONSOR','PDLR','CONSONA','PDLNA']]"
   ]
  },
  {
   "cell_type": "code",
   "execution_count": 87,
   "metadata": {},
   "outputs": [],
   "source": [
    "df_gaz_fr_toconcat.columns=df_gconso_fr.columns"
   ]
  },
  {
   "cell_type": "code",
   "execution_count": 88,
   "metadata": {},
   "outputs": [],
   "source": [
    "frames1=[df_gaz_fr_toconcat, df_gconso_fr]"
   ]
  },
  {
   "cell_type": "code",
   "execution_count": 89,
   "metadata": {},
   "outputs": [],
   "source": [
    "df_g_fr=pd.concat(frames1)"
   ]
  },
  {
   "cell_type": "code",
   "execution_count": 90,
   "metadata": {},
   "outputs": [
    {
     "data": {
      "text/plain": [
       "energy     0\n",
       "year       0\n",
       "consoa     0\n",
       "pdla       0\n",
       "consoi     0\n",
       "pdli       0\n",
       "consot     0\n",
       "pdlt       0\n",
       "consor     0\n",
       "pdlr       0\n",
       "consona    0\n",
       "pdlna      0\n",
       "dtype: int64"
      ]
     },
     "execution_count": 90,
     "metadata": {},
     "output_type": "execute_result"
    }
   ],
   "source": [
    "df_g_fr.isna().sum()"
   ]
  },
  {
   "cell_type": "code",
   "execution_count": 91,
   "metadata": {},
   "outputs": [],
   "source": [
    "df_g_france=df_g_fr.groupby(['energy','year']).agg({'consoa':'sum',\n",
    "                                                                                    'pdla':'sum',\n",
    "                                                                                    'consoi':'sum',\n",
    "                                                                                    'pdli':'sum',\n",
    "                                                                                    'consot':'sum',\n",
    "                                                                                    'pdlt':'sum',\n",
    "                                                                                    'consor':'sum',\n",
    "                                                                                    'pdlr':'sum',\n",
    "                                                                                    'consona':'sum',\n",
    "                                                                                    'pdlna':'sum'}).reset_index()"
   ]
  },
  {
   "cell_type": "code",
   "execution_count": 92,
   "metadata": {},
   "outputs": [
    {
     "data": {
      "text/html": [
       "<div>\n",
       "<style scoped>\n",
       "    .dataframe tbody tr th:only-of-type {\n",
       "        vertical-align: middle;\n",
       "    }\n",
       "\n",
       "    .dataframe tbody tr th {\n",
       "        vertical-align: top;\n",
       "    }\n",
       "\n",
       "    .dataframe thead th {\n",
       "        text-align: right;\n",
       "    }\n",
       "</style>\n",
       "<table border=\"1\" class=\"dataframe\">\n",
       "  <thead>\n",
       "    <tr style=\"text-align: right;\">\n",
       "      <th></th>\n",
       "      <th>energy</th>\n",
       "      <th>year</th>\n",
       "      <th>consoa</th>\n",
       "      <th>pdla</th>\n",
       "      <th>consoi</th>\n",
       "      <th>pdli</th>\n",
       "      <th>consot</th>\n",
       "      <th>pdlt</th>\n",
       "      <th>consor</th>\n",
       "      <th>pdlr</th>\n",
       "      <th>consona</th>\n",
       "      <th>pdlna</th>\n",
       "    </tr>\n",
       "  </thead>\n",
       "  <tbody>\n",
       "    <tr>\n",
       "      <th>0</th>\n",
       "      <td>G</td>\n",
       "      <td>2010</td>\n",
       "      <td>29410.52</td>\n",
       "      <td>217</td>\n",
       "      <td>640716.67</td>\n",
       "      <td>1335</td>\n",
       "      <td>964793.94</td>\n",
       "      <td>10288</td>\n",
       "      <td>0.00</td>\n",
       "      <td>0.0</td>\n",
       "      <td>81671.44</td>\n",
       "      <td>2369</td>\n",
       "    </tr>\n",
       "    <tr>\n",
       "      <th>1</th>\n",
       "      <td>G</td>\n",
       "      <td>2011</td>\n",
       "      <td>23590.25</td>\n",
       "      <td>220</td>\n",
       "      <td>764845.08</td>\n",
       "      <td>1264</td>\n",
       "      <td>828222.29</td>\n",
       "      <td>10145</td>\n",
       "      <td>0.00</td>\n",
       "      <td>0.0</td>\n",
       "      <td>70912.56</td>\n",
       "      <td>2397</td>\n",
       "    </tr>\n",
       "    <tr>\n",
       "      <th>2</th>\n",
       "      <td>G</td>\n",
       "      <td>2012</td>\n",
       "      <td>26845.37</td>\n",
       "      <td>224</td>\n",
       "      <td>704625.38</td>\n",
       "      <td>1249</td>\n",
       "      <td>962658.38</td>\n",
       "      <td>9823</td>\n",
       "      <td>0.00</td>\n",
       "      <td>0.0</td>\n",
       "      <td>140770.07</td>\n",
       "      <td>2457</td>\n",
       "    </tr>\n",
       "    <tr>\n",
       "      <th>3</th>\n",
       "      <td>G</td>\n",
       "      <td>2013</td>\n",
       "      <td>47801.66</td>\n",
       "      <td>252</td>\n",
       "      <td>1492991.07</td>\n",
       "      <td>1395</td>\n",
       "      <td>3356624.41</td>\n",
       "      <td>11372</td>\n",
       "      <td>2537.20</td>\n",
       "      <td>136.0</td>\n",
       "      <td>102457.33</td>\n",
       "      <td>2579</td>\n",
       "    </tr>\n",
       "    <tr>\n",
       "      <th>4</th>\n",
       "      <td>G</td>\n",
       "      <td>2014</td>\n",
       "      <td>37141.86</td>\n",
       "      <td>253</td>\n",
       "      <td>1432358.07</td>\n",
       "      <td>1574</td>\n",
       "      <td>2582918.86</td>\n",
       "      <td>10952</td>\n",
       "      <td>1766.93</td>\n",
       "      <td>119.0</td>\n",
       "      <td>339247.78</td>\n",
       "      <td>2795</td>\n",
       "    </tr>\n",
       "    <tr>\n",
       "      <th>5</th>\n",
       "      <td>G</td>\n",
       "      <td>2015</td>\n",
       "      <td>48096.23</td>\n",
       "      <td>260</td>\n",
       "      <td>2282636.27</td>\n",
       "      <td>2281</td>\n",
       "      <td>3794462.97</td>\n",
       "      <td>13437</td>\n",
       "      <td>69652.63</td>\n",
       "      <td>3987.0</td>\n",
       "      <td>671627.16</td>\n",
       "      <td>3909</td>\n",
       "    </tr>\n",
       "    <tr>\n",
       "      <th>6</th>\n",
       "      <td>G</td>\n",
       "      <td>2016</td>\n",
       "      <td>65006.76</td>\n",
       "      <td>245</td>\n",
       "      <td>2905200.32</td>\n",
       "      <td>2710</td>\n",
       "      <td>4064754.07</td>\n",
       "      <td>16055</td>\n",
       "      <td>69511.21</td>\n",
       "      <td>3858.0</td>\n",
       "      <td>321725.24</td>\n",
       "      <td>1544</td>\n",
       "    </tr>\n",
       "    <tr>\n",
       "      <th>7</th>\n",
       "      <td>G</td>\n",
       "      <td>2017</td>\n",
       "      <td>16240.14</td>\n",
       "      <td>44</td>\n",
       "      <td>992862.29</td>\n",
       "      <td>596</td>\n",
       "      <td>860800.88</td>\n",
       "      <td>6190</td>\n",
       "      <td>66396.28</td>\n",
       "      <td>3720.0</td>\n",
       "      <td>296891.32</td>\n",
       "      <td>1575</td>\n",
       "    </tr>\n",
       "  </tbody>\n",
       "</table>\n",
       "</div>"
      ],
      "text/plain": [
       "  energy  year    consoa  pdla      consoi  pdli      consot   pdlt    consor  \\\n",
       "0      G  2010  29410.52   217   640716.67  1335   964793.94  10288      0.00   \n",
       "1      G  2011  23590.25   220   764845.08  1264   828222.29  10145      0.00   \n",
       "2      G  2012  26845.37   224   704625.38  1249   962658.38   9823      0.00   \n",
       "3      G  2013  47801.66   252  1492991.07  1395  3356624.41  11372   2537.20   \n",
       "4      G  2014  37141.86   253  1432358.07  1574  2582918.86  10952   1766.93   \n",
       "5      G  2015  48096.23   260  2282636.27  2281  3794462.97  13437  69652.63   \n",
       "6      G  2016  65006.76   245  2905200.32  2710  4064754.07  16055  69511.21   \n",
       "7      G  2017  16240.14    44   992862.29   596   860800.88   6190  66396.28   \n",
       "\n",
       "     pdlr    consona  pdlna  \n",
       "0     0.0   81671.44   2369  \n",
       "1     0.0   70912.56   2397  \n",
       "2     0.0  140770.07   2457  \n",
       "3   136.0  102457.33   2579  \n",
       "4   119.0  339247.78   2795  \n",
       "5  3987.0  671627.16   3909  \n",
       "6  3858.0  321725.24   1544  \n",
       "7  3720.0  296891.32   1575  "
      ]
     },
     "execution_count": 92,
     "metadata": {},
     "output_type": "execute_result"
    }
   ],
   "source": [
    "df_g_france"
   ]
  },
  {
   "cell_type": "markdown",
   "metadata": {},
   "source": [
    "We add a total column"
   ]
  },
  {
   "cell_type": "code",
   "execution_count": 93,
   "metadata": {},
   "outputs": [],
   "source": [
    "df_g_france['total']=df_g_france['consoa'] + df_g_france['consoi'] + df_g_france['consot'] + df_g_france['consor'] + df_g_france['consona']"
   ]
  },
  {
   "cell_type": "code",
   "execution_count": 94,
   "metadata": {},
   "outputs": [],
   "source": [
    "df_g_france.to_csv('df_g_tot.csv', sep='/', index=False)"
   ]
  },
  {
   "cell_type": "code",
   "execution_count": null,
   "metadata": {},
   "outputs": [],
   "source": []
  },
  {
   "cell_type": "markdown",
   "metadata": {},
   "source": [
    "## Consumption region level"
   ]
  },
  {
   "cell_type": "code",
   "execution_count": 95,
   "metadata": {},
   "outputs": [],
   "source": [
    "df_gconso_region=df_gconso.copy()"
   ]
  },
  {
   "cell_type": "code",
   "execution_count": 96,
   "metadata": {},
   "outputs": [],
   "source": [
    "df_gconso_reg=df_gconso_region.groupby(['energy','year','reg_code']).agg({'consoa':'sum',\n",
    "                                                                                    'pdla':'sum',\n",
    "                                                                                    'consoi':'sum',\n",
    "                                                                                    'pdli':'sum',\n",
    "                                                                                    'consot':'sum',\n",
    "                                                                                    'pdlt':'sum',\n",
    "                                                                                    'consor':'sum',\n",
    "                                                                                    'pdlr':'sum',\n",
    "                                                                                    'consona':'sum',\n",
    "                                                                                    'pdlna':'sum'}).reset_index()"
   ]
  },
  {
   "cell_type": "code",
   "execution_count": 97,
   "metadata": {},
   "outputs": [
    {
     "data": {
      "text/html": [
       "<div>\n",
       "<style scoped>\n",
       "    .dataframe tbody tr th:only-of-type {\n",
       "        vertical-align: middle;\n",
       "    }\n",
       "\n",
       "    .dataframe tbody tr th {\n",
       "        vertical-align: top;\n",
       "    }\n",
       "\n",
       "    .dataframe thead th {\n",
       "        text-align: right;\n",
       "    }\n",
       "</style>\n",
       "<table border=\"1\" class=\"dataframe\">\n",
       "  <thead>\n",
       "    <tr style=\"text-align: right;\">\n",
       "      <th></th>\n",
       "      <th>energy</th>\n",
       "      <th>year</th>\n",
       "      <th>reg_code</th>\n",
       "      <th>consoa</th>\n",
       "      <th>pdla</th>\n",
       "      <th>consoi</th>\n",
       "      <th>pdli</th>\n",
       "      <th>consot</th>\n",
       "      <th>pdlt</th>\n",
       "      <th>consor</th>\n",
       "      <th>pdlr</th>\n",
       "      <th>consona</th>\n",
       "      <th>pdlna</th>\n",
       "    </tr>\n",
       "  </thead>\n",
       "  <tbody>\n",
       "    <tr>\n",
       "      <th>0</th>\n",
       "      <td>G</td>\n",
       "      <td>2010</td>\n",
       "      <td>0</td>\n",
       "      <td>1553.86</td>\n",
       "      <td>10</td>\n",
       "      <td>0.00</td>\n",
       "      <td>0</td>\n",
       "      <td>351.18</td>\n",
       "      <td>3</td>\n",
       "      <td>3776.14</td>\n",
       "      <td>3776.14</td>\n",
       "      <td>0.00</td>\n",
       "      <td>0</td>\n",
       "    </tr>\n",
       "    <tr>\n",
       "      <th>1</th>\n",
       "      <td>G</td>\n",
       "      <td>2010</td>\n",
       "      <td>32</td>\n",
       "      <td>0.00</td>\n",
       "      <td>0</td>\n",
       "      <td>25559.00</td>\n",
       "      <td>26</td>\n",
       "      <td>20031.00</td>\n",
       "      <td>191</td>\n",
       "      <td>31460.00</td>\n",
       "      <td>31460.00</td>\n",
       "      <td>0.00</td>\n",
       "      <td>0</td>\n",
       "    </tr>\n",
       "    <tr>\n",
       "      <th>2</th>\n",
       "      <td>G</td>\n",
       "      <td>2010</td>\n",
       "      <td>44</td>\n",
       "      <td>2863.26</td>\n",
       "      <td>22</td>\n",
       "      <td>275106.45</td>\n",
       "      <td>225</td>\n",
       "      <td>233217.63</td>\n",
       "      <td>1897</td>\n",
       "      <td>396422.03</td>\n",
       "      <td>396422.03</td>\n",
       "      <td>39524.03</td>\n",
       "      <td>749</td>\n",
       "    </tr>\n",
       "    <tr>\n",
       "      <th>3</th>\n",
       "      <td>G</td>\n",
       "      <td>2010</td>\n",
       "      <td>75</td>\n",
       "      <td>24993.40</td>\n",
       "      <td>185</td>\n",
       "      <td>340051.22</td>\n",
       "      <td>1084</td>\n",
       "      <td>711194.13</td>\n",
       "      <td>8197</td>\n",
       "      <td>1049237.47</td>\n",
       "      <td>1049237.47</td>\n",
       "      <td>1630.41</td>\n",
       "      <td>8</td>\n",
       "    </tr>\n",
       "    <tr>\n",
       "      <th>4</th>\n",
       "      <td>G</td>\n",
       "      <td>2010</td>\n",
       "      <td>76</td>\n",
       "      <td>0.00</td>\n",
       "      <td>0</td>\n",
       "      <td>0.00</td>\n",
       "      <td>0</td>\n",
       "      <td>0.00</td>\n",
       "      <td>0</td>\n",
       "      <td>113136.00</td>\n",
       "      <td>113136.00</td>\n",
       "      <td>8216.00</td>\n",
       "      <td>153</td>\n",
       "    </tr>\n",
       "  </tbody>\n",
       "</table>\n",
       "</div>"
      ],
      "text/plain": [
       "  energy  year reg_code    consoa  pdla     consoi  pdli     consot  pdlt  \\\n",
       "0      G  2010        0   1553.86    10       0.00     0     351.18     3   \n",
       "1      G  2010       32      0.00     0   25559.00    26   20031.00   191   \n",
       "2      G  2010       44   2863.26    22  275106.45   225  233217.63  1897   \n",
       "3      G  2010       75  24993.40   185  340051.22  1084  711194.13  8197   \n",
       "4      G  2010       76      0.00     0       0.00     0       0.00     0   \n",
       "\n",
       "       consor        pdlr   consona  pdlna  \n",
       "0     3776.14     3776.14      0.00      0  \n",
       "1    31460.00    31460.00      0.00      0  \n",
       "2   396422.03   396422.03  39524.03    749  \n",
       "3  1049237.47  1049237.47   1630.41      8  \n",
       "4   113136.00   113136.00   8216.00    153  "
      ]
     },
     "execution_count": 97,
     "metadata": {},
     "output_type": "execute_result"
    }
   ],
   "source": [
    "df_gconso_reg.head()"
   ]
  },
  {
   "cell_type": "markdown",
   "metadata": {},
   "source": [
    "We will set the value at 0 for consor and pdlr as those values are not completely correct"
   ]
  },
  {
   "cell_type": "code",
   "execution_count": 98,
   "metadata": {},
   "outputs": [],
   "source": [
    "df_gconso_reg.consor=0\n",
    "df_gconso_reg.pdlr=0"
   ]
  },
  {
   "cell_type": "code",
   "execution_count": 99,
   "metadata": {},
   "outputs": [],
   "source": [
    "df_gconso_reg=df_gconso_reg.groupby(['energy','year','reg_code']).agg({'consoa':'sum',\n",
    "                                                                                    'pdla':'sum',\n",
    "                                                                                    'consoi':'sum',\n",
    "                                                                                    'pdli':'sum',\n",
    "                                                                                    'consot':'sum',\n",
    "                                                                                    'pdlt':'sum',\n",
    "                                                                                    'consor':'sum',\n",
    "                                                                                    'pdlr':'sum',\n",
    "                                                                                    'consona':'sum',\n",
    "                                                                                    'pdlna':'sum'}).reset_index()"
   ]
  },
  {
   "cell_type": "code",
   "execution_count": 100,
   "metadata": {},
   "outputs": [
    {
     "data": {
      "text/html": [
       "<div>\n",
       "<style scoped>\n",
       "    .dataframe tbody tr th:only-of-type {\n",
       "        vertical-align: middle;\n",
       "    }\n",
       "\n",
       "    .dataframe tbody tr th {\n",
       "        vertical-align: top;\n",
       "    }\n",
       "\n",
       "    .dataframe thead th {\n",
       "        text-align: right;\n",
       "    }\n",
       "</style>\n",
       "<table border=\"1\" class=\"dataframe\">\n",
       "  <thead>\n",
       "    <tr style=\"text-align: right;\">\n",
       "      <th></th>\n",
       "      <th>energy</th>\n",
       "      <th>year</th>\n",
       "      <th>reg_code</th>\n",
       "      <th>consoa</th>\n",
       "      <th>pdla</th>\n",
       "      <th>consoi</th>\n",
       "      <th>pdli</th>\n",
       "      <th>consot</th>\n",
       "      <th>pdlt</th>\n",
       "      <th>consor</th>\n",
       "      <th>pdlr</th>\n",
       "      <th>consona</th>\n",
       "      <th>pdlna</th>\n",
       "    </tr>\n",
       "  </thead>\n",
       "  <tbody>\n",
       "    <tr>\n",
       "      <th>0</th>\n",
       "      <td>G</td>\n",
       "      <td>2010</td>\n",
       "      <td>0</td>\n",
       "      <td>1553.86</td>\n",
       "      <td>10</td>\n",
       "      <td>0.00</td>\n",
       "      <td>0</td>\n",
       "      <td>351.18</td>\n",
       "      <td>3</td>\n",
       "      <td>0</td>\n",
       "      <td>0</td>\n",
       "      <td>0.00</td>\n",
       "      <td>0</td>\n",
       "    </tr>\n",
       "    <tr>\n",
       "      <th>1</th>\n",
       "      <td>G</td>\n",
       "      <td>2010</td>\n",
       "      <td>32</td>\n",
       "      <td>0.00</td>\n",
       "      <td>0</td>\n",
       "      <td>25559.00</td>\n",
       "      <td>26</td>\n",
       "      <td>20031.00</td>\n",
       "      <td>191</td>\n",
       "      <td>0</td>\n",
       "      <td>0</td>\n",
       "      <td>0.00</td>\n",
       "      <td>0</td>\n",
       "    </tr>\n",
       "    <tr>\n",
       "      <th>2</th>\n",
       "      <td>G</td>\n",
       "      <td>2010</td>\n",
       "      <td>44</td>\n",
       "      <td>2863.26</td>\n",
       "      <td>22</td>\n",
       "      <td>275106.45</td>\n",
       "      <td>225</td>\n",
       "      <td>233217.63</td>\n",
       "      <td>1897</td>\n",
       "      <td>0</td>\n",
       "      <td>0</td>\n",
       "      <td>39524.03</td>\n",
       "      <td>749</td>\n",
       "    </tr>\n",
       "    <tr>\n",
       "      <th>3</th>\n",
       "      <td>G</td>\n",
       "      <td>2010</td>\n",
       "      <td>75</td>\n",
       "      <td>24993.40</td>\n",
       "      <td>185</td>\n",
       "      <td>340051.22</td>\n",
       "      <td>1084</td>\n",
       "      <td>711194.13</td>\n",
       "      <td>8197</td>\n",
       "      <td>0</td>\n",
       "      <td>0</td>\n",
       "      <td>1630.41</td>\n",
       "      <td>8</td>\n",
       "    </tr>\n",
       "    <tr>\n",
       "      <th>4</th>\n",
       "      <td>G</td>\n",
       "      <td>2010</td>\n",
       "      <td>76</td>\n",
       "      <td>0.00</td>\n",
       "      <td>0</td>\n",
       "      <td>0.00</td>\n",
       "      <td>0</td>\n",
       "      <td>0.00</td>\n",
       "      <td>0</td>\n",
       "      <td>0</td>\n",
       "      <td>0</td>\n",
       "      <td>8216.00</td>\n",
       "      <td>153</td>\n",
       "    </tr>\n",
       "  </tbody>\n",
       "</table>\n",
       "</div>"
      ],
      "text/plain": [
       "  energy  year reg_code    consoa  pdla     consoi  pdli     consot  pdlt  \\\n",
       "0      G  2010        0   1553.86    10       0.00     0     351.18     3   \n",
       "1      G  2010       32      0.00     0   25559.00    26   20031.00   191   \n",
       "2      G  2010       44   2863.26    22  275106.45   225  233217.63  1897   \n",
       "3      G  2010       75  24993.40   185  340051.22  1084  711194.13  8197   \n",
       "4      G  2010       76      0.00     0       0.00     0       0.00     0   \n",
       "\n",
       "   consor  pdlr   consona  pdlna  \n",
       "0       0     0      0.00      0  \n",
       "1       0     0      0.00      0  \n",
       "2       0     0  39524.03    749  \n",
       "3       0     0   1630.41      8  \n",
       "4       0     0   8216.00    153  "
      ]
     },
     "execution_count": 100,
     "metadata": {},
     "output_type": "execute_result"
    }
   ],
   "source": [
    "df_gconso_reg.head()"
   ]
  },
  {
   "cell_type": "code",
   "execution_count": 101,
   "metadata": {},
   "outputs": [
    {
     "data": {
      "text/plain": [
       "76.0    8\n",
       "44.0    8\n",
       "75.0    8\n",
       "32.0    8\n",
       "84.0    8\n",
       "0.0     8\n",
       "28.0    3\n",
       "NC      3\n",
       "24.0    3\n",
       "53.0    3\n",
       "52.0    3\n",
       "Name: reg_code, dtype: int64"
      ]
     },
     "execution_count": 101,
     "metadata": {},
     "output_type": "execute_result"
    }
   ],
   "source": [
    "df_gconso_reg.reg_code.value_counts()"
   ]
  },
  {
   "cell_type": "markdown",
   "metadata": {},
   "source": [
    "We will replace the 'NC' value by 0"
   ]
  },
  {
   "cell_type": "code",
   "execution_count": 102,
   "metadata": {},
   "outputs": [],
   "source": [
    "df_gconso_reg['reg_code']=np.where(df_gconso_reg['reg_code']=='NC', 0, df_gconso_reg['reg_code'])"
   ]
  },
  {
   "cell_type": "code",
   "execution_count": 103,
   "metadata": {},
   "outputs": [],
   "source": [
    "df_gconso_reg['reg_code']=df_gconso_reg['reg_code'].astype(int)"
   ]
  },
  {
   "cell_type": "code",
   "execution_count": 104,
   "metadata": {},
   "outputs": [
    {
     "data": {
      "text/plain": [
       "0     11\n",
       "44     8\n",
       "32     8\n",
       "84     8\n",
       "76     8\n",
       "75     8\n",
       "53     3\n",
       "52     3\n",
       "28     3\n",
       "24     3\n",
       "Name: reg_code, dtype: int64"
      ]
     },
     "execution_count": 104,
     "metadata": {},
     "output_type": "execute_result"
    }
   ],
   "source": [
    "df_gconso_reg.reg_code.value_counts()"
   ]
  },
  {
   "cell_type": "code",
   "execution_count": 105,
   "metadata": {},
   "outputs": [
    {
     "data": {
      "text/html": [
       "<div>\n",
       "<style scoped>\n",
       "    .dataframe tbody tr th:only-of-type {\n",
       "        vertical-align: middle;\n",
       "    }\n",
       "\n",
       "    .dataframe tbody tr th {\n",
       "        vertical-align: top;\n",
       "    }\n",
       "\n",
       "    .dataframe thead th {\n",
       "        text-align: right;\n",
       "    }\n",
       "</style>\n",
       "<table border=\"1\" class=\"dataframe\">\n",
       "  <thead>\n",
       "    <tr style=\"text-align: right;\">\n",
       "      <th></th>\n",
       "      <th>OPERATEUR</th>\n",
       "      <th>ANNEE</th>\n",
       "      <th>FILIERE</th>\n",
       "      <th>TYPE</th>\n",
       "      <th>CODE</th>\n",
       "      <th>CONSOA</th>\n",
       "      <th>PDLA</th>\n",
       "      <th>INDQUALA</th>\n",
       "      <th>CONSOI</th>\n",
       "      <th>PDLI</th>\n",
       "      <th>INDQUALI</th>\n",
       "      <th>CONSOT</th>\n",
       "      <th>PDLT</th>\n",
       "      <th>INDQUALT</th>\n",
       "      <th>CONSOR</th>\n",
       "      <th>PDLR</th>\n",
       "      <th>INDQUALR</th>\n",
       "      <th>CONSONA</th>\n",
       "      <th>PDLNA</th>\n",
       "      <th>INDQUALNA</th>\n",
       "    </tr>\n",
       "  </thead>\n",
       "  <tbody>\n",
       "    <tr>\n",
       "      <th>74180</th>\n",
       "      <td>Réseau GDS</td>\n",
       "      <td>2013</td>\n",
       "      <td>G</td>\n",
       "      <td>Region</td>\n",
       "      <td>44</td>\n",
       "      <td>0.0</td>\n",
       "      <td>0</td>\n",
       "      <td>0.0</td>\n",
       "      <td>0.0</td>\n",
       "      <td>0</td>\n",
       "      <td>0.0</td>\n",
       "      <td>0.0</td>\n",
       "      <td>0</td>\n",
       "      <td>0.0</td>\n",
       "      <td>385.00</td>\n",
       "      <td>18.0</td>\n",
       "      <td>1.0</td>\n",
       "      <td>0.0</td>\n",
       "      <td>0</td>\n",
       "      <td>0.0</td>\n",
       "    </tr>\n",
       "    <tr>\n",
       "      <th>74181</th>\n",
       "      <td>Régie municipale multiservices de La Réole</td>\n",
       "      <td>2013</td>\n",
       "      <td>G</td>\n",
       "      <td>Region</td>\n",
       "      <td>75</td>\n",
       "      <td>0.0</td>\n",
       "      <td>0</td>\n",
       "      <td>0.0</td>\n",
       "      <td>0.0</td>\n",
       "      <td>0</td>\n",
       "      <td>0.0</td>\n",
       "      <td>0.0</td>\n",
       "      <td>0</td>\n",
       "      <td>0.0</td>\n",
       "      <td>2152.20</td>\n",
       "      <td>118.0</td>\n",
       "      <td>1.0</td>\n",
       "      <td>0.0</td>\n",
       "      <td>0</td>\n",
       "      <td>0.0</td>\n",
       "    </tr>\n",
       "    <tr>\n",
       "      <th>99063</th>\n",
       "      <td>Réseau GDS</td>\n",
       "      <td>2014</td>\n",
       "      <td>G</td>\n",
       "      <td>Region</td>\n",
       "      <td>44</td>\n",
       "      <td>0.0</td>\n",
       "      <td>0</td>\n",
       "      <td>0.0</td>\n",
       "      <td>0.0</td>\n",
       "      <td>0</td>\n",
       "      <td>0.0</td>\n",
       "      <td>0.0</td>\n",
       "      <td>0</td>\n",
       "      <td>0.0</td>\n",
       "      <td>172.00</td>\n",
       "      <td>12.0</td>\n",
       "      <td>1.0</td>\n",
       "      <td>0.0</td>\n",
       "      <td>0</td>\n",
       "      <td>0.0</td>\n",
       "    </tr>\n",
       "    <tr>\n",
       "      <th>99064</th>\n",
       "      <td>Régie municipale multiservices de La Réole</td>\n",
       "      <td>2014</td>\n",
       "      <td>G</td>\n",
       "      <td>Region</td>\n",
       "      <td>75</td>\n",
       "      <td>0.0</td>\n",
       "      <td>0</td>\n",
       "      <td>0.0</td>\n",
       "      <td>0.0</td>\n",
       "      <td>0</td>\n",
       "      <td>0.0</td>\n",
       "      <td>0.0</td>\n",
       "      <td>0</td>\n",
       "      <td>0.0</td>\n",
       "      <td>1594.93</td>\n",
       "      <td>107.0</td>\n",
       "      <td>1.0</td>\n",
       "      <td>0.0</td>\n",
       "      <td>0</td>\n",
       "      <td>0.0</td>\n",
       "    </tr>\n",
       "    <tr>\n",
       "      <th>123957</th>\n",
       "      <td>Réseau GDS</td>\n",
       "      <td>2015</td>\n",
       "      <td>G</td>\n",
       "      <td>Region</td>\n",
       "      <td>44</td>\n",
       "      <td>0.0</td>\n",
       "      <td>0</td>\n",
       "      <td>0.0</td>\n",
       "      <td>0.0</td>\n",
       "      <td>0</td>\n",
       "      <td>0.0</td>\n",
       "      <td>0.0</td>\n",
       "      <td>0</td>\n",
       "      <td>0.0</td>\n",
       "      <td>255.00</td>\n",
       "      <td>13.0</td>\n",
       "      <td>1.0</td>\n",
       "      <td>0.0</td>\n",
       "      <td>0</td>\n",
       "      <td>0.0</td>\n",
       "    </tr>\n",
       "  </tbody>\n",
       "</table>\n",
       "</div>"
      ],
      "text/plain": [
       "                                         OPERATEUR  ANNEE FILIERE    TYPE  \\\n",
       "74180                                   Réseau GDS   2013       G  Region   \n",
       "74181   Régie municipale multiservices de La Réole   2013       G  Region   \n",
       "99063                                   Réseau GDS   2014       G  Region   \n",
       "99064   Régie municipale multiservices de La Réole   2014       G  Region   \n",
       "123957                                  Réseau GDS   2015       G  Region   \n",
       "\n",
       "       CODE  CONSOA  PDLA  INDQUALA  CONSOI  PDLI  INDQUALI  CONSOT  PDLT  \\\n",
       "74180    44     0.0     0       0.0     0.0     0       0.0     0.0     0   \n",
       "74181    75     0.0     0       0.0     0.0     0       0.0     0.0     0   \n",
       "99063    44     0.0     0       0.0     0.0     0       0.0     0.0     0   \n",
       "99064    75     0.0     0       0.0     0.0     0       0.0     0.0     0   \n",
       "123957   44     0.0     0       0.0     0.0     0       0.0     0.0     0   \n",
       "\n",
       "        INDQUALT   CONSOR   PDLR  INDQUALR  CONSONA  PDLNA  INDQUALNA  \n",
       "74180        0.0   385.00   18.0       1.0      0.0      0        0.0  \n",
       "74181        0.0  2152.20  118.0       1.0      0.0      0        0.0  \n",
       "99063        0.0   172.00   12.0       1.0      0.0      0        0.0  \n",
       "99064        0.0  1594.93  107.0       1.0      0.0      0        0.0  \n",
       "123957       0.0   255.00   13.0       1.0      0.0      0        0.0  "
      ]
     },
     "execution_count": 105,
     "metadata": {},
     "output_type": "execute_result"
    }
   ],
   "source": [
    "df_gaz_region.head()"
   ]
  },
  {
   "cell_type": "code",
   "execution_count": 106,
   "metadata": {},
   "outputs": [],
   "source": [
    "df_gaz_region_toconcat=df_gaz_region[['FILIERE','ANNEE','CODE','CONSOA','PDLA','CONSOI','PDLI','CONSOT','PDLT','CONSOR','PDLR','CONSONA','PDLNA']]"
   ]
  },
  {
   "cell_type": "code",
   "execution_count": 107,
   "metadata": {},
   "outputs": [],
   "source": [
    "df_gaz_region_toconcat.columns=df_gconso_reg.columns"
   ]
  },
  {
   "cell_type": "code",
   "execution_count": 108,
   "metadata": {},
   "outputs": [
    {
     "name": "stderr",
     "output_type": "stream",
     "text": [
      "<ipython-input-108-105b9481f6c3>:2: SettingWithCopyWarning: \n",
      "A value is trying to be set on a copy of a slice from a DataFrame.\n",
      "Try using .loc[row_indexer,col_indexer] = value instead\n",
      "\n",
      "See the caveats in the documentation: https://pandas.pydata.org/pandas-docs/stable/user_guide/indexing.html#returning-a-view-versus-a-copy\n",
      "  df_gaz_region_toconcat['reg_code']=df_gaz_region_toconcat['reg_code'].apply(str)\n"
     ]
    }
   ],
   "source": [
    "df_gconso_reg['reg_code']=df_gconso_reg['reg_code'].apply(str)\n",
    "df_gaz_region_toconcat['reg_code']=df_gaz_region_toconcat['reg_code'].apply(str)"
   ]
  },
  {
   "cell_type": "code",
   "execution_count": 109,
   "metadata": {},
   "outputs": [],
   "source": [
    "frames2=[df_gaz_region_toconcat, df_gconso_reg]"
   ]
  },
  {
   "cell_type": "code",
   "execution_count": 110,
   "metadata": {},
   "outputs": [],
   "source": [
    "df_g_region=pd.concat(frames2)"
   ]
  },
  {
   "cell_type": "code",
   "execution_count": 111,
   "metadata": {},
   "outputs": [
    {
     "data": {
      "text/plain": [
       "energy      0\n",
       "year        0\n",
       "reg_code    0\n",
       "consoa      0\n",
       "pdla        0\n",
       "consoi      0\n",
       "pdli        0\n",
       "consot      0\n",
       "pdlt        0\n",
       "consor      0\n",
       "pdlr        0\n",
       "consona     0\n",
       "pdlna       0\n",
       "dtype: int64"
      ]
     },
     "execution_count": 111,
     "metadata": {},
     "output_type": "execute_result"
    }
   ],
   "source": [
    "df_g_region.isna().sum()"
   ]
  },
  {
   "cell_type": "code",
   "execution_count": 112,
   "metadata": {},
   "outputs": [],
   "source": [
    "df_g_reg=df_g_region.groupby(['energy','year','reg_code']).agg({'consoa':'sum',\n",
    "                                                                                    'pdla':'sum',\n",
    "                                                                                    'consoi':'sum',\n",
    "                                                                                    'pdli':'sum',\n",
    "                                                                                    'consot':'sum',\n",
    "                                                                                    'pdlt':'sum',\n",
    "                                                                                    'consor':'sum',\n",
    "                                                                                    'pdlr':'sum',\n",
    "                                                                                    'consona':'sum',\n",
    "                                                                                    'pdlna':'sum'}).reset_index()"
   ]
  },
  {
   "cell_type": "code",
   "execution_count": 113,
   "metadata": {},
   "outputs": [
    {
     "data": {
      "text/html": [
       "<div>\n",
       "<style scoped>\n",
       "    .dataframe tbody tr th:only-of-type {\n",
       "        vertical-align: middle;\n",
       "    }\n",
       "\n",
       "    .dataframe tbody tr th {\n",
       "        vertical-align: top;\n",
       "    }\n",
       "\n",
       "    .dataframe thead th {\n",
       "        text-align: right;\n",
       "    }\n",
       "</style>\n",
       "<table border=\"1\" class=\"dataframe\">\n",
       "  <thead>\n",
       "    <tr style=\"text-align: right;\">\n",
       "      <th></th>\n",
       "      <th>energy</th>\n",
       "      <th>year</th>\n",
       "      <th>reg_code</th>\n",
       "      <th>consoa</th>\n",
       "      <th>pdla</th>\n",
       "      <th>consoi</th>\n",
       "      <th>pdli</th>\n",
       "      <th>consot</th>\n",
       "      <th>pdlt</th>\n",
       "      <th>consor</th>\n",
       "      <th>pdlr</th>\n",
       "      <th>consona</th>\n",
       "      <th>pdlna</th>\n",
       "    </tr>\n",
       "  </thead>\n",
       "  <tbody>\n",
       "    <tr>\n",
       "      <th>0</th>\n",
       "      <td>G</td>\n",
       "      <td>2010</td>\n",
       "      <td>0</td>\n",
       "      <td>1553.86</td>\n",
       "      <td>10</td>\n",
       "      <td>0.00</td>\n",
       "      <td>0</td>\n",
       "      <td>351.18</td>\n",
       "      <td>3</td>\n",
       "      <td>0.0</td>\n",
       "      <td>0.0</td>\n",
       "      <td>0.00</td>\n",
       "      <td>0</td>\n",
       "    </tr>\n",
       "    <tr>\n",
       "      <th>1</th>\n",
       "      <td>G</td>\n",
       "      <td>2010</td>\n",
       "      <td>32</td>\n",
       "      <td>0.00</td>\n",
       "      <td>0</td>\n",
       "      <td>25559.00</td>\n",
       "      <td>26</td>\n",
       "      <td>20031.00</td>\n",
       "      <td>191</td>\n",
       "      <td>0.0</td>\n",
       "      <td>0.0</td>\n",
       "      <td>0.00</td>\n",
       "      <td>0</td>\n",
       "    </tr>\n",
       "    <tr>\n",
       "      <th>2</th>\n",
       "      <td>G</td>\n",
       "      <td>2010</td>\n",
       "      <td>44</td>\n",
       "      <td>2863.26</td>\n",
       "      <td>22</td>\n",
       "      <td>275106.45</td>\n",
       "      <td>225</td>\n",
       "      <td>233217.63</td>\n",
       "      <td>1897</td>\n",
       "      <td>0.0</td>\n",
       "      <td>0.0</td>\n",
       "      <td>39524.03</td>\n",
       "      <td>749</td>\n",
       "    </tr>\n",
       "    <tr>\n",
       "      <th>3</th>\n",
       "      <td>G</td>\n",
       "      <td>2010</td>\n",
       "      <td>75</td>\n",
       "      <td>24993.40</td>\n",
       "      <td>185</td>\n",
       "      <td>340051.22</td>\n",
       "      <td>1084</td>\n",
       "      <td>711194.13</td>\n",
       "      <td>8197</td>\n",
       "      <td>0.0</td>\n",
       "      <td>0.0</td>\n",
       "      <td>1630.41</td>\n",
       "      <td>8</td>\n",
       "    </tr>\n",
       "    <tr>\n",
       "      <th>4</th>\n",
       "      <td>G</td>\n",
       "      <td>2010</td>\n",
       "      <td>76</td>\n",
       "      <td>0.00</td>\n",
       "      <td>0</td>\n",
       "      <td>0.00</td>\n",
       "      <td>0</td>\n",
       "      <td>0.00</td>\n",
       "      <td>0</td>\n",
       "      <td>0.0</td>\n",
       "      <td>0.0</td>\n",
       "      <td>8216.00</td>\n",
       "      <td>153</td>\n",
       "    </tr>\n",
       "  </tbody>\n",
       "</table>\n",
       "</div>"
      ],
      "text/plain": [
       "  energy  year reg_code    consoa  pdla     consoi  pdli     consot  pdlt  \\\n",
       "0      G  2010        0   1553.86    10       0.00     0     351.18     3   \n",
       "1      G  2010       32      0.00     0   25559.00    26   20031.00   191   \n",
       "2      G  2010       44   2863.26    22  275106.45   225  233217.63  1897   \n",
       "3      G  2010       75  24993.40   185  340051.22  1084  711194.13  8197   \n",
       "4      G  2010       76      0.00     0       0.00     0       0.00     0   \n",
       "\n",
       "   consor  pdlr   consona  pdlna  \n",
       "0     0.0   0.0      0.00      0  \n",
       "1     0.0   0.0      0.00      0  \n",
       "2     0.0   0.0  39524.03    749  \n",
       "3     0.0   0.0   1630.41      8  \n",
       "4     0.0   0.0   8216.00    153  "
      ]
     },
     "execution_count": 113,
     "metadata": {},
     "output_type": "execute_result"
    }
   ],
   "source": [
    "df_g_reg.head()"
   ]
  },
  {
   "cell_type": "markdown",
   "metadata": {},
   "source": [
    "Now we will add the name of the region"
   ]
  },
  {
   "cell_type": "code",
   "execution_count": 114,
   "metadata": {},
   "outputs": [],
   "source": [
    "df_reg=pd.read_csv('/Users/Jeff/Ironhack/248_Repo/Projects/Final project/Area/df_reg.csv', sep='/')"
   ]
  },
  {
   "cell_type": "code",
   "execution_count": 115,
   "metadata": {},
   "outputs": [
    {
     "data": {
      "text/html": [
       "<div>\n",
       "<style scoped>\n",
       "    .dataframe tbody tr th:only-of-type {\n",
       "        vertical-align: middle;\n",
       "    }\n",
       "\n",
       "    .dataframe tbody tr th {\n",
       "        vertical-align: top;\n",
       "    }\n",
       "\n",
       "    .dataframe thead th {\n",
       "        text-align: right;\n",
       "    }\n",
       "</style>\n",
       "<table border=\"1\" class=\"dataframe\">\n",
       "  <thead>\n",
       "    <tr style=\"text-align: right;\">\n",
       "      <th></th>\n",
       "      <th>reg_code</th>\n",
       "      <th>reg_name</th>\n",
       "    </tr>\n",
       "  </thead>\n",
       "  <tbody>\n",
       "    <tr>\n",
       "      <th>0</th>\n",
       "      <td>1</td>\n",
       "      <td>GUADELOUPE</td>\n",
       "    </tr>\n",
       "    <tr>\n",
       "      <th>1</th>\n",
       "      <td>2</td>\n",
       "      <td>MARTINIQUE</td>\n",
       "    </tr>\n",
       "    <tr>\n",
       "      <th>2</th>\n",
       "      <td>3</td>\n",
       "      <td>GUYANE</td>\n",
       "    </tr>\n",
       "    <tr>\n",
       "      <th>3</th>\n",
       "      <td>4</td>\n",
       "      <td>LA REUNION</td>\n",
       "    </tr>\n",
       "    <tr>\n",
       "      <th>4</th>\n",
       "      <td>6</td>\n",
       "      <td>MAYOTTE</td>\n",
       "    </tr>\n",
       "  </tbody>\n",
       "</table>\n",
       "</div>"
      ],
      "text/plain": [
       "   reg_code    reg_name\n",
       "0         1  GUADELOUPE\n",
       "1         2  MARTINIQUE\n",
       "2         3      GUYANE\n",
       "3         4  LA REUNION\n",
       "4         6     MAYOTTE"
      ]
     },
     "execution_count": 115,
     "metadata": {},
     "output_type": "execute_result"
    }
   ],
   "source": [
    "df_reg.head()"
   ]
  },
  {
   "cell_type": "code",
   "execution_count": 116,
   "metadata": {},
   "outputs": [],
   "source": [
    "df_g_reg['reg_code']=df_g_reg['reg_code'].apply(str)\n",
    "df_reg['reg_code']=df_reg['reg_code'].apply(str)"
   ]
  },
  {
   "cell_type": "code",
   "execution_count": 117,
   "metadata": {},
   "outputs": [],
   "source": [
    "df_gazconso_reg = pd.merge(df_g_reg, df_reg, how='left', on=['reg_code'])"
   ]
  },
  {
   "cell_type": "code",
   "execution_count": 118,
   "metadata": {},
   "outputs": [
    {
     "data": {
      "text/plain": [
       "energy      0\n",
       "year        0\n",
       "reg_code    0\n",
       "consoa      0\n",
       "pdla        0\n",
       "consoi      0\n",
       "pdli        0\n",
       "consot      0\n",
       "pdlt        0\n",
       "consor      0\n",
       "pdlr        0\n",
       "consona     0\n",
       "pdlna       0\n",
       "reg_name    8\n",
       "dtype: int64"
      ]
     },
     "execution_count": 118,
     "metadata": {},
     "output_type": "execute_result"
    }
   ],
   "source": [
    "df_gazconso_reg.isna().sum()"
   ]
  },
  {
   "cell_type": "code",
   "execution_count": 119,
   "metadata": {},
   "outputs": [
    {
     "data": {
      "text/html": [
       "<div>\n",
       "<style scoped>\n",
       "    .dataframe tbody tr th:only-of-type {\n",
       "        vertical-align: middle;\n",
       "    }\n",
       "\n",
       "    .dataframe tbody tr th {\n",
       "        vertical-align: top;\n",
       "    }\n",
       "\n",
       "    .dataframe thead th {\n",
       "        text-align: right;\n",
       "    }\n",
       "</style>\n",
       "<table border=\"1\" class=\"dataframe\">\n",
       "  <thead>\n",
       "    <tr style=\"text-align: right;\">\n",
       "      <th></th>\n",
       "      <th>energy</th>\n",
       "      <th>year</th>\n",
       "      <th>reg_code</th>\n",
       "      <th>consoa</th>\n",
       "      <th>pdla</th>\n",
       "      <th>consoi</th>\n",
       "      <th>pdli</th>\n",
       "      <th>consot</th>\n",
       "      <th>pdlt</th>\n",
       "      <th>consor</th>\n",
       "      <th>pdlr</th>\n",
       "      <th>consona</th>\n",
       "      <th>pdlna</th>\n",
       "      <th>reg_name</th>\n",
       "    </tr>\n",
       "  </thead>\n",
       "  <tbody>\n",
       "    <tr>\n",
       "      <th>0</th>\n",
       "      <td>G</td>\n",
       "      <td>2010</td>\n",
       "      <td>0</td>\n",
       "      <td>1553.86</td>\n",
       "      <td>10</td>\n",
       "      <td>0.0</td>\n",
       "      <td>0</td>\n",
       "      <td>351.18</td>\n",
       "      <td>3</td>\n",
       "      <td>0.0</td>\n",
       "      <td>0.0</td>\n",
       "      <td>0.00</td>\n",
       "      <td>0</td>\n",
       "      <td>NaN</td>\n",
       "    </tr>\n",
       "    <tr>\n",
       "      <th>6</th>\n",
       "      <td>G</td>\n",
       "      <td>2011</td>\n",
       "      <td>0</td>\n",
       "      <td>941.21</td>\n",
       "      <td>10</td>\n",
       "      <td>0.0</td>\n",
       "      <td>0</td>\n",
       "      <td>239.91</td>\n",
       "      <td>3</td>\n",
       "      <td>0.0</td>\n",
       "      <td>0.0</td>\n",
       "      <td>0.00</td>\n",
       "      <td>0</td>\n",
       "      <td>NaN</td>\n",
       "    </tr>\n",
       "    <tr>\n",
       "      <th>12</th>\n",
       "      <td>G</td>\n",
       "      <td>2012</td>\n",
       "      <td>0</td>\n",
       "      <td>1157.70</td>\n",
       "      <td>10</td>\n",
       "      <td>0.0</td>\n",
       "      <td>0</td>\n",
       "      <td>250.18</td>\n",
       "      <td>3</td>\n",
       "      <td>0.0</td>\n",
       "      <td>0.0</td>\n",
       "      <td>0.00</td>\n",
       "      <td>0</td>\n",
       "      <td>NaN</td>\n",
       "    </tr>\n",
       "    <tr>\n",
       "      <th>18</th>\n",
       "      <td>G</td>\n",
       "      <td>2013</td>\n",
       "      <td>0</td>\n",
       "      <td>1196.92</td>\n",
       "      <td>11</td>\n",
       "      <td>0.0</td>\n",
       "      <td>0</td>\n",
       "      <td>237.84</td>\n",
       "      <td>2</td>\n",
       "      <td>0.0</td>\n",
       "      <td>0.0</td>\n",
       "      <td>0.00</td>\n",
       "      <td>0</td>\n",
       "      <td>NaN</td>\n",
       "    </tr>\n",
       "    <tr>\n",
       "      <th>24</th>\n",
       "      <td>G</td>\n",
       "      <td>2014</td>\n",
       "      <td>0</td>\n",
       "      <td>954.52</td>\n",
       "      <td>11</td>\n",
       "      <td>0.0</td>\n",
       "      <td>0</td>\n",
       "      <td>276.25</td>\n",
       "      <td>3</td>\n",
       "      <td>0.0</td>\n",
       "      <td>0.0</td>\n",
       "      <td>0.00</td>\n",
       "      <td>0</td>\n",
       "      <td>NaN</td>\n",
       "    </tr>\n",
       "    <tr>\n",
       "      <th>30</th>\n",
       "      <td>G</td>\n",
       "      <td>2015</td>\n",
       "      <td>0</td>\n",
       "      <td>1088.93</td>\n",
       "      <td>12</td>\n",
       "      <td>124.0</td>\n",
       "      <td>2</td>\n",
       "      <td>489.76</td>\n",
       "      <td>11</td>\n",
       "      <td>0.0</td>\n",
       "      <td>0.0</td>\n",
       "      <td>4359.32</td>\n",
       "      <td>6</td>\n",
       "      <td>NaN</td>\n",
       "    </tr>\n",
       "    <tr>\n",
       "      <th>43</th>\n",
       "      <td>G</td>\n",
       "      <td>2016</td>\n",
       "      <td>0</td>\n",
       "      <td>1100.04</td>\n",
       "      <td>12</td>\n",
       "      <td>73.0</td>\n",
       "      <td>2</td>\n",
       "      <td>594.67</td>\n",
       "      <td>11</td>\n",
       "      <td>0.0</td>\n",
       "      <td>0.0</td>\n",
       "      <td>0.00</td>\n",
       "      <td>0</td>\n",
       "      <td>NaN</td>\n",
       "    </tr>\n",
       "    <tr>\n",
       "      <th>56</th>\n",
       "      <td>G</td>\n",
       "      <td>2017</td>\n",
       "      <td>0</td>\n",
       "      <td>0.00</td>\n",
       "      <td>0</td>\n",
       "      <td>129.0</td>\n",
       "      <td>2</td>\n",
       "      <td>460.00</td>\n",
       "      <td>10</td>\n",
       "      <td>0.0</td>\n",
       "      <td>0.0</td>\n",
       "      <td>0.00</td>\n",
       "      <td>0</td>\n",
       "      <td>NaN</td>\n",
       "    </tr>\n",
       "  </tbody>\n",
       "</table>\n",
       "</div>"
      ],
      "text/plain": [
       "   energy  year reg_code   consoa  pdla  consoi  pdli  consot  pdlt  consor  \\\n",
       "0       G  2010        0  1553.86    10     0.0     0  351.18     3     0.0   \n",
       "6       G  2011        0   941.21    10     0.0     0  239.91     3     0.0   \n",
       "12      G  2012        0  1157.70    10     0.0     0  250.18     3     0.0   \n",
       "18      G  2013        0  1196.92    11     0.0     0  237.84     2     0.0   \n",
       "24      G  2014        0   954.52    11     0.0     0  276.25     3     0.0   \n",
       "30      G  2015        0  1088.93    12   124.0     2  489.76    11     0.0   \n",
       "43      G  2016        0  1100.04    12    73.0     2  594.67    11     0.0   \n",
       "56      G  2017        0     0.00     0   129.0     2  460.00    10     0.0   \n",
       "\n",
       "    pdlr  consona  pdlna reg_name  \n",
       "0    0.0     0.00      0      NaN  \n",
       "6    0.0     0.00      0      NaN  \n",
       "12   0.0     0.00      0      NaN  \n",
       "18   0.0     0.00      0      NaN  \n",
       "24   0.0     0.00      0      NaN  \n",
       "30   0.0  4359.32      6      NaN  \n",
       "43   0.0     0.00      0      NaN  \n",
       "56   0.0     0.00      0      NaN  "
      ]
     },
     "execution_count": 119,
     "metadata": {},
     "output_type": "execute_result"
    }
   ],
   "source": [
    "df_gazconso_reg[df_gazconso_reg.isnull().any(axis=1)]"
   ]
  },
  {
   "cell_type": "code",
   "execution_count": 120,
   "metadata": {},
   "outputs": [],
   "source": [
    "df_gazconso_reg.fillna('OTHER', inplace=True)"
   ]
  },
  {
   "cell_type": "code",
   "execution_count": 121,
   "metadata": {},
   "outputs": [
    {
     "data": {
      "text/plain": [
       "energy      0\n",
       "year        0\n",
       "reg_code    0\n",
       "consoa      0\n",
       "pdla        0\n",
       "consoi      0\n",
       "pdli        0\n",
       "consot      0\n",
       "pdlt        0\n",
       "consor      0\n",
       "pdlr        0\n",
       "consona     0\n",
       "pdlna       0\n",
       "reg_name    0\n",
       "dtype: int64"
      ]
     },
     "execution_count": 121,
     "metadata": {},
     "output_type": "execute_result"
    }
   ],
   "source": [
    "df_gazconso_reg.isna().sum()"
   ]
  },
  {
   "cell_type": "markdown",
   "metadata": {},
   "source": [
    "We will add a total column"
   ]
  },
  {
   "cell_type": "code",
   "execution_count": 122,
   "metadata": {},
   "outputs": [],
   "source": [
    "df_gazconso_reg['total']= df_gazconso_reg['consoa'] + df_gazconso_reg['consoi'] + df_gazconso_reg['consot'] + df_gazconso_reg['consor'] + df_gazconso_reg['consona']"
   ]
  },
  {
   "cell_type": "code",
   "execution_count": 123,
   "metadata": {},
   "outputs": [],
   "source": [
    "df_gazconso_reg.to_csv('df_gconso_reg.csv', sep='/', index=False)"
   ]
  },
  {
   "cell_type": "code",
   "execution_count": null,
   "metadata": {},
   "outputs": [],
   "source": []
  },
  {
   "cell_type": "code",
   "execution_count": 124,
   "metadata": {},
   "outputs": [
    {
     "data": {
      "text/html": [
       "<div>\n",
       "<style scoped>\n",
       "    .dataframe tbody tr th:only-of-type {\n",
       "        vertical-align: middle;\n",
       "    }\n",
       "\n",
       "    .dataframe tbody tr th {\n",
       "        vertical-align: top;\n",
       "    }\n",
       "\n",
       "    .dataframe thead th {\n",
       "        text-align: right;\n",
       "    }\n",
       "</style>\n",
       "<table border=\"1\" class=\"dataframe\">\n",
       "  <thead>\n",
       "    <tr style=\"text-align: right;\">\n",
       "      <th></th>\n",
       "      <th>energy</th>\n",
       "      <th>year</th>\n",
       "      <th>consoa</th>\n",
       "      <th>pdla</th>\n",
       "      <th>consoi</th>\n",
       "      <th>pdli</th>\n",
       "      <th>consot</th>\n",
       "      <th>pdlt</th>\n",
       "      <th>consor</th>\n",
       "      <th>pdlr</th>\n",
       "      <th>consona</th>\n",
       "      <th>pdlna</th>\n",
       "      <th>total</th>\n",
       "    </tr>\n",
       "  </thead>\n",
       "  <tbody>\n",
       "    <tr>\n",
       "      <th>0</th>\n",
       "      <td>G</td>\n",
       "      <td>2010</td>\n",
       "      <td>29410.52</td>\n",
       "      <td>217</td>\n",
       "      <td>640716.67</td>\n",
       "      <td>1335</td>\n",
       "      <td>964793.94</td>\n",
       "      <td>10288</td>\n",
       "      <td>0.00</td>\n",
       "      <td>0.0</td>\n",
       "      <td>81671.44</td>\n",
       "      <td>2369</td>\n",
       "      <td>1716592.57</td>\n",
       "    </tr>\n",
       "    <tr>\n",
       "      <th>1</th>\n",
       "      <td>G</td>\n",
       "      <td>2011</td>\n",
       "      <td>23590.25</td>\n",
       "      <td>220</td>\n",
       "      <td>764845.08</td>\n",
       "      <td>1264</td>\n",
       "      <td>828222.29</td>\n",
       "      <td>10145</td>\n",
       "      <td>0.00</td>\n",
       "      <td>0.0</td>\n",
       "      <td>70912.56</td>\n",
       "      <td>2397</td>\n",
       "      <td>1687570.18</td>\n",
       "    </tr>\n",
       "    <tr>\n",
       "      <th>2</th>\n",
       "      <td>G</td>\n",
       "      <td>2012</td>\n",
       "      <td>26845.37</td>\n",
       "      <td>224</td>\n",
       "      <td>704625.38</td>\n",
       "      <td>1249</td>\n",
       "      <td>962658.38</td>\n",
       "      <td>9823</td>\n",
       "      <td>0.00</td>\n",
       "      <td>0.0</td>\n",
       "      <td>140770.07</td>\n",
       "      <td>2457</td>\n",
       "      <td>1834899.20</td>\n",
       "    </tr>\n",
       "    <tr>\n",
       "      <th>3</th>\n",
       "      <td>G</td>\n",
       "      <td>2013</td>\n",
       "      <td>47801.66</td>\n",
       "      <td>252</td>\n",
       "      <td>1492991.07</td>\n",
       "      <td>1395</td>\n",
       "      <td>3356624.41</td>\n",
       "      <td>11372</td>\n",
       "      <td>2537.20</td>\n",
       "      <td>136.0</td>\n",
       "      <td>102457.33</td>\n",
       "      <td>2579</td>\n",
       "      <td>5002411.67</td>\n",
       "    </tr>\n",
       "    <tr>\n",
       "      <th>4</th>\n",
       "      <td>G</td>\n",
       "      <td>2014</td>\n",
       "      <td>37141.86</td>\n",
       "      <td>253</td>\n",
       "      <td>1432358.07</td>\n",
       "      <td>1574</td>\n",
       "      <td>2582918.86</td>\n",
       "      <td>10952</td>\n",
       "      <td>1766.93</td>\n",
       "      <td>119.0</td>\n",
       "      <td>339247.78</td>\n",
       "      <td>2795</td>\n",
       "      <td>4393433.50</td>\n",
       "    </tr>\n",
       "  </tbody>\n",
       "</table>\n",
       "</div>"
      ],
      "text/plain": [
       "  energy  year    consoa  pdla      consoi  pdli      consot   pdlt   consor  \\\n",
       "0      G  2010  29410.52   217   640716.67  1335   964793.94  10288     0.00   \n",
       "1      G  2011  23590.25   220   764845.08  1264   828222.29  10145     0.00   \n",
       "2      G  2012  26845.37   224   704625.38  1249   962658.38   9823     0.00   \n",
       "3      G  2013  47801.66   252  1492991.07  1395  3356624.41  11372  2537.20   \n",
       "4      G  2014  37141.86   253  1432358.07  1574  2582918.86  10952  1766.93   \n",
       "\n",
       "    pdlr    consona  pdlna       total  \n",
       "0    0.0   81671.44   2369  1716592.57  \n",
       "1    0.0   70912.56   2397  1687570.18  \n",
       "2    0.0  140770.07   2457  1834899.20  \n",
       "3  136.0  102457.33   2579  5002411.67  \n",
       "4  119.0  339247.78   2795  4393433.50  "
      ]
     },
     "execution_count": 124,
     "metadata": {},
     "output_type": "execute_result"
    }
   ],
   "source": [
    "df_g_france.head()"
   ]
  },
  {
   "cell_type": "code",
   "execution_count": 125,
   "metadata": {},
   "outputs": [
    {
     "data": {
      "text/html": [
       "<div>\n",
       "<style scoped>\n",
       "    .dataframe tbody tr th:only-of-type {\n",
       "        vertical-align: middle;\n",
       "    }\n",
       "\n",
       "    .dataframe tbody tr th {\n",
       "        vertical-align: top;\n",
       "    }\n",
       "\n",
       "    .dataframe thead th {\n",
       "        text-align: right;\n",
       "    }\n",
       "</style>\n",
       "<table border=\"1\" class=\"dataframe\">\n",
       "  <thead>\n",
       "    <tr style=\"text-align: right;\">\n",
       "      <th></th>\n",
       "      <th>energy</th>\n",
       "      <th>year</th>\n",
       "      <th>consoa</th>\n",
       "      <th>pdla</th>\n",
       "      <th>consoi</th>\n",
       "      <th>pdli</th>\n",
       "      <th>consot</th>\n",
       "      <th>pdlt</th>\n",
       "      <th>consor</th>\n",
       "      <th>pdlr</th>\n",
       "      <th>consona</th>\n",
       "      <th>pdlna</th>\n",
       "      <th>total</th>\n",
       "    </tr>\n",
       "  </thead>\n",
       "  <tbody>\n",
       "    <tr>\n",
       "      <th>6</th>\n",
       "      <td>G</td>\n",
       "      <td>2016</td>\n",
       "      <td>65006.76</td>\n",
       "      <td>245</td>\n",
       "      <td>2905200.32</td>\n",
       "      <td>2710</td>\n",
       "      <td>4064754.07</td>\n",
       "      <td>16055</td>\n",
       "      <td>69511.21</td>\n",
       "      <td>3858.0</td>\n",
       "      <td>321725.24</td>\n",
       "      <td>1544</td>\n",
       "      <td>7426197.6</td>\n",
       "    </tr>\n",
       "  </tbody>\n",
       "</table>\n",
       "</div>"
      ],
      "text/plain": [
       "  energy  year    consoa  pdla      consoi  pdli      consot   pdlt    consor  \\\n",
       "6      G  2016  65006.76   245  2905200.32  2710  4064754.07  16055  69511.21   \n",
       "\n",
       "     pdlr    consona  pdlna      total  \n",
       "6  3858.0  321725.24   1544  7426197.6  "
      ]
     },
     "execution_count": 125,
     "metadata": {},
     "output_type": "execute_result"
    }
   ],
   "source": [
    "df_g_france[df_g_france['year']==2016]"
   ]
  },
  {
   "cell_type": "code",
   "execution_count": 126,
   "metadata": {},
   "outputs": [
    {
     "data": {
      "text/plain": [
       "6    0.009784\n",
       "dtype: float64"
      ]
     },
     "execution_count": 126,
     "metadata": {},
     "output_type": "execute_result"
    }
   ],
   "source": [
    "df_g_france['consor'][df_g_france['year']==2016] / (df_g_france['total'][df_g_france['year']==2016]-df_g_france['consona'][df_g_france['year']==2016])"
   ]
  },
  {
   "cell_type": "code",
   "execution_count": 137,
   "metadata": {},
   "outputs": [
    {
     "data": {
      "text/plain": [
       "6    0.00915\n",
       "dtype: float64"
      ]
     },
     "execution_count": 137,
     "metadata": {},
     "output_type": "execute_result"
    }
   ],
   "source": [
    "df_g_france['consoa'][df_g_france['year']==2016] / (df_g_france['total'][df_g_france['year']==2016]-df_g_france['consona'][df_g_france['year']==2016])"
   ]
  },
  {
   "cell_type": "code",
   "execution_count": 138,
   "metadata": {},
   "outputs": [
    {
     "data": {
      "text/plain": [
       "6    0.408926\n",
       "dtype: float64"
      ]
     },
     "execution_count": 138,
     "metadata": {},
     "output_type": "execute_result"
    }
   ],
   "source": [
    "df_g_france['consoi'][df_g_france['year']==2016] / (df_g_france['total'][df_g_france['year']==2016]-df_g_france['consona'][df_g_france['year']==2016])"
   ]
  },
  {
   "cell_type": "code",
   "execution_count": 139,
   "metadata": {},
   "outputs": [
    {
     "data": {
      "text/plain": [
       "6    0.57214\n",
       "dtype: float64"
      ]
     },
     "execution_count": 139,
     "metadata": {},
     "output_type": "execute_result"
    }
   ],
   "source": [
    "df_g_france['consot'][df_g_france['year']==2016] / (df_g_france['total'][df_g_france['year']==2016]-df_g_france['consona'][df_g_france['year']==2016])"
   ]
  },
  {
   "cell_type": "code",
   "execution_count": null,
   "metadata": {},
   "outputs": [],
   "source": []
  }
 ],
 "metadata": {
  "kernelspec": {
   "display_name": "Python 3",
   "language": "python",
   "name": "python3"
  },
  "language_info": {
   "codemirror_mode": {
    "name": "ipython",
    "version": 3
   },
   "file_extension": ".py",
   "mimetype": "text/x-python",
   "name": "python",
   "nbconvert_exporter": "python",
   "pygments_lexer": "ipython3",
   "version": "3.8.5"
  },
  "toc": {
   "base_numbering": 1,
   "nav_menu": {},
   "number_sections": true,
   "sideBar": true,
   "skip_h1_title": false,
   "title_cell": "Table of Contents",
   "title_sidebar": "Contents",
   "toc_cell": false,
   "toc_position": {},
   "toc_section_display": true,
   "toc_window_display": false
  }
 },
 "nbformat": 4,
 "nbformat_minor": 4
}
