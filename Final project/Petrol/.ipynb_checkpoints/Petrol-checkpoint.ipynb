{
 "cells": [
  {
   "cell_type": "markdown",
   "metadata": {},
   "source": [
    "# Import librairies"
   ]
  },
  {
   "cell_type": "code",
   "execution_count": 1,
   "metadata": {},
   "outputs": [],
   "source": [
    "import pandas as pd\n",
    "import numpy as np"
   ]
  },
  {
   "cell_type": "markdown",
   "metadata": {},
   "source": [
    "# Get the data"
   ]
  },
  {
   "cell_type": "markdown",
   "metadata": {},
   "source": [
    "We will first create dataframes for each year and then concatenate all years dataframes"
   ]
  },
  {
   "cell_type": "markdown",
   "metadata": {},
   "source": [
    "We know from the presentation data file, that the data are very low before 2010, so we will extract only dataframes from year 2010"
   ]
  },
  {
   "cell_type": "code",
   "execution_count": 2,
   "metadata": {},
   "outputs": [],
   "source": [
    "df_2010=pd.read_csv('/Users/Jeff/Ironhack/248_Repo/Projects/Final project/Oil/Data new/donnees_produits petroliers_2010.csv', encoding = \"ISO-8859-1\", sep=';')"
   ]
  },
  {
   "cell_type": "code",
   "execution_count": 3,
   "metadata": {},
   "outputs": [
    {
     "data": {
      "text/plain": [
       "(111, 14)"
      ]
     },
     "execution_count": 3,
     "metadata": {},
     "output_type": "execute_result"
    }
   ],
   "source": [
    "df_2010.shape"
   ]
  },
  {
   "cell_type": "code",
   "execution_count": 4,
   "metadata": {},
   "outputs": [],
   "source": [
    "df_2011=pd.read_csv('/Users/Jeff/Ironhack/248_Repo/Projects/Final project/Oil/Data new/donnees_produits petroliers_2011.csv', encoding = \"ISO-8859-1\", sep=';')"
   ]
  },
  {
   "cell_type": "code",
   "execution_count": 5,
   "metadata": {},
   "outputs": [
    {
     "data": {
      "text/plain": [
       "(111, 15)"
      ]
     },
     "execution_count": 5,
     "metadata": {},
     "output_type": "execute_result"
    }
   ],
   "source": [
    "df_2011.shape"
   ]
  },
  {
   "cell_type": "code",
   "execution_count": 6,
   "metadata": {},
   "outputs": [],
   "source": [
    "df_2012=pd.read_csv('/Users/Jeff/Ironhack/248_Repo/Projects/Final project/Oil/Data new/donnees_produits petroliers_2012.csv', encoding = \"ISO-8859-1\", sep=';')"
   ]
  },
  {
   "cell_type": "code",
   "execution_count": 7,
   "metadata": {},
   "outputs": [
    {
     "data": {
      "text/plain": [
       "(111, 14)"
      ]
     },
     "execution_count": 7,
     "metadata": {},
     "output_type": "execute_result"
    }
   ],
   "source": [
    "df_2012.shape"
   ]
  },
  {
   "cell_type": "code",
   "execution_count": 8,
   "metadata": {},
   "outputs": [],
   "source": [
    "df_2013=pd.read_csv('/Users/Jeff/Ironhack/248_Repo/Projects/Final project/Oil/Data new/donnees_produits petroliers_2013.csv', encoding = \"ISO-8859-1\", sep=';')"
   ]
  },
  {
   "cell_type": "code",
   "execution_count": 9,
   "metadata": {},
   "outputs": [
    {
     "data": {
      "text/plain": [
       "(111, 14)"
      ]
     },
     "execution_count": 9,
     "metadata": {},
     "output_type": "execute_result"
    }
   ],
   "source": [
    "df_2013.shape"
   ]
  },
  {
   "cell_type": "code",
   "execution_count": 10,
   "metadata": {},
   "outputs": [],
   "source": [
    "df_2014=pd.read_csv('/Users/Jeff/Ironhack/248_Repo/Projects/Final project/Oil/Data new/donnees_produits petroliers_2014.csv', encoding = \"ISO-8859-1\", sep=';')"
   ]
  },
  {
   "cell_type": "code",
   "execution_count": 11,
   "metadata": {},
   "outputs": [
    {
     "data": {
      "text/plain": [
       "(111, 14)"
      ]
     },
     "execution_count": 11,
     "metadata": {},
     "output_type": "execute_result"
    }
   ],
   "source": [
    "df_2014.shape"
   ]
  },
  {
   "cell_type": "code",
   "execution_count": 12,
   "metadata": {},
   "outputs": [],
   "source": [
    "df_2015=pd.read_csv('/Users/Jeff/Ironhack/248_Repo/Projects/Final project/Oil/Data new/donnees_produits petroliers_2015.csv', encoding = \"ISO-8859-1\", sep=';')"
   ]
  },
  {
   "cell_type": "code",
   "execution_count": 13,
   "metadata": {},
   "outputs": [
    {
     "data": {
      "text/plain": [
       "(111, 14)"
      ]
     },
     "execution_count": 13,
     "metadata": {},
     "output_type": "execute_result"
    }
   ],
   "source": [
    "df_2015.shape"
   ]
  },
  {
   "cell_type": "code",
   "execution_count": 14,
   "metadata": {},
   "outputs": [],
   "source": [
    "df_2016=pd.read_csv('/Users/Jeff/Ironhack/248_Repo/Projects/Final project/Oil/Data new/donnees_produits petroliers_2016.csv', encoding = \"ISO-8859-1\", sep=';')"
   ]
  },
  {
   "cell_type": "code",
   "execution_count": 15,
   "metadata": {},
   "outputs": [
    {
     "data": {
      "text/plain": [
       "(111, 15)"
      ]
     },
     "execution_count": 15,
     "metadata": {},
     "output_type": "execute_result"
    }
   ],
   "source": [
    "df_2016.shape"
   ]
  },
  {
   "cell_type": "code",
   "execution_count": 16,
   "metadata": {},
   "outputs": [],
   "source": [
    "df_2017=pd.read_csv('/Users/Jeff/Ironhack/248_Repo/Projects/Final project/Oil/Data new/donnees_produits petroliers_2017.csv', encoding = \"ISO-8859-1\", sep=';', error_bad_lines=False)"
   ]
  },
  {
   "cell_type": "code",
   "execution_count": 17,
   "metadata": {},
   "outputs": [
    {
     "data": {
      "text/plain": [
       "(118, 15)"
      ]
     },
     "execution_count": 17,
     "metadata": {},
     "output_type": "execute_result"
    }
   ],
   "source": [
    "df_2017.shape"
   ]
  },
  {
   "cell_type": "code",
   "execution_count": 18,
   "metadata": {},
   "outputs": [],
   "source": [
    "df_2018=pd.read_csv('/Users/Jeff/Ironhack/248_Repo/Projects/Final project/Oil/Data new/donnees_produits petroliers_2018.csv', encoding = \"ISO-8859-1\", sep=';', error_bad_lines=False)"
   ]
  },
  {
   "cell_type": "code",
   "execution_count": 19,
   "metadata": {},
   "outputs": [
    {
     "data": {
      "text/plain": [
       "(110, 16)"
      ]
     },
     "execution_count": 19,
     "metadata": {},
     "output_type": "execute_result"
    }
   ],
   "source": [
    "df_2018.shape"
   ]
  },
  {
   "cell_type": "code",
   "execution_count": 20,
   "metadata": {},
   "outputs": [],
   "source": [
    "df_2019=pd.read_csv('/Users/Jeff/Ironhack/248_Repo/Projects/Final project/Oil/Data new/donnees_produits_petroliers_2019.csv', encoding = \"ISO-8859-1\", sep=';', error_bad_lines=False)"
   ]
  },
  {
   "cell_type": "code",
   "execution_count": 21,
   "metadata": {},
   "outputs": [
    {
     "data": {
      "text/plain": [
       "(110, 14)"
      ]
     },
     "execution_count": 21,
     "metadata": {},
     "output_type": "execute_result"
    }
   ],
   "source": [
    "df_2019.shape"
   ]
  },
  {
   "cell_type": "code",
   "execution_count": 22,
   "metadata": {},
   "outputs": [],
   "source": [
    "frames=[df_2010, df_2011, df_2012, df_2013, df_2014, df_2015, df_2016, df_2017, df_2018, df_2019]"
   ]
  },
  {
   "cell_type": "code",
   "execution_count": 23,
   "metadata": {},
   "outputs": [],
   "source": [
    "# Create the concatenate dataframe\n",
    "df_petrol=pd.concat(frames)"
   ]
  },
  {
   "cell_type": "code",
   "execution_count": 24,
   "metadata": {},
   "outputs": [
    {
     "data": {
      "text/plain": [
       "(1115, 17)"
      ]
     },
     "execution_count": 24,
     "metadata": {},
     "output_type": "execute_result"
    }
   ],
   "source": [
    "df_petrol.shape"
   ]
  },
  {
   "cell_type": "code",
   "execution_count": 25,
   "metadata": {},
   "outputs": [],
   "source": [
    "# Save the dataframe as a csv\n",
    "df_petrol.to_csv('df_petrol.csv', sep='/', index=False)"
   ]
  },
  {
   "cell_type": "markdown",
   "metadata": {},
   "source": [
    "# Data cleaning"
   ]
  },
  {
   "cell_type": "markdown",
   "metadata": {},
   "source": [
    "## Missing values"
   ]
  },
  {
   "cell_type": "code",
   "execution_count": 26,
   "metadata": {},
   "outputs": [
    {
     "data": {
      "text/plain": [
       "DEP                           7\n",
       "REG                           7\n",
       "ANNEE                         7\n",
       "SUPER_PLOMBE                344\n",
       "SUPER_SANS_PLOMB             15\n",
       "SUPER_SANS_PLOMB_95          15\n",
       "SUPER_SANS_PLOMB_95_E10      15\n",
       "SUPER_SANS_PLOMB_98          15\n",
       "GAZOLE                       15\n",
       "FOD                          15\n",
       "FOL                          12\n",
       "GNR                          15\n",
       "GPL                         583\n",
       "CARBUREACTEUR              1105\n",
       "Unnamed: 14                1115\n",
       "SUPER_ETH_E85               675\n",
       "Unnamed: 15                1115\n",
       "dtype: int64"
      ]
     },
     "execution_count": 26,
     "metadata": {},
     "output_type": "execute_result"
    }
   ],
   "source": [
    "df_petrol.isna().sum()"
   ]
  },
  {
   "cell_type": "code",
   "execution_count": 27,
   "metadata": {},
   "outputs": [
    {
     "data": {
      "text/html": [
       "<div>\n",
       "<style scoped>\n",
       "    .dataframe tbody tr th:only-of-type {\n",
       "        vertical-align: middle;\n",
       "    }\n",
       "\n",
       "    .dataframe tbody tr th {\n",
       "        vertical-align: top;\n",
       "    }\n",
       "\n",
       "    .dataframe thead th {\n",
       "        text-align: right;\n",
       "    }\n",
       "</style>\n",
       "<table border=\"1\" class=\"dataframe\">\n",
       "  <thead>\n",
       "    <tr style=\"text-align: right;\">\n",
       "      <th></th>\n",
       "      <th>DEP</th>\n",
       "      <th>REG</th>\n",
       "      <th>ANNEE</th>\n",
       "      <th>SUPER_PLOMBE</th>\n",
       "      <th>SUPER_SANS_PLOMB</th>\n",
       "      <th>SUPER_SANS_PLOMB_95</th>\n",
       "      <th>SUPER_SANS_PLOMB_95_E10</th>\n",
       "      <th>SUPER_SANS_PLOMB_98</th>\n",
       "      <th>GAZOLE</th>\n",
       "      <th>FOD</th>\n",
       "      <th>FOL</th>\n",
       "      <th>GNR</th>\n",
       "      <th>GPL</th>\n",
       "      <th>CARBUREACTEUR</th>\n",
       "      <th>Unnamed: 14</th>\n",
       "      <th>SUPER_ETH_E85</th>\n",
       "      <th>Unnamed: 15</th>\n",
       "    </tr>\n",
       "  </thead>\n",
       "  <tbody>\n",
       "    <tr>\n",
       "      <th>111</th>\n",
       "      <td>NaN</td>\n",
       "      <td>NaN</td>\n",
       "      <td>NaN</td>\n",
       "      <td>NaN</td>\n",
       "      <td>NaN</td>\n",
       "      <td>NaN</td>\n",
       "      <td>NaN</td>\n",
       "      <td>NaN</td>\n",
       "      <td>NaN</td>\n",
       "      <td>NaN</td>\n",
       "      <td>NaN</td>\n",
       "      <td>NaN</td>\n",
       "      <td>NaN</td>\n",
       "      <td>NaN</td>\n",
       "      <td>NaN</td>\n",
       "      <td>NaN</td>\n",
       "      <td>NaN</td>\n",
       "    </tr>\n",
       "    <tr>\n",
       "      <th>112</th>\n",
       "      <td>NaN</td>\n",
       "      <td>NaN</td>\n",
       "      <td>NaN</td>\n",
       "      <td>NaN</td>\n",
       "      <td>NaN</td>\n",
       "      <td>NaN</td>\n",
       "      <td>NaN</td>\n",
       "      <td>NaN</td>\n",
       "      <td>NaN</td>\n",
       "      <td>NaN</td>\n",
       "      <td>NaN</td>\n",
       "      <td>NaN</td>\n",
       "      <td>NaN</td>\n",
       "      <td>NaN</td>\n",
       "      <td>NaN</td>\n",
       "      <td>NaN</td>\n",
       "      <td>NaN</td>\n",
       "    </tr>\n",
       "    <tr>\n",
       "      <th>113</th>\n",
       "      <td>NaN</td>\n",
       "      <td>NaN</td>\n",
       "      <td>NaN</td>\n",
       "      <td>NaN</td>\n",
       "      <td>NaN</td>\n",
       "      <td>NaN</td>\n",
       "      <td>NaN</td>\n",
       "      <td>NaN</td>\n",
       "      <td>NaN</td>\n",
       "      <td>NaN</td>\n",
       "      <td>NaN</td>\n",
       "      <td>NaN</td>\n",
       "      <td>NaN</td>\n",
       "      <td>NaN</td>\n",
       "      <td>NaN</td>\n",
       "      <td>NaN</td>\n",
       "      <td>NaN</td>\n",
       "    </tr>\n",
       "    <tr>\n",
       "      <th>114</th>\n",
       "      <td>NaN</td>\n",
       "      <td>NaN</td>\n",
       "      <td>NaN</td>\n",
       "      <td>NaN</td>\n",
       "      <td>NaN</td>\n",
       "      <td>NaN</td>\n",
       "      <td>NaN</td>\n",
       "      <td>NaN</td>\n",
       "      <td>NaN</td>\n",
       "      <td>NaN</td>\n",
       "      <td>NaN</td>\n",
       "      <td>NaN</td>\n",
       "      <td>NaN</td>\n",
       "      <td>NaN</td>\n",
       "      <td>NaN</td>\n",
       "      <td>NaN</td>\n",
       "      <td>NaN</td>\n",
       "    </tr>\n",
       "    <tr>\n",
       "      <th>115</th>\n",
       "      <td>NaN</td>\n",
       "      <td>NaN</td>\n",
       "      <td>NaN</td>\n",
       "      <td>NaN</td>\n",
       "      <td>NaN</td>\n",
       "      <td>NaN</td>\n",
       "      <td>NaN</td>\n",
       "      <td>NaN</td>\n",
       "      <td>NaN</td>\n",
       "      <td>NaN</td>\n",
       "      <td>NaN</td>\n",
       "      <td>NaN</td>\n",
       "      <td>NaN</td>\n",
       "      <td>NaN</td>\n",
       "      <td>NaN</td>\n",
       "      <td>NaN</td>\n",
       "      <td>NaN</td>\n",
       "    </tr>\n",
       "    <tr>\n",
       "      <th>116</th>\n",
       "      <td>NaN</td>\n",
       "      <td>NaN</td>\n",
       "      <td>NaN</td>\n",
       "      <td>NaN</td>\n",
       "      <td>NaN</td>\n",
       "      <td>NaN</td>\n",
       "      <td>NaN</td>\n",
       "      <td>NaN</td>\n",
       "      <td>NaN</td>\n",
       "      <td>NaN</td>\n",
       "      <td>NaN</td>\n",
       "      <td>NaN</td>\n",
       "      <td>NaN</td>\n",
       "      <td>NaN</td>\n",
       "      <td>NaN</td>\n",
       "      <td>NaN</td>\n",
       "      <td>NaN</td>\n",
       "    </tr>\n",
       "    <tr>\n",
       "      <th>117</th>\n",
       "      <td>NaN</td>\n",
       "      <td>NaN</td>\n",
       "      <td>NaN</td>\n",
       "      <td>NaN</td>\n",
       "      <td>NaN</td>\n",
       "      <td>NaN</td>\n",
       "      <td>NaN</td>\n",
       "      <td>NaN</td>\n",
       "      <td>NaN</td>\n",
       "      <td>NaN</td>\n",
       "      <td>NaN</td>\n",
       "      <td>NaN</td>\n",
       "      <td>NaN</td>\n",
       "      <td>NaN</td>\n",
       "      <td>NaN</td>\n",
       "      <td>NaN</td>\n",
       "      <td>NaN</td>\n",
       "    </tr>\n",
       "  </tbody>\n",
       "</table>\n",
       "</div>"
      ],
      "text/plain": [
       "     DEP  REG  ANNEE  SUPER_PLOMBE SUPER_SANS_PLOMB SUPER_SANS_PLOMB_95  \\\n",
       "111  NaN  NaN    NaN           NaN              NaN                 NaN   \n",
       "112  NaN  NaN    NaN           NaN              NaN                 NaN   \n",
       "113  NaN  NaN    NaN           NaN              NaN                 NaN   \n",
       "114  NaN  NaN    NaN           NaN              NaN                 NaN   \n",
       "115  NaN  NaN    NaN           NaN              NaN                 NaN   \n",
       "116  NaN  NaN    NaN           NaN              NaN                 NaN   \n",
       "117  NaN  NaN    NaN           NaN              NaN                 NaN   \n",
       "\n",
       "    SUPER_SANS_PLOMB_95_E10 SUPER_SANS_PLOMB_98 GAZOLE  FOD  FOL  GNR  GPL  \\\n",
       "111                     NaN                 NaN    NaN  NaN  NaN  NaN  NaN   \n",
       "112                     NaN                 NaN    NaN  NaN  NaN  NaN  NaN   \n",
       "113                     NaN                 NaN    NaN  NaN  NaN  NaN  NaN   \n",
       "114                     NaN                 NaN    NaN  NaN  NaN  NaN  NaN   \n",
       "115                     NaN                 NaN    NaN  NaN  NaN  NaN  NaN   \n",
       "116                     NaN                 NaN    NaN  NaN  NaN  NaN  NaN   \n",
       "117                     NaN                 NaN    NaN  NaN  NaN  NaN  NaN   \n",
       "\n",
       "    CARBUREACTEUR  Unnamed: 14 SUPER_ETH_E85  Unnamed: 15  \n",
       "111           NaN          NaN           NaN          NaN  \n",
       "112           NaN          NaN           NaN          NaN  \n",
       "113           NaN          NaN           NaN          NaN  \n",
       "114           NaN          NaN           NaN          NaN  \n",
       "115           NaN          NaN           NaN          NaN  \n",
       "116           NaN          NaN           NaN          NaN  \n",
       "117           NaN          NaN           NaN          NaN  "
      ]
     },
     "execution_count": 27,
     "metadata": {},
     "output_type": "execute_result"
    }
   ],
   "source": [
    "df_petrol.loc[df_petrol['DEP'].isna()]"
   ]
  },
  {
   "cell_type": "markdown",
   "metadata": {},
   "source": [
    "As we can see we have 7 rows without any values, we will drop them"
   ]
  },
  {
   "cell_type": "code",
   "execution_count": 28,
   "metadata": {},
   "outputs": [],
   "source": [
    "df_petrol.drop([111, 112, 113, 114, 115, 116, 117], inplace=True)"
   ]
  },
  {
   "cell_type": "markdown",
   "metadata": {},
   "source": [
    "As we can see, there are 2 columns unamed, we will drop them"
   ]
  },
  {
   "cell_type": "code",
   "execution_count": 29,
   "metadata": {},
   "outputs": [],
   "source": [
    "# Drop columns unnamed\n",
    "df_petrol.drop(['Unnamed: 14','Unnamed: 15'], axis=1, inplace=True)"
   ]
  },
  {
   "cell_type": "markdown",
   "metadata": {},
   "source": [
    "Missing values corresponds to 0 value, we will fullfill missing value with 0"
   ]
  },
  {
   "cell_type": "code",
   "execution_count": 30,
   "metadata": {},
   "outputs": [],
   "source": [
    "df_petrol.fillna(0, inplace=True)"
   ]
  },
  {
   "cell_type": "code",
   "execution_count": 31,
   "metadata": {},
   "outputs": [
    {
     "data": {
      "text/plain": [
       "DEP                        0\n",
       "REG                        0\n",
       "ANNEE                      0\n",
       "SUPER_PLOMBE               0\n",
       "SUPER_SANS_PLOMB           0\n",
       "SUPER_SANS_PLOMB_95        0\n",
       "SUPER_SANS_PLOMB_95_E10    0\n",
       "SUPER_SANS_PLOMB_98        0\n",
       "GAZOLE                     0\n",
       "FOD                        0\n",
       "FOL                        0\n",
       "GNR                        0\n",
       "GPL                        0\n",
       "CARBUREACTEUR              0\n",
       "SUPER_ETH_E85              0\n",
       "dtype: int64"
      ]
     },
     "execution_count": 31,
     "metadata": {},
     "output_type": "execute_result"
    }
   ],
   "source": [
    "df_petrol.isna().sum()"
   ]
  },
  {
   "cell_type": "markdown",
   "metadata": {},
   "source": [
    "## Data types"
   ]
  },
  {
   "cell_type": "code",
   "execution_count": 32,
   "metadata": {},
   "outputs": [
    {
     "name": "stdout",
     "output_type": "stream",
     "text": [
      "<class 'pandas.core.frame.DataFrame'>\n",
      "Int64Index: 1108 entries, 0 to 109\n",
      "Data columns (total 15 columns):\n",
      " #   Column                   Non-Null Count  Dtype  \n",
      "---  ------                   --------------  -----  \n",
      " 0   DEP                      1108 non-null   object \n",
      " 1   REG                      1108 non-null   object \n",
      " 2   ANNEE                    1108 non-null   float64\n",
      " 3   SUPER_PLOMBE             1108 non-null   float64\n",
      " 4   SUPER_SANS_PLOMB         1108 non-null   object \n",
      " 5   SUPER_SANS_PLOMB_95      1108 non-null   object \n",
      " 6   SUPER_SANS_PLOMB_95_E10  1108 non-null   object \n",
      " 7   SUPER_SANS_PLOMB_98      1108 non-null   object \n",
      " 8   GAZOLE                   1108 non-null   object \n",
      " 9   FOD                      1108 non-null   object \n",
      " 10  FOL                      1108 non-null   object \n",
      " 11  GNR                      1108 non-null   object \n",
      " 12  GPL                      1108 non-null   object \n",
      " 13  CARBUREACTEUR            1108 non-null   object \n",
      " 14  SUPER_ETH_E85            1108 non-null   object \n",
      "dtypes: float64(2), object(13)\n",
      "memory usage: 138.5+ KB\n"
     ]
    }
   ],
   "source": [
    "df_petrol.info()"
   ]
  },
  {
   "cell_type": "markdown",
   "metadata": {},
   "source": [
    "As we can see some columns are object columns but they should be numeric, we will transform them into numeric"
   ]
  },
  {
   "cell_type": "code",
   "execution_count": 33,
   "metadata": {},
   "outputs": [],
   "source": [
    "df_petrol['SUPER_SANS_PLOMB']=df_petrol['SUPER_SANS_PLOMB'].apply(str)\n",
    "df_petrol['SUPER_SANS_PLOMB_95']=df_petrol['SUPER_SANS_PLOMB_95'].apply(str)\n",
    "df_petrol['SUPER_SANS_PLOMB_95_E10']=df_petrol['SUPER_SANS_PLOMB_95_E10'].apply(str)\n",
    "df_petrol['SUPER_SANS_PLOMB_98']=df_petrol['SUPER_SANS_PLOMB_98'].apply(str)\n",
    "df_petrol['GAZOLE']=df_petrol['GAZOLE'].apply(str)\n",
    "df_petrol['FOD']=df_petrol['FOD'].apply(str)\n",
    "df_petrol['FOL']=df_petrol['FOL'].apply(str)\n",
    "df_petrol['GNR']=df_petrol['GNR'].apply(str)\n",
    "df_petrol['GPL']=df_petrol['GPL'].apply(str)\n",
    "df_petrol['CARBUREACTEUR']=df_petrol['CARBUREACTEUR'].apply(str)\n",
    "df_petrol['SUPER_ETH_E85']=df_petrol['SUPER_ETH_E85'].apply(str)"
   ]
  },
  {
   "cell_type": "code",
   "execution_count": 34,
   "metadata": {},
   "outputs": [],
   "source": [
    "df_petrol[['SUPER_SANS_PLOMB','SUPER_SANS_PLOMB_95','SUPER_SANS_PLOMB_95_E10','SUPER_SANS_PLOMB_98','GAZOLE','FOD','FOL','GNR','GPL','CARBUREACTEUR','SUPER_ETH_E85']]=df_petrol[['SUPER_SANS_PLOMB','SUPER_SANS_PLOMB_95','SUPER_SANS_PLOMB_95_E10','SUPER_SANS_PLOMB_98','GAZOLE','FOD','FOL','GNR','GPL','CARBUREACTEUR','SUPER_ETH_E85']].apply(lambda x: x.str.replace(',','.'))\n"
   ]
  },
  {
   "cell_type": "code",
   "execution_count": 35,
   "metadata": {},
   "outputs": [],
   "source": [
    "df_petrol[['SUPER_SANS_PLOMB','SUPER_SANS_PLOMB_95','SUPER_SANS_PLOMB_95_E10','SUPER_SANS_PLOMB_98','GAZOLE','FOD','FOL','GNR','GPL','CARBUREACTEUR','SUPER_ETH_E85']]=df_petrol[['SUPER_SANS_PLOMB','SUPER_SANS_PLOMB_95','SUPER_SANS_PLOMB_95_E10','SUPER_SANS_PLOMB_98','GAZOLE','FOD','FOL','GNR','GPL','CARBUREACTEUR','SUPER_ETH_E85']].apply(lambda x: x.str.replace(' ',''))"
   ]
  },
  {
   "cell_type": "code",
   "execution_count": 36,
   "metadata": {},
   "outputs": [],
   "source": [
    "df_petrol[['SUPER_SANS_PLOMB','SUPER_SANS_PLOMB_95','SUPER_SANS_PLOMB_95_E10','SUPER_SANS_PLOMB_98','GAZOLE','FOD','FOL','GNR','GPL','CARBUREACTEUR','SUPER_ETH_E85']]=df_petrol[['SUPER_SANS_PLOMB','SUPER_SANS_PLOMB_95','SUPER_SANS_PLOMB_95_E10','SUPER_SANS_PLOMB_98','GAZOLE','FOD','FOL','GNR','GPL','CARBUREACTEUR','SUPER_ETH_E85']].apply(pd.to_numeric)"
   ]
  },
  {
   "cell_type": "code",
   "execution_count": 37,
   "metadata": {},
   "outputs": [
    {
     "data": {
      "text/plain": [
       "array(['75', '77', '78', '91', '92', '93', '94', '95', '99', '18', '28',\n",
       "       '36', '37', '41', '45', '21', '25', '39', '58', '70', '71', '89',\n",
       "       '90', '14', '27', '50', '61', '76', '2', '59', '60', '62', '80',\n",
       "       '8', '10', '51', '52', '54', '55', '57', '67', '68', '88', '44',\n",
       "       '49', '53', '72', '85', '22', '29', '35', '56', '16', '17', '19',\n",
       "       '23', '24', '33', '40', '47', '64', '79', '86', '87', '9', '11',\n",
       "       '12', '30', '31', '32', '34', '46', '48', '65', '66', '81', '82',\n",
       "       '1', '3', '7', '15', '26', '38', '42', '43', '63', '69', '73',\n",
       "       '74', '4', '5', '6', '13', '83', '84', '2A', '2B', 'FR'],\n",
       "      dtype=object)"
      ]
     },
     "execution_count": 37,
     "metadata": {},
     "output_type": "execute_result"
    }
   ],
   "source": [
    "df_petrol['DEP'].unique()"
   ]
  },
  {
   "cell_type": "markdown",
   "metadata": {},
   "source": [
    "As we can see, some of the values in the column are string and others are number, we will convert all the values as string"
   ]
  },
  {
   "cell_type": "code",
   "execution_count": 38,
   "metadata": {},
   "outputs": [],
   "source": [
    "df_petrol['DEP']=df_petrol['DEP'].apply(str)"
   ]
  },
  {
   "cell_type": "code",
   "execution_count": 39,
   "metadata": {},
   "outputs": [
    {
     "name": "stdout",
     "output_type": "stream",
     "text": [
      "<class 'pandas.core.frame.DataFrame'>\n",
      "Int64Index: 1108 entries, 0 to 109\n",
      "Data columns (total 15 columns):\n",
      " #   Column                   Non-Null Count  Dtype  \n",
      "---  ------                   --------------  -----  \n",
      " 0   DEP                      1108 non-null   object \n",
      " 1   REG                      1108 non-null   object \n",
      " 2   ANNEE                    1108 non-null   float64\n",
      " 3   SUPER_PLOMBE             1108 non-null   float64\n",
      " 4   SUPER_SANS_PLOMB         1108 non-null   float64\n",
      " 5   SUPER_SANS_PLOMB_95      1108 non-null   float64\n",
      " 6   SUPER_SANS_PLOMB_95_E10  1108 non-null   float64\n",
      " 7   SUPER_SANS_PLOMB_98      1108 non-null   float64\n",
      " 8   GAZOLE                   1108 non-null   float64\n",
      " 9   FOD                      1108 non-null   float64\n",
      " 10  FOL                      1108 non-null   float64\n",
      " 11  GNR                      1108 non-null   float64\n",
      " 12  GPL                      1108 non-null   float64\n",
      " 13  CARBUREACTEUR            1108 non-null   float64\n",
      " 14  SUPER_ETH_E85            1108 non-null   float64\n",
      "dtypes: float64(13), object(2)\n",
      "memory usage: 138.5+ KB\n"
     ]
    }
   ],
   "source": [
    "df_petrol.info()"
   ]
  },
  {
   "cell_type": "markdown",
   "metadata": {},
   "source": [
    "## Departement name"
   ]
  },
  {
   "cell_type": "markdown",
   "metadata": {},
   "source": [
    "We will add the departement name to the df"
   ]
  },
  {
   "cell_type": "code",
   "execution_count": 40,
   "metadata": {},
   "outputs": [
    {
     "data": {
      "text/plain": [
       "array(['75', '77', '78', '91', '92', '93', '94', '95', '99', '18', '28',\n",
       "       '36', '37', '41', '45', '21', '25', '39', '58', '70', '71', '89',\n",
       "       '90', '14', '27', '50', '61', '76', '2', '59', '60', '62', '80',\n",
       "       '8', '10', '51', '52', '54', '55', '57', '67', '68', '88', '44',\n",
       "       '49', '53', '72', '85', '22', '29', '35', '56', '16', '17', '19',\n",
       "       '23', '24', '33', '40', '47', '64', '79', '86', '87', '9', '11',\n",
       "       '12', '30', '31', '32', '34', '46', '48', '65', '66', '81', '82',\n",
       "       '1', '3', '7', '15', '26', '38', '42', '43', '63', '69', '73',\n",
       "       '74', '4', '5', '6', '13', '83', '84', '2A', '2B', 'FR'],\n",
       "      dtype=object)"
      ]
     },
     "execution_count": 40,
     "metadata": {},
     "output_type": "execute_result"
    }
   ],
   "source": [
    "df_petrol.DEP.unique()"
   ]
  },
  {
   "cell_type": "markdown",
   "metadata": {},
   "source": [
    "As we can see, some department code only contain 1 number. We will add a 0 before the number for each department code which contain only a single number"
   ]
  },
  {
   "cell_type": "code",
   "execution_count": 41,
   "metadata": {},
   "outputs": [
    {
     "name": "stderr",
     "output_type": "stream",
     "text": [
      "<ipython-input-41-c48b32fc27ca>:1: SettingWithCopyWarning: \n",
      "A value is trying to be set on a copy of a slice from a DataFrame\n",
      "\n",
      "See the caveats in the documentation: https://pandas.pydata.org/pandas-docs/stable/user_guide/indexing.html#returning-a-view-versus-a-copy\n",
      "  df_petrol['DEP'][(df_petrol.DEP.str.len() < 2)]=df_petrol['DEP'].apply(lambda x: '0'+str(x))\n"
     ]
    }
   ],
   "source": [
    "df_petrol['DEP'][(df_petrol.DEP.str.len() < 2)]=df_petrol['DEP'].apply(lambda x: '0'+str(x))"
   ]
  },
  {
   "cell_type": "code",
   "execution_count": 42,
   "metadata": {},
   "outputs": [
    {
     "data": {
      "text/plain": [
       "array(['75', '77', '78', '91', '92', '93', '94', '95', '99', '18', '28',\n",
       "       '36', '37', '41', '45', '21', '25', '39', '58', '70', '71', '89',\n",
       "       '90', '14', '27', '50', '61', '76', '02', '59', '60', '62', '80',\n",
       "       '08', '10', '51', '52', '54', '55', '57', '67', '68', '88', '44',\n",
       "       '49', '53', '72', '85', '22', '29', '35', '56', '16', '17', '19',\n",
       "       '23', '24', '33', '40', '47', '64', '79', '86', '87', '09', '11',\n",
       "       '12', '30', '31', '32', '34', '46', '48', '65', '66', '81', '82',\n",
       "       '01', '03', '07', '15', '26', '38', '42', '43', '63', '69', '73',\n",
       "       '74', '04', '05', '06', '13', '83', '84', '2A', '2B', 'FR'],\n",
       "      dtype=object)"
      ]
     },
     "execution_count": 42,
     "metadata": {},
     "output_type": "execute_result"
    }
   ],
   "source": [
    "df_petrol.DEP.unique()"
   ]
  },
  {
   "cell_type": "markdown",
   "metadata": {},
   "source": [
    "Then we import the dataframe related to the departement information and we merge with our dataframe on petrol"
   ]
  },
  {
   "cell_type": "code",
   "execution_count": 43,
   "metadata": {},
   "outputs": [],
   "source": [
    "# Import the dataframe with the name corresponding to the code for each departement\n",
    "df_dep=pd.read_csv('/Users/Jeff/Ironhack/248_Repo/Projects/Final project/Area/df_dep.csv', sep='/')"
   ]
  },
  {
   "cell_type": "code",
   "execution_count": 44,
   "metadata": {},
   "outputs": [
    {
     "data": {
      "text/html": [
       "<div>\n",
       "<style scoped>\n",
       "    .dataframe tbody tr th:only-of-type {\n",
       "        vertical-align: middle;\n",
       "    }\n",
       "\n",
       "    .dataframe tbody tr th {\n",
       "        vertical-align: top;\n",
       "    }\n",
       "\n",
       "    .dataframe thead th {\n",
       "        text-align: right;\n",
       "    }\n",
       "</style>\n",
       "<table border=\"1\" class=\"dataframe\">\n",
       "  <thead>\n",
       "    <tr style=\"text-align: right;\">\n",
       "      <th></th>\n",
       "      <th>dep_code</th>\n",
       "      <th>dep_name</th>\n",
       "    </tr>\n",
       "  </thead>\n",
       "  <tbody>\n",
       "    <tr>\n",
       "      <th>0</th>\n",
       "      <td>02</td>\n",
       "      <td>AISNE</td>\n",
       "    </tr>\n",
       "    <tr>\n",
       "      <th>1</th>\n",
       "      <td>03</td>\n",
       "      <td>ALLIER</td>\n",
       "    </tr>\n",
       "    <tr>\n",
       "      <th>2</th>\n",
       "      <td>05</td>\n",
       "      <td>HAUTES-ALPES</td>\n",
       "    </tr>\n",
       "    <tr>\n",
       "      <th>3</th>\n",
       "      <td>04</td>\n",
       "      <td>ALPES-DE-HAUTE-PROVENCE</td>\n",
       "    </tr>\n",
       "    <tr>\n",
       "      <th>4</th>\n",
       "      <td>06</td>\n",
       "      <td>ALPES-MARITIMES</td>\n",
       "    </tr>\n",
       "  </tbody>\n",
       "</table>\n",
       "</div>"
      ],
      "text/plain": [
       "  dep_code                 dep_name\n",
       "0       02                    AISNE\n",
       "1       03                   ALLIER\n",
       "2       05             HAUTES-ALPES\n",
       "3       04  ALPES-DE-HAUTE-PROVENCE\n",
       "4       06          ALPES-MARITIMES"
      ]
     },
     "execution_count": 44,
     "metadata": {},
     "output_type": "execute_result"
    }
   ],
   "source": [
    "df_dep.head()"
   ]
  },
  {
   "cell_type": "code",
   "execution_count": 45,
   "metadata": {},
   "outputs": [],
   "source": [
    "df_petrol.rename(columns={\"DEP\": \"dep_code\"}, inplace=True)"
   ]
  },
  {
   "cell_type": "code",
   "execution_count": 46,
   "metadata": {},
   "outputs": [],
   "source": [
    "df_petrol_merge = pd.merge(df_petrol, df_dep, how='left', on=['dep_code'])"
   ]
  },
  {
   "cell_type": "code",
   "execution_count": 47,
   "metadata": {},
   "outputs": [
    {
     "data": {
      "text/plain": [
       "dep_code                     0\n",
       "REG                          0\n",
       "ANNEE                        0\n",
       "SUPER_PLOMBE                 0\n",
       "SUPER_SANS_PLOMB             0\n",
       "SUPER_SANS_PLOMB_95          0\n",
       "SUPER_SANS_PLOMB_95_E10      0\n",
       "SUPER_SANS_PLOMB_98          0\n",
       "GAZOLE                       0\n",
       "FOD                          0\n",
       "FOL                          0\n",
       "GNR                          0\n",
       "GPL                          0\n",
       "CARBUREACTEUR                0\n",
       "SUPER_ETH_E85                0\n",
       "dep_name                   148\n",
       "dtype: int64"
      ]
     },
     "execution_count": 47,
     "metadata": {},
     "output_type": "execute_result"
    }
   ],
   "source": [
    "df_petrol_merge.isna().sum()"
   ]
  },
  {
   "cell_type": "code",
   "execution_count": 48,
   "metadata": {},
   "outputs": [
    {
     "data": {
      "text/plain": [
       "99    138\n",
       "FR     10\n",
       "Name: dep_code, dtype: int64"
      ]
     },
     "execution_count": 48,
     "metadata": {},
     "output_type": "execute_result"
    }
   ],
   "source": [
    "df_petrol_merge['dep_code'][df_petrol_merge.isnull().any(axis=1)].value_counts()"
   ]
  },
  {
   "cell_type": "markdown",
   "metadata": {},
   "source": [
    "As we can see some departement code have the value '99' and 'FR', it correponds to the total per region and total France. We will drop those rows"
   ]
  },
  {
   "cell_type": "code",
   "execution_count": 49,
   "metadata": {},
   "outputs": [],
   "source": [
    "df_petrol_merge.dropna(inplace=True)"
   ]
  },
  {
   "cell_type": "markdown",
   "metadata": {},
   "source": [
    "## Column manipulation"
   ]
  },
  {
   "cell_type": "markdown",
   "metadata": {},
   "source": [
    "In order to manipulate our dataframe later, we will rename the columns"
   ]
  },
  {
   "cell_type": "code",
   "execution_count": 50,
   "metadata": {},
   "outputs": [
    {
     "data": {
      "text/plain": [
       "Index(['dep_code', 'REG', 'ANNEE', 'SUPER_PLOMBE', 'SUPER_SANS_PLOMB',\n",
       "       'SUPER_SANS_PLOMB_95', 'SUPER_SANS_PLOMB_95_E10', 'SUPER_SANS_PLOMB_98',\n",
       "       'GAZOLE', 'FOD', 'FOL', 'GNR', 'GPL', 'CARBUREACTEUR', 'SUPER_ETH_E85',\n",
       "       'dep_name'],\n",
       "      dtype='object')"
      ]
     },
     "execution_count": 50,
     "metadata": {},
     "output_type": "execute_result"
    }
   ],
   "source": [
    "df_petrol_merge.columns"
   ]
  },
  {
   "cell_type": "code",
   "execution_count": 51,
   "metadata": {},
   "outputs": [],
   "source": [
    "df_petrol_merge.columns=['dep_code','reg_code','year','super_plomb','super_sans_plomb','super_sans_plomb_95','super_sans_plomb_95_E10','super_sans_plomb_98','gazole','fioul_dom','fioul_ndom','gazole_nr','gpl','carbureacteur','E85','dep_name']"
   ]
  },
  {
   "cell_type": "code",
   "execution_count": 52,
   "metadata": {},
   "outputs": [
    {
     "data": {
      "text/html": [
       "<div>\n",
       "<style scoped>\n",
       "    .dataframe tbody tr th:only-of-type {\n",
       "        vertical-align: middle;\n",
       "    }\n",
       "\n",
       "    .dataframe tbody tr th {\n",
       "        vertical-align: top;\n",
       "    }\n",
       "\n",
       "    .dataframe thead th {\n",
       "        text-align: right;\n",
       "    }\n",
       "</style>\n",
       "<table border=\"1\" class=\"dataframe\">\n",
       "  <thead>\n",
       "    <tr style=\"text-align: right;\">\n",
       "      <th></th>\n",
       "      <th>dep_code</th>\n",
       "      <th>reg_code</th>\n",
       "      <th>year</th>\n",
       "      <th>super_plomb</th>\n",
       "      <th>super_sans_plomb</th>\n",
       "      <th>super_sans_plomb_95</th>\n",
       "      <th>super_sans_plomb_95_E10</th>\n",
       "      <th>super_sans_plomb_98</th>\n",
       "      <th>gazole</th>\n",
       "      <th>fioul_dom</th>\n",
       "      <th>fioul_ndom</th>\n",
       "      <th>gazole_nr</th>\n",
       "      <th>gpl</th>\n",
       "      <th>carbureacteur</th>\n",
       "      <th>E85</th>\n",
       "      <th>dep_name</th>\n",
       "    </tr>\n",
       "  </thead>\n",
       "  <tbody>\n",
       "    <tr>\n",
       "      <th>0</th>\n",
       "      <td>75</td>\n",
       "      <td>11</td>\n",
       "      <td>2010.0</td>\n",
       "      <td>0.0</td>\n",
       "      <td>117211.6</td>\n",
       "      <td>25935.07617</td>\n",
       "      <td>56332.20348</td>\n",
       "      <td>34944.04249</td>\n",
       "      <td>257274.0</td>\n",
       "      <td>20016.0</td>\n",
       "      <td>55024.0</td>\n",
       "      <td>0.0</td>\n",
       "      <td>0.0</td>\n",
       "      <td>0.0</td>\n",
       "      <td>0.0</td>\n",
       "      <td>PARIS</td>\n",
       "    </tr>\n",
       "    <tr>\n",
       "      <th>1</th>\n",
       "      <td>77</td>\n",
       "      <td>11</td>\n",
       "      <td>2010.0</td>\n",
       "      <td>0.0</td>\n",
       "      <td>187748.4</td>\n",
       "      <td>100523.00780</td>\n",
       "      <td>46476.38612</td>\n",
       "      <td>40749.10293</td>\n",
       "      <td>691796.0</td>\n",
       "      <td>158005.0</td>\n",
       "      <td>26339.0</td>\n",
       "      <td>0.0</td>\n",
       "      <td>0.0</td>\n",
       "      <td>0.0</td>\n",
       "      <td>0.0</td>\n",
       "      <td>SEINE-ET-MARNE</td>\n",
       "    </tr>\n",
       "    <tr>\n",
       "      <th>2</th>\n",
       "      <td>78</td>\n",
       "      <td>11</td>\n",
       "      <td>2010.0</td>\n",
       "      <td>0.0</td>\n",
       "      <td>214284.0</td>\n",
       "      <td>84730.55979</td>\n",
       "      <td>75179.36611</td>\n",
       "      <td>54374.24572</td>\n",
       "      <td>540504.0</td>\n",
       "      <td>99206.0</td>\n",
       "      <td>1204.0</td>\n",
       "      <td>0.0</td>\n",
       "      <td>0.0</td>\n",
       "      <td>0.0</td>\n",
       "      <td>0.0</td>\n",
       "      <td>YVELINES</td>\n",
       "    </tr>\n",
       "    <tr>\n",
       "      <th>3</th>\n",
       "      <td>91</td>\n",
       "      <td>11</td>\n",
       "      <td>2010.0</td>\n",
       "      <td>0.0</td>\n",
       "      <td>182665.3</td>\n",
       "      <td>80948.69236</td>\n",
       "      <td>61748.45701</td>\n",
       "      <td>39968.02241</td>\n",
       "      <td>551489.0</td>\n",
       "      <td>92474.0</td>\n",
       "      <td>971.0</td>\n",
       "      <td>0.0</td>\n",
       "      <td>0.0</td>\n",
       "      <td>0.0</td>\n",
       "      <td>0.0</td>\n",
       "      <td>ESSONNE</td>\n",
       "    </tr>\n",
       "    <tr>\n",
       "      <th>4</th>\n",
       "      <td>92</td>\n",
       "      <td>11</td>\n",
       "      <td>2010.0</td>\n",
       "      <td>0.0</td>\n",
       "      <td>141837.3</td>\n",
       "      <td>32156.60470</td>\n",
       "      <td>70295.26859</td>\n",
       "      <td>39385.48955</td>\n",
       "      <td>270645.0</td>\n",
       "      <td>194801.0</td>\n",
       "      <td>20635.0</td>\n",
       "      <td>0.0</td>\n",
       "      <td>0.0</td>\n",
       "      <td>0.0</td>\n",
       "      <td>0.0</td>\n",
       "      <td>HAUTS-DE-SEINE</td>\n",
       "    </tr>\n",
       "  </tbody>\n",
       "</table>\n",
       "</div>"
      ],
      "text/plain": [
       "  dep_code reg_code    year  super_plomb  super_sans_plomb  \\\n",
       "0       75       11  2010.0          0.0          117211.6   \n",
       "1       77       11  2010.0          0.0          187748.4   \n",
       "2       78       11  2010.0          0.0          214284.0   \n",
       "3       91       11  2010.0          0.0          182665.3   \n",
       "4       92       11  2010.0          0.0          141837.3   \n",
       "\n",
       "   super_sans_plomb_95  super_sans_plomb_95_E10  super_sans_plomb_98  \\\n",
       "0          25935.07617              56332.20348          34944.04249   \n",
       "1         100523.00780              46476.38612          40749.10293   \n",
       "2          84730.55979              75179.36611          54374.24572   \n",
       "3          80948.69236              61748.45701          39968.02241   \n",
       "4          32156.60470              70295.26859          39385.48955   \n",
       "\n",
       "     gazole  fioul_dom  fioul_ndom  gazole_nr  gpl  carbureacteur  E85  \\\n",
       "0  257274.0    20016.0     55024.0        0.0  0.0            0.0  0.0   \n",
       "1  691796.0   158005.0     26339.0        0.0  0.0            0.0  0.0   \n",
       "2  540504.0    99206.0      1204.0        0.0  0.0            0.0  0.0   \n",
       "3  551489.0    92474.0       971.0        0.0  0.0            0.0  0.0   \n",
       "4  270645.0   194801.0     20635.0        0.0  0.0            0.0  0.0   \n",
       "\n",
       "         dep_name  \n",
       "0           PARIS  \n",
       "1  SEINE-ET-MARNE  \n",
       "2        YVELINES  \n",
       "3         ESSONNE  \n",
       "4  HAUTS-DE-SEINE  "
      ]
     },
     "execution_count": 52,
     "metadata": {},
     "output_type": "execute_result"
    }
   ],
   "source": [
    "df_petrol_merge.head()"
   ]
  },
  {
   "cell_type": "markdown",
   "metadata": {},
   "source": [
    "We will add a new column called 'energy' in order to do some analysis with elec and gaz dataframe"
   ]
  },
  {
   "cell_type": "code",
   "execution_count": 53,
   "metadata": {},
   "outputs": [],
   "source": [
    "df_petrol_merge['energy']='P'"
   ]
  },
  {
   "cell_type": "code",
   "execution_count": 54,
   "metadata": {},
   "outputs": [
    {
     "data": {
      "text/plain": [
       "76    130\n",
       "84    120\n",
       "75    120\n",
       "44    100\n",
       "27     80\n",
       "11     80\n",
       "93     60\n",
       "24     60\n",
       "52     50\n",
       "32     50\n",
       "28     50\n",
       "53     40\n",
       "94     20\n",
       "Name: reg_code, dtype: int64"
      ]
     },
     "execution_count": 54,
     "metadata": {},
     "output_type": "execute_result"
    }
   ],
   "source": [
    "df_petrol_merge.reg_code.value_counts()"
   ]
  },
  {
   "cell_type": "markdown",
   "metadata": {},
   "source": [
    "Then we reorder the columns"
   ]
  },
  {
   "cell_type": "code",
   "execution_count": 55,
   "metadata": {},
   "outputs": [],
   "source": [
    "# Reorder the column\n",
    "df_petrol_clean=df_petrol_merge[['energy','year','dep_code','dep_name','super_plomb','super_sans_plomb','super_sans_plomb_95','super_sans_plomb_95_E10','super_sans_plomb_98','E85','gazole','gazole_nr','fioul_dom','fioul_ndom','gpl','carbureacteur']]\n"
   ]
  },
  {
   "cell_type": "code",
   "execution_count": 56,
   "metadata": {},
   "outputs": [
    {
     "data": {
      "text/html": [
       "<div>\n",
       "<style scoped>\n",
       "    .dataframe tbody tr th:only-of-type {\n",
       "        vertical-align: middle;\n",
       "    }\n",
       "\n",
       "    .dataframe tbody tr th {\n",
       "        vertical-align: top;\n",
       "    }\n",
       "\n",
       "    .dataframe thead th {\n",
       "        text-align: right;\n",
       "    }\n",
       "</style>\n",
       "<table border=\"1\" class=\"dataframe\">\n",
       "  <thead>\n",
       "    <tr style=\"text-align: right;\">\n",
       "      <th></th>\n",
       "      <th>energy</th>\n",
       "      <th>year</th>\n",
       "      <th>dep_code</th>\n",
       "      <th>dep_name</th>\n",
       "      <th>super_plomb</th>\n",
       "      <th>super_sans_plomb</th>\n",
       "      <th>super_sans_plomb_95</th>\n",
       "      <th>super_sans_plomb_95_E10</th>\n",
       "      <th>super_sans_plomb_98</th>\n",
       "      <th>E85</th>\n",
       "      <th>gazole</th>\n",
       "      <th>gazole_nr</th>\n",
       "      <th>fioul_dom</th>\n",
       "      <th>fioul_ndom</th>\n",
       "      <th>gpl</th>\n",
       "      <th>carbureacteur</th>\n",
       "    </tr>\n",
       "  </thead>\n",
       "  <tbody>\n",
       "    <tr>\n",
       "      <th>0</th>\n",
       "      <td>P</td>\n",
       "      <td>2010.0</td>\n",
       "      <td>75</td>\n",
       "      <td>PARIS</td>\n",
       "      <td>0.0</td>\n",
       "      <td>117211.6</td>\n",
       "      <td>25935.07617</td>\n",
       "      <td>56332.20348</td>\n",
       "      <td>34944.04249</td>\n",
       "      <td>0.0</td>\n",
       "      <td>257274.0</td>\n",
       "      <td>0.0</td>\n",
       "      <td>20016.0</td>\n",
       "      <td>55024.0</td>\n",
       "      <td>0.0</td>\n",
       "      <td>0.0</td>\n",
       "    </tr>\n",
       "    <tr>\n",
       "      <th>1</th>\n",
       "      <td>P</td>\n",
       "      <td>2010.0</td>\n",
       "      <td>77</td>\n",
       "      <td>SEINE-ET-MARNE</td>\n",
       "      <td>0.0</td>\n",
       "      <td>187748.4</td>\n",
       "      <td>100523.00780</td>\n",
       "      <td>46476.38612</td>\n",
       "      <td>40749.10293</td>\n",
       "      <td>0.0</td>\n",
       "      <td>691796.0</td>\n",
       "      <td>0.0</td>\n",
       "      <td>158005.0</td>\n",
       "      <td>26339.0</td>\n",
       "      <td>0.0</td>\n",
       "      <td>0.0</td>\n",
       "    </tr>\n",
       "    <tr>\n",
       "      <th>2</th>\n",
       "      <td>P</td>\n",
       "      <td>2010.0</td>\n",
       "      <td>78</td>\n",
       "      <td>YVELINES</td>\n",
       "      <td>0.0</td>\n",
       "      <td>214284.0</td>\n",
       "      <td>84730.55979</td>\n",
       "      <td>75179.36611</td>\n",
       "      <td>54374.24572</td>\n",
       "      <td>0.0</td>\n",
       "      <td>540504.0</td>\n",
       "      <td>0.0</td>\n",
       "      <td>99206.0</td>\n",
       "      <td>1204.0</td>\n",
       "      <td>0.0</td>\n",
       "      <td>0.0</td>\n",
       "    </tr>\n",
       "    <tr>\n",
       "      <th>3</th>\n",
       "      <td>P</td>\n",
       "      <td>2010.0</td>\n",
       "      <td>91</td>\n",
       "      <td>ESSONNE</td>\n",
       "      <td>0.0</td>\n",
       "      <td>182665.3</td>\n",
       "      <td>80948.69236</td>\n",
       "      <td>61748.45701</td>\n",
       "      <td>39968.02241</td>\n",
       "      <td>0.0</td>\n",
       "      <td>551489.0</td>\n",
       "      <td>0.0</td>\n",
       "      <td>92474.0</td>\n",
       "      <td>971.0</td>\n",
       "      <td>0.0</td>\n",
       "      <td>0.0</td>\n",
       "    </tr>\n",
       "    <tr>\n",
       "      <th>4</th>\n",
       "      <td>P</td>\n",
       "      <td>2010.0</td>\n",
       "      <td>92</td>\n",
       "      <td>HAUTS-DE-SEINE</td>\n",
       "      <td>0.0</td>\n",
       "      <td>141837.3</td>\n",
       "      <td>32156.60470</td>\n",
       "      <td>70295.26859</td>\n",
       "      <td>39385.48955</td>\n",
       "      <td>0.0</td>\n",
       "      <td>270645.0</td>\n",
       "      <td>0.0</td>\n",
       "      <td>194801.0</td>\n",
       "      <td>20635.0</td>\n",
       "      <td>0.0</td>\n",
       "      <td>0.0</td>\n",
       "    </tr>\n",
       "  </tbody>\n",
       "</table>\n",
       "</div>"
      ],
      "text/plain": [
       "  energy    year dep_code        dep_name  super_plomb  super_sans_plomb  \\\n",
       "0      P  2010.0       75           PARIS          0.0          117211.6   \n",
       "1      P  2010.0       77  SEINE-ET-MARNE          0.0          187748.4   \n",
       "2      P  2010.0       78        YVELINES          0.0          214284.0   \n",
       "3      P  2010.0       91         ESSONNE          0.0          182665.3   \n",
       "4      P  2010.0       92  HAUTS-DE-SEINE          0.0          141837.3   \n",
       "\n",
       "   super_sans_plomb_95  super_sans_plomb_95_E10  super_sans_plomb_98  E85  \\\n",
       "0          25935.07617              56332.20348          34944.04249  0.0   \n",
       "1         100523.00780              46476.38612          40749.10293  0.0   \n",
       "2          84730.55979              75179.36611          54374.24572  0.0   \n",
       "3          80948.69236              61748.45701          39968.02241  0.0   \n",
       "4          32156.60470              70295.26859          39385.48955  0.0   \n",
       "\n",
       "     gazole  gazole_nr  fioul_dom  fioul_ndom  gpl  carbureacteur  \n",
       "0  257274.0        0.0    20016.0     55024.0  0.0            0.0  \n",
       "1  691796.0        0.0   158005.0     26339.0  0.0            0.0  \n",
       "2  540504.0        0.0    99206.0      1204.0  0.0            0.0  \n",
       "3  551489.0        0.0    92474.0       971.0  0.0            0.0  \n",
       "4  270645.0        0.0   194801.0     20635.0  0.0            0.0  "
      ]
     },
     "execution_count": 56,
     "metadata": {},
     "output_type": "execute_result"
    }
   ],
   "source": [
    "df_petrol_clean.head()"
   ]
  },
  {
   "cell_type": "markdown",
   "metadata": {},
   "source": [
    "## Export clean data"
   ]
  },
  {
   "cell_type": "code",
   "execution_count": 57,
   "metadata": {},
   "outputs": [],
   "source": [
    "df_petrol_clean.to_csv('df_petrol_clean.csv', sep='/', index=False)"
   ]
  },
  {
   "cell_type": "markdown",
   "metadata": {},
   "source": [
    "# Dataframe manipulation"
   ]
  },
  {
   "cell_type": "markdown",
   "metadata": {},
   "source": [
    "We will create a dataframe to do our data viz analysis"
   ]
  },
  {
   "cell_type": "code",
   "execution_count": 58,
   "metadata": {},
   "outputs": [],
   "source": [
    "df_pconso=df_petrol_clean.copy()"
   ]
  },
  {
   "cell_type": "code",
   "execution_count": 59,
   "metadata": {},
   "outputs": [
    {
     "data": {
      "text/html": [
       "<div>\n",
       "<style scoped>\n",
       "    .dataframe tbody tr th:only-of-type {\n",
       "        vertical-align: middle;\n",
       "    }\n",
       "\n",
       "    .dataframe tbody tr th {\n",
       "        vertical-align: top;\n",
       "    }\n",
       "\n",
       "    .dataframe thead th {\n",
       "        text-align: right;\n",
       "    }\n",
       "</style>\n",
       "<table border=\"1\" class=\"dataframe\">\n",
       "  <thead>\n",
       "    <tr style=\"text-align: right;\">\n",
       "      <th></th>\n",
       "      <th>energy</th>\n",
       "      <th>year</th>\n",
       "      <th>dep_code</th>\n",
       "      <th>dep_name</th>\n",
       "      <th>super_plomb</th>\n",
       "      <th>super_sans_plomb</th>\n",
       "      <th>super_sans_plomb_95</th>\n",
       "      <th>super_sans_plomb_95_E10</th>\n",
       "      <th>super_sans_plomb_98</th>\n",
       "      <th>E85</th>\n",
       "      <th>gazole</th>\n",
       "      <th>gazole_nr</th>\n",
       "      <th>fioul_dom</th>\n",
       "      <th>fioul_ndom</th>\n",
       "      <th>gpl</th>\n",
       "      <th>carbureacteur</th>\n",
       "    </tr>\n",
       "  </thead>\n",
       "  <tbody>\n",
       "    <tr>\n",
       "      <th>0</th>\n",
       "      <td>P</td>\n",
       "      <td>2010.0</td>\n",
       "      <td>75</td>\n",
       "      <td>PARIS</td>\n",
       "      <td>0.0</td>\n",
       "      <td>117211.6</td>\n",
       "      <td>25935.07617</td>\n",
       "      <td>56332.20348</td>\n",
       "      <td>34944.04249</td>\n",
       "      <td>0.0</td>\n",
       "      <td>257274.0</td>\n",
       "      <td>0.0</td>\n",
       "      <td>20016.0</td>\n",
       "      <td>55024.0</td>\n",
       "      <td>0.0</td>\n",
       "      <td>0.0</td>\n",
       "    </tr>\n",
       "    <tr>\n",
       "      <th>1</th>\n",
       "      <td>P</td>\n",
       "      <td>2010.0</td>\n",
       "      <td>77</td>\n",
       "      <td>SEINE-ET-MARNE</td>\n",
       "      <td>0.0</td>\n",
       "      <td>187748.4</td>\n",
       "      <td>100523.00780</td>\n",
       "      <td>46476.38612</td>\n",
       "      <td>40749.10293</td>\n",
       "      <td>0.0</td>\n",
       "      <td>691796.0</td>\n",
       "      <td>0.0</td>\n",
       "      <td>158005.0</td>\n",
       "      <td>26339.0</td>\n",
       "      <td>0.0</td>\n",
       "      <td>0.0</td>\n",
       "    </tr>\n",
       "    <tr>\n",
       "      <th>2</th>\n",
       "      <td>P</td>\n",
       "      <td>2010.0</td>\n",
       "      <td>78</td>\n",
       "      <td>YVELINES</td>\n",
       "      <td>0.0</td>\n",
       "      <td>214284.0</td>\n",
       "      <td>84730.55979</td>\n",
       "      <td>75179.36611</td>\n",
       "      <td>54374.24572</td>\n",
       "      <td>0.0</td>\n",
       "      <td>540504.0</td>\n",
       "      <td>0.0</td>\n",
       "      <td>99206.0</td>\n",
       "      <td>1204.0</td>\n",
       "      <td>0.0</td>\n",
       "      <td>0.0</td>\n",
       "    </tr>\n",
       "    <tr>\n",
       "      <th>3</th>\n",
       "      <td>P</td>\n",
       "      <td>2010.0</td>\n",
       "      <td>91</td>\n",
       "      <td>ESSONNE</td>\n",
       "      <td>0.0</td>\n",
       "      <td>182665.3</td>\n",
       "      <td>80948.69236</td>\n",
       "      <td>61748.45701</td>\n",
       "      <td>39968.02241</td>\n",
       "      <td>0.0</td>\n",
       "      <td>551489.0</td>\n",
       "      <td>0.0</td>\n",
       "      <td>92474.0</td>\n",
       "      <td>971.0</td>\n",
       "      <td>0.0</td>\n",
       "      <td>0.0</td>\n",
       "    </tr>\n",
       "    <tr>\n",
       "      <th>4</th>\n",
       "      <td>P</td>\n",
       "      <td>2010.0</td>\n",
       "      <td>92</td>\n",
       "      <td>HAUTS-DE-SEINE</td>\n",
       "      <td>0.0</td>\n",
       "      <td>141837.3</td>\n",
       "      <td>32156.60470</td>\n",
       "      <td>70295.26859</td>\n",
       "      <td>39385.48955</td>\n",
       "      <td>0.0</td>\n",
       "      <td>270645.0</td>\n",
       "      <td>0.0</td>\n",
       "      <td>194801.0</td>\n",
       "      <td>20635.0</td>\n",
       "      <td>0.0</td>\n",
       "      <td>0.0</td>\n",
       "    </tr>\n",
       "  </tbody>\n",
       "</table>\n",
       "</div>"
      ],
      "text/plain": [
       "  energy    year dep_code        dep_name  super_plomb  super_sans_plomb  \\\n",
       "0      P  2010.0       75           PARIS          0.0          117211.6   \n",
       "1      P  2010.0       77  SEINE-ET-MARNE          0.0          187748.4   \n",
       "2      P  2010.0       78        YVELINES          0.0          214284.0   \n",
       "3      P  2010.0       91         ESSONNE          0.0          182665.3   \n",
       "4      P  2010.0       92  HAUTS-DE-SEINE          0.0          141837.3   \n",
       "\n",
       "   super_sans_plomb_95  super_sans_plomb_95_E10  super_sans_plomb_98  E85  \\\n",
       "0          25935.07617              56332.20348          34944.04249  0.0   \n",
       "1         100523.00780              46476.38612          40749.10293  0.0   \n",
       "2          84730.55979              75179.36611          54374.24572  0.0   \n",
       "3          80948.69236              61748.45701          39968.02241  0.0   \n",
       "4          32156.60470              70295.26859          39385.48955  0.0   \n",
       "\n",
       "     gazole  gazole_nr  fioul_dom  fioul_ndom  gpl  carbureacteur  \n",
       "0  257274.0        0.0    20016.0     55024.0  0.0            0.0  \n",
       "1  691796.0        0.0   158005.0     26339.0  0.0            0.0  \n",
       "2  540504.0        0.0    99206.0      1204.0  0.0            0.0  \n",
       "3  551489.0        0.0    92474.0       971.0  0.0            0.0  \n",
       "4  270645.0        0.0   194801.0     20635.0  0.0            0.0  "
      ]
     },
     "execution_count": 59,
     "metadata": {},
     "output_type": "execute_result"
    }
   ],
   "source": [
    "df_pconso.head()"
   ]
  },
  {
   "cell_type": "markdown",
   "metadata": {},
   "source": [
    "We will add column corresponding to the total of others columns to do a global analysis"
   ]
  },
  {
   "cell_type": "code",
   "execution_count": 60,
   "metadata": {},
   "outputs": [],
   "source": [
    "df_pconso['car']=df_pconso.super_plomb + df_pconso.super_sans_plomb + df_pconso.super_sans_plomb_95 + df_pconso.super_sans_plomb_95_E10 + df_pconso.super_sans_plomb_98 + df_pconso.E85 + df_pconso.gazole + df_pconso.gpl\n",
    "df_pconso['car_p']=df_pconso.super_plomb + df_pconso.super_sans_plomb + df_pconso.super_sans_plomb_95 + df_pconso.super_sans_plomb_95_E10 + df_pconso.super_sans_plomb_98 + df_pconso.E85 + df_pconso.gazole\n",
    "\n",
    "df_pconso['engine']=df_pconso.fioul_ndom + df_pconso.gazole_nr + df_pconso.carbureacteur"
   ]
  },
  {
   "cell_type": "code",
   "execution_count": 61,
   "metadata": {},
   "outputs": [
    {
     "data": {
      "text/html": [
       "<div>\n",
       "<style scoped>\n",
       "    .dataframe tbody tr th:only-of-type {\n",
       "        vertical-align: middle;\n",
       "    }\n",
       "\n",
       "    .dataframe tbody tr th {\n",
       "        vertical-align: top;\n",
       "    }\n",
       "\n",
       "    .dataframe thead th {\n",
       "        text-align: right;\n",
       "    }\n",
       "</style>\n",
       "<table border=\"1\" class=\"dataframe\">\n",
       "  <thead>\n",
       "    <tr style=\"text-align: right;\">\n",
       "      <th></th>\n",
       "      <th>energy</th>\n",
       "      <th>year</th>\n",
       "      <th>dep_code</th>\n",
       "      <th>dep_name</th>\n",
       "      <th>super_plomb</th>\n",
       "      <th>super_sans_plomb</th>\n",
       "      <th>super_sans_plomb_95</th>\n",
       "      <th>super_sans_plomb_95_E10</th>\n",
       "      <th>super_sans_plomb_98</th>\n",
       "      <th>E85</th>\n",
       "      <th>gazole</th>\n",
       "      <th>gazole_nr</th>\n",
       "      <th>fioul_dom</th>\n",
       "      <th>fioul_ndom</th>\n",
       "      <th>gpl</th>\n",
       "      <th>carbureacteur</th>\n",
       "      <th>car</th>\n",
       "      <th>car_p</th>\n",
       "      <th>engine</th>\n",
       "    </tr>\n",
       "  </thead>\n",
       "  <tbody>\n",
       "    <tr>\n",
       "      <th>0</th>\n",
       "      <td>P</td>\n",
       "      <td>2010.0</td>\n",
       "      <td>75</td>\n",
       "      <td>PARIS</td>\n",
       "      <td>0.0</td>\n",
       "      <td>117211.6</td>\n",
       "      <td>25935.07617</td>\n",
       "      <td>56332.20348</td>\n",
       "      <td>34944.04249</td>\n",
       "      <td>0.0</td>\n",
       "      <td>257274.0</td>\n",
       "      <td>0.0</td>\n",
       "      <td>20016.0</td>\n",
       "      <td>55024.0</td>\n",
       "      <td>0.0</td>\n",
       "      <td>0.0</td>\n",
       "      <td>4.916969e+05</td>\n",
       "      <td>4.916969e+05</td>\n",
       "      <td>55024.0</td>\n",
       "    </tr>\n",
       "    <tr>\n",
       "      <th>1</th>\n",
       "      <td>P</td>\n",
       "      <td>2010.0</td>\n",
       "      <td>77</td>\n",
       "      <td>SEINE-ET-MARNE</td>\n",
       "      <td>0.0</td>\n",
       "      <td>187748.4</td>\n",
       "      <td>100523.00780</td>\n",
       "      <td>46476.38612</td>\n",
       "      <td>40749.10293</td>\n",
       "      <td>0.0</td>\n",
       "      <td>691796.0</td>\n",
       "      <td>0.0</td>\n",
       "      <td>158005.0</td>\n",
       "      <td>26339.0</td>\n",
       "      <td>0.0</td>\n",
       "      <td>0.0</td>\n",
       "      <td>1.067293e+06</td>\n",
       "      <td>1.067293e+06</td>\n",
       "      <td>26339.0</td>\n",
       "    </tr>\n",
       "    <tr>\n",
       "      <th>2</th>\n",
       "      <td>P</td>\n",
       "      <td>2010.0</td>\n",
       "      <td>78</td>\n",
       "      <td>YVELINES</td>\n",
       "      <td>0.0</td>\n",
       "      <td>214284.0</td>\n",
       "      <td>84730.55979</td>\n",
       "      <td>75179.36611</td>\n",
       "      <td>54374.24572</td>\n",
       "      <td>0.0</td>\n",
       "      <td>540504.0</td>\n",
       "      <td>0.0</td>\n",
       "      <td>99206.0</td>\n",
       "      <td>1204.0</td>\n",
       "      <td>0.0</td>\n",
       "      <td>0.0</td>\n",
       "      <td>9.690722e+05</td>\n",
       "      <td>9.690722e+05</td>\n",
       "      <td>1204.0</td>\n",
       "    </tr>\n",
       "    <tr>\n",
       "      <th>3</th>\n",
       "      <td>P</td>\n",
       "      <td>2010.0</td>\n",
       "      <td>91</td>\n",
       "      <td>ESSONNE</td>\n",
       "      <td>0.0</td>\n",
       "      <td>182665.3</td>\n",
       "      <td>80948.69236</td>\n",
       "      <td>61748.45701</td>\n",
       "      <td>39968.02241</td>\n",
       "      <td>0.0</td>\n",
       "      <td>551489.0</td>\n",
       "      <td>0.0</td>\n",
       "      <td>92474.0</td>\n",
       "      <td>971.0</td>\n",
       "      <td>0.0</td>\n",
       "      <td>0.0</td>\n",
       "      <td>9.168195e+05</td>\n",
       "      <td>9.168195e+05</td>\n",
       "      <td>971.0</td>\n",
       "    </tr>\n",
       "    <tr>\n",
       "      <th>4</th>\n",
       "      <td>P</td>\n",
       "      <td>2010.0</td>\n",
       "      <td>92</td>\n",
       "      <td>HAUTS-DE-SEINE</td>\n",
       "      <td>0.0</td>\n",
       "      <td>141837.3</td>\n",
       "      <td>32156.60470</td>\n",
       "      <td>70295.26859</td>\n",
       "      <td>39385.48955</td>\n",
       "      <td>0.0</td>\n",
       "      <td>270645.0</td>\n",
       "      <td>0.0</td>\n",
       "      <td>194801.0</td>\n",
       "      <td>20635.0</td>\n",
       "      <td>0.0</td>\n",
       "      <td>0.0</td>\n",
       "      <td>5.543197e+05</td>\n",
       "      <td>5.543197e+05</td>\n",
       "      <td>20635.0</td>\n",
       "    </tr>\n",
       "  </tbody>\n",
       "</table>\n",
       "</div>"
      ],
      "text/plain": [
       "  energy    year dep_code        dep_name  super_plomb  super_sans_plomb  \\\n",
       "0      P  2010.0       75           PARIS          0.0          117211.6   \n",
       "1      P  2010.0       77  SEINE-ET-MARNE          0.0          187748.4   \n",
       "2      P  2010.0       78        YVELINES          0.0          214284.0   \n",
       "3      P  2010.0       91         ESSONNE          0.0          182665.3   \n",
       "4      P  2010.0       92  HAUTS-DE-SEINE          0.0          141837.3   \n",
       "\n",
       "   super_sans_plomb_95  super_sans_plomb_95_E10  super_sans_plomb_98  E85  \\\n",
       "0          25935.07617              56332.20348          34944.04249  0.0   \n",
       "1         100523.00780              46476.38612          40749.10293  0.0   \n",
       "2          84730.55979              75179.36611          54374.24572  0.0   \n",
       "3          80948.69236              61748.45701          39968.02241  0.0   \n",
       "4          32156.60470              70295.26859          39385.48955  0.0   \n",
       "\n",
       "     gazole  gazole_nr  fioul_dom  fioul_ndom  gpl  carbureacteur  \\\n",
       "0  257274.0        0.0    20016.0     55024.0  0.0            0.0   \n",
       "1  691796.0        0.0   158005.0     26339.0  0.0            0.0   \n",
       "2  540504.0        0.0    99206.0      1204.0  0.0            0.0   \n",
       "3  551489.0        0.0    92474.0       971.0  0.0            0.0   \n",
       "4  270645.0        0.0   194801.0     20635.0  0.0            0.0   \n",
       "\n",
       "            car         car_p   engine  \n",
       "0  4.916969e+05  4.916969e+05  55024.0  \n",
       "1  1.067293e+06  1.067293e+06  26339.0  \n",
       "2  9.690722e+05  9.690722e+05   1204.0  \n",
       "3  9.168195e+05  9.168195e+05    971.0  \n",
       "4  5.543197e+05  5.543197e+05  20635.0  "
      ]
     },
     "execution_count": 61,
     "metadata": {},
     "output_type": "execute_result"
    }
   ],
   "source": [
    "df_pconso.head()"
   ]
  },
  {
   "cell_type": "markdown",
   "metadata": {},
   "source": [
    "We add a total column"
   ]
  },
  {
   "cell_type": "code",
   "execution_count": 62,
   "metadata": {},
   "outputs": [],
   "source": [
    "df_pconso['total']= df_pconso['car'] + df_pconso['fioul_dom'] + df_pconso['engine']                    "
   ]
  },
  {
   "cell_type": "markdown",
   "metadata": {},
   "source": [
    "We will add total per essence and gazole for car"
   ]
  },
  {
   "cell_type": "code",
   "execution_count": 63,
   "metadata": {},
   "outputs": [],
   "source": [
    "df_pconso['car_essence']= df_pconso['super_plomb'] + df_pconso['super_sans_plomb'] + df_pconso['super_sans_plomb_95'] + df_pconso['super_sans_plomb_95_E10'] + df_pconso['super_sans_plomb_98'] + df_pconso['E85']\n",
    "df_pconso['car_gazole']= df_pconso['gazole'] + df_pconso['gazole_nr']"
   ]
  },
  {
   "cell_type": "markdown",
   "metadata": {},
   "source": [
    "In order to do some cross analysis with electricity and gas, we will add columns corresponding to the energetic value in MWh (1 tonnes of petrol = 11,628 MWh)"
   ]
  },
  {
   "cell_type": "code",
   "execution_count": 64,
   "metadata": {},
   "outputs": [],
   "source": [
    "df_pconso['super_plomb_mwh'] = df_pconso['super_plomb'] * 11.628\n",
    "df_pconso['super_sans_plomb_mhw'] = df_pconso['super_sans_plomb'] * 11.628\n",
    "df_pconso['super_sans_plomb_95_mhw'] = df_pconso['super_sans_plomb_95'] * 11.628\n",
    "df_pconso['super_sans_plomb_95_E10_mhw'] = df_pconso['super_sans_plomb_95_E10'] * 11.628\n",
    "df_pconso['super_sans_plomb_98_mhw'] = df_pconso['super_sans_plomb_98'] * 11.628\n",
    "df_pconso['gazole_mhw'] = df_pconso['gazole'] * 11.628\n",
    "df_pconso['gazole_nr_mhw'] = df_pconso['gazole_nr'] * 11.628\n",
    "df_pconso['fioul_dom_mhw'] = df_pconso['fioul_dom'] * 11.628\n",
    "df_pconso['fioul_ndom_mhw'] = df_pconso['fioul_ndom'] * 11.628\n",
    "df_pconso['gpl_mhw'] = df_pconso['gpl'] * 11.628\n",
    "df_pconso['carbureacteur_mhw'] = df_pconso['carbureacteur'] * 11.628\n",
    "df_pconso['car_mhw'] = df_pconso['car'] * 11.628\n",
    "df_pconso['car_p_mhw'] = df_pconso['car_p'] * 11.628\n",
    "df_pconso['engine_mhw'] = df_pconso['engine'] * 11.628\n",
    "df_pconso['total_mhw'] = df_pconso['total'] * 11.628\n",
    "df_pconso['car_essence_mhw'] = df_pconso['car_essence'] * 11.628\n",
    "df_pconso['car_gazole_mhw'] = df_pconso['car_gazole'] * 11.628"
   ]
  },
  {
   "cell_type": "code",
   "execution_count": 71,
   "metadata": {},
   "outputs": [],
   "source": [
    "df_pconso.year=df_pconso.year.astype(int)"
   ]
  },
  {
   "cell_type": "code",
   "execution_count": 75,
   "metadata": {},
   "outputs": [],
   "source": [
    "df_pconso.to_csv('df_pconso.csv', sep='/', index=False)"
   ]
  },
  {
   "cell_type": "code",
   "execution_count": 73,
   "metadata": {},
   "outputs": [
    {
     "data": {
      "text/html": [
       "<div>\n",
       "<style scoped>\n",
       "    .dataframe tbody tr th:only-of-type {\n",
       "        vertical-align: middle;\n",
       "    }\n",
       "\n",
       "    .dataframe tbody tr th {\n",
       "        vertical-align: top;\n",
       "    }\n",
       "\n",
       "    .dataframe thead th {\n",
       "        text-align: right;\n",
       "    }\n",
       "</style>\n",
       "<table border=\"1\" class=\"dataframe\">\n",
       "  <thead>\n",
       "    <tr style=\"text-align: right;\">\n",
       "      <th></th>\n",
       "      <th>energy</th>\n",
       "      <th>year</th>\n",
       "      <th>dep_code</th>\n",
       "      <th>dep_name</th>\n",
       "      <th>super_plomb</th>\n",
       "      <th>super_sans_plomb</th>\n",
       "      <th>super_sans_plomb_95</th>\n",
       "      <th>super_sans_plomb_95_E10</th>\n",
       "      <th>super_sans_plomb_98</th>\n",
       "      <th>E85</th>\n",
       "      <th>...</th>\n",
       "      <th>fioul_dom_mhw</th>\n",
       "      <th>fioul_ndom_mhw</th>\n",
       "      <th>gpl_mhw</th>\n",
       "      <th>carbureacteur_mhw</th>\n",
       "      <th>car_mhw</th>\n",
       "      <th>car_p_mhw</th>\n",
       "      <th>engine_mhw</th>\n",
       "      <th>total_mhw</th>\n",
       "      <th>car_essence_mhw</th>\n",
       "      <th>car_gazole_mhw</th>\n",
       "    </tr>\n",
       "  </thead>\n",
       "  <tbody>\n",
       "    <tr>\n",
       "      <th>0</th>\n",
       "      <td>P</td>\n",
       "      <td>2010</td>\n",
       "      <td>75</td>\n",
       "      <td>PARIS</td>\n",
       "      <td>0.0</td>\n",
       "      <td>117211.6</td>\n",
       "      <td>25935.07617</td>\n",
       "      <td>56332.20348</td>\n",
       "      <td>34944.04249</td>\n",
       "      <td>0.0</td>\n",
       "      <td>...</td>\n",
       "      <td>232746.048</td>\n",
       "      <td>639819.072</td>\n",
       "      <td>0.0</td>\n",
       "      <td>0.0</td>\n",
       "      <td>5.717452e+06</td>\n",
       "      <td>5.717452e+06</td>\n",
       "      <td>639819.072</td>\n",
       "      <td>6.590017e+06</td>\n",
       "      <td>2.725870e+06</td>\n",
       "      <td>2991582.072</td>\n",
       "    </tr>\n",
       "    <tr>\n",
       "      <th>1</th>\n",
       "      <td>P</td>\n",
       "      <td>2010</td>\n",
       "      <td>77</td>\n",
       "      <td>SEINE-ET-MARNE</td>\n",
       "      <td>0.0</td>\n",
       "      <td>187748.4</td>\n",
       "      <td>100523.00780</td>\n",
       "      <td>46476.38612</td>\n",
       "      <td>40749.10293</td>\n",
       "      <td>0.0</td>\n",
       "      <td>...</td>\n",
       "      <td>1837282.140</td>\n",
       "      <td>306269.892</td>\n",
       "      <td>0.0</td>\n",
       "      <td>0.0</td>\n",
       "      <td>1.241048e+07</td>\n",
       "      <td>1.241048e+07</td>\n",
       "      <td>306269.892</td>\n",
       "      <td>1.455403e+07</td>\n",
       "      <td>4.366278e+06</td>\n",
       "      <td>8044203.888</td>\n",
       "    </tr>\n",
       "    <tr>\n",
       "      <th>2</th>\n",
       "      <td>P</td>\n",
       "      <td>2010</td>\n",
       "      <td>78</td>\n",
       "      <td>YVELINES</td>\n",
       "      <td>0.0</td>\n",
       "      <td>214284.0</td>\n",
       "      <td>84730.55979</td>\n",
       "      <td>75179.36611</td>\n",
       "      <td>54374.24572</td>\n",
       "      <td>0.0</td>\n",
       "      <td>...</td>\n",
       "      <td>1153567.368</td>\n",
       "      <td>14000.112</td>\n",
       "      <td>0.0</td>\n",
       "      <td>0.0</td>\n",
       "      <td>1.126837e+07</td>\n",
       "      <td>1.126837e+07</td>\n",
       "      <td>14000.112</td>\n",
       "      <td>1.243594e+07</td>\n",
       "      <td>4.983391e+06</td>\n",
       "      <td>6284980.512</td>\n",
       "    </tr>\n",
       "    <tr>\n",
       "      <th>3</th>\n",
       "      <td>P</td>\n",
       "      <td>2010</td>\n",
       "      <td>91</td>\n",
       "      <td>ESSONNE</td>\n",
       "      <td>0.0</td>\n",
       "      <td>182665.3</td>\n",
       "      <td>80948.69236</td>\n",
       "      <td>61748.45701</td>\n",
       "      <td>39968.02241</td>\n",
       "      <td>0.0</td>\n",
       "      <td>...</td>\n",
       "      <td>1075287.672</td>\n",
       "      <td>11290.788</td>\n",
       "      <td>0.0</td>\n",
       "      <td>0.0</td>\n",
       "      <td>1.066078e+07</td>\n",
       "      <td>1.066078e+07</td>\n",
       "      <td>11290.788</td>\n",
       "      <td>1.174736e+07</td>\n",
       "      <td>4.248063e+06</td>\n",
       "      <td>6412714.092</td>\n",
       "    </tr>\n",
       "    <tr>\n",
       "      <th>4</th>\n",
       "      <td>P</td>\n",
       "      <td>2010</td>\n",
       "      <td>92</td>\n",
       "      <td>HAUTS-DE-SEINE</td>\n",
       "      <td>0.0</td>\n",
       "      <td>141837.3</td>\n",
       "      <td>32156.60470</td>\n",
       "      <td>70295.26859</td>\n",
       "      <td>39385.48955</td>\n",
       "      <td>0.0</td>\n",
       "      <td>...</td>\n",
       "      <td>2265146.028</td>\n",
       "      <td>239943.780</td>\n",
       "      <td>0.0</td>\n",
       "      <td>0.0</td>\n",
       "      <td>6.445629e+06</td>\n",
       "      <td>6.445629e+06</td>\n",
       "      <td>239943.780</td>\n",
       "      <td>8.950719e+06</td>\n",
       "      <td>3.298569e+06</td>\n",
       "      <td>3147060.060</td>\n",
       "    </tr>\n",
       "  </tbody>\n",
       "</table>\n",
       "<p>5 rows × 39 columns</p>\n",
       "</div>"
      ],
      "text/plain": [
       "  energy  year dep_code        dep_name  super_plomb  super_sans_plomb  \\\n",
       "0      P  2010       75           PARIS          0.0          117211.6   \n",
       "1      P  2010       77  SEINE-ET-MARNE          0.0          187748.4   \n",
       "2      P  2010       78        YVELINES          0.0          214284.0   \n",
       "3      P  2010       91         ESSONNE          0.0          182665.3   \n",
       "4      P  2010       92  HAUTS-DE-SEINE          0.0          141837.3   \n",
       "\n",
       "   super_sans_plomb_95  super_sans_plomb_95_E10  super_sans_plomb_98  E85  \\\n",
       "0          25935.07617              56332.20348          34944.04249  0.0   \n",
       "1         100523.00780              46476.38612          40749.10293  0.0   \n",
       "2          84730.55979              75179.36611          54374.24572  0.0   \n",
       "3          80948.69236              61748.45701          39968.02241  0.0   \n",
       "4          32156.60470              70295.26859          39385.48955  0.0   \n",
       "\n",
       "   ...  fioul_dom_mhw  fioul_ndom_mhw  gpl_mhw  carbureacteur_mhw  \\\n",
       "0  ...     232746.048      639819.072      0.0                0.0   \n",
       "1  ...    1837282.140      306269.892      0.0                0.0   \n",
       "2  ...    1153567.368       14000.112      0.0                0.0   \n",
       "3  ...    1075287.672       11290.788      0.0                0.0   \n",
       "4  ...    2265146.028      239943.780      0.0                0.0   \n",
       "\n",
       "        car_mhw     car_p_mhw  engine_mhw     total_mhw  car_essence_mhw  \\\n",
       "0  5.717452e+06  5.717452e+06  639819.072  6.590017e+06     2.725870e+06   \n",
       "1  1.241048e+07  1.241048e+07  306269.892  1.455403e+07     4.366278e+06   \n",
       "2  1.126837e+07  1.126837e+07   14000.112  1.243594e+07     4.983391e+06   \n",
       "3  1.066078e+07  1.066078e+07   11290.788  1.174736e+07     4.248063e+06   \n",
       "4  6.445629e+06  6.445629e+06  239943.780  8.950719e+06     3.298569e+06   \n",
       "\n",
       "   car_gazole_mhw  \n",
       "0     2991582.072  \n",
       "1     8044203.888  \n",
       "2     6284980.512  \n",
       "3     6412714.092  \n",
       "4     3147060.060  \n",
       "\n",
       "[5 rows x 39 columns]"
      ]
     },
     "execution_count": 73,
     "metadata": {},
     "output_type": "execute_result"
    }
   ],
   "source": [
    "df_pconso.head()"
   ]
  },
  {
   "cell_type": "code",
   "execution_count": 74,
   "metadata": {},
   "outputs": [
    {
     "data": {
      "text/plain": [
       "0       2010\n",
       "1       2010\n",
       "2       2010\n",
       "3       2010\n",
       "4       2010\n",
       "        ... \n",
       "1100    2019\n",
       "1101    2019\n",
       "1102    2019\n",
       "1104    2019\n",
       "1105    2019\n",
       "Name: year, Length: 960, dtype: int64"
      ]
     },
     "execution_count": 74,
     "metadata": {},
     "output_type": "execute_result"
    }
   ],
   "source": [
    "df_pconso.year"
   ]
  },
  {
   "cell_type": "code",
   "execution_count": null,
   "metadata": {},
   "outputs": [],
   "source": []
  }
 ],
 "metadata": {
  "kernelspec": {
   "display_name": "Python 3",
   "language": "python",
   "name": "python3"
  },
  "language_info": {
   "codemirror_mode": {
    "name": "ipython",
    "version": 3
   },
   "file_extension": ".py",
   "mimetype": "text/x-python",
   "name": "python",
   "nbconvert_exporter": "python",
   "pygments_lexer": "ipython3",
   "version": "3.8.5"
  },
  "toc": {
   "base_numbering": 1,
   "nav_menu": {},
   "number_sections": true,
   "sideBar": true,
   "skip_h1_title": false,
   "title_cell": "Table of Contents",
   "title_sidebar": "Contents",
   "toc_cell": false,
   "toc_position": {},
   "toc_section_display": true,
   "toc_window_display": false
  }
 },
 "nbformat": 4,
 "nbformat_minor": 4
}
