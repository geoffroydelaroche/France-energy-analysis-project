{
 "cells": [
  {
   "cell_type": "code",
   "execution_count": 25,
   "metadata": {},
   "outputs": [],
   "source": [
    "import pandas as pd"
   ]
  },
  {
   "cell_type": "code",
   "execution_count": 26,
   "metadata": {},
   "outputs": [],
   "source": [
    "df=pd.read_csv('/Users/Jeff/Downloads/donnees-electricite-2008a2017 (1)/donnees_elec_2017.csv', encoding = \"ISO-8859-1\", sep=';')"
   ]
  },
  {
   "cell_type": "code",
   "execution_count": 27,
   "metadata": {},
   "outputs": [
    {
     "data": {
      "text/html": [
       "<div>\n",
       "<style scoped>\n",
       "    .dataframe tbody tr th:only-of-type {\n",
       "        vertical-align: middle;\n",
       "    }\n",
       "\n",
       "    .dataframe tbody tr th {\n",
       "        vertical-align: top;\n",
       "    }\n",
       "\n",
       "    .dataframe thead th {\n",
       "        text-align: right;\n",
       "    }\n",
       "</style>\n",
       "<table border=\"1\" class=\"dataframe\">\n",
       "  <thead>\n",
       "    <tr style=\"text-align: right;\">\n",
       "      <th></th>\n",
       "      <th>OPERATEUR</th>\n",
       "      <th>ANNEE</th>\n",
       "      <th>FILIERE</th>\n",
       "      <th>TYPE</th>\n",
       "      <th>CODE</th>\n",
       "      <th>CONSOA</th>\n",
       "      <th>PDLA</th>\n",
       "      <th>INDQUALA</th>\n",
       "      <th>CONSOI</th>\n",
       "      <th>PDLI</th>\n",
       "      <th>...</th>\n",
       "      <th>PDLT</th>\n",
       "      <th>INDQUALT</th>\n",
       "      <th>CONSOR</th>\n",
       "      <th>PDLR</th>\n",
       "      <th>INDQUALR</th>\n",
       "      <th>THERMOR</th>\n",
       "      <th>PARTR</th>\n",
       "      <th>CONSONA</th>\n",
       "      <th>PDLNA</th>\n",
       "      <th>INDQUALNA</th>\n",
       "    </tr>\n",
       "  </thead>\n",
       "  <tbody>\n",
       "    <tr>\n",
       "      <th>0</th>\n",
       "      <td>SRD</td>\n",
       "      <td>2017</td>\n",
       "      <td>E</td>\n",
       "      <td>Region</td>\n",
       "      <td>24</td>\n",
       "      <td>0,00</td>\n",
       "      <td>0</td>\n",
       "      <td>0,900000</td>\n",
       "      <td>0,00</td>\n",
       "      <td>0</td>\n",
       "      <td>...</td>\n",
       "      <td>0</td>\n",
       "      <td>0,900000</td>\n",
       "      <td>62,37</td>\n",
       "      <td>11</td>\n",
       "      <td>0,500000</td>\n",
       "      <td>0,00</td>\n",
       "      <td>0,00</td>\n",
       "      <td>0,00</td>\n",
       "      <td>0</td>\n",
       "      <td>0,500000</td>\n",
       "    </tr>\n",
       "    <tr>\n",
       "      <th>1</th>\n",
       "      <td>SRD</td>\n",
       "      <td>2017</td>\n",
       "      <td>E</td>\n",
       "      <td>Region</td>\n",
       "      <td>75</td>\n",
       "      <td>0,00</td>\n",
       "      <td>0</td>\n",
       "      <td>0,900000</td>\n",
       "      <td>0,00</td>\n",
       "      <td>0</td>\n",
       "      <td>...</td>\n",
       "      <td>0</td>\n",
       "      <td>0,900000</td>\n",
       "      <td>454,22</td>\n",
       "      <td>88</td>\n",
       "      <td>0,500000</td>\n",
       "      <td>0,00</td>\n",
       "      <td>0,00</td>\n",
       "      <td>0,00</td>\n",
       "      <td>0</td>\n",
       "      <td>0,500000</td>\n",
       "    </tr>\n",
       "    <tr>\n",
       "      <th>2</th>\n",
       "      <td>GEREDIS Deux-Sèvres</td>\n",
       "      <td>2017</td>\n",
       "      <td>E</td>\n",
       "      <td>InterCom</td>\n",
       "      <td>200040244</td>\n",
       "      <td>0,00</td>\n",
       "      <td>0</td>\n",
       "      <td>0,000000</td>\n",
       "      <td>0,00</td>\n",
       "      <td>0</td>\n",
       "      <td>...</td>\n",
       "      <td>0</td>\n",
       "      <td>0,000000</td>\n",
       "      <td>63,53</td>\n",
       "      <td>11</td>\n",
       "      <td>0,950000</td>\n",
       "      <td>0,00</td>\n",
       "      <td>0,00</td>\n",
       "      <td>0,00</td>\n",
       "      <td>0</td>\n",
       "      <td>0,000000</td>\n",
       "    </tr>\n",
       "    <tr>\n",
       "      <th>3</th>\n",
       "      <td>GEREDIS Deux-Sèvres</td>\n",
       "      <td>2017</td>\n",
       "      <td>E</td>\n",
       "      <td>InterCom</td>\n",
       "      <td>200041317</td>\n",
       "      <td>0,00</td>\n",
       "      <td>0</td>\n",
       "      <td>0,000000</td>\n",
       "      <td>0,00</td>\n",
       "      <td>0</td>\n",
       "      <td>...</td>\n",
       "      <td>0</td>\n",
       "      <td>0,000000</td>\n",
       "      <td>199,13</td>\n",
       "      <td>28</td>\n",
       "      <td>0,950000</td>\n",
       "      <td>0,00</td>\n",
       "      <td>0,00</td>\n",
       "      <td>0,00</td>\n",
       "      <td>0</td>\n",
       "      <td>0,000000</td>\n",
       "    </tr>\n",
       "    <tr>\n",
       "      <th>4</th>\n",
       "      <td>GEREDIS Deux-Sèvres</td>\n",
       "      <td>2017</td>\n",
       "      <td>E</td>\n",
       "      <td>InterCom</td>\n",
       "      <td>200041333</td>\n",
       "      <td>0,00</td>\n",
       "      <td>0</td>\n",
       "      <td>0,000000</td>\n",
       "      <td>0,00</td>\n",
       "      <td>0</td>\n",
       "      <td>...</td>\n",
       "      <td>0</td>\n",
       "      <td>0,000000</td>\n",
       "      <td>-99,00</td>\n",
       "      <td>-99</td>\n",
       "      <td>-99,0000</td>\n",
       "      <td>0,00</td>\n",
       "      <td>0,00</td>\n",
       "      <td>0,00</td>\n",
       "      <td>0</td>\n",
       "      <td>0,000000</td>\n",
       "    </tr>\n",
       "  </tbody>\n",
       "</table>\n",
       "<p>5 rows × 22 columns</p>\n",
       "</div>"
      ],
      "text/plain": [
       "             OPERATEUR  ANNEE FILIERE      TYPE       CODE CONSOA  PDLA  \\\n",
       "0                  SRD   2017       E    Region         24   0,00     0   \n",
       "1                  SRD   2017       E    Region         75   0,00     0   \n",
       "2  GEREDIS Deux-Sèvres   2017       E  InterCom  200040244   0,00     0   \n",
       "3  GEREDIS Deux-Sèvres   2017       E  InterCom  200041317   0,00     0   \n",
       "4  GEREDIS Deux-Sèvres   2017       E  InterCom  200041333   0,00     0   \n",
       "\n",
       "   INDQUALA CONSOI  PDLI  ... PDLT  INDQUALT  CONSOR PDLR  INDQUALR  THERMOR  \\\n",
       "0  0,900000   0,00     0  ...    0  0,900000   62,37   11  0,500000     0,00   \n",
       "1  0,900000   0,00     0  ...    0  0,900000  454,22   88  0,500000     0,00   \n",
       "2  0,000000   0,00     0  ...    0  0,000000   63,53   11  0,950000     0,00   \n",
       "3  0,000000   0,00     0  ...    0  0,000000  199,13   28  0,950000     0,00   \n",
       "4  0,000000   0,00     0  ...    0  0,000000  -99,00  -99  -99,0000     0,00   \n",
       "\n",
       "  PARTR CONSONA PDLNA INDQUALNA  \n",
       "0  0,00    0,00     0  0,500000  \n",
       "1  0,00    0,00     0  0,500000  \n",
       "2  0,00    0,00     0  0,000000  \n",
       "3  0,00    0,00     0  0,000000  \n",
       "4  0,00    0,00     0  0,000000  \n",
       "\n",
       "[5 rows x 22 columns]"
      ]
     },
     "execution_count": 27,
     "metadata": {},
     "output_type": "execute_result"
    }
   ],
   "source": [
    "df.head()"
   ]
  },
  {
   "cell_type": "code",
   "execution_count": 28,
   "metadata": {},
   "outputs": [],
   "source": [
    "df[['CONSOA', 'CONSOI', 'CONSOR', 'CONSOT', 'CONSONA']]=df[['CONSOA', 'CONSOI', 'CONSOR', 'CONSOT', 'CONSONA']].apply(lambda x: x.str.replace(',','.'))"
   ]
  },
  {
   "cell_type": "code",
   "execution_count": 29,
   "metadata": {},
   "outputs": [],
   "source": [
    "df[['CONSOA', 'CONSOI', 'CONSOR', 'CONSOT', 'CONSONA']]=df[['CONSOA', 'CONSOI', 'CONSOR', 'CONSOT', 'CONSONA']].apply(pd.to_numeric)"
   ]
  },
  {
   "cell_type": "code",
   "execution_count": 32,
   "metadata": {},
   "outputs": [
    {
     "data": {
      "text/plain": [
       "14765201.59"
      ]
     },
     "execution_count": 32,
     "metadata": {},
     "output_type": "execute_result"
    }
   ],
   "source": [
    "df['CONSOA'][df['TYPE']=='Commune'].sum() + df['CONSOI'][df['TYPE']=='Commune'].sum() + df['CONSOT'][df['TYPE']=='Commune'].sum() + df['CONSOR'][df['TYPE']=='Commune'].sum()"
   ]
  },
  {
   "cell_type": "code",
   "execution_count": 33,
   "metadata": {},
   "outputs": [
    {
     "data": {
      "text/plain": [
       "2660850.77"
      ]
     },
     "execution_count": 33,
     "metadata": {},
     "output_type": "execute_result"
    }
   ],
   "source": [
    "df['CONSOI'][df['TYPE']=='Commune'].sum()"
   ]
  },
  {
   "cell_type": "code",
   "execution_count": null,
   "metadata": {},
   "outputs": [],
   "source": []
  }
 ],
 "metadata": {
  "kernelspec": {
   "display_name": "Python 3",
   "language": "python",
   "name": "python3"
  },
  "language_info": {
   "codemirror_mode": {
    "name": "ipython",
    "version": 3
   },
   "file_extension": ".py",
   "mimetype": "text/x-python",
   "name": "python",
   "nbconvert_exporter": "python",
   "pygments_lexer": "ipython3",
   "version": "3.8.5"
  },
  "toc": {
   "base_numbering": 1,
   "nav_menu": {},
   "number_sections": true,
   "sideBar": true,
   "skip_h1_title": false,
   "title_cell": "Table of Contents",
   "title_sidebar": "Contents",
   "toc_cell": false,
   "toc_position": {},
   "toc_section_display": true,
   "toc_window_display": false
  }
 },
 "nbformat": 4,
 "nbformat_minor": 4
}
